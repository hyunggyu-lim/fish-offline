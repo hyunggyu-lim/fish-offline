{
 "cells": [
  {
   "cell_type": "markdown",
   "metadata": {},
   "source": [
    "# Prep CESM-DPLE experiment data for use in DPLE processing notebook\n",
    "### • eliminates depth dimension"
   ]
  },
  {
   "cell_type": "code",
   "execution_count": 1,
   "metadata": {},
   "outputs": [],
   "source": [
    "import os\n",
    "from glob import glob\n",
    "\n",
    "import matplotlib.colors as colors\n",
    "\n",
    "import numpy as np\n",
    "import xarray as xr\n",
    "import pop_tools\n",
    "import utils\n",
    "import pop_tools\n",
    "import warnings\n",
    "warnings.filterwarnings('ignore')"
   ]
  },
  {
   "cell_type": "markdown",
   "metadata": {},
   "source": [
    "## Spin up a dask cluster"
   ]
  },
  {
   "cell_type": "code",
   "execution_count": 2,
   "metadata": {},
   "outputs": [],
   "source": [
    "def get_ClusterClient():\n",
    "    import dask\n",
    "    from dask_jobqueue import PBSCluster\n",
    "    from dask.distributed import Client\n",
    "    cluster = PBSCluster(\n",
    "        cores=1,\n",
    "        memory='50GB',\n",
    "        processes=1,\n",
    "        queue='casper',\n",
    "        resource_spec='select=1:ncpus=1:mem=50GB',\n",
    "        project='NCGD0011',\n",
    "        walltime='06:00:00',\n",
    "        interface='ib0',)\n",
    "\n",
    "    dask.config.set({\n",
    "        'distributed.dashboard.link':\n",
    "        'https://jupyterhub.hpc.ucar.edu/stable/user/{USER}/proxy/{port}/status'\n",
    "    })\n",
    "    client = Client(cluster)\n",
    "    return cluster, client"
   ]
  },
  {
   "cell_type": "code",
   "execution_count": 3,
   "metadata": {},
   "outputs": [],
   "source": [
    "cluster, client = get_ClusterClient()\n",
    "cluster.scale(12) "
   ]
  },
  {
   "cell_type": "code",
   "execution_count": 4,
   "metadata": {},
   "outputs": [
    {
     "data": {
      "text/html": [
       "<table style=\"border: 2px solid white;\">\n",
       "<tr>\n",
       "<td style=\"vertical-align: top; border: 0px solid white\">\n",
       "<h3 style=\"text-align: left;\">Client</h3>\n",
       "<ul style=\"text-align: left; list-style: none; margin: 0; padding: 0;\">\n",
       "  <li><b>Scheduler: </b>tcp://10.12.205.21:32904</li>\n",
       "  <li><b>Dashboard: </b><a href='https://jupyterhub.hpc.ucar.edu/stable/user/kristenk/proxy/8787/status' target='_blank'>https://jupyterhub.hpc.ucar.edu/stable/user/kristenk/proxy/8787/status</a></li>\n",
       "</ul>\n",
       "</td>\n",
       "<td style=\"vertical-align: top; border: 0px solid white\">\n",
       "<h3 style=\"text-align: left;\">Cluster</h3>\n",
       "<ul style=\"text-align: left; list-style:none; margin: 0; padding: 0;\">\n",
       "  <li><b>Workers: </b>0</li>\n",
       "  <li><b>Cores: </b>0</li>\n",
       "  <li><b>Memory: </b>0 B</li>\n",
       "</ul>\n",
       "</td>\n",
       "</tr>\n",
       "</table>"
      ],
      "text/plain": [
       "<Client: 'tcp://10.12.205.21:32904' processes=0 threads=0, memory=0 B>"
      ]
     },
     "execution_count": 4,
     "metadata": {},
     "output_type": "execute_result"
    }
   ],
   "source": [
    "client"
   ]
  },
  {
   "cell_type": "code",
   "execution_count": 5,
   "metadata": {},
   "outputs": [],
   "source": [
    "#cluster.close()"
   ]
  },
  {
   "cell_type": "code",
   "execution_count": 6,
   "metadata": {},
   "outputs": [],
   "source": [
    "grid = pop_tools.get_grid('POP_gx1v6')"
   ]
  },
  {
   "cell_type": "markdown",
   "metadata": {},
   "source": [
    "## cycle through start years (1954 - 2017; n=64) and ensemble members (n=40) and do preprocessing"
   ]
  },
  {
   "cell_type": "code",
   "execution_count": 7,
   "metadata": {},
   "outputs": [
    {
     "name": "stdout",
     "output_type": "stream",
     "text": [
      "start year= 1954 member= 1\n",
      "start year= 1954 member= 2\n",
      "start year= 1954 member= 3\n",
      "start year= 1954 member= 4\n",
      "start year= 1954 member= 5\n",
      "start year= 1954 member= 6\n",
      "start year= 1954 member= 7\n",
      "start year= 1954 member= 8\n",
      "start year= 1954 member= 9\n",
      "start year= 1954 member= 10\n",
      "start year= 1954 member= 11\n",
      "start year= 1954 member= 12\n",
      "start year= 1954 member= 13\n",
      "start year= 1954 member= 14\n",
      "start year= 1954 member= 15\n",
      "start year= 1954 member= 16\n",
      "start year= 1954 member= 17\n"
     ]
    },
    {
     "name": "stderr",
     "output_type": "stream",
     "text": [
      "distributed.core - ERROR - Exception while handling op heartbeat_worker\n",
      "Traceback (most recent call last):\n",
      "  File \"/glade/work/kristenk/miniconda/envs/analysis4/lib/python3.7/site-packages/distributed/core.py\", line 493, in handle_comm\n",
      "    result = handler(comm, **msg)\n",
      "  File \"/glade/work/kristenk/miniconda/envs/analysis4/lib/python3.7/site-packages/distributed/scheduler.py\", line 2197, in heartbeat_worker\n",
      "    self.tasks[key]: duration for key, duration in executing.items()\n",
      "  File \"/glade/work/kristenk/miniconda/envs/analysis4/lib/python3.7/site-packages/distributed/scheduler.py\", line 2197, in <dictcomp>\n",
      "    self.tasks[key]: duration for key, duration in executing.items()\n",
      "KeyError: \"('open_dataset-461e5d222c3c5c4e3d773bbc1b7ff637HTE-80964dfa8cf45f53410baecb8ea55c39', 0, 0)\"\n",
      "distributed.core - ERROR - Exception while handling op heartbeat_worker\n",
      "Traceback (most recent call last):\n",
      "  File \"/glade/work/kristenk/miniconda/envs/analysis4/lib/python3.7/site-packages/distributed/core.py\", line 493, in handle_comm\n",
      "    result = handler(comm, **msg)\n",
      "  File \"/glade/work/kristenk/miniconda/envs/analysis4/lib/python3.7/site-packages/distributed/scheduler.py\", line 2197, in heartbeat_worker\n",
      "    self.tasks[key]: duration for key, duration in executing.items()\n",
      "  File \"/glade/work/kristenk/miniconda/envs/analysis4/lib/python3.7/site-packages/distributed/scheduler.py\", line 2197, in <dictcomp>\n",
      "    self.tasks[key]: duration for key, duration in executing.items()\n",
      "KeyError: \"('open_dataset-461e5d222c3c5c4e3d773bbc1b7ff637HTN-6f934ffadcdbf45956ffc8f11292253f', 0, 0)\"\n"
     ]
    },
    {
     "name": "stdout",
     "output_type": "stream",
     "text": [
      "start year= 1954 member= 18\n",
      "start year= 1954 member= 19\n",
      "start year= 1954 member= 20\n",
      "start year= 1954 member= 21\n"
     ]
    },
    {
     "name": "stderr",
     "output_type": "stream",
     "text": [
      "distributed.core - ERROR - Exception while handling op heartbeat_worker\n",
      "Traceback (most recent call last):\n",
      "  File \"/glade/work/kristenk/miniconda/envs/analysis4/lib/python3.7/site-packages/distributed/core.py\", line 493, in handle_comm\n",
      "    result = handler(comm, **msg)\n",
      "  File \"/glade/work/kristenk/miniconda/envs/analysis4/lib/python3.7/site-packages/distributed/scheduler.py\", line 2197, in heartbeat_worker\n",
      "    self.tasks[key]: duration for key, duration in executing.items()\n",
      "  File \"/glade/work/kristenk/miniconda/envs/analysis4/lib/python3.7/site-packages/distributed/scheduler.py\", line 2197, in <dictcomp>\n",
      "    self.tasks[key]: duration for key, duration in executing.items()\n",
      "KeyError: \"('open_dataset-9a4adf2297e27ba0d94bd1234154ae9aDXT-5ce6cff69a337d7b5ba8179d87e58344', 0, 0)\"\n"
     ]
    },
    {
     "name": "stdout",
     "output_type": "stream",
     "text": [
      "start year= 1954 member= 22\n",
      "start year= 1954 member= 23\n",
      "start year= 1954 member= 24\n",
      "start year= 1954 member= 25\n",
      "start year= 1954 member= 26\n",
      "start year= 1954 member= 27\n",
      "start year= 1954 member= 28\n",
      "start year= 1954 member= 29\n",
      "start year= 1954 member= 30\n",
      "start year= 1954 member= 31\n",
      "start year= 1954 member= 32\n",
      "start year= 1954 member= 33\n",
      "start year= 1954 member= 34\n",
      "start year= 1954 member= 35\n",
      "start year= 1954 member= 36\n",
      "start year= 1954 member= 37\n",
      "start year= 1954 member= 38\n",
      "start year= 1954 member= 39\n",
      "start year= 1954 member= 40\n",
      "start year= 1955 member= 1\n"
     ]
    },
    {
     "name": "stderr",
     "output_type": "stream",
     "text": [
      "distributed.core - ERROR - Exception while handling op heartbeat_worker\n",
      "Traceback (most recent call last):\n",
      "  File \"/glade/work/kristenk/miniconda/envs/analysis4/lib/python3.7/site-packages/distributed/core.py\", line 493, in handle_comm\n",
      "    result = handler(comm, **msg)\n",
      "  File \"/glade/work/kristenk/miniconda/envs/analysis4/lib/python3.7/site-packages/distributed/scheduler.py\", line 2197, in heartbeat_worker\n",
      "    self.tasks[key]: duration for key, duration in executing.items()\n",
      "  File \"/glade/work/kristenk/miniconda/envs/analysis4/lib/python3.7/site-packages/distributed/scheduler.py\", line 2197, in <dictcomp>\n",
      "    self.tasks[key]: duration for key, duration in executing.items()\n",
      "KeyError: \"('open_dataset-2550024c2fb5bb207254b636d68fed74DYU-15679bb3e87c1616b7d2d8bdd379f057', 0, 0)\"\n"
     ]
    },
    {
     "name": "stdout",
     "output_type": "stream",
     "text": [
      "start year= 1955 member= 2\n",
      "start year= 1955 member= 3\n",
      "start year= 1955 member= 4\n",
      "start year= 1955 member= 5\n"
     ]
    },
    {
     "name": "stderr",
     "output_type": "stream",
     "text": [
      "distributed.core - ERROR - Exception while handling op heartbeat_worker\n",
      "Traceback (most recent call last):\n",
      "  File \"/glade/work/kristenk/miniconda/envs/analysis4/lib/python3.7/site-packages/distributed/core.py\", line 493, in handle_comm\n",
      "    result = handler(comm, **msg)\n",
      "  File \"/glade/work/kristenk/miniconda/envs/analysis4/lib/python3.7/site-packages/distributed/scheduler.py\", line 2197, in heartbeat_worker\n",
      "    self.tasks[key]: duration for key, duration in executing.items()\n",
      "  File \"/glade/work/kristenk/miniconda/envs/analysis4/lib/python3.7/site-packages/distributed/scheduler.py\", line 2197, in <dictcomp>\n",
      "    self.tasks[key]: duration for key, duration in executing.items()\n",
      "KeyError: \"('open_dataset-62577b7fb21b89752ae587db78cd48a4DYT-7b476dc385c66435d8801bd6d7b6e710', 0, 0)\"\n"
     ]
    },
    {
     "name": "stdout",
     "output_type": "stream",
     "text": [
      "start year= 1955 member= 6\n",
      "start year= 1955 member= 7\n",
      "start year= 1955 member= 8\n",
      "start year= 1955 member= 9\n",
      "start year= 1955 member= 10\n",
      "start year= 1955 member= 11\n",
      "start year= 1955 member= 12\n",
      "start year= 1955 member= 13\n",
      "start year= 1955 member= 14\n",
      "start year= 1955 member= 15\n",
      "start year= 1955 member= 16\n",
      "start year= 1955 member= 17\n",
      "start year= 1955 member= 18\n",
      "start year= 1955 member= 19\n",
      "start year= 1955 member= 20\n",
      "start year= 1955 member= 21\n",
      "start year= 1955 member= 22\n",
      "start year= 1955 member= 23\n",
      "start year= 1955 member= 24\n",
      "start year= 1955 member= 25\n",
      "start year= 1955 member= 26\n",
      "start year= 1955 member= 27\n",
      "start year= 1955 member= 28\n",
      "start year= 1955 member= 29\n",
      "start year= 1955 member= 30\n",
      "start year= 1955 member= 31\n",
      "start year= 1955 member= 32\n",
      "start year= 1955 member= 33\n",
      "start year= 1955 member= 34\n",
      "start year= 1955 member= 35\n",
      "start year= 1955 member= 36\n",
      "start year= 1955 member= 37\n",
      "start year= 1955 member= 38\n",
      "start year= 1955 member= 39\n",
      "start year= 1955 member= 40\n",
      "start year= 1956 member= 1\n",
      "start year= 1956 member= 2\n",
      "start year= 1956 member= 3\n",
      "start year= 1956 member= 4\n",
      "start year= 1956 member= 5\n",
      "start year= 1956 member= 6\n",
      "start year= 1956 member= 7\n",
      "start year= 1956 member= 8\n",
      "start year= 1956 member= 9\n",
      "start year= 1956 member= 10\n",
      "start year= 1956 member= 11\n",
      "start year= 1956 member= 12\n",
      "start year= 1956 member= 13\n",
      "start year= 1956 member= 14\n"
     ]
    },
    {
     "name": "stderr",
     "output_type": "stream",
     "text": [
      "distributed.core - ERROR - Exception while handling op heartbeat_worker\n",
      "Traceback (most recent call last):\n",
      "  File \"/glade/work/kristenk/miniconda/envs/analysis4/lib/python3.7/site-packages/distributed/core.py\", line 493, in handle_comm\n",
      "    result = handler(comm, **msg)\n",
      "  File \"/glade/work/kristenk/miniconda/envs/analysis4/lib/python3.7/site-packages/distributed/scheduler.py\", line 2197, in heartbeat_worker\n",
      "    self.tasks[key]: duration for key, duration in executing.items()\n",
      "  File \"/glade/work/kristenk/miniconda/envs/analysis4/lib/python3.7/site-packages/distributed/scheduler.py\", line 2197, in <dictcomp>\n",
      "    self.tasks[key]: duration for key, duration in executing.items()\n",
      "KeyError: \"('open_dataset-f188994f4251d4e19502ed057a0cbb57HUW-72a711cd8ac1e702e178e2eafe489c7d', 0, 0)\"\n",
      "distributed.core - ERROR - Exception while handling op heartbeat_worker\n",
      "Traceback (most recent call last):\n",
      "  File \"/glade/work/kristenk/miniconda/envs/analysis4/lib/python3.7/site-packages/distributed/core.py\", line 493, in handle_comm\n",
      "    result = handler(comm, **msg)\n",
      "  File \"/glade/work/kristenk/miniconda/envs/analysis4/lib/python3.7/site-packages/distributed/scheduler.py\", line 2197, in heartbeat_worker\n",
      "    self.tasks[key]: duration for key, duration in executing.items()\n",
      "  File \"/glade/work/kristenk/miniconda/envs/analysis4/lib/python3.7/site-packages/distributed/scheduler.py\", line 2197, in <dictcomp>\n",
      "    self.tasks[key]: duration for key, duration in executing.items()\n",
      "KeyError: \"('open_dataset-f188994f4251d4e19502ed057a0cbb57ANGLET-71028b1f7ba01baf3a0b4efb7ef04cf8', 0, 0)\"\n",
      "distributed.core - ERROR - Exception while handling op heartbeat_worker\n",
      "Traceback (most recent call last):\n",
      "  File \"/glade/work/kristenk/miniconda/envs/analysis4/lib/python3.7/site-packages/distributed/core.py\", line 493, in handle_comm\n",
      "    result = handler(comm, **msg)\n",
      "  File \"/glade/work/kristenk/miniconda/envs/analysis4/lib/python3.7/site-packages/distributed/scheduler.py\", line 2197, in heartbeat_worker\n",
      "    self.tasks[key]: duration for key, duration in executing.items()\n",
      "  File \"/glade/work/kristenk/miniconda/envs/analysis4/lib/python3.7/site-packages/distributed/scheduler.py\", line 2197, in <dictcomp>\n",
      "    self.tasks[key]: duration for key, duration in executing.items()\n",
      "KeyError: \"('open_dataset-f188994f4251d4e19502ed057a0cbb57ANGLE-028867d4d0e0a2b095a870cd0398d72c', 0, 0)\"\n"
     ]
    },
    {
     "name": "stdout",
     "output_type": "stream",
     "text": [
      "start year= 1956 member= 15\n",
      "start year= 1956 member= 16\n",
      "start year= 1956 member= 17\n"
     ]
    },
    {
     "name": "stderr",
     "output_type": "stream",
     "text": [
      "distributed.core - ERROR - Exception while handling op heartbeat_worker\n",
      "Traceback (most recent call last):\n",
      "  File \"/glade/work/kristenk/miniconda/envs/analysis4/lib/python3.7/site-packages/distributed/core.py\", line 493, in handle_comm\n",
      "    result = handler(comm, **msg)\n",
      "  File \"/glade/work/kristenk/miniconda/envs/analysis4/lib/python3.7/site-packages/distributed/scheduler.py\", line 2197, in heartbeat_worker\n",
      "    self.tasks[key]: duration for key, duration in executing.items()\n",
      "  File \"/glade/work/kristenk/miniconda/envs/analysis4/lib/python3.7/site-packages/distributed/scheduler.py\", line 2197, in <dictcomp>\n",
      "    self.tasks[key]: duration for key, duration in executing.items()\n",
      "KeyError: \"('open_dataset-f3cf73fd2395e15f7f952b07867d3f79DXT-e47d0217a1af684772f91b9096332d08', 0, 0)\"\n"
     ]
    },
    {
     "name": "stdout",
     "output_type": "stream",
     "text": [
      "start year= 1956 member= 18\n",
      "start year= 1956 member= 19\n",
      "start year= 1956 member= 20\n",
      "start year= 1956 member= 21\n",
      "start year= 1956 member= 22\n",
      "start year= 1956 member= 23\n",
      "start year= 1956 member= 24\n"
     ]
    },
    {
     "name": "stderr",
     "output_type": "stream",
     "text": [
      "distributed.core - ERROR - Exception while handling op heartbeat_worker\n",
      "Traceback (most recent call last):\n",
      "  File \"/glade/work/kristenk/miniconda/envs/analysis4/lib/python3.7/site-packages/distributed/core.py\", line 493, in handle_comm\n",
      "    result = handler(comm, **msg)\n",
      "  File \"/glade/work/kristenk/miniconda/envs/analysis4/lib/python3.7/site-packages/distributed/scheduler.py\", line 2197, in heartbeat_worker\n",
      "    self.tasks[key]: duration for key, duration in executing.items()\n",
      "  File \"/glade/work/kristenk/miniconda/envs/analysis4/lib/python3.7/site-packages/distributed/scheduler.py\", line 2197, in <dictcomp>\n",
      "    self.tasks[key]: duration for key, duration in executing.items()\n",
      "KeyError: \"('open_dataset-2dc9ddb1560bec2c7af6fc11b0ebc9a9DYT-1977ffe7ab55c78296ca52ce9932894b', 0, 0)\"\n",
      "distributed.core - ERROR - Exception while handling op heartbeat_worker\n",
      "Traceback (most recent call last):\n",
      "  File \"/glade/work/kristenk/miniconda/envs/analysis4/lib/python3.7/site-packages/distributed/core.py\", line 493, in handle_comm\n",
      "    result = handler(comm, **msg)\n",
      "  File \"/glade/work/kristenk/miniconda/envs/analysis4/lib/python3.7/site-packages/distributed/scheduler.py\", line 2197, in heartbeat_worker\n",
      "    self.tasks[key]: duration for key, duration in executing.items()\n",
      "  File \"/glade/work/kristenk/miniconda/envs/analysis4/lib/python3.7/site-packages/distributed/scheduler.py\", line 2197, in <dictcomp>\n",
      "    self.tasks[key]: duration for key, duration in executing.items()\n",
      "KeyError: \"('open_dataset-2dc9ddb1560bec2c7af6fc11b0ebc9a9DXU-cfacaecb5112da8dcb9478b1803d807f', 0, 0)\"\n"
     ]
    },
    {
     "name": "stdout",
     "output_type": "stream",
     "text": [
      "start year= 1956 member= 25\n",
      "start year= 1956 member= 26\n",
      "start year= 1956 member= 27\n",
      "start year= 1956 member= 28\n",
      "start year= 1956 member= 29\n"
     ]
    },
    {
     "name": "stderr",
     "output_type": "stream",
     "text": [
      "distributed.core - ERROR - Exception while handling op heartbeat_worker\n",
      "Traceback (most recent call last):\n",
      "  File \"/glade/work/kristenk/miniconda/envs/analysis4/lib/python3.7/site-packages/distributed/core.py\", line 493, in handle_comm\n",
      "    result = handler(comm, **msg)\n",
      "  File \"/glade/work/kristenk/miniconda/envs/analysis4/lib/python3.7/site-packages/distributed/scheduler.py\", line 2197, in heartbeat_worker\n",
      "    self.tasks[key]: duration for key, duration in executing.items()\n",
      "  File \"/glade/work/kristenk/miniconda/envs/analysis4/lib/python3.7/site-packages/distributed/scheduler.py\", line 2197, in <dictcomp>\n",
      "    self.tasks[key]: duration for key, duration in executing.items()\n",
      "KeyError: \"('open_dataset-750fcbc69e8ed2fd745f1b0fbc6f465bDYT-f9cde579bf2af788596ed5552ba0248f', 0, 0)\"\n",
      "distributed.core - ERROR - Exception while handling op heartbeat_worker\n",
      "Traceback (most recent call last):\n",
      "  File \"/glade/work/kristenk/miniconda/envs/analysis4/lib/python3.7/site-packages/distributed/core.py\", line 493, in handle_comm\n",
      "    result = handler(comm, **msg)\n",
      "  File \"/glade/work/kristenk/miniconda/envs/analysis4/lib/python3.7/site-packages/distributed/scheduler.py\", line 2197, in heartbeat_worker\n",
      "    self.tasks[key]: duration for key, duration in executing.items()\n",
      "  File \"/glade/work/kristenk/miniconda/envs/analysis4/lib/python3.7/site-packages/distributed/scheduler.py\", line 2197, in <dictcomp>\n",
      "    self.tasks[key]: duration for key, duration in executing.items()\n",
      "KeyError: \"('open_dataset-750fcbc69e8ed2fd745f1b0fbc6f465bDXU-b86b9b712cbfe385d8180e920a545567', 0, 0)\"\n"
     ]
    },
    {
     "name": "stdout",
     "output_type": "stream",
     "text": [
      "start year= 1956 member= 30\n",
      "start year= 1956 member= 31\n",
      "start year= 1956 member= 32\n",
      "start year= 1956 member= 33\n",
      "start year= 1956 member= 34\n",
      "start year= 1956 member= 35\n",
      "start year= 1956 member= 36\n",
      "start year= 1956 member= 37\n"
     ]
    },
    {
     "name": "stderr",
     "output_type": "stream",
     "text": [
      "distributed.core - ERROR - Exception while handling op heartbeat_worker\n",
      "Traceback (most recent call last):\n",
      "  File \"/glade/work/kristenk/miniconda/envs/analysis4/lib/python3.7/site-packages/distributed/core.py\", line 493, in handle_comm\n",
      "    result = handler(comm, **msg)\n",
      "  File \"/glade/work/kristenk/miniconda/envs/analysis4/lib/python3.7/site-packages/distributed/scheduler.py\", line 2197, in heartbeat_worker\n",
      "    self.tasks[key]: duration for key, duration in executing.items()\n",
      "  File \"/glade/work/kristenk/miniconda/envs/analysis4/lib/python3.7/site-packages/distributed/scheduler.py\", line 2197, in <dictcomp>\n",
      "    self.tasks[key]: duration for key, duration in executing.items()\n",
      "KeyError: \"('open_dataset-f7d32f254636652b094a21fdb7f6a04aDXT-98ea3ad806533bd372fc9f92f41857ee', 0, 0)\"\n"
     ]
    },
    {
     "name": "stdout",
     "output_type": "stream",
     "text": [
      "start year= 1956 member= 38\n",
      "start year= 1956 member= 39\n",
      "start year= 1956 member= 40\n",
      "start year= 1957 member= 1\n",
      "start year= 1957 member= 2\n",
      "start year= 1957 member= 3\n",
      "start year= 1957 member= 4\n",
      "start year= 1957 member= 5\n",
      "start year= 1957 member= 6\n",
      "start year= 1957 member= 7\n",
      "start year= 1957 member= 8\n",
      "start year= 1957 member= 9\n",
      "start year= 1957 member= 10\n",
      "start year= 1957 member= 11\n",
      "start year= 1957 member= 12\n",
      "start year= 1957 member= 13\n"
     ]
    },
    {
     "name": "stderr",
     "output_type": "stream",
     "text": [
      "distributed.core - ERROR - Exception while handling op heartbeat_worker\n",
      "Traceback (most recent call last):\n",
      "  File \"/glade/work/kristenk/miniconda/envs/analysis4/lib/python3.7/site-packages/distributed/core.py\", line 493, in handle_comm\n",
      "    result = handler(comm, **msg)\n",
      "  File \"/glade/work/kristenk/miniconda/envs/analysis4/lib/python3.7/site-packages/distributed/scheduler.py\", line 2197, in heartbeat_worker\n",
      "    self.tasks[key]: duration for key, duration in executing.items()\n",
      "  File \"/glade/work/kristenk/miniconda/envs/analysis4/lib/python3.7/site-packages/distributed/scheduler.py\", line 2197, in <dictcomp>\n",
      "    self.tasks[key]: duration for key, duration in executing.items()\n",
      "KeyError: \"('open_dataset-32198699dfe8fef7f28776691edd9e67HTN-0c92991f55199dbdb69952b5d00616ef', 0, 0)\"\n"
     ]
    },
    {
     "name": "stdout",
     "output_type": "stream",
     "text": [
      "start year= 1957 member= 14\n"
     ]
    },
    {
     "name": "stderr",
     "output_type": "stream",
     "text": [
      "distributed.core - ERROR - Exception while handling op heartbeat_worker\n",
      "Traceback (most recent call last):\n",
      "  File \"/glade/work/kristenk/miniconda/envs/analysis4/lib/python3.7/site-packages/distributed/core.py\", line 493, in handle_comm\n",
      "    result = handler(comm, **msg)\n",
      "  File \"/glade/work/kristenk/miniconda/envs/analysis4/lib/python3.7/site-packages/distributed/scheduler.py\", line 2197, in heartbeat_worker\n",
      "    self.tasks[key]: duration for key, duration in executing.items()\n",
      "  File \"/glade/work/kristenk/miniconda/envs/analysis4/lib/python3.7/site-packages/distributed/scheduler.py\", line 2197, in <dictcomp>\n",
      "    self.tasks[key]: duration for key, duration in executing.items()\n",
      "KeyError: \"('open_dataset-32198699dfe8fef7f28776691edd9e67HT-c81c7ac7573d5924cd0cd33f179c1380', 0, 0)\"\n"
     ]
    },
    {
     "name": "stdout",
     "output_type": "stream",
     "text": [
      "start year= 1957 member= 15\n",
      "start year= 1957 member= 16\n",
      "start year= 1957 member= 17\n",
      "start year= 1957 member= 18\n",
      "start year= 1957 member= 19\n",
      "start year= 1957 member= 20\n",
      "start year= 1957 member= 21\n",
      "start year= 1957 member= 22\n",
      "start year= 1957 member= 23\n",
      "start year= 1957 member= 24\n",
      "start year= 1957 member= 25\n",
      "start year= 1957 member= 26\n",
      "start year= 1957 member= 27\n",
      "start year= 1957 member= 28\n",
      "start year= 1957 member= 29\n",
      "start year= 1957 member= 30\n",
      "start year= 1957 member= 31\n",
      "start year= 1957 member= 32\n",
      "start year= 1957 member= 33\n",
      "start year= 1957 member= 34\n"
     ]
    },
    {
     "name": "stderr",
     "output_type": "stream",
     "text": [
      "distributed.core - ERROR - Exception while handling op heartbeat_worker\n",
      "Traceback (most recent call last):\n",
      "  File \"/glade/work/kristenk/miniconda/envs/analysis4/lib/python3.7/site-packages/distributed/core.py\", line 493, in handle_comm\n",
      "    result = handler(comm, **msg)\n",
      "  File \"/glade/work/kristenk/miniconda/envs/analysis4/lib/python3.7/site-packages/distributed/scheduler.py\", line 2197, in heartbeat_worker\n",
      "    self.tasks[key]: duration for key, duration in executing.items()\n",
      "  File \"/glade/work/kristenk/miniconda/envs/analysis4/lib/python3.7/site-packages/distributed/scheduler.py\", line 2197, in <dictcomp>\n",
      "    self.tasks[key]: duration for key, duration in executing.items()\n",
      "KeyError: \"('open_dataset-54382a358d6a74a6b6be868603eb9bc0DYT-ed271f03c965fc80dadd5dcf7c8b20c6', 0, 0)\"\n",
      "distributed.core - ERROR - Exception while handling op heartbeat_worker\n",
      "Traceback (most recent call last):\n",
      "  File \"/glade/work/kristenk/miniconda/envs/analysis4/lib/python3.7/site-packages/distributed/core.py\", line 493, in handle_comm\n",
      "    result = handler(comm, **msg)\n",
      "  File \"/glade/work/kristenk/miniconda/envs/analysis4/lib/python3.7/site-packages/distributed/scheduler.py\", line 2197, in heartbeat_worker\n",
      "    self.tasks[key]: duration for key, duration in executing.items()\n",
      "  File \"/glade/work/kristenk/miniconda/envs/analysis4/lib/python3.7/site-packages/distributed/scheduler.py\", line 2197, in <dictcomp>\n",
      "    self.tasks[key]: duration for key, duration in executing.items()\n",
      "KeyError: \"('open_dataset-54382a358d6a74a6b6be868603eb9bc0DXU-fd1f67f5c210ada5ace08d17e3fd95fc', 0, 0)\"\n"
     ]
    },
    {
     "name": "stdout",
     "output_type": "stream",
     "text": [
      "start year= 1957 member= 35\n",
      "start year= 1957 member= 36\n",
      "start year= 1957 member= 37\n",
      "start year= 1957 member= 38\n",
      "start year= 1957 member= 39\n",
      "start year= 1957 member= 40\n",
      "start year= 1958 member= 1\n",
      "start year= 1958 member= 2\n",
      "start year= 1958 member= 3\n",
      "start year= 1958 member= 4\n",
      "start year= 1958 member= 5\n",
      "start year= 1958 member= 6\n"
     ]
    },
    {
     "name": "stderr",
     "output_type": "stream",
     "text": [
      "distributed.core - ERROR - Exception while handling op heartbeat_worker\n",
      "Traceback (most recent call last):\n",
      "  File \"/glade/work/kristenk/miniconda/envs/analysis4/lib/python3.7/site-packages/distributed/core.py\", line 493, in handle_comm\n",
      "    result = handler(comm, **msg)\n",
      "  File \"/glade/work/kristenk/miniconda/envs/analysis4/lib/python3.7/site-packages/distributed/scheduler.py\", line 2197, in heartbeat_worker\n",
      "    self.tasks[key]: duration for key, duration in executing.items()\n",
      "  File \"/glade/work/kristenk/miniconda/envs/analysis4/lib/python3.7/site-packages/distributed/scheduler.py\", line 2197, in <dictcomp>\n",
      "    self.tasks[key]: duration for key, duration in executing.items()\n",
      "KeyError: \"('open_dataset-ba34d86e2fe083549dcca71e32d96fadDYU-c2c20a72a90611832fb1da772222750b', 0, 0)\"\n"
     ]
    },
    {
     "name": "stdout",
     "output_type": "stream",
     "text": [
      "start year= 1958 member= 7\n",
      "start year= 1958 member= 8\n",
      "start year= 1958 member= 9\n",
      "start year= 1958 member= 10\n",
      "start year= 1958 member= 11\n",
      "start year= 1958 member= 12\n",
      "start year= 1958 member= 13\n",
      "start year= 1958 member= 14\n",
      "start year= 1958 member= 15\n",
      "start year= 1958 member= 16\n",
      "start year= 1958 member= 17\n",
      "start year= 1958 member= 18\n",
      "start year= 1958 member= 19\n"
     ]
    },
    {
     "name": "stderr",
     "output_type": "stream",
     "text": [
      "distributed.core - ERROR - Exception while handling op heartbeat_worker\n",
      "Traceback (most recent call last):\n",
      "  File \"/glade/work/kristenk/miniconda/envs/analysis4/lib/python3.7/site-packages/distributed/core.py\", line 493, in handle_comm\n",
      "    result = handler(comm, **msg)\n",
      "  File \"/glade/work/kristenk/miniconda/envs/analysis4/lib/python3.7/site-packages/distributed/scheduler.py\", line 2197, in heartbeat_worker\n",
      "    self.tasks[key]: duration for key, duration in executing.items()\n",
      "  File \"/glade/work/kristenk/miniconda/envs/analysis4/lib/python3.7/site-packages/distributed/scheduler.py\", line 2197, in <dictcomp>\n",
      "    self.tasks[key]: duration for key, duration in executing.items()\n",
      "KeyError: \"('open_dataset-addbb49cd9f0a2a1d148938fdc49da0bHTE-c23bf3f2cea92845c6e3c14655ebffd6', 0, 0)\"\n",
      "distributed.core - ERROR - Exception while handling op heartbeat_worker\n",
      "Traceback (most recent call last):\n",
      "  File \"/glade/work/kristenk/miniconda/envs/analysis4/lib/python3.7/site-packages/distributed/core.py\", line 493, in handle_comm\n",
      "    result = handler(comm, **msg)\n",
      "  File \"/glade/work/kristenk/miniconda/envs/analysis4/lib/python3.7/site-packages/distributed/scheduler.py\", line 2197, in heartbeat_worker\n",
      "    self.tasks[key]: duration for key, duration in executing.items()\n",
      "  File \"/glade/work/kristenk/miniconda/envs/analysis4/lib/python3.7/site-packages/distributed/scheduler.py\", line 2197, in <dictcomp>\n",
      "    self.tasks[key]: duration for key, duration in executing.items()\n",
      "KeyError: \"('open_dataset-addbb49cd9f0a2a1d148938fdc49da0bHT-53e8a7a1a569da43d02d1b19fd688831', 0, 0)\"\n",
      "distributed.core - ERROR - Exception while handling op heartbeat_worker\n",
      "Traceback (most recent call last):\n",
      "  File \"/glade/work/kristenk/miniconda/envs/analysis4/lib/python3.7/site-packages/distributed/core.py\", line 493, in handle_comm\n",
      "    result = handler(comm, **msg)\n",
      "  File \"/glade/work/kristenk/miniconda/envs/analysis4/lib/python3.7/site-packages/distributed/scheduler.py\", line 2197, in heartbeat_worker\n",
      "    self.tasks[key]: duration for key, duration in executing.items()\n",
      "  File \"/glade/work/kristenk/miniconda/envs/analysis4/lib/python3.7/site-packages/distributed/scheduler.py\", line 2197, in <dictcomp>\n",
      "    self.tasks[key]: duration for key, duration in executing.items()\n",
      "KeyError: \"('open_dataset-addbb49cd9f0a2a1d148938fdc49da0bHTN-bc6db5ab412e50222872688b8461e90b', 0, 0)\"\n"
     ]
    },
    {
     "name": "stdout",
     "output_type": "stream",
     "text": [
      "start year= 1958 member= 20\n",
      "start year= 1958 member= 21\n",
      "start year= 1958 member= 22\n",
      "start year= 1958 member= 23\n",
      "start year= 1958 member= 24\n"
     ]
    },
    {
     "name": "stderr",
     "output_type": "stream",
     "text": [
      "distributed.core - ERROR - Exception while handling op heartbeat_worker\n",
      "Traceback (most recent call last):\n",
      "  File \"/glade/work/kristenk/miniconda/envs/analysis4/lib/python3.7/site-packages/distributed/core.py\", line 493, in handle_comm\n",
      "    result = handler(comm, **msg)\n",
      "  File \"/glade/work/kristenk/miniconda/envs/analysis4/lib/python3.7/site-packages/distributed/scheduler.py\", line 2197, in heartbeat_worker\n",
      "    self.tasks[key]: duration for key, duration in executing.items()\n",
      "  File \"/glade/work/kristenk/miniconda/envs/analysis4/lib/python3.7/site-packages/distributed/scheduler.py\", line 2197, in <dictcomp>\n",
      "    self.tasks[key]: duration for key, duration in executing.items()\n",
      "KeyError: \"('open_dataset-1236de270c54f37f3a4c4af73f9e6138DYU-ec69ee03b4a4f9b535904bac98cd3617', 0, 0)\"\n"
     ]
    },
    {
     "name": "stdout",
     "output_type": "stream",
     "text": [
      "start year= 1958 member= 25\n",
      "start year= 1958 member= 26\n",
      "start year= 1958 member= 27\n",
      "start year= 1958 member= 28\n",
      "start year= 1958 member= 29\n",
      "start year= 1958 member= 30\n",
      "start year= 1958 member= 31\n",
      "start year= 1958 member= 32\n",
      "start year= 1958 member= 33\n",
      "start year= 1958 member= 34\n",
      "start year= 1958 member= 35\n",
      "start year= 1958 member= 36\n"
     ]
    },
    {
     "name": "stderr",
     "output_type": "stream",
     "text": [
      "distributed.core - ERROR - Exception while handling op heartbeat_worker\n",
      "Traceback (most recent call last):\n",
      "  File \"/glade/work/kristenk/miniconda/envs/analysis4/lib/python3.7/site-packages/distributed/core.py\", line 493, in handle_comm\n",
      "    result = handler(comm, **msg)\n",
      "  File \"/glade/work/kristenk/miniconda/envs/analysis4/lib/python3.7/site-packages/distributed/scheduler.py\", line 2197, in heartbeat_worker\n",
      "    self.tasks[key]: duration for key, duration in executing.items()\n",
      "  File \"/glade/work/kristenk/miniconda/envs/analysis4/lib/python3.7/site-packages/distributed/scheduler.py\", line 2197, in <dictcomp>\n",
      "    self.tasks[key]: duration for key, duration in executing.items()\n",
      "KeyError: \"('open_dataset-1302073d2e25099adbb9bde71078d29fDYT-37e8f02a00c6e6a56fe236cdab8ac3e3', 0, 0)\"\n"
     ]
    },
    {
     "name": "stdout",
     "output_type": "stream",
     "text": [
      "start year= 1958 member= 37\n",
      "start year= 1958 member= 38\n",
      "start year= 1958 member= 39\n",
      "start year= 1958 member= 40\n",
      "start year= 1959 member= 1\n",
      "start year= 1959 member= 2\n",
      "start year= 1959 member= 3\n",
      "start year= 1959 member= 4\n"
     ]
    },
    {
     "name": "stderr",
     "output_type": "stream",
     "text": [
      "distributed.core - ERROR - Exception while handling op heartbeat_worker\n",
      "Traceback (most recent call last):\n",
      "  File \"/glade/work/kristenk/miniconda/envs/analysis4/lib/python3.7/site-packages/distributed/core.py\", line 493, in handle_comm\n",
      "    result = handler(comm, **msg)\n",
      "  File \"/glade/work/kristenk/miniconda/envs/analysis4/lib/python3.7/site-packages/distributed/scheduler.py\", line 2197, in heartbeat_worker\n",
      "    self.tasks[key]: duration for key, duration in executing.items()\n",
      "  File \"/glade/work/kristenk/miniconda/envs/analysis4/lib/python3.7/site-packages/distributed/scheduler.py\", line 2197, in <dictcomp>\n",
      "    self.tasks[key]: duration for key, duration in executing.items()\n",
      "KeyError: \"('open_dataset-25955a184b843db7274570a8a7c317dbDYT-b19cccf65eb249a376d8fec65c50c6c5', 0, 0)\"\n",
      "distributed.core - ERROR - Exception while handling op heartbeat_worker\n",
      "Traceback (most recent call last):\n",
      "  File \"/glade/work/kristenk/miniconda/envs/analysis4/lib/python3.7/site-packages/distributed/core.py\", line 493, in handle_comm\n",
      "    result = handler(comm, **msg)\n",
      "  File \"/glade/work/kristenk/miniconda/envs/analysis4/lib/python3.7/site-packages/distributed/scheduler.py\", line 2197, in heartbeat_worker\n",
      "    self.tasks[key]: duration for key, duration in executing.items()\n",
      "  File \"/glade/work/kristenk/miniconda/envs/analysis4/lib/python3.7/site-packages/distributed/scheduler.py\", line 2197, in <dictcomp>\n",
      "    self.tasks[key]: duration for key, duration in executing.items()\n",
      "KeyError: \"('open_dataset-25955a184b843db7274570a8a7c317dbDXU-cb3a9c8f3cdf342b4f798c8cc60c64cb', 0, 0)\"\n"
     ]
    },
    {
     "name": "stdout",
     "output_type": "stream",
     "text": [
      "start year= 1959 member= 5\n",
      "start year= 1959 member= 6\n"
     ]
    },
    {
     "name": "stderr",
     "output_type": "stream",
     "text": [
      "distributed.core - ERROR - Exception while handling op heartbeat_worker\n",
      "Traceback (most recent call last):\n",
      "  File \"/glade/work/kristenk/miniconda/envs/analysis4/lib/python3.7/site-packages/distributed/core.py\", line 493, in handle_comm\n",
      "    result = handler(comm, **msg)\n",
      "  File \"/glade/work/kristenk/miniconda/envs/analysis4/lib/python3.7/site-packages/distributed/scheduler.py\", line 2197, in heartbeat_worker\n",
      "    self.tasks[key]: duration for key, duration in executing.items()\n",
      "  File \"/glade/work/kristenk/miniconda/envs/analysis4/lib/python3.7/site-packages/distributed/scheduler.py\", line 2197, in <dictcomp>\n",
      "    self.tasks[key]: duration for key, duration in executing.items()\n",
      "KeyError: \"('open_dataset-4b5078eafed641e51d69d89d14e46848HTE-c860cf854574fc8605d629cf1606a2d0', 0, 0)\"\n"
     ]
    },
    {
     "name": "stdout",
     "output_type": "stream",
     "text": [
      "start year= 1959 member= 7\n",
      "start year= 1959 member= 8\n",
      "start year= 1959 member= 9\n",
      "start year= 1959 member= 10\n",
      "start year= 1959 member= 11\n",
      "start year= 1959 member= 12\n",
      "start year= 1959 member= 13\n",
      "start year= 1959 member= 14\n",
      "start year= 1959 member= 15\n",
      "start year= 1959 member= 16\n",
      "start year= 1959 member= 17\n",
      "start year= 1959 member= 18\n",
      "start year= 1959 member= 19\n",
      "start year= 1959 member= 20\n",
      "start year= 1959 member= 21\n",
      "start year= 1959 member= 22\n",
      "start year= 1959 member= 23\n",
      "start year= 1959 member= 24\n",
      "start year= 1959 member= 25\n",
      "start year= 1959 member= 26\n"
     ]
    },
    {
     "name": "stderr",
     "output_type": "stream",
     "text": [
      "distributed.core - ERROR - Exception while handling op heartbeat_worker\n",
      "Traceback (most recent call last):\n",
      "  File \"/glade/work/kristenk/miniconda/envs/analysis4/lib/python3.7/site-packages/distributed/core.py\", line 493, in handle_comm\n",
      "    result = handler(comm, **msg)\n",
      "  File \"/glade/work/kristenk/miniconda/envs/analysis4/lib/python3.7/site-packages/distributed/scheduler.py\", line 2197, in heartbeat_worker\n",
      "    self.tasks[key]: duration for key, duration in executing.items()\n",
      "  File \"/glade/work/kristenk/miniconda/envs/analysis4/lib/python3.7/site-packages/distributed/scheduler.py\", line 2197, in <dictcomp>\n",
      "    self.tasks[key]: duration for key, duration in executing.items()\n",
      "KeyError: \"('open_dataset-bb79e4828f4ee6af30c33401d559227aDYU-6031ff1ff60eee5d7e66033125d3c1db', 0, 0)\"\n"
     ]
    },
    {
     "name": "stdout",
     "output_type": "stream",
     "text": [
      "start year= 1959 member= 27\n",
      "start year= 1959 member= 28\n",
      "start year= 1959 member= 29\n",
      "start year= 1959 member= 30\n",
      "start year= 1959 member= 31\n",
      "start year= 1959 member= 32\n",
      "start year= 1959 member= 33\n",
      "start year= 1959 member= 34\n",
      "start year= 1959 member= 35\n",
      "start year= 1959 member= 36\n",
      "start year= 1959 member= 37\n",
      "start year= 1959 member= 38\n",
      "start year= 1959 member= 39\n",
      "start year= 1959 member= 40\n",
      "start year= 1960 member= 1\n",
      "start year= 1960 member= 2\n",
      "start year= 1960 member= 3\n",
      "start year= 1960 member= 4\n",
      "start year= 1960 member= 5\n",
      "start year= 1960 member= 6\n",
      "start year= 1960 member= 7\n",
      "start year= 1960 member= 8\n",
      "start year= 1960 member= 9\n",
      "start year= 1960 member= 10\n",
      "start year= 1960 member= 11\n",
      "start year= 1960 member= 12\n",
      "start year= 1960 member= 13\n",
      "start year= 1960 member= 14\n",
      "start year= 1960 member= 15\n",
      "start year= 1960 member= 16\n",
      "start year= 1960 member= 17\n",
      "start year= 1960 member= 18\n"
     ]
    },
    {
     "name": "stderr",
     "output_type": "stream",
     "text": [
      "distributed.core - ERROR - Exception while handling op heartbeat_worker\n",
      "Traceback (most recent call last):\n",
      "  File \"/glade/work/kristenk/miniconda/envs/analysis4/lib/python3.7/site-packages/distributed/core.py\", line 493, in handle_comm\n",
      "    result = handler(comm, **msg)\n",
      "  File \"/glade/work/kristenk/miniconda/envs/analysis4/lib/python3.7/site-packages/distributed/scheduler.py\", line 2197, in heartbeat_worker\n",
      "    self.tasks[key]: duration for key, duration in executing.items()\n",
      "  File \"/glade/work/kristenk/miniconda/envs/analysis4/lib/python3.7/site-packages/distributed/scheduler.py\", line 2197, in <dictcomp>\n",
      "    self.tasks[key]: duration for key, duration in executing.items()\n",
      "KeyError: \"('open_dataset-659c3e4c0b0c0b12cbc649838926c136DYU-2b26a2c96775f5197ac6dd59b98c4167', 0, 0)\"\n"
     ]
    },
    {
     "name": "stdout",
     "output_type": "stream",
     "text": [
      "start year= 1960 member= 19\n",
      "start year= 1960 member= 20\n",
      "start year= 1960 member= 21\n",
      "start year= 1960 member= 22\n",
      "start year= 1960 member= 23\n",
      "start year= 1960 member= 24\n",
      "start year= 1960 member= 25\n",
      "start year= 1960 member= 26\n",
      "start year= 1960 member= 27\n"
     ]
    },
    {
     "name": "stderr",
     "output_type": "stream",
     "text": [
      "distributed.core - ERROR - Exception while handling op heartbeat_worker\n",
      "Traceback (most recent call last):\n",
      "  File \"/glade/work/kristenk/miniconda/envs/analysis4/lib/python3.7/site-packages/distributed/core.py\", line 493, in handle_comm\n",
      "    result = handler(comm, **msg)\n",
      "  File \"/glade/work/kristenk/miniconda/envs/analysis4/lib/python3.7/site-packages/distributed/scheduler.py\", line 2197, in heartbeat_worker\n",
      "    self.tasks[key]: duration for key, duration in executing.items()\n",
      "  File \"/glade/work/kristenk/miniconda/envs/analysis4/lib/python3.7/site-packages/distributed/scheduler.py\", line 2197, in <dictcomp>\n",
      "    self.tasks[key]: duration for key, duration in executing.items()\n",
      "KeyError: \"('open_dataset-7bd56fc7370d94c6f3d53cca0f0d961fANGLET-b76f5b52ece75c346550e29da8739f14', 0, 0)\"\n"
     ]
    },
    {
     "name": "stdout",
     "output_type": "stream",
     "text": [
      "start year= 1960 member= 28\n",
      "start year= 1960 member= 29\n",
      "start year= 1960 member= 30\n",
      "start year= 1960 member= 31\n",
      "start year= 1960 member= 32\n",
      "start year= 1960 member= 33\n",
      "start year= 1960 member= 34\n",
      "start year= 1960 member= 35\n",
      "start year= 1960 member= 36\n",
      "start year= 1960 member= 37\n",
      "start year= 1960 member= 38\n",
      "start year= 1960 member= 39\n",
      "start year= 1960 member= 40\n"
     ]
    },
    {
     "name": "stderr",
     "output_type": "stream",
     "text": [
      "distributed.core - ERROR - Exception while handling op heartbeat_worker\n",
      "Traceback (most recent call last):\n",
      "  File \"/glade/work/kristenk/miniconda/envs/analysis4/lib/python3.7/site-packages/distributed/core.py\", line 493, in handle_comm\n",
      "    result = handler(comm, **msg)\n",
      "  File \"/glade/work/kristenk/miniconda/envs/analysis4/lib/python3.7/site-packages/distributed/scheduler.py\", line 2197, in heartbeat_worker\n",
      "    self.tasks[key]: duration for key, duration in executing.items()\n",
      "  File \"/glade/work/kristenk/miniconda/envs/analysis4/lib/python3.7/site-packages/distributed/scheduler.py\", line 2197, in <dictcomp>\n",
      "    self.tasks[key]: duration for key, duration in executing.items()\n",
      "KeyError: \"('open_dataset-4dc51dc303bcc8aa92ce902167fb34a6DXU-7e21680ef89e7169a9e1a1fb2c9a1b8c', 0, 0)\"\n"
     ]
    },
    {
     "name": "stdout",
     "output_type": "stream",
     "text": [
      "start year= 1961 member= 1\n",
      "start year= 1961 member= 2\n",
      "start year= 1961 member= 3\n",
      "start year= 1961 member= 4\n",
      "start year= 1961 member= 5\n",
      "start year= 1961 member= 6\n",
      "start year= 1961 member= 7\n",
      "start year= 1961 member= 8\n",
      "start year= 1961 member= 9\n",
      "start year= 1961 member= 10\n"
     ]
    },
    {
     "name": "stderr",
     "output_type": "stream",
     "text": [
      "distributed.core - ERROR - Exception while handling op heartbeat_worker\n",
      "Traceback (most recent call last):\n",
      "  File \"/glade/work/kristenk/miniconda/envs/analysis4/lib/python3.7/site-packages/distributed/core.py\", line 493, in handle_comm\n",
      "    result = handler(comm, **msg)\n",
      "  File \"/glade/work/kristenk/miniconda/envs/analysis4/lib/python3.7/site-packages/distributed/scheduler.py\", line 2197, in heartbeat_worker\n",
      "    self.tasks[key]: duration for key, duration in executing.items()\n",
      "  File \"/glade/work/kristenk/miniconda/envs/analysis4/lib/python3.7/site-packages/distributed/scheduler.py\", line 2197, in <dictcomp>\n",
      "    self.tasks[key]: duration for key, duration in executing.items()\n",
      "KeyError: \"('open_dataset-e29dc510388e797b1dbe1ad153a9740dHTN-8710544b1a30b9d71a353a16e9c78e1f', 0, 0)\"\n"
     ]
    },
    {
     "name": "stdout",
     "output_type": "stream",
     "text": [
      "start year= 1961 member= 11\n",
      "start year= 1961 member= 12\n",
      "start year= 1961 member= 13\n",
      "start year= 1961 member= 14\n",
      "start year= 1961 member= 15\n",
      "start year= 1961 member= 16\n",
      "start year= 1961 member= 17\n",
      "start year= 1961 member= 18\n",
      "start year= 1961 member= 19\n"
     ]
    },
    {
     "name": "stderr",
     "output_type": "stream",
     "text": [
      "distributed.core - ERROR - Exception while handling op heartbeat_worker\n",
      "Traceback (most recent call last):\n",
      "  File \"/glade/work/kristenk/miniconda/envs/analysis4/lib/python3.7/site-packages/distributed/core.py\", line 493, in handle_comm\n",
      "    result = handler(comm, **msg)\n",
      "  File \"/glade/work/kristenk/miniconda/envs/analysis4/lib/python3.7/site-packages/distributed/scheduler.py\", line 2197, in heartbeat_worker\n",
      "    self.tasks[key]: duration for key, duration in executing.items()\n",
      "  File \"/glade/work/kristenk/miniconda/envs/analysis4/lib/python3.7/site-packages/distributed/scheduler.py\", line 2197, in <dictcomp>\n",
      "    self.tasks[key]: duration for key, duration in executing.items()\n",
      "KeyError: \"('open_dataset-5d68c8d78bd20c85e830746872f573e8DYT-8438f64087759587a9a04a1a70f7f309', 0, 0)\"\n",
      "distributed.core - ERROR - Exception while handling op heartbeat_worker\n",
      "Traceback (most recent call last):\n",
      "  File \"/glade/work/kristenk/miniconda/envs/analysis4/lib/python3.7/site-packages/distributed/core.py\", line 493, in handle_comm\n",
      "    result = handler(comm, **msg)\n",
      "  File \"/glade/work/kristenk/miniconda/envs/analysis4/lib/python3.7/site-packages/distributed/scheduler.py\", line 2197, in heartbeat_worker\n",
      "    self.tasks[key]: duration for key, duration in executing.items()\n",
      "  File \"/glade/work/kristenk/miniconda/envs/analysis4/lib/python3.7/site-packages/distributed/scheduler.py\", line 2197, in <dictcomp>\n",
      "    self.tasks[key]: duration for key, duration in executing.items()\n",
      "KeyError: \"('open_dataset-5d68c8d78bd20c85e830746872f573e8DXU-0c559a058adb0b16b2caa87ef4dc482c', 0, 0)\"\n"
     ]
    },
    {
     "name": "stdout",
     "output_type": "stream",
     "text": [
      "start year= 1961 member= 20\n",
      "start year= 1961 member= 21\n",
      "start year= 1961 member= 22\n",
      "start year= 1961 member= 23\n",
      "start year= 1961 member= 24\n",
      "start year= 1961 member= 25\n",
      "start year= 1961 member= 26\n",
      "start year= 1961 member= 27\n",
      "start year= 1961 member= 28\n",
      "start year= 1961 member= 29\n",
      "start year= 1961 member= 30\n",
      "start year= 1961 member= 31\n",
      "start year= 1961 member= 32\n",
      "start year= 1961 member= 33\n",
      "start year= 1961 member= 34\n",
      "start year= 1961 member= 35\n",
      "start year= 1961 member= 36\n"
     ]
    },
    {
     "name": "stderr",
     "output_type": "stream",
     "text": [
      "distributed.core - ERROR - Exception while handling op heartbeat_worker\n",
      "Traceback (most recent call last):\n",
      "  File \"/glade/work/kristenk/miniconda/envs/analysis4/lib/python3.7/site-packages/distributed/core.py\", line 493, in handle_comm\n",
      "    result = handler(comm, **msg)\n",
      "  File \"/glade/work/kristenk/miniconda/envs/analysis4/lib/python3.7/site-packages/distributed/scheduler.py\", line 2197, in heartbeat_worker\n",
      "    self.tasks[key]: duration for key, duration in executing.items()\n",
      "  File \"/glade/work/kristenk/miniconda/envs/analysis4/lib/python3.7/site-packages/distributed/scheduler.py\", line 2197, in <dictcomp>\n",
      "    self.tasks[key]: duration for key, duration in executing.items()\n",
      "KeyError: \"('open_dataset-277c6bd09efa2c8fe917aa480b900e70HUW-c3da9b52d09a1b29323e59ef7389a97f', 0, 0)\"\n",
      "distributed.core - ERROR - Exception while handling op heartbeat_worker\n",
      "Traceback (most recent call last):\n",
      "  File \"/glade/work/kristenk/miniconda/envs/analysis4/lib/python3.7/site-packages/distributed/core.py\", line 493, in handle_comm\n",
      "    result = handler(comm, **msg)\n",
      "  File \"/glade/work/kristenk/miniconda/envs/analysis4/lib/python3.7/site-packages/distributed/scheduler.py\", line 2197, in heartbeat_worker\n",
      "    self.tasks[key]: duration for key, duration in executing.items()\n",
      "  File \"/glade/work/kristenk/miniconda/envs/analysis4/lib/python3.7/site-packages/distributed/scheduler.py\", line 2197, in <dictcomp>\n",
      "    self.tasks[key]: duration for key, duration in executing.items()\n",
      "KeyError: \"('open_dataset-277c6bd09efa2c8fe917aa480b900e70HT-b533cfc490b105b6bc0237b76ec6c452', 0, 0)\"\n"
     ]
    },
    {
     "name": "stdout",
     "output_type": "stream",
     "text": [
      "start year= 1961 member= 37\n",
      "start year= 1961 member= 38\n",
      "start year= 1961 member= 39\n",
      "start year= 1961 member= 40\n",
      "start year= 1962 member= 1\n",
      "start year= 1962 member= 2\n",
      "start year= 1962 member= 3\n",
      "start year= 1962 member= 4\n",
      "start year= 1962 member= 5\n",
      "start year= 1962 member= 6\n",
      "start year= 1962 member= 7\n",
      "start year= 1962 member= 8\n",
      "start year= 1962 member= 9\n",
      "start year= 1962 member= 10\n",
      "start year= 1962 member= 11\n",
      "start year= 1962 member= 12\n"
     ]
    },
    {
     "name": "stderr",
     "output_type": "stream",
     "text": [
      "distributed.core - ERROR - Exception while handling op heartbeat_worker\n",
      "Traceback (most recent call last):\n",
      "  File \"/glade/work/kristenk/miniconda/envs/analysis4/lib/python3.7/site-packages/distributed/core.py\", line 493, in handle_comm\n",
      "    result = handler(comm, **msg)\n",
      "  File \"/glade/work/kristenk/miniconda/envs/analysis4/lib/python3.7/site-packages/distributed/scheduler.py\", line 2197, in heartbeat_worker\n",
      "    self.tasks[key]: duration for key, duration in executing.items()\n",
      "  File \"/glade/work/kristenk/miniconda/envs/analysis4/lib/python3.7/site-packages/distributed/scheduler.py\", line 2197, in <dictcomp>\n",
      "    self.tasks[key]: duration for key, duration in executing.items()\n",
      "KeyError: \"('open_dataset-70a3b07b0ee8bec6ebccdcacc7573d11HUW-7b4cb87ec6de7c1305f535483fb9e9a7', 0, 0)\"\n"
     ]
    },
    {
     "name": "stdout",
     "output_type": "stream",
     "text": [
      "start year= 1962 member= 13\n"
     ]
    },
    {
     "name": "stderr",
     "output_type": "stream",
     "text": [
      "distributed.core - ERROR - Exception while handling op heartbeat_worker\n",
      "Traceback (most recent call last):\n",
      "  File \"/glade/work/kristenk/miniconda/envs/analysis4/lib/python3.7/site-packages/distributed/core.py\", line 493, in handle_comm\n",
      "    result = handler(comm, **msg)\n",
      "  File \"/glade/work/kristenk/miniconda/envs/analysis4/lib/python3.7/site-packages/distributed/scheduler.py\", line 2197, in heartbeat_worker\n",
      "    self.tasks[key]: duration for key, duration in executing.items()\n",
      "  File \"/glade/work/kristenk/miniconda/envs/analysis4/lib/python3.7/site-packages/distributed/scheduler.py\", line 2197, in <dictcomp>\n",
      "    self.tasks[key]: duration for key, duration in executing.items()\n",
      "KeyError: \"('open_dataset-70a3b07b0ee8bec6ebccdcacc7573d11ANGLET-d6ceed303842fb4d68192c168cc49436', 0, 0)\"\n",
      "distributed.core - ERROR - Exception while handling op heartbeat_worker\n",
      "Traceback (most recent call last):\n",
      "  File \"/glade/work/kristenk/miniconda/envs/analysis4/lib/python3.7/site-packages/distributed/core.py\", line 493, in handle_comm\n",
      "    result = handler(comm, **msg)\n",
      "  File \"/glade/work/kristenk/miniconda/envs/analysis4/lib/python3.7/site-packages/distributed/scheduler.py\", line 2197, in heartbeat_worker\n",
      "    self.tasks[key]: duration for key, duration in executing.items()\n",
      "  File \"/glade/work/kristenk/miniconda/envs/analysis4/lib/python3.7/site-packages/distributed/scheduler.py\", line 2197, in <dictcomp>\n",
      "    self.tasks[key]: duration for key, duration in executing.items()\n",
      "KeyError: \"('open_dataset-70a3b07b0ee8bec6ebccdcacc7573d11ANGLE-a81fe1245507aeca85104e7250bc0da9', 0, 0)\"\n"
     ]
    },
    {
     "name": "stdout",
     "output_type": "stream",
     "text": [
      "start year= 1962 member= 14\n",
      "start year= 1962 member= 15\n",
      "start year= 1962 member= 16\n",
      "start year= 1962 member= 17\n"
     ]
    },
    {
     "name": "stderr",
     "output_type": "stream",
     "text": [
      "distributed.core - ERROR - Exception while handling op heartbeat_worker\n",
      "Traceback (most recent call last):\n",
      "  File \"/glade/work/kristenk/miniconda/envs/analysis4/lib/python3.7/site-packages/distributed/core.py\", line 493, in handle_comm\n",
      "    result = handler(comm, **msg)\n",
      "  File \"/glade/work/kristenk/miniconda/envs/analysis4/lib/python3.7/site-packages/distributed/scheduler.py\", line 2197, in heartbeat_worker\n",
      "    self.tasks[key]: duration for key, duration in executing.items()\n",
      "  File \"/glade/work/kristenk/miniconda/envs/analysis4/lib/python3.7/site-packages/distributed/scheduler.py\", line 2197, in <dictcomp>\n",
      "    self.tasks[key]: duration for key, duration in executing.items()\n",
      "KeyError: \"('open_dataset-3a5dc902ee9ab24a2a882365e3ef410bHU-a1563b677c2d415944837aa18a3ee6c0', 0, 0)\"\n",
      "distributed.core - ERROR - Exception while handling op heartbeat_worker\n",
      "Traceback (most recent call last):\n",
      "  File \"/glade/work/kristenk/miniconda/envs/analysis4/lib/python3.7/site-packages/distributed/core.py\", line 493, in handle_comm\n",
      "    result = handler(comm, **msg)\n",
      "  File \"/glade/work/kristenk/miniconda/envs/analysis4/lib/python3.7/site-packages/distributed/scheduler.py\", line 2197, in heartbeat_worker\n",
      "    self.tasks[key]: duration for key, duration in executing.items()\n",
      "  File \"/glade/work/kristenk/miniconda/envs/analysis4/lib/python3.7/site-packages/distributed/scheduler.py\", line 2197, in <dictcomp>\n",
      "    self.tasks[key]: duration for key, duration in executing.items()\n",
      "KeyError: \"('open_dataset-3a5dc902ee9ab24a2a882365e3ef410bHUS-efdf70e37bfa2043dd9c333f828d83b4', 0, 0)\"\n"
     ]
    },
    {
     "name": "stdout",
     "output_type": "stream",
     "text": [
      "start year= 1962 member= 18\n",
      "start year= 1962 member= 19\n",
      "start year= 1962 member= 20\n",
      "start year= 1962 member= 21\n",
      "start year= 1962 member= 22\n",
      "start year= 1962 member= 23\n",
      "start year= 1962 member= 24\n",
      "start year= 1962 member= 25\n",
      "start year= 1962 member= 26\n",
      "start year= 1962 member= 27\n",
      "start year= 1962 member= 28\n",
      "start year= 1962 member= 29\n",
      "start year= 1962 member= 30\n",
      "start year= 1962 member= 31\n",
      "start year= 1962 member= 32\n",
      "start year= 1962 member= 33\n"
     ]
    },
    {
     "name": "stderr",
     "output_type": "stream",
     "text": [
      "distributed.core - ERROR - Exception while handling op heartbeat_worker\n",
      "Traceback (most recent call last):\n",
      "  File \"/glade/work/kristenk/miniconda/envs/analysis4/lib/python3.7/site-packages/distributed/core.py\", line 493, in handle_comm\n",
      "    result = handler(comm, **msg)\n",
      "  File \"/glade/work/kristenk/miniconda/envs/analysis4/lib/python3.7/site-packages/distributed/scheduler.py\", line 2197, in heartbeat_worker\n",
      "    self.tasks[key]: duration for key, duration in executing.items()\n",
      "  File \"/glade/work/kristenk/miniconda/envs/analysis4/lib/python3.7/site-packages/distributed/scheduler.py\", line 2197, in <dictcomp>\n",
      "    self.tasks[key]: duration for key, duration in executing.items()\n",
      "KeyError: \"('open_dataset-69967ac83a44e4870034b5b0c19e839bDYU-773a30696eecc75594883c977a4a727b', 0, 0)\"\n"
     ]
    },
    {
     "name": "stdout",
     "output_type": "stream",
     "text": [
      "start year= 1962 member= 34\n",
      "start year= 1962 member= 35\n"
     ]
    },
    {
     "name": "stderr",
     "output_type": "stream",
     "text": [
      "distributed.core - ERROR - Exception while handling op heartbeat_worker\n",
      "Traceback (most recent call last):\n",
      "  File \"/glade/work/kristenk/miniconda/envs/analysis4/lib/python3.7/site-packages/distributed/core.py\", line 493, in handle_comm\n",
      "    result = handler(comm, **msg)\n",
      "  File \"/glade/work/kristenk/miniconda/envs/analysis4/lib/python3.7/site-packages/distributed/scheduler.py\", line 2197, in heartbeat_worker\n",
      "    self.tasks[key]: duration for key, duration in executing.items()\n",
      "  File \"/glade/work/kristenk/miniconda/envs/analysis4/lib/python3.7/site-packages/distributed/scheduler.py\", line 2197, in <dictcomp>\n",
      "    self.tasks[key]: duration for key, duration in executing.items()\n",
      "KeyError: \"('open_dataset-7b4cabc6a2632ce6851e7efd0ca5c61bDYU-4a8eb1c0cba4404e5ad6291d98e94549', 0, 0)\"\n"
     ]
    },
    {
     "name": "stdout",
     "output_type": "stream",
     "text": [
      "start year= 1962 member= 36\n",
      "start year= 1962 member= 37\n",
      "start year= 1962 member= 38\n",
      "start year= 1962 member= 39\n",
      "start year= 1962 member= 40\n",
      "start year= 1963 member= 1\n",
      "start year= 1963 member= 2\n",
      "start year= 1963 member= 3\n",
      "start year= 1963 member= 4\n",
      "start year= 1963 member= 5\n",
      "start year= 1963 member= 6\n",
      "start year= 1963 member= 7\n",
      "start year= 1963 member= 8\n",
      "start year= 1963 member= 9\n",
      "start year= 1963 member= 10\n",
      "start year= 1963 member= 11\n"
     ]
    },
    {
     "name": "stderr",
     "output_type": "stream",
     "text": [
      "distributed.core - ERROR - Exception while handling op heartbeat_worker\n",
      "Traceback (most recent call last):\n",
      "  File \"/glade/work/kristenk/miniconda/envs/analysis4/lib/python3.7/site-packages/distributed/core.py\", line 493, in handle_comm\n",
      "    result = handler(comm, **msg)\n",
      "  File \"/glade/work/kristenk/miniconda/envs/analysis4/lib/python3.7/site-packages/distributed/scheduler.py\", line 2197, in heartbeat_worker\n",
      "    self.tasks[key]: duration for key, duration in executing.items()\n",
      "  File \"/glade/work/kristenk/miniconda/envs/analysis4/lib/python3.7/site-packages/distributed/scheduler.py\", line 2197, in <dictcomp>\n",
      "    self.tasks[key]: duration for key, duration in executing.items()\n",
      "KeyError: \"('open_dataset-a0a53b247e8ae895bcb78bd89ceb257aHT-45591cd248cb0ab0a654e42320d3b33e', 0, 0)\"\n",
      "distributed.core - ERROR - Exception while handling op heartbeat_worker\n",
      "Traceback (most recent call last):\n",
      "  File \"/glade/work/kristenk/miniconda/envs/analysis4/lib/python3.7/site-packages/distributed/core.py\", line 493, in handle_comm\n",
      "    result = handler(comm, **msg)\n",
      "  File \"/glade/work/kristenk/miniconda/envs/analysis4/lib/python3.7/site-packages/distributed/scheduler.py\", line 2197, in heartbeat_worker\n",
      "    self.tasks[key]: duration for key, duration in executing.items()\n",
      "  File \"/glade/work/kristenk/miniconda/envs/analysis4/lib/python3.7/site-packages/distributed/scheduler.py\", line 2197, in <dictcomp>\n",
      "    self.tasks[key]: duration for key, duration in executing.items()\n",
      "KeyError: \"('open_dataset-a0a53b247e8ae895bcb78bd89ceb257aHTN-57a985ee14789dd49fb0d3438b7c439e', 0, 0)\"\n",
      "distributed.core - ERROR - Exception while handling op heartbeat_worker\n",
      "Traceback (most recent call last):\n",
      "  File \"/glade/work/kristenk/miniconda/envs/analysis4/lib/python3.7/site-packages/distributed/core.py\", line 493, in handle_comm\n",
      "    result = handler(comm, **msg)\n",
      "  File \"/glade/work/kristenk/miniconda/envs/analysis4/lib/python3.7/site-packages/distributed/scheduler.py\", line 2197, in heartbeat_worker\n",
      "    self.tasks[key]: duration for key, duration in executing.items()\n",
      "  File \"/glade/work/kristenk/miniconda/envs/analysis4/lib/python3.7/site-packages/distributed/scheduler.py\", line 2197, in <dictcomp>\n",
      "    self.tasks[key]: duration for key, duration in executing.items()\n",
      "KeyError: \"('open_dataset-a0a53b247e8ae895bcb78bd89ceb257aHTE-c9020076a880246484467cb74f4eea20', 0, 0)\"\n"
     ]
    },
    {
     "name": "stdout",
     "output_type": "stream",
     "text": [
      "start year= 1963 member= 12\n",
      "start year= 1963 member= 13\n",
      "start year= 1963 member= 14\n",
      "start year= 1963 member= 15\n",
      "start year= 1963 member= 16\n",
      "start year= 1963 member= 17\n",
      "start year= 1963 member= 18\n",
      "start year= 1963 member= 19\n",
      "start year= 1963 member= 20\n",
      "start year= 1963 member= 21\n",
      "start year= 1963 member= 22\n",
      "start year= 1963 member= 23\n",
      "start year= 1963 member= 24\n",
      "start year= 1963 member= 25\n",
      "start year= 1963 member= 26\n",
      "start year= 1963 member= 27\n",
      "start year= 1963 member= 28\n",
      "start year= 1963 member= 29\n",
      "start year= 1963 member= 30\n",
      "start year= 1963 member= 31\n",
      "start year= 1963 member= 32\n",
      "start year= 1963 member= 33\n",
      "start year= 1963 member= 34\n",
      "start year= 1963 member= 35\n",
      "start year= 1963 member= 36\n",
      "start year= 1963 member= 37\n",
      "start year= 1963 member= 38\n",
      "start year= 1963 member= 39\n",
      "start year= 1963 member= 40\n",
      "start year= 1964 member= 1\n"
     ]
    },
    {
     "name": "stderr",
     "output_type": "stream",
     "text": [
      "distributed.core - ERROR - Exception while handling op heartbeat_worker\n",
      "Traceback (most recent call last):\n",
      "  File \"/glade/work/kristenk/miniconda/envs/analysis4/lib/python3.7/site-packages/distributed/core.py\", line 493, in handle_comm\n",
      "    result = handler(comm, **msg)\n",
      "  File \"/glade/work/kristenk/miniconda/envs/analysis4/lib/python3.7/site-packages/distributed/scheduler.py\", line 2197, in heartbeat_worker\n",
      "    self.tasks[key]: duration for key, duration in executing.items()\n",
      "  File \"/glade/work/kristenk/miniconda/envs/analysis4/lib/python3.7/site-packages/distributed/scheduler.py\", line 2197, in <dictcomp>\n",
      "    self.tasks[key]: duration for key, duration in executing.items()\n",
      "KeyError: \"('open_dataset-f722477d987b7446faa5764ed7194833DYU-2223cbb99e2ac792ca44bf07b8892942', 0, 0)\"\n"
     ]
    },
    {
     "name": "stdout",
     "output_type": "stream",
     "text": [
      "start year= 1964 member= 2\n",
      "start year= 1964 member= 3\n",
      "start year= 1964 member= 4\n",
      "start year= 1964 member= 5\n",
      "start year= 1964 member= 6\n",
      "start year= 1964 member= 7\n",
      "start year= 1964 member= 8\n",
      "start year= 1964 member= 9\n",
      "start year= 1964 member= 10\n",
      "start year= 1964 member= 11\n",
      "start year= 1964 member= 12\n",
      "start year= 1964 member= 13\n",
      "start year= 1964 member= 14\n",
      "start year= 1964 member= 15\n",
      "start year= 1964 member= 16\n",
      "start year= 1964 member= 17\n"
     ]
    },
    {
     "name": "stderr",
     "output_type": "stream",
     "text": [
      "distributed.core - ERROR - Exception while handling op heartbeat_worker\n",
      "Traceback (most recent call last):\n",
      "  File \"/glade/work/kristenk/miniconda/envs/analysis4/lib/python3.7/site-packages/distributed/core.py\", line 493, in handle_comm\n",
      "    result = handler(comm, **msg)\n",
      "  File \"/glade/work/kristenk/miniconda/envs/analysis4/lib/python3.7/site-packages/distributed/scheduler.py\", line 2197, in heartbeat_worker\n",
      "    self.tasks[key]: duration for key, duration in executing.items()\n",
      "  File \"/glade/work/kristenk/miniconda/envs/analysis4/lib/python3.7/site-packages/distributed/scheduler.py\", line 2197, in <dictcomp>\n",
      "    self.tasks[key]: duration for key, duration in executing.items()\n",
      "KeyError: \"('open_dataset-7fb18be87fd3383865840d2290da5f6cDYT-6e3641a1b759be1a64e78c81057082cf', 0, 0)\"\n",
      "distributed.core - ERROR - Exception while handling op heartbeat_worker\n",
      "Traceback (most recent call last):\n",
      "  File \"/glade/work/kristenk/miniconda/envs/analysis4/lib/python3.7/site-packages/distributed/core.py\", line 493, in handle_comm\n",
      "    result = handler(comm, **msg)\n",
      "  File \"/glade/work/kristenk/miniconda/envs/analysis4/lib/python3.7/site-packages/distributed/scheduler.py\", line 2197, in heartbeat_worker\n",
      "    self.tasks[key]: duration for key, duration in executing.items()\n",
      "  File \"/glade/work/kristenk/miniconda/envs/analysis4/lib/python3.7/site-packages/distributed/scheduler.py\", line 2197, in <dictcomp>\n",
      "    self.tasks[key]: duration for key, duration in executing.items()\n",
      "KeyError: \"('open_dataset-7fb18be87fd3383865840d2290da5f6cDXU-9c1efc58d4184870228bc5804c193a6a', 0, 0)\"\n"
     ]
    },
    {
     "name": "stdout",
     "output_type": "stream",
     "text": [
      "start year= 1964 member= 18\n",
      "start year= 1964 member= 19\n",
      "start year= 1964 member= 20\n",
      "start year= 1964 member= 21\n",
      "start year= 1964 member= 22\n",
      "start year= 1964 member= 23\n",
      "start year= 1964 member= 24\n",
      "start year= 1964 member= 25\n",
      "start year= 1964 member= 26\n"
     ]
    },
    {
     "name": "stderr",
     "output_type": "stream",
     "text": [
      "distributed.core - ERROR - Exception while handling op heartbeat_worker\n",
      "Traceback (most recent call last):\n",
      "  File \"/glade/work/kristenk/miniconda/envs/analysis4/lib/python3.7/site-packages/distributed/core.py\", line 493, in handle_comm\n",
      "    result = handler(comm, **msg)\n",
      "  File \"/glade/work/kristenk/miniconda/envs/analysis4/lib/python3.7/site-packages/distributed/scheduler.py\", line 2197, in heartbeat_worker\n",
      "    self.tasks[key]: duration for key, duration in executing.items()\n",
      "  File \"/glade/work/kristenk/miniconda/envs/analysis4/lib/python3.7/site-packages/distributed/scheduler.py\", line 2197, in <dictcomp>\n",
      "    self.tasks[key]: duration for key, duration in executing.items()\n",
      "KeyError: \"('open_dataset-b94023dd57dd12edfd0094a59bc7a5f9DXT-dc64633b1455f3d767a67e96e6cda02e', 0, 0)\"\n"
     ]
    },
    {
     "name": "stdout",
     "output_type": "stream",
     "text": [
      "start year= 1964 member= 27\n",
      "start year= 1964 member= 28\n",
      "start year= 1964 member= 29\n",
      "start year= 1964 member= 30\n",
      "start year= 1964 member= 31\n",
      "start year= 1964 member= 32\n",
      "start year= 1964 member= 33\n",
      "start year= 1964 member= 34\n",
      "start year= 1964 member= 35\n",
      "start year= 1964 member= 36\n",
      "start year= 1964 member= 37\n"
     ]
    },
    {
     "name": "stderr",
     "output_type": "stream",
     "text": [
      "distributed.core - ERROR - Exception while handling op heartbeat_worker\n",
      "Traceback (most recent call last):\n",
      "  File \"/glade/work/kristenk/miniconda/envs/analysis4/lib/python3.7/site-packages/distributed/core.py\", line 493, in handle_comm\n",
      "    result = handler(comm, **msg)\n",
      "  File \"/glade/work/kristenk/miniconda/envs/analysis4/lib/python3.7/site-packages/distributed/scheduler.py\", line 2197, in heartbeat_worker\n",
      "    self.tasks[key]: duration for key, duration in executing.items()\n",
      "  File \"/glade/work/kristenk/miniconda/envs/analysis4/lib/python3.7/site-packages/distributed/scheduler.py\", line 2197, in <dictcomp>\n",
      "    self.tasks[key]: duration for key, duration in executing.items()\n",
      "KeyError: \"('open_dataset-3d77032de631f1ec0bed93b4f975b98eDYT-c4fe7643afa199758c691a86e6d08408', 0, 0)\"\n"
     ]
    },
    {
     "name": "stdout",
     "output_type": "stream",
     "text": [
      "start year= 1964 member= 38\n",
      "start year= 1964 member= 39\n",
      "start year= 1964 member= 40\n",
      "start year= 1965 member= 1\n",
      "start year= 1965 member= 2\n",
      "start year= 1965 member= 3\n",
      "start year= 1965 member= 4\n"
     ]
    },
    {
     "name": "stderr",
     "output_type": "stream",
     "text": [
      "distributed.core - ERROR - Exception while handling op heartbeat_worker\n",
      "Traceback (most recent call last):\n",
      "  File \"/glade/work/kristenk/miniconda/envs/analysis4/lib/python3.7/site-packages/distributed/core.py\", line 493, in handle_comm\n",
      "    result = handler(comm, **msg)\n",
      "  File \"/glade/work/kristenk/miniconda/envs/analysis4/lib/python3.7/site-packages/distributed/scheduler.py\", line 2197, in heartbeat_worker\n",
      "    self.tasks[key]: duration for key, duration in executing.items()\n",
      "  File \"/glade/work/kristenk/miniconda/envs/analysis4/lib/python3.7/site-packages/distributed/scheduler.py\", line 2197, in <dictcomp>\n",
      "    self.tasks[key]: duration for key, duration in executing.items()\n",
      "KeyError: \"('open_dataset-b93a8ba12493b1c52266658ff793a303DXU-649dc5f6533cbf2c3f28326d2fb5cced', 0, 0)\"\n",
      "distributed.core - ERROR - Exception while handling op heartbeat_worker\n",
      "Traceback (most recent call last):\n",
      "  File \"/glade/work/kristenk/miniconda/envs/analysis4/lib/python3.7/site-packages/distributed/core.py\", line 493, in handle_comm\n",
      "    result = handler(comm, **msg)\n",
      "  File \"/glade/work/kristenk/miniconda/envs/analysis4/lib/python3.7/site-packages/distributed/scheduler.py\", line 2197, in heartbeat_worker\n",
      "    self.tasks[key]: duration for key, duration in executing.items()\n",
      "  File \"/glade/work/kristenk/miniconda/envs/analysis4/lib/python3.7/site-packages/distributed/scheduler.py\", line 2197, in <dictcomp>\n",
      "    self.tasks[key]: duration for key, duration in executing.items()\n",
      "KeyError: \"('open_dataset-b93a8ba12493b1c52266658ff793a303DYT-b6ec87d8b77d6ea1564d5ecabd90ae40', 0, 0)\"\n",
      "distributed.core - ERROR - Exception while handling op heartbeat_worker\n",
      "Traceback (most recent call last):\n",
      "  File \"/glade/work/kristenk/miniconda/envs/analysis4/lib/python3.7/site-packages/distributed/core.py\", line 493, in handle_comm\n",
      "    result = handler(comm, **msg)\n",
      "  File \"/glade/work/kristenk/miniconda/envs/analysis4/lib/python3.7/site-packages/distributed/scheduler.py\", line 2197, in heartbeat_worker\n",
      "    self.tasks[key]: duration for key, duration in executing.items()\n",
      "  File \"/glade/work/kristenk/miniconda/envs/analysis4/lib/python3.7/site-packages/distributed/scheduler.py\", line 2197, in <dictcomp>\n",
      "    self.tasks[key]: duration for key, duration in executing.items()\n",
      "KeyError: \"('open_dataset-b93a8ba12493b1c52266658ff793a303HU-9a3640d0e3a7dae89e62db72ec145eb6', 0, 0)\"\n"
     ]
    },
    {
     "name": "stdout",
     "output_type": "stream",
     "text": [
      "start year= 1965 member= 5\n",
      "start year= 1965 member= 6\n",
      "start year= 1965 member= 7\n"
     ]
    },
    {
     "name": "stderr",
     "output_type": "stream",
     "text": [
      "distributed.core - ERROR - Exception while handling op heartbeat_worker\n",
      "Traceback (most recent call last):\n",
      "  File \"/glade/work/kristenk/miniconda/envs/analysis4/lib/python3.7/site-packages/distributed/core.py\", line 493, in handle_comm\n",
      "    result = handler(comm, **msg)\n",
      "  File \"/glade/work/kristenk/miniconda/envs/analysis4/lib/python3.7/site-packages/distributed/scheduler.py\", line 2197, in heartbeat_worker\n",
      "    self.tasks[key]: duration for key, duration in executing.items()\n",
      "  File \"/glade/work/kristenk/miniconda/envs/analysis4/lib/python3.7/site-packages/distributed/scheduler.py\", line 2197, in <dictcomp>\n",
      "    self.tasks[key]: duration for key, duration in executing.items()\n",
      "KeyError: \"('open_dataset-1b72c26c45fe79f1bff0ae953fd24be8DYT-1217625f4a0514ae02f0ff647c0d1bdb', 0, 0)\"\n"
     ]
    },
    {
     "name": "stdout",
     "output_type": "stream",
     "text": [
      "start year= 1965 member= 8\n",
      "start year= 1965 member= 9\n",
      "start year= 1965 member= 10\n",
      "start year= 1965 member= 11\n",
      "start year= 1965 member= 12\n",
      "start year= 1965 member= 13\n",
      "start year= 1965 member= 14\n",
      "start year= 1965 member= 15\n"
     ]
    },
    {
     "name": "stderr",
     "output_type": "stream",
     "text": [
      "distributed.core - ERROR - Exception while handling op heartbeat_worker\n",
      "Traceback (most recent call last):\n",
      "  File \"/glade/work/kristenk/miniconda/envs/analysis4/lib/python3.7/site-packages/distributed/core.py\", line 493, in handle_comm\n",
      "    result = handler(comm, **msg)\n",
      "  File \"/glade/work/kristenk/miniconda/envs/analysis4/lib/python3.7/site-packages/distributed/scheduler.py\", line 2197, in heartbeat_worker\n",
      "    self.tasks[key]: duration for key, duration in executing.items()\n",
      "  File \"/glade/work/kristenk/miniconda/envs/analysis4/lib/python3.7/site-packages/distributed/scheduler.py\", line 2197, in <dictcomp>\n",
      "    self.tasks[key]: duration for key, duration in executing.items()\n",
      "KeyError: \"('open_dataset-204e5a9a8aadf428de740be8075944d7DYU-31f73ff78392ba73a94818c3c3b6cdd0', 0, 0)\"\n"
     ]
    },
    {
     "name": "stdout",
     "output_type": "stream",
     "text": [
      "start year= 1965 member= 16\n",
      "start year= 1965 member= 17\n",
      "start year= 1965 member= 18\n",
      "start year= 1965 member= 19\n",
      "start year= 1965 member= 20\n",
      "start year= 1965 member= 21\n",
      "start year= 1965 member= 22\n",
      "start year= 1965 member= 23\n",
      "start year= 1965 member= 24\n",
      "start year= 1965 member= 25\n",
      "start year= 1965 member= 26\n",
      "start year= 1965 member= 27\n",
      "start year= 1965 member= 28\n",
      "start year= 1965 member= 29\n",
      "start year= 1965 member= 30\n",
      "start year= 1965 member= 31\n",
      "start year= 1965 member= 32\n",
      "start year= 1965 member= 33\n",
      "start year= 1965 member= 34\n",
      "start year= 1965 member= 35\n",
      "start year= 1965 member= 36\n",
      "start year= 1965 member= 37\n",
      "start year= 1965 member= 38\n",
      "start year= 1965 member= 39\n",
      "start year= 1965 member= 40\n",
      "start year= 1966 member= 1\n",
      "start year= 1966 member= 2\n",
      "start year= 1966 member= 3\n"
     ]
    },
    {
     "name": "stderr",
     "output_type": "stream",
     "text": [
      "distributed.core - ERROR - Exception while handling op heartbeat_worker\n",
      "Traceback (most recent call last):\n",
      "  File \"/glade/work/kristenk/miniconda/envs/analysis4/lib/python3.7/site-packages/distributed/core.py\", line 493, in handle_comm\n",
      "    result = handler(comm, **msg)\n",
      "  File \"/glade/work/kristenk/miniconda/envs/analysis4/lib/python3.7/site-packages/distributed/scheduler.py\", line 2197, in heartbeat_worker\n",
      "    self.tasks[key]: duration for key, duration in executing.items()\n",
      "  File \"/glade/work/kristenk/miniconda/envs/analysis4/lib/python3.7/site-packages/distributed/scheduler.py\", line 2197, in <dictcomp>\n",
      "    self.tasks[key]: duration for key, duration in executing.items()\n",
      "KeyError: \"('open_dataset-3454cc2222c0b1cfe4c940618f9868c6DXT-3ae916e6fa695b6010ce9b3203935af2', 0, 0)\"\n"
     ]
    },
    {
     "name": "stdout",
     "output_type": "stream",
     "text": [
      "start year= 1966 member= 4\n",
      "start year= 1966 member= 5\n",
      "start year= 1966 member= 6\n",
      "start year= 1966 member= 7\n",
      "start year= 1966 member= 8\n",
      "start year= 1966 member= 9\n",
      "start year= 1966 member= 10\n",
      "start year= 1966 member= 11\n",
      "start year= 1966 member= 12\n",
      "start year= 1966 member= 13\n",
      "start year= 1966 member= 14\n",
      "start year= 1966 member= 15\n",
      "start year= 1966 member= 16\n",
      "start year= 1966 member= 17\n",
      "start year= 1966 member= 18\n",
      "start year= 1966 member= 19\n",
      "start year= 1966 member= 20\n",
      "start year= 1966 member= 21\n",
      "start year= 1966 member= 22\n",
      "start year= 1966 member= 23\n",
      "start year= 1966 member= 24\n",
      "start year= 1966 member= 25\n",
      "start year= 1966 member= 26\n",
      "start year= 1966 member= 27\n",
      "start year= 1966 member= 28\n",
      "start year= 1966 member= 29\n",
      "start year= 1966 member= 30\n",
      "start year= 1966 member= 31\n",
      "start year= 1966 member= 32\n",
      "start year= 1966 member= 33\n",
      "start year= 1966 member= 34\n",
      "start year= 1966 member= 35\n",
      "start year= 1966 member= 36\n",
      "start year= 1966 member= 37\n",
      "start year= 1966 member= 38\n",
      "start year= 1966 member= 39\n",
      "start year= 1966 member= 40\n",
      "start year= 1967 member= 1\n",
      "start year= 1967 member= 2\n",
      "start year= 1967 member= 3\n",
      "start year= 1967 member= 4\n",
      "start year= 1967 member= 5\n",
      "start year= 1967 member= 6\n",
      "start year= 1967 member= 7\n",
      "start year= 1967 member= 8\n",
      "start year= 1967 member= 9\n",
      "start year= 1967 member= 10\n",
      "start year= 1967 member= 11\n",
      "start year= 1967 member= 12\n"
     ]
    },
    {
     "name": "stderr",
     "output_type": "stream",
     "text": [
      "distributed.core - ERROR - Exception while handling op heartbeat_worker\n",
      "Traceback (most recent call last):\n",
      "  File \"/glade/work/kristenk/miniconda/envs/analysis4/lib/python3.7/site-packages/distributed/core.py\", line 493, in handle_comm\n",
      "    result = handler(comm, **msg)\n",
      "  File \"/glade/work/kristenk/miniconda/envs/analysis4/lib/python3.7/site-packages/distributed/scheduler.py\", line 2197, in heartbeat_worker\n",
      "    self.tasks[key]: duration for key, duration in executing.items()\n",
      "  File \"/glade/work/kristenk/miniconda/envs/analysis4/lib/python3.7/site-packages/distributed/scheduler.py\", line 2197, in <dictcomp>\n",
      "    self.tasks[key]: duration for key, duration in executing.items()\n",
      "KeyError: \"('open_dataset-23c44fb260ba1ea8ac03779f9b9b1335DYU-68c4b2d0a91b0727f55c9c3019c18810', 0, 0)\"\n"
     ]
    },
    {
     "name": "stdout",
     "output_type": "stream",
     "text": [
      "start year= 1967 member= 13\n",
      "start year= 1967 member= 14\n",
      "start year= 1967 member= 15\n",
      "start year= 1967 member= 16\n",
      "start year= 1967 member= 17\n",
      "start year= 1967 member= 18\n",
      "start year= 1967 member= 19\n",
      "start year= 1967 member= 20\n",
      "start year= 1967 member= 21\n",
      "start year= 1967 member= 22\n",
      "start year= 1967 member= 23\n",
      "start year= 1967 member= 24\n",
      "start year= 1967 member= 25\n",
      "start year= 1967 member= 26\n",
      "start year= 1967 member= 27\n",
      "start year= 1967 member= 28\n",
      "start year= 1967 member= 29\n",
      "start year= 1967 member= 30\n",
      "start year= 1967 member= 31\n",
      "start year= 1967 member= 32\n",
      "start year= 1967 member= 33\n",
      "start year= 1967 member= 34\n",
      "start year= 1967 member= 35\n",
      "start year= 1967 member= 36\n"
     ]
    },
    {
     "name": "stderr",
     "output_type": "stream",
     "text": [
      "distributed.core - ERROR - Exception while handling op heartbeat_worker\n",
      "Traceback (most recent call last):\n",
      "  File \"/glade/work/kristenk/miniconda/envs/analysis4/lib/python3.7/site-packages/distributed/core.py\", line 493, in handle_comm\n",
      "    result = handler(comm, **msg)\n",
      "  File \"/glade/work/kristenk/miniconda/envs/analysis4/lib/python3.7/site-packages/distributed/scheduler.py\", line 2197, in heartbeat_worker\n",
      "    self.tasks[key]: duration for key, duration in executing.items()\n",
      "  File \"/glade/work/kristenk/miniconda/envs/analysis4/lib/python3.7/site-packages/distributed/scheduler.py\", line 2197, in <dictcomp>\n",
      "    self.tasks[key]: duration for key, duration in executing.items()\n",
      "KeyError: \"('open_dataset-238eb0cb993b82020b6a63c424804305HT-903a1eb84f93e5f96f5697828960d10a', 0, 0)\"\n"
     ]
    },
    {
     "name": "stdout",
     "output_type": "stream",
     "text": [
      "start year= 1967 member= 37\n",
      "start year= 1967 member= 38\n",
      "start year= 1967 member= 39\n",
      "start year= 1967 member= 40\n",
      "start year= 1968 member= 1\n",
      "start year= 1968 member= 2\n",
      "start year= 1968 member= 3\n",
      "start year= 1968 member= 4\n",
      "start year= 1968 member= 5\n",
      "start year= 1968 member= 6\n",
      "start year= 1968 member= 7\n",
      "start year= 1968 member= 8\n",
      "start year= 1968 member= 9\n",
      "start year= 1968 member= 10\n",
      "start year= 1968 member= 11\n",
      "start year= 1968 member= 12\n",
      "start year= 1968 member= 13\n",
      "start year= 1968 member= 14\n",
      "start year= 1968 member= 15\n"
     ]
    },
    {
     "name": "stderr",
     "output_type": "stream",
     "text": [
      "distributed.core - ERROR - Exception while handling op heartbeat_worker\n",
      "Traceback (most recent call last):\n",
      "  File \"/glade/work/kristenk/miniconda/envs/analysis4/lib/python3.7/site-packages/distributed/core.py\", line 493, in handle_comm\n",
      "    result = handler(comm, **msg)\n",
      "  File \"/glade/work/kristenk/miniconda/envs/analysis4/lib/python3.7/site-packages/distributed/scheduler.py\", line 2197, in heartbeat_worker\n",
      "    self.tasks[key]: duration for key, duration in executing.items()\n",
      "  File \"/glade/work/kristenk/miniconda/envs/analysis4/lib/python3.7/site-packages/distributed/scheduler.py\", line 2197, in <dictcomp>\n",
      "    self.tasks[key]: duration for key, duration in executing.items()\n",
      "KeyError: \"('open_dataset-5f70c4e35026e7866dd379cd12f22e95DYT-0d8ae76689d107450e5ce3e5289190d3', 0, 0)\"\n",
      "distributed.core - ERROR - Exception while handling op heartbeat_worker\n",
      "Traceback (most recent call last):\n",
      "  File \"/glade/work/kristenk/miniconda/envs/analysis4/lib/python3.7/site-packages/distributed/core.py\", line 493, in handle_comm\n",
      "    result = handler(comm, **msg)\n",
      "  File \"/glade/work/kristenk/miniconda/envs/analysis4/lib/python3.7/site-packages/distributed/scheduler.py\", line 2197, in heartbeat_worker\n",
      "    self.tasks[key]: duration for key, duration in executing.items()\n",
      "  File \"/glade/work/kristenk/miniconda/envs/analysis4/lib/python3.7/site-packages/distributed/scheduler.py\", line 2197, in <dictcomp>\n",
      "    self.tasks[key]: duration for key, duration in executing.items()\n",
      "KeyError: \"('open_dataset-5f70c4e35026e7866dd379cd12f22e95DXU-9abc5d8e33e42df314e0973f4653980d', 0, 0)\"\n"
     ]
    },
    {
     "name": "stdout",
     "output_type": "stream",
     "text": [
      "start year= 1968 member= 16\n",
      "start year= 1968 member= 17\n",
      "start year= 1968 member= 18\n",
      "start year= 1968 member= 19\n",
      "start year= 1968 member= 20\n",
      "start year= 1968 member= 21\n",
      "start year= 1968 member= 22\n",
      "start year= 1968 member= 23\n",
      "start year= 1968 member= 24\n"
     ]
    },
    {
     "name": "stderr",
     "output_type": "stream",
     "text": [
      "distributed.core - ERROR - Exception while handling op heartbeat_worker\n",
      "Traceback (most recent call last):\n",
      "  File \"/glade/work/kristenk/miniconda/envs/analysis4/lib/python3.7/site-packages/distributed/core.py\", line 493, in handle_comm\n",
      "    result = handler(comm, **msg)\n",
      "  File \"/glade/work/kristenk/miniconda/envs/analysis4/lib/python3.7/site-packages/distributed/scheduler.py\", line 2197, in heartbeat_worker\n",
      "    self.tasks[key]: duration for key, duration in executing.items()\n",
      "  File \"/glade/work/kristenk/miniconda/envs/analysis4/lib/python3.7/site-packages/distributed/scheduler.py\", line 2197, in <dictcomp>\n",
      "    self.tasks[key]: duration for key, duration in executing.items()\n",
      "KeyError: \"('open_dataset-eda3a5ec05f91667a01c6f52e9666807HUS-d88c5b55f9e21b019495887ba0043ba1', 0, 0)\"\n",
      "distributed.core - ERROR - Exception while handling op heartbeat_worker\n",
      "Traceback (most recent call last):\n",
      "  File \"/glade/work/kristenk/miniconda/envs/analysis4/lib/python3.7/site-packages/distributed/core.py\", line 493, in handle_comm\n",
      "    result = handler(comm, **msg)\n",
      "  File \"/glade/work/kristenk/miniconda/envs/analysis4/lib/python3.7/site-packages/distributed/scheduler.py\", line 2197, in heartbeat_worker\n",
      "    self.tasks[key]: duration for key, duration in executing.items()\n",
      "  File \"/glade/work/kristenk/miniconda/envs/analysis4/lib/python3.7/site-packages/distributed/scheduler.py\", line 2197, in <dictcomp>\n",
      "    self.tasks[key]: duration for key, duration in executing.items()\n",
      "KeyError: \"('open_dataset-eda3a5ec05f91667a01c6f52e9666807HU-f327cd49c5e5eae7f065d5e671264557', 0, 0)\"\n",
      "distributed.core - ERROR - Exception while handling op heartbeat_worker\n",
      "Traceback (most recent call last):\n",
      "  File \"/glade/work/kristenk/miniconda/envs/analysis4/lib/python3.7/site-packages/distributed/core.py\", line 493, in handle_comm\n",
      "    result = handler(comm, **msg)\n",
      "  File \"/glade/work/kristenk/miniconda/envs/analysis4/lib/python3.7/site-packages/distributed/scheduler.py\", line 2197, in heartbeat_worker\n",
      "    self.tasks[key]: duration for key, duration in executing.items()\n",
      "  File \"/glade/work/kristenk/miniconda/envs/analysis4/lib/python3.7/site-packages/distributed/scheduler.py\", line 2197, in <dictcomp>\n",
      "    self.tasks[key]: duration for key, duration in executing.items()\n",
      "KeyError: \"('open_dataset-eda3a5ec05f91667a01c6f52e9666807DYT-56d75e905f54bb86350eb22142af61e5', 0, 0)\"\n",
      "distributed.core - ERROR - Exception while handling op heartbeat_worker\n",
      "Traceback (most recent call last):\n",
      "  File \"/glade/work/kristenk/miniconda/envs/analysis4/lib/python3.7/site-packages/distributed/core.py\", line 493, in handle_comm\n",
      "    result = handler(comm, **msg)\n",
      "  File \"/glade/work/kristenk/miniconda/envs/analysis4/lib/python3.7/site-packages/distributed/scheduler.py\", line 2197, in heartbeat_worker\n",
      "    self.tasks[key]: duration for key, duration in executing.items()\n",
      "  File \"/glade/work/kristenk/miniconda/envs/analysis4/lib/python3.7/site-packages/distributed/scheduler.py\", line 2197, in <dictcomp>\n",
      "    self.tasks[key]: duration for key, duration in executing.items()\n",
      "KeyError: \"('open_dataset-eda3a5ec05f91667a01c6f52e9666807DXU-ac1992b8a0b7b41893aafc7e83655322', 0, 0)\"\n"
     ]
    },
    {
     "name": "stdout",
     "output_type": "stream",
     "text": [
      "start year= 1968 member= 25\n",
      "start year= 1968 member= 26\n",
      "start year= 1968 member= 27\n",
      "start year= 1968 member= 28\n",
      "start year= 1968 member= 29\n",
      "start year= 1968 member= 30\n",
      "start year= 1968 member= 31\n",
      "start year= 1968 member= 32\n",
      "start year= 1968 member= 33\n"
     ]
    },
    {
     "name": "stderr",
     "output_type": "stream",
     "text": [
      "distributed.core - ERROR - Exception while handling op heartbeat_worker\n",
      "Traceback (most recent call last):\n",
      "  File \"/glade/work/kristenk/miniconda/envs/analysis4/lib/python3.7/site-packages/distributed/core.py\", line 493, in handle_comm\n",
      "    result = handler(comm, **msg)\n",
      "  File \"/glade/work/kristenk/miniconda/envs/analysis4/lib/python3.7/site-packages/distributed/scheduler.py\", line 2197, in heartbeat_worker\n",
      "    self.tasks[key]: duration for key, duration in executing.items()\n",
      "  File \"/glade/work/kristenk/miniconda/envs/analysis4/lib/python3.7/site-packages/distributed/scheduler.py\", line 2197, in <dictcomp>\n",
      "    self.tasks[key]: duration for key, duration in executing.items()\n",
      "KeyError: \"('open_dataset-d7e5b3d8bc9a6215797da4311fd55d58HUS-471cd6287c45525c4861de9e08fbda0b', 0, 0)\"\n",
      "distributed.core - ERROR - Exception while handling op heartbeat_worker\n",
      "Traceback (most recent call last):\n",
      "  File \"/glade/work/kristenk/miniconda/envs/analysis4/lib/python3.7/site-packages/distributed/core.py\", line 493, in handle_comm\n",
      "    result = handler(comm, **msg)\n",
      "  File \"/glade/work/kristenk/miniconda/envs/analysis4/lib/python3.7/site-packages/distributed/scheduler.py\", line 2197, in heartbeat_worker\n",
      "    self.tasks[key]: duration for key, duration in executing.items()\n",
      "  File \"/glade/work/kristenk/miniconda/envs/analysis4/lib/python3.7/site-packages/distributed/scheduler.py\", line 2197, in <dictcomp>\n",
      "    self.tasks[key]: duration for key, duration in executing.items()\n",
      "KeyError: \"('open_dataset-d7e5b3d8bc9a6215797da4311fd55d58DXU-7f42a4d4a6175985a675b053f30e024f', 0, 0)\"\n"
     ]
    },
    {
     "name": "stdout",
     "output_type": "stream",
     "text": [
      "start year= 1968 member= 34\n",
      "start year= 1968 member= 35\n",
      "start year= 1968 member= 36\n",
      "start year= 1968 member= 37\n",
      "start year= 1968 member= 38\n",
      "start year= 1968 member= 39\n",
      "start year= 1968 member= 40\n",
      "start year= 1969 member= 1\n",
      "start year= 1969 member= 2\n",
      "start year= 1969 member= 3\n",
      "start year= 1969 member= 4\n",
      "start year= 1969 member= 5\n",
      "start year= 1969 member= 6\n",
      "start year= 1969 member= 7\n",
      "start year= 1969 member= 8\n",
      "start year= 1969 member= 9\n",
      "start year= 1969 member= 10\n",
      "start year= 1969 member= 11\n",
      "start year= 1969 member= 12\n",
      "start year= 1969 member= 13\n",
      "start year= 1969 member= 14\n"
     ]
    },
    {
     "name": "stderr",
     "output_type": "stream",
     "text": [
      "distributed.core - ERROR - Exception while handling op heartbeat_worker\n",
      "Traceback (most recent call last):\n",
      "  File \"/glade/work/kristenk/miniconda/envs/analysis4/lib/python3.7/site-packages/distributed/core.py\", line 493, in handle_comm\n",
      "    result = handler(comm, **msg)\n",
      "  File \"/glade/work/kristenk/miniconda/envs/analysis4/lib/python3.7/site-packages/distributed/scheduler.py\", line 2197, in heartbeat_worker\n",
      "    self.tasks[key]: duration for key, duration in executing.items()\n",
      "  File \"/glade/work/kristenk/miniconda/envs/analysis4/lib/python3.7/site-packages/distributed/scheduler.py\", line 2197, in <dictcomp>\n",
      "    self.tasks[key]: duration for key, duration in executing.items()\n",
      "KeyError: \"('open_dataset-147fac76e7baad1d859383085dcbeef8HT-e7480ea5f730424e6e67cc66be39c8ff', 0, 0)\"\n",
      "distributed.core - ERROR - Exception while handling op heartbeat_worker\n",
      "Traceback (most recent call last):\n",
      "  File \"/glade/work/kristenk/miniconda/envs/analysis4/lib/python3.7/site-packages/distributed/core.py\", line 493, in handle_comm\n",
      "    result = handler(comm, **msg)\n",
      "  File \"/glade/work/kristenk/miniconda/envs/analysis4/lib/python3.7/site-packages/distributed/scheduler.py\", line 2197, in heartbeat_worker\n",
      "    self.tasks[key]: duration for key, duration in executing.items()\n",
      "  File \"/glade/work/kristenk/miniconda/envs/analysis4/lib/python3.7/site-packages/distributed/scheduler.py\", line 2197, in <dictcomp>\n",
      "    self.tasks[key]: duration for key, duration in executing.items()\n",
      "KeyError: \"('open_dataset-147fac76e7baad1d859383085dcbeef8HTE-cf8ff7059f9ebbf2d8eb72552d3a2a97', 0, 0)\"\n"
     ]
    },
    {
     "name": "stdout",
     "output_type": "stream",
     "text": [
      "start year= 1969 member= 15\n",
      "start year= 1969 member= 16\n",
      "start year= 1969 member= 17\n",
      "start year= 1969 member= 18\n",
      "start year= 1969 member= 19\n",
      "start year= 1969 member= 20\n",
      "start year= 1969 member= 21\n",
      "start year= 1969 member= 22\n",
      "start year= 1969 member= 23\n",
      "start year= 1969 member= 24\n",
      "start year= 1969 member= 25\n",
      "start year= 1969 member= 26\n",
      "start year= 1969 member= 27\n",
      "start year= 1969 member= 28\n",
      "start year= 1969 member= 29\n",
      "start year= 1969 member= 30\n",
      "start year= 1969 member= 31\n",
      "start year= 1969 member= 32\n",
      "start year= 1969 member= 33\n",
      "start year= 1969 member= 34\n",
      "start year= 1969 member= 35\n",
      "start year= 1969 member= 36\n",
      "start year= 1969 member= 37\n",
      "start year= 1969 member= 38\n",
      "start year= 1969 member= 39\n",
      "start year= 1969 member= 40\n",
      "start year= 1970 member= 1\n",
      "start year= 1970 member= 2\n"
     ]
    },
    {
     "name": "stderr",
     "output_type": "stream",
     "text": [
      "distributed.core - ERROR - Exception while handling op heartbeat_worker\n",
      "Traceback (most recent call last):\n",
      "  File \"/glade/work/kristenk/miniconda/envs/analysis4/lib/python3.7/site-packages/distributed/core.py\", line 493, in handle_comm\n",
      "    result = handler(comm, **msg)\n",
      "  File \"/glade/work/kristenk/miniconda/envs/analysis4/lib/python3.7/site-packages/distributed/scheduler.py\", line 2197, in heartbeat_worker\n",
      "    self.tasks[key]: duration for key, duration in executing.items()\n",
      "  File \"/glade/work/kristenk/miniconda/envs/analysis4/lib/python3.7/site-packages/distributed/scheduler.py\", line 2197, in <dictcomp>\n",
      "    self.tasks[key]: duration for key, duration in executing.items()\n",
      "KeyError: \"('open_dataset-7010e8874eb059d0b7f69394a9501d62DXU-144ede9aca310e25ae8a310f736c0708', 0, 0)\"\n"
     ]
    },
    {
     "name": "stdout",
     "output_type": "stream",
     "text": [
      "start year= 1970 member= 3\n",
      "start year= 1970 member= 4\n",
      "start year= 1970 member= 5\n",
      "start year= 1970 member= 6\n",
      "start year= 1970 member= 7\n",
      "start year= 1970 member= 8\n",
      "start year= 1970 member= 9\n",
      "start year= 1970 member= 10\n",
      "start year= 1970 member= 11\n",
      "start year= 1970 member= 12\n",
      "start year= 1970 member= 13\n",
      "start year= 1970 member= 14\n",
      "start year= 1970 member= 15\n",
      "start year= 1970 member= 16\n",
      "start year= 1970 member= 17\n",
      "start year= 1970 member= 18\n",
      "start year= 1970 member= 19\n",
      "start year= 1970 member= 20\n",
      "start year= 1970 member= 21\n",
      "start year= 1970 member= 22\n",
      "start year= 1970 member= 23\n",
      "start year= 1970 member= 24\n",
      "start year= 1970 member= 25\n",
      "start year= 1970 member= 26\n",
      "start year= 1970 member= 27\n",
      "start year= 1970 member= 28\n",
      "start year= 1970 member= 29\n",
      "start year= 1970 member= 30\n",
      "start year= 1970 member= 31\n",
      "start year= 1970 member= 32\n",
      "start year= 1970 member= 33\n",
      "start year= 1970 member= 34\n",
      "start year= 1970 member= 35\n",
      "start year= 1970 member= 36\n",
      "start year= 1970 member= 37\n",
      "start year= 1970 member= 38\n",
      "start year= 1970 member= 39\n",
      "start year= 1970 member= 40\n",
      "start year= 1971 member= 1\n",
      "start year= 1971 member= 2\n",
      "start year= 1971 member= 3\n",
      "start year= 1971 member= 4\n",
      "start year= 1971 member= 5\n",
      "start year= 1971 member= 6\n",
      "start year= 1971 member= 7\n",
      "start year= 1971 member= 8\n",
      "start year= 1971 member= 9\n",
      "start year= 1971 member= 10\n",
      "start year= 1971 member= 11\n",
      "start year= 1971 member= 12\n",
      "start year= 1971 member= 13\n",
      "start year= 1971 member= 14\n",
      "start year= 1971 member= 15\n",
      "start year= 1971 member= 16\n",
      "start year= 1971 member= 17\n",
      "start year= 1971 member= 18\n",
      "start year= 1971 member= 19\n",
      "start year= 1971 member= 20\n"
     ]
    },
    {
     "name": "stderr",
     "output_type": "stream",
     "text": [
      "distributed.core - ERROR - Exception while handling op heartbeat_worker\n",
      "Traceback (most recent call last):\n",
      "  File \"/glade/work/kristenk/miniconda/envs/analysis4/lib/python3.7/site-packages/distributed/core.py\", line 493, in handle_comm\n",
      "    result = handler(comm, **msg)\n",
      "  File \"/glade/work/kristenk/miniconda/envs/analysis4/lib/python3.7/site-packages/distributed/scheduler.py\", line 2197, in heartbeat_worker\n",
      "    self.tasks[key]: duration for key, duration in executing.items()\n",
      "  File \"/glade/work/kristenk/miniconda/envs/analysis4/lib/python3.7/site-packages/distributed/scheduler.py\", line 2197, in <dictcomp>\n",
      "    self.tasks[key]: duration for key, duration in executing.items()\n",
      "KeyError: \"('open_dataset-1dd3f6e033c2766ad73ccc50b424d661DYT-3bd2bd769e27cc1e473272513de33579', 0, 0)\"\n"
     ]
    },
    {
     "name": "stdout",
     "output_type": "stream",
     "text": [
      "start year= 1971 member= 21\n",
      "start year= 1971 member= 22\n",
      "start year= 1971 member= 23\n"
     ]
    },
    {
     "name": "stderr",
     "output_type": "stream",
     "text": [
      "distributed.core - ERROR - Exception while handling op heartbeat_worker\n",
      "Traceback (most recent call last):\n",
      "  File \"/glade/work/kristenk/miniconda/envs/analysis4/lib/python3.7/site-packages/distributed/core.py\", line 493, in handle_comm\n",
      "    result = handler(comm, **msg)\n",
      "  File \"/glade/work/kristenk/miniconda/envs/analysis4/lib/python3.7/site-packages/distributed/scheduler.py\", line 2197, in heartbeat_worker\n",
      "    self.tasks[key]: duration for key, duration in executing.items()\n",
      "  File \"/glade/work/kristenk/miniconda/envs/analysis4/lib/python3.7/site-packages/distributed/scheduler.py\", line 2197, in <dictcomp>\n",
      "    self.tasks[key]: duration for key, duration in executing.items()\n",
      "KeyError: \"('open_dataset-523f6388466280819c9250db4e22cfe8DYT-dd737d07d9d13534144116237ae938d2', 0, 0)\"\n"
     ]
    },
    {
     "name": "stdout",
     "output_type": "stream",
     "text": [
      "start year= 1971 member= 24\n",
      "start year= 1971 member= 25\n",
      "start year= 1971 member= 26\n",
      "start year= 1971 member= 27\n",
      "start year= 1971 member= 28\n",
      "start year= 1971 member= 29\n",
      "start year= 1971 member= 30\n",
      "start year= 1971 member= 31\n",
      "start year= 1971 member= 32\n",
      "start year= 1971 member= 33\n",
      "start year= 1971 member= 34\n",
      "start year= 1971 member= 35\n",
      "start year= 1971 member= 36\n",
      "start year= 1971 member= 37\n"
     ]
    },
    {
     "name": "stderr",
     "output_type": "stream",
     "text": [
      "distributed.core - ERROR - Exception while handling op heartbeat_worker\n",
      "Traceback (most recent call last):\n",
      "  File \"/glade/work/kristenk/miniconda/envs/analysis4/lib/python3.7/site-packages/distributed/core.py\", line 493, in handle_comm\n",
      "    result = handler(comm, **msg)\n",
      "  File \"/glade/work/kristenk/miniconda/envs/analysis4/lib/python3.7/site-packages/distributed/scheduler.py\", line 2197, in heartbeat_worker\n",
      "    self.tasks[key]: duration for key, duration in executing.items()\n",
      "  File \"/glade/work/kristenk/miniconda/envs/analysis4/lib/python3.7/site-packages/distributed/scheduler.py\", line 2197, in <dictcomp>\n",
      "    self.tasks[key]: duration for key, duration in executing.items()\n",
      "KeyError: \"('open_dataset-92835ee596d318103cfc5822828c733aDYT-963314f06115b96cbfa5ef38d850e187', 0, 0)\"\n"
     ]
    },
    {
     "name": "stdout",
     "output_type": "stream",
     "text": [
      "start year= 1971 member= 38\n",
      "start year= 1971 member= 39\n",
      "start year= 1971 member= 40\n",
      "start year= 1972 member= 1\n"
     ]
    },
    {
     "name": "stderr",
     "output_type": "stream",
     "text": [
      "distributed.core - ERROR - Exception while handling op heartbeat_worker\n",
      "Traceback (most recent call last):\n",
      "  File \"/glade/work/kristenk/miniconda/envs/analysis4/lib/python3.7/site-packages/distributed/core.py\", line 493, in handle_comm\n",
      "    result = handler(comm, **msg)\n",
      "  File \"/glade/work/kristenk/miniconda/envs/analysis4/lib/python3.7/site-packages/distributed/scheduler.py\", line 2197, in heartbeat_worker\n",
      "    self.tasks[key]: duration for key, duration in executing.items()\n",
      "  File \"/glade/work/kristenk/miniconda/envs/analysis4/lib/python3.7/site-packages/distributed/scheduler.py\", line 2197, in <dictcomp>\n",
      "    self.tasks[key]: duration for key, duration in executing.items()\n",
      "KeyError: \"('open_dataset-026231915814c7e2e96c4ea2821f011fHT-21262c4f99ee208b7ac274d7e54c32c6', 0, 0)\"\n"
     ]
    },
    {
     "name": "stdout",
     "output_type": "stream",
     "text": [
      "start year= 1972 member= 2\n",
      "start year= 1972 member= 3\n",
      "start year= 1972 member= 4\n",
      "start year= 1972 member= 5\n",
      "start year= 1972 member= 6\n"
     ]
    },
    {
     "name": "stderr",
     "output_type": "stream",
     "text": [
      "distributed.core - ERROR - Exception while handling op heartbeat_worker\n",
      "Traceback (most recent call last):\n",
      "  File \"/glade/work/kristenk/miniconda/envs/analysis4/lib/python3.7/site-packages/distributed/core.py\", line 493, in handle_comm\n",
      "    result = handler(comm, **msg)\n",
      "  File \"/glade/work/kristenk/miniconda/envs/analysis4/lib/python3.7/site-packages/distributed/scheduler.py\", line 2197, in heartbeat_worker\n",
      "    self.tasks[key]: duration for key, duration in executing.items()\n",
      "  File \"/glade/work/kristenk/miniconda/envs/analysis4/lib/python3.7/site-packages/distributed/scheduler.py\", line 2197, in <dictcomp>\n",
      "    self.tasks[key]: duration for key, duration in executing.items()\n",
      "KeyError: \"('open_dataset-1a66f8cb0eb2e42301c2c27b2c674cc7DXT-ca72b2165b05adbcb5193734290774b6', 0, 0)\"\n"
     ]
    },
    {
     "name": "stdout",
     "output_type": "stream",
     "text": [
      "start year= 1972 member= 7\n",
      "start year= 1972 member= 8\n"
     ]
    },
    {
     "name": "stderr",
     "output_type": "stream",
     "text": [
      "distributed.core - ERROR - Exception while handling op heartbeat_worker\n",
      "Traceback (most recent call last):\n",
      "  File \"/glade/work/kristenk/miniconda/envs/analysis4/lib/python3.7/site-packages/distributed/core.py\", line 493, in handle_comm\n",
      "    result = handler(comm, **msg)\n",
      "  File \"/glade/work/kristenk/miniconda/envs/analysis4/lib/python3.7/site-packages/distributed/scheduler.py\", line 2197, in heartbeat_worker\n",
      "    self.tasks[key]: duration for key, duration in executing.items()\n",
      "  File \"/glade/work/kristenk/miniconda/envs/analysis4/lib/python3.7/site-packages/distributed/scheduler.py\", line 2197, in <dictcomp>\n",
      "    self.tasks[key]: duration for key, duration in executing.items()\n",
      "KeyError: \"('open_dataset-55beec98bf25b358aea513655794fa69DYT-adf4a4a57cc5e2a235cc3be083e85b70', 0, 0)\"\n",
      "distributed.core - ERROR - Exception while handling op heartbeat_worker\n",
      "Traceback (most recent call last):\n",
      "  File \"/glade/work/kristenk/miniconda/envs/analysis4/lib/python3.7/site-packages/distributed/core.py\", line 493, in handle_comm\n",
      "    result = handler(comm, **msg)\n",
      "  File \"/glade/work/kristenk/miniconda/envs/analysis4/lib/python3.7/site-packages/distributed/scheduler.py\", line 2197, in heartbeat_worker\n",
      "    self.tasks[key]: duration for key, duration in executing.items()\n",
      "  File \"/glade/work/kristenk/miniconda/envs/analysis4/lib/python3.7/site-packages/distributed/scheduler.py\", line 2197, in <dictcomp>\n",
      "    self.tasks[key]: duration for key, duration in executing.items()\n",
      "KeyError: \"('open_dataset-55beec98bf25b358aea513655794fa69DXU-823632f131b5607bb308a4df475e4a70', 0, 0)\"\n"
     ]
    },
    {
     "name": "stdout",
     "output_type": "stream",
     "text": [
      "start year= 1972 member= 9\n",
      "start year= 1972 member= 10\n",
      "start year= 1972 member= 11\n",
      "start year= 1972 member= 12\n",
      "start year= 1972 member= 13\n",
      "start year= 1972 member= 14\n",
      "start year= 1972 member= 15\n",
      "start year= 1972 member= 16\n",
      "start year= 1972 member= 17\n",
      "start year= 1972 member= 18\n",
      "start year= 1972 member= 19\n",
      "start year= 1972 member= 20\n",
      "start year= 1972 member= 21\n",
      "start year= 1972 member= 22\n",
      "start year= 1972 member= 23\n"
     ]
    },
    {
     "name": "stderr",
     "output_type": "stream",
     "text": [
      "distributed.core - ERROR - Exception while handling op heartbeat_worker\n",
      "Traceback (most recent call last):\n",
      "  File \"/glade/work/kristenk/miniconda/envs/analysis4/lib/python3.7/site-packages/distributed/core.py\", line 493, in handle_comm\n",
      "    result = handler(comm, **msg)\n",
      "  File \"/glade/work/kristenk/miniconda/envs/analysis4/lib/python3.7/site-packages/distributed/scheduler.py\", line 2197, in heartbeat_worker\n",
      "    self.tasks[key]: duration for key, duration in executing.items()\n",
      "  File \"/glade/work/kristenk/miniconda/envs/analysis4/lib/python3.7/site-packages/distributed/scheduler.py\", line 2197, in <dictcomp>\n",
      "    self.tasks[key]: duration for key, duration in executing.items()\n",
      "KeyError: \"('open_dataset-dfcd836b766bc00b9235410c8b63a94cHU-12fa60e1d13862b2d23ec9de0a112aeb', 0, 0)\"\n",
      "distributed.core - ERROR - Exception while handling op heartbeat_worker\n",
      "Traceback (most recent call last):\n",
      "  File \"/glade/work/kristenk/miniconda/envs/analysis4/lib/python3.7/site-packages/distributed/core.py\", line 493, in handle_comm\n",
      "    result = handler(comm, **msg)\n",
      "  File \"/glade/work/kristenk/miniconda/envs/analysis4/lib/python3.7/site-packages/distributed/scheduler.py\", line 2197, in heartbeat_worker\n",
      "    self.tasks[key]: duration for key, duration in executing.items()\n",
      "  File \"/glade/work/kristenk/miniconda/envs/analysis4/lib/python3.7/site-packages/distributed/scheduler.py\", line 2197, in <dictcomp>\n",
      "    self.tasks[key]: duration for key, duration in executing.items()\n",
      "KeyError: \"('open_dataset-dfcd836b766bc00b9235410c8b63a94cDXU-1645a1e1ff79bb5e5658a4ced3b26470', 0, 0)\"\n"
     ]
    },
    {
     "name": "stdout",
     "output_type": "stream",
     "text": [
      "start year= 1972 member= 24\n",
      "start year= 1972 member= 25\n",
      "start year= 1972 member= 26\n",
      "start year= 1972 member= 27\n",
      "start year= 1972 member= 28\n",
      "start year= 1972 member= 29\n"
     ]
    },
    {
     "name": "stderr",
     "output_type": "stream",
     "text": [
      "distributed.core - ERROR - Exception while handling op heartbeat_worker\n",
      "Traceback (most recent call last):\n",
      "  File \"/glade/work/kristenk/miniconda/envs/analysis4/lib/python3.7/site-packages/distributed/core.py\", line 493, in handle_comm\n",
      "    result = handler(comm, **msg)\n",
      "  File \"/glade/work/kristenk/miniconda/envs/analysis4/lib/python3.7/site-packages/distributed/scheduler.py\", line 2197, in heartbeat_worker\n",
      "    self.tasks[key]: duration for key, duration in executing.items()\n",
      "  File \"/glade/work/kristenk/miniconda/envs/analysis4/lib/python3.7/site-packages/distributed/scheduler.py\", line 2197, in <dictcomp>\n",
      "    self.tasks[key]: duration for key, duration in executing.items()\n",
      "KeyError: \"('open_dataset-0d7ece6c923fcfceca71008b39d4baefHU-de8ff32133b4ba4bf1c3c041c6da98fa', 0, 0)\"\n",
      "distributed.core - ERROR - Exception while handling op heartbeat_worker\n",
      "Traceback (most recent call last):\n",
      "  File \"/glade/work/kristenk/miniconda/envs/analysis4/lib/python3.7/site-packages/distributed/core.py\", line 493, in handle_comm\n",
      "    result = handler(comm, **msg)\n",
      "  File \"/glade/work/kristenk/miniconda/envs/analysis4/lib/python3.7/site-packages/distributed/scheduler.py\", line 2197, in heartbeat_worker\n",
      "    self.tasks[key]: duration for key, duration in executing.items()\n",
      "  File \"/glade/work/kristenk/miniconda/envs/analysis4/lib/python3.7/site-packages/distributed/scheduler.py\", line 2197, in <dictcomp>\n",
      "    self.tasks[key]: duration for key, duration in executing.items()\n",
      "KeyError: \"('open_dataset-0d7ece6c923fcfceca71008b39d4baefHUS-bad7872d41a2f18c0e6159277ed2a14c', 0, 0)\"\n"
     ]
    },
    {
     "name": "stdout",
     "output_type": "stream",
     "text": [
      "start year= 1972 member= 30\n",
      "start year= 1972 member= 31\n",
      "start year= 1972 member= 32\n",
      "start year= 1972 member= 33\n",
      "start year= 1972 member= 34\n",
      "start year= 1972 member= 35\n",
      "start year= 1972 member= 36\n",
      "start year= 1972 member= 37\n",
      "start year= 1972 member= 38\n",
      "start year= 1972 member= 39\n",
      "start year= 1972 member= 40\n",
      "start year= 1973 member= 1\n",
      "start year= 1973 member= 2\n",
      "start year= 1973 member= 3\n",
      "start year= 1973 member= 4\n",
      "start year= 1973 member= 5\n",
      "start year= 1973 member= 6\n",
      "start year= 1973 member= 7\n",
      "start year= 1973 member= 8\n",
      "start year= 1973 member= 9\n",
      "start year= 1973 member= 10\n",
      "start year= 1973 member= 11\n",
      "start year= 1973 member= 12\n",
      "start year= 1973 member= 13\n",
      "start year= 1973 member= 14\n"
     ]
    },
    {
     "name": "stderr",
     "output_type": "stream",
     "text": [
      "distributed.core - ERROR - Exception while handling op heartbeat_worker\n",
      "Traceback (most recent call last):\n",
      "  File \"/glade/work/kristenk/miniconda/envs/analysis4/lib/python3.7/site-packages/distributed/core.py\", line 493, in handle_comm\n",
      "    result = handler(comm, **msg)\n",
      "  File \"/glade/work/kristenk/miniconda/envs/analysis4/lib/python3.7/site-packages/distributed/scheduler.py\", line 2197, in heartbeat_worker\n",
      "    self.tasks[key]: duration for key, duration in executing.items()\n",
      "  File \"/glade/work/kristenk/miniconda/envs/analysis4/lib/python3.7/site-packages/distributed/scheduler.py\", line 2197, in <dictcomp>\n",
      "    self.tasks[key]: duration for key, duration in executing.items()\n",
      "KeyError: \"('open_dataset-d68af4c5087583826b883d7c1503bf8bHTE-2866b0509b64cc1df591452e13d410b4', 0, 0)\"\n",
      "distributed.core - ERROR - Exception while handling op heartbeat_worker\n",
      "Traceback (most recent call last):\n",
      "  File \"/glade/work/kristenk/miniconda/envs/analysis4/lib/python3.7/site-packages/distributed/core.py\", line 493, in handle_comm\n",
      "    result = handler(comm, **msg)\n",
      "  File \"/glade/work/kristenk/miniconda/envs/analysis4/lib/python3.7/site-packages/distributed/scheduler.py\", line 2197, in heartbeat_worker\n",
      "    self.tasks[key]: duration for key, duration in executing.items()\n",
      "  File \"/glade/work/kristenk/miniconda/envs/analysis4/lib/python3.7/site-packages/distributed/scheduler.py\", line 2197, in <dictcomp>\n",
      "    self.tasks[key]: duration for key, duration in executing.items()\n",
      "KeyError: \"('open_dataset-d68af4c5087583826b883d7c1503bf8bHTN-64adbd8f8d477e70711521383eb8dbfe', 0, 0)\"\n"
     ]
    },
    {
     "name": "stdout",
     "output_type": "stream",
     "text": [
      "start year= 1973 member= 15\n"
     ]
    },
    {
     "name": "stderr",
     "output_type": "stream",
     "text": [
      "distributed.core - ERROR - Exception while handling op heartbeat_worker\n",
      "Traceback (most recent call last):\n",
      "  File \"/glade/work/kristenk/miniconda/envs/analysis4/lib/python3.7/site-packages/distributed/core.py\", line 493, in handle_comm\n",
      "    result = handler(comm, **msg)\n",
      "  File \"/glade/work/kristenk/miniconda/envs/analysis4/lib/python3.7/site-packages/distributed/scheduler.py\", line 2197, in heartbeat_worker\n",
      "    self.tasks[key]: duration for key, duration in executing.items()\n",
      "  File \"/glade/work/kristenk/miniconda/envs/analysis4/lib/python3.7/site-packages/distributed/scheduler.py\", line 2197, in <dictcomp>\n",
      "    self.tasks[key]: duration for key, duration in executing.items()\n",
      "KeyError: \"('open_dataset-d68af4c5087583826b883d7c1503bf8bHT-f80313b5db9d84b0a9f0282147fe48b8', 0, 0)\"\n"
     ]
    },
    {
     "name": "stdout",
     "output_type": "stream",
     "text": [
      "start year= 1973 member= 16\n",
      "start year= 1973 member= 17\n",
      "start year= 1973 member= 18\n",
      "start year= 1973 member= 19\n",
      "start year= 1973 member= 20\n",
      "start year= 1973 member= 21\n",
      "start year= 1973 member= 22\n",
      "start year= 1973 member= 23\n",
      "start year= 1973 member= 24\n",
      "start year= 1973 member= 25\n",
      "start year= 1973 member= 26\n"
     ]
    },
    {
     "name": "stderr",
     "output_type": "stream",
     "text": [
      "distributed.core - ERROR - Exception while handling op heartbeat_worker\n",
      "Traceback (most recent call last):\n",
      "  File \"/glade/work/kristenk/miniconda/envs/analysis4/lib/python3.7/site-packages/distributed/core.py\", line 493, in handle_comm\n",
      "    result = handler(comm, **msg)\n",
      "  File \"/glade/work/kristenk/miniconda/envs/analysis4/lib/python3.7/site-packages/distributed/scheduler.py\", line 2197, in heartbeat_worker\n",
      "    self.tasks[key]: duration for key, duration in executing.items()\n",
      "  File \"/glade/work/kristenk/miniconda/envs/analysis4/lib/python3.7/site-packages/distributed/scheduler.py\", line 2197, in <dictcomp>\n",
      "    self.tasks[key]: duration for key, duration in executing.items()\n",
      "KeyError: \"('open_dataset-7a418ef185d4b6ecaf8be278bc153eb8HTN-8f5f5ad142e8e1c30c408ace1f7bd27c', 0, 0)\"\n"
     ]
    },
    {
     "name": "stdout",
     "output_type": "stream",
     "text": [
      "start year= 1973 member= 27\n",
      "start year= 1973 member= 28\n",
      "start year= 1973 member= 29\n",
      "start year= 1973 member= 30\n",
      "start year= 1973 member= 31\n",
      "start year= 1973 member= 32\n",
      "start year= 1973 member= 33\n"
     ]
    },
    {
     "name": "stderr",
     "output_type": "stream",
     "text": [
      "distributed.core - ERROR - Exception while handling op heartbeat_worker\n",
      "Traceback (most recent call last):\n",
      "  File \"/glade/work/kristenk/miniconda/envs/analysis4/lib/python3.7/site-packages/distributed/core.py\", line 493, in handle_comm\n",
      "    result = handler(comm, **msg)\n",
      "  File \"/glade/work/kristenk/miniconda/envs/analysis4/lib/python3.7/site-packages/distributed/scheduler.py\", line 2197, in heartbeat_worker\n",
      "    self.tasks[key]: duration for key, duration in executing.items()\n",
      "  File \"/glade/work/kristenk/miniconda/envs/analysis4/lib/python3.7/site-packages/distributed/scheduler.py\", line 2197, in <dictcomp>\n",
      "    self.tasks[key]: duration for key, duration in executing.items()\n",
      "KeyError: \"('open_dataset-08bd6813db8b6824ca4470f084695e08DXU-6a9071fe8ee00b354206e70a23f457c1', 0, 0)\"\n"
     ]
    },
    {
     "name": "stdout",
     "output_type": "stream",
     "text": [
      "start year= 1973 member= 34\n",
      "start year= 1973 member= 35\n",
      "start year= 1973 member= 36\n",
      "start year= 1973 member= 37\n"
     ]
    },
    {
     "name": "stderr",
     "output_type": "stream",
     "text": [
      "distributed.core - ERROR - Exception while handling op heartbeat_worker\n",
      "Traceback (most recent call last):\n",
      "  File \"/glade/work/kristenk/miniconda/envs/analysis4/lib/python3.7/site-packages/distributed/core.py\", line 493, in handle_comm\n",
      "    result = handler(comm, **msg)\n",
      "  File \"/glade/work/kristenk/miniconda/envs/analysis4/lib/python3.7/site-packages/distributed/scheduler.py\", line 2197, in heartbeat_worker\n",
      "    self.tasks[key]: duration for key, duration in executing.items()\n",
      "  File \"/glade/work/kristenk/miniconda/envs/analysis4/lib/python3.7/site-packages/distributed/scheduler.py\", line 2197, in <dictcomp>\n",
      "    self.tasks[key]: duration for key, duration in executing.items()\n",
      "KeyError: \"('open_dataset-e4ef90faa92013de21d8f73a081d4412HUS-1bb0c2d87b61265acf3f88ea87983567', 0, 0)\"\n"
     ]
    },
    {
     "name": "stdout",
     "output_type": "stream",
     "text": [
      "start year= 1973 member= 38\n",
      "start year= 1973 member= 39\n",
      "start year= 1973 member= 40\n",
      "start year= 1974 member= 1\n",
      "start year= 1974 member= 2\n",
      "start year= 1974 member= 3\n"
     ]
    },
    {
     "name": "stderr",
     "output_type": "stream",
     "text": [
      "distributed.core - ERROR - Exception while handling op heartbeat_worker\n",
      "Traceback (most recent call last):\n",
      "  File \"/glade/work/kristenk/miniconda/envs/analysis4/lib/python3.7/site-packages/distributed/core.py\", line 493, in handle_comm\n",
      "    result = handler(comm, **msg)\n",
      "  File \"/glade/work/kristenk/miniconda/envs/analysis4/lib/python3.7/site-packages/distributed/scheduler.py\", line 2197, in heartbeat_worker\n",
      "    self.tasks[key]: duration for key, duration in executing.items()\n",
      "  File \"/glade/work/kristenk/miniconda/envs/analysis4/lib/python3.7/site-packages/distributed/scheduler.py\", line 2197, in <dictcomp>\n",
      "    self.tasks[key]: duration for key, duration in executing.items()\n",
      "KeyError: \"('open_dataset-afb9dd877685ae6fa9ed115be28e27d9HT-b9250d07cdfb946f41b3814d90fd88f7', 0, 0)\"\n"
     ]
    },
    {
     "name": "stdout",
     "output_type": "stream",
     "text": [
      "start year= 1974 member= 4\n",
      "start year= 1974 member= 5\n",
      "start year= 1974 member= 6\n",
      "start year= 1974 member= 7\n",
      "start year= 1974 member= 8\n",
      "start year= 1974 member= 9\n"
     ]
    },
    {
     "name": "stderr",
     "output_type": "stream",
     "text": [
      "distributed.core - ERROR - Exception while handling op heartbeat_worker\n",
      "Traceback (most recent call last):\n",
      "  File \"/glade/work/kristenk/miniconda/envs/analysis4/lib/python3.7/site-packages/distributed/core.py\", line 493, in handle_comm\n",
      "    result = handler(comm, **msg)\n",
      "  File \"/glade/work/kristenk/miniconda/envs/analysis4/lib/python3.7/site-packages/distributed/scheduler.py\", line 2197, in heartbeat_worker\n",
      "    self.tasks[key]: duration for key, duration in executing.items()\n",
      "  File \"/glade/work/kristenk/miniconda/envs/analysis4/lib/python3.7/site-packages/distributed/scheduler.py\", line 2197, in <dictcomp>\n",
      "    self.tasks[key]: duration for key, duration in executing.items()\n",
      "KeyError: \"('open_dataset-828d0844a9f6533170589d73460b7c84DYU-62c9e913c0afb800781956c7af2d2e8d', 0, 0)\"\n"
     ]
    },
    {
     "name": "stdout",
     "output_type": "stream",
     "text": [
      "start year= 1974 member= 10\n",
      "start year= 1974 member= 11\n",
      "start year= 1974 member= 12\n",
      "start year= 1974 member= 13\n"
     ]
    },
    {
     "name": "stderr",
     "output_type": "stream",
     "text": [
      "distributed.core - ERROR - Exception while handling op heartbeat_worker\n",
      "Traceback (most recent call last):\n",
      "  File \"/glade/work/kristenk/miniconda/envs/analysis4/lib/python3.7/site-packages/distributed/core.py\", line 493, in handle_comm\n",
      "    result = handler(comm, **msg)\n",
      "  File \"/glade/work/kristenk/miniconda/envs/analysis4/lib/python3.7/site-packages/distributed/scheduler.py\", line 2197, in heartbeat_worker\n",
      "    self.tasks[key]: duration for key, duration in executing.items()\n",
      "  File \"/glade/work/kristenk/miniconda/envs/analysis4/lib/python3.7/site-packages/distributed/scheduler.py\", line 2197, in <dictcomp>\n",
      "    self.tasks[key]: duration for key, duration in executing.items()\n",
      "KeyError: \"('open_dataset-21d9b709532b7fb79f0b2926b7e50ddaHUW-bd1e8c8cb409b3a21fea27e29f245a26', 0, 0)\"\n",
      "distributed.core - ERROR - Exception while handling op heartbeat_worker\n",
      "Traceback (most recent call last):\n",
      "  File \"/glade/work/kristenk/miniconda/envs/analysis4/lib/python3.7/site-packages/distributed/core.py\", line 493, in handle_comm\n",
      "    result = handler(comm, **msg)\n",
      "  File \"/glade/work/kristenk/miniconda/envs/analysis4/lib/python3.7/site-packages/distributed/scheduler.py\", line 2197, in heartbeat_worker\n",
      "    self.tasks[key]: duration for key, duration in executing.items()\n",
      "  File \"/glade/work/kristenk/miniconda/envs/analysis4/lib/python3.7/site-packages/distributed/scheduler.py\", line 2197, in <dictcomp>\n",
      "    self.tasks[key]: duration for key, duration in executing.items()\n",
      "KeyError: \"('open_dataset-21d9b709532b7fb79f0b2926b7e50ddaANGLET-33c132bc26334d315db4eb572a9813ab', 0, 0)\"\n",
      "distributed.core - ERROR - Exception while handling op heartbeat_worker\n",
      "Traceback (most recent call last):\n",
      "  File \"/glade/work/kristenk/miniconda/envs/analysis4/lib/python3.7/site-packages/distributed/core.py\", line 493, in handle_comm\n",
      "    result = handler(comm, **msg)\n",
      "  File \"/glade/work/kristenk/miniconda/envs/analysis4/lib/python3.7/site-packages/distributed/scheduler.py\", line 2197, in heartbeat_worker\n",
      "    self.tasks[key]: duration for key, duration in executing.items()\n",
      "  File \"/glade/work/kristenk/miniconda/envs/analysis4/lib/python3.7/site-packages/distributed/scheduler.py\", line 2197, in <dictcomp>\n",
      "    self.tasks[key]: duration for key, duration in executing.items()\n",
      "KeyError: \"('open_dataset-21d9b709532b7fb79f0b2926b7e50ddaANGLE-97c61931fc2e105d08a8f2545165ce7f', 0, 0)\"\n"
     ]
    },
    {
     "name": "stdout",
     "output_type": "stream",
     "text": [
      "start year= 1974 member= 14\n",
      "start year= 1974 member= 15\n",
      "start year= 1974 member= 16\n",
      "start year= 1974 member= 17\n",
      "start year= 1974 member= 18\n",
      "start year= 1974 member= 19\n"
     ]
    },
    {
     "name": "stderr",
     "output_type": "stream",
     "text": [
      "distributed.core - ERROR - Exception while handling op heartbeat_worker\n",
      "Traceback (most recent call last):\n",
      "  File \"/glade/work/kristenk/miniconda/envs/analysis4/lib/python3.7/site-packages/distributed/core.py\", line 493, in handle_comm\n",
      "    result = handler(comm, **msg)\n",
      "  File \"/glade/work/kristenk/miniconda/envs/analysis4/lib/python3.7/site-packages/distributed/scheduler.py\", line 2197, in heartbeat_worker\n",
      "    self.tasks[key]: duration for key, duration in executing.items()\n",
      "  File \"/glade/work/kristenk/miniconda/envs/analysis4/lib/python3.7/site-packages/distributed/scheduler.py\", line 2197, in <dictcomp>\n",
      "    self.tasks[key]: duration for key, duration in executing.items()\n",
      "KeyError: \"('open_dataset-bbece1d8e6208bce1807133e66a91adeDYT-1232f1cb8710e8b3949f67a8cdae1b0c', 0, 0)\"\n"
     ]
    },
    {
     "name": "stdout",
     "output_type": "stream",
     "text": [
      "start year= 1974 member= 20\n",
      "start year= 1974 member= 21\n",
      "start year= 1974 member= 22\n"
     ]
    },
    {
     "name": "stderr",
     "output_type": "stream",
     "text": [
      "distributed.core - ERROR - Exception while handling op heartbeat_worker\n",
      "Traceback (most recent call last):\n",
      "  File \"/glade/work/kristenk/miniconda/envs/analysis4/lib/python3.7/site-packages/distributed/core.py\", line 493, in handle_comm\n",
      "    result = handler(comm, **msg)\n",
      "  File \"/glade/work/kristenk/miniconda/envs/analysis4/lib/python3.7/site-packages/distributed/scheduler.py\", line 2197, in heartbeat_worker\n",
      "    self.tasks[key]: duration for key, duration in executing.items()\n",
      "  File \"/glade/work/kristenk/miniconda/envs/analysis4/lib/python3.7/site-packages/distributed/scheduler.py\", line 2197, in <dictcomp>\n",
      "    self.tasks[key]: duration for key, duration in executing.items()\n",
      "KeyError: \"('open_dataset-073e9dc3440b54c7a0362be99e5fede9HT-eaddce240edcbc69713662383f4ffbaa', 0, 0)\"\n",
      "distributed.core - ERROR - Exception while handling op heartbeat_worker\n",
      "Traceback (most recent call last):\n",
      "  File \"/glade/work/kristenk/miniconda/envs/analysis4/lib/python3.7/site-packages/distributed/core.py\", line 493, in handle_comm\n",
      "    result = handler(comm, **msg)\n",
      "  File \"/glade/work/kristenk/miniconda/envs/analysis4/lib/python3.7/site-packages/distributed/scheduler.py\", line 2197, in heartbeat_worker\n",
      "    self.tasks[key]: duration for key, duration in executing.items()\n",
      "  File \"/glade/work/kristenk/miniconda/envs/analysis4/lib/python3.7/site-packages/distributed/scheduler.py\", line 2197, in <dictcomp>\n",
      "    self.tasks[key]: duration for key, duration in executing.items()\n",
      "KeyError: \"('open_dataset-073e9dc3440b54c7a0362be99e5fede9HTN-99c7ccc23503eb82ecd26c61080a4f03', 0, 0)\"\n"
     ]
    },
    {
     "name": "stdout",
     "output_type": "stream",
     "text": [
      "start year= 1974 member= 23\n",
      "start year= 1974 member= 24\n",
      "start year= 1974 member= 25\n",
      "start year= 1974 member= 26\n",
      "start year= 1974 member= 27\n"
     ]
    },
    {
     "name": "stderr",
     "output_type": "stream",
     "text": [
      "distributed.core - ERROR - Exception while handling op heartbeat_worker\n",
      "Traceback (most recent call last):\n",
      "  File \"/glade/work/kristenk/miniconda/envs/analysis4/lib/python3.7/site-packages/distributed/core.py\", line 493, in handle_comm\n",
      "    result = handler(comm, **msg)\n",
      "  File \"/glade/work/kristenk/miniconda/envs/analysis4/lib/python3.7/site-packages/distributed/scheduler.py\", line 2197, in heartbeat_worker\n",
      "    self.tasks[key]: duration for key, duration in executing.items()\n",
      "  File \"/glade/work/kristenk/miniconda/envs/analysis4/lib/python3.7/site-packages/distributed/scheduler.py\", line 2197, in <dictcomp>\n",
      "    self.tasks[key]: duration for key, duration in executing.items()\n",
      "KeyError: \"('open_dataset-dd51edd2546dc4ac7d24902e8907dfb0DXT-e040bf606c601208082029576698556b', 0, 0)\"\n",
      "distributed.core - ERROR - Exception while handling op heartbeat_worker\n",
      "Traceback (most recent call last):\n",
      "  File \"/glade/work/kristenk/miniconda/envs/analysis4/lib/python3.7/site-packages/distributed/core.py\", line 493, in handle_comm\n",
      "    result = handler(comm, **msg)\n",
      "  File \"/glade/work/kristenk/miniconda/envs/analysis4/lib/python3.7/site-packages/distributed/scheduler.py\", line 2197, in heartbeat_worker\n",
      "    self.tasks[key]: duration for key, duration in executing.items()\n",
      "  File \"/glade/work/kristenk/miniconda/envs/analysis4/lib/python3.7/site-packages/distributed/scheduler.py\", line 2197, in <dictcomp>\n",
      "    self.tasks[key]: duration for key, duration in executing.items()\n",
      "KeyError: \"('open_dataset-dd51edd2546dc4ac7d24902e8907dfb0DYT-39bfa42b3e6d703a26a538dddfd2421b', 0, 0)\"\n",
      "distributed.core - ERROR - Exception while handling op heartbeat_worker\n",
      "Traceback (most recent call last):\n",
      "  File \"/glade/work/kristenk/miniconda/envs/analysis4/lib/python3.7/site-packages/distributed/core.py\", line 493, in handle_comm\n",
      "    result = handler(comm, **msg)\n",
      "  File \"/glade/work/kristenk/miniconda/envs/analysis4/lib/python3.7/site-packages/distributed/scheduler.py\", line 2197, in heartbeat_worker\n",
      "    self.tasks[key]: duration for key, duration in executing.items()\n",
      "  File \"/glade/work/kristenk/miniconda/envs/analysis4/lib/python3.7/site-packages/distributed/scheduler.py\", line 2197, in <dictcomp>\n",
      "    self.tasks[key]: duration for key, duration in executing.items()\n",
      "KeyError: \"('open_dataset-dd51edd2546dc4ac7d24902e8907dfb0DXU-1522038cbb0e9dabfcc24160452f9b98', 0, 0)\"\n",
      "distributed.core - ERROR - Exception while handling op heartbeat_worker\n",
      "Traceback (most recent call last):\n",
      "  File \"/glade/work/kristenk/miniconda/envs/analysis4/lib/python3.7/site-packages/distributed/core.py\", line 493, in handle_comm\n",
      "    result = handler(comm, **msg)\n",
      "  File \"/glade/work/kristenk/miniconda/envs/analysis4/lib/python3.7/site-packages/distributed/scheduler.py\", line 2197, in heartbeat_worker\n",
      "    self.tasks[key]: duration for key, duration in executing.items()\n",
      "  File \"/glade/work/kristenk/miniconda/envs/analysis4/lib/python3.7/site-packages/distributed/scheduler.py\", line 2197, in <dictcomp>\n",
      "    self.tasks[key]: duration for key, duration in executing.items()\n",
      "KeyError: \"('open_dataset-dd51edd2546dc4ac7d24902e8907dfb0HU-be52cc092d10f29cb1c3dce05a0f275d', 0, 0)\"\n"
     ]
    },
    {
     "name": "stdout",
     "output_type": "stream",
     "text": [
      "start year= 1974 member= 28\n",
      "start year= 1974 member= 29\n",
      "start year= 1974 member= 30\n",
      "start year= 1974 member= 31\n",
      "start year= 1974 member= 32\n",
      "start year= 1974 member= 33\n",
      "start year= 1974 member= 34\n",
      "start year= 1974 member= 35\n",
      "start year= 1974 member= 36\n",
      "start year= 1974 member= 37\n",
      "start year= 1974 member= 38\n",
      "start year= 1974 member= 39\n"
     ]
    },
    {
     "name": "stderr",
     "output_type": "stream",
     "text": [
      "distributed.core - ERROR - Exception while handling op heartbeat_worker\n",
      "Traceback (most recent call last):\n",
      "  File \"/glade/work/kristenk/miniconda/envs/analysis4/lib/python3.7/site-packages/distributed/core.py\", line 493, in handle_comm\n",
      "    result = handler(comm, **msg)\n",
      "  File \"/glade/work/kristenk/miniconda/envs/analysis4/lib/python3.7/site-packages/distributed/scheduler.py\", line 2197, in heartbeat_worker\n",
      "    self.tasks[key]: duration for key, duration in executing.items()\n",
      "  File \"/glade/work/kristenk/miniconda/envs/analysis4/lib/python3.7/site-packages/distributed/scheduler.py\", line 2197, in <dictcomp>\n",
      "    self.tasks[key]: duration for key, duration in executing.items()\n",
      "KeyError: \"('open_dataset-a51c824be488fcdeda547b26f10d5be1HTE-10e5dc6d4bca1f6b1f95e867ddae6bd1', 0, 0)\"\n"
     ]
    },
    {
     "name": "stdout",
     "output_type": "stream",
     "text": [
      "start year= 1974 member= 40\n",
      "start year= 1975 member= 1\n",
      "start year= 1975 member= 2\n",
      "start year= 1975 member= 3\n",
      "start year= 1975 member= 4\n",
      "start year= 1975 member= 5\n",
      "start year= 1975 member= 6\n",
      "start year= 1975 member= 7\n",
      "start year= 1975 member= 8\n",
      "start year= 1975 member= 9\n",
      "start year= 1975 member= 10\n",
      "start year= 1975 member= 11\n",
      "start year= 1975 member= 12\n",
      "start year= 1975 member= 13\n",
      "start year= 1975 member= 14\n",
      "start year= 1975 member= 15\n",
      "start year= 1975 member= 16\n",
      "start year= 1975 member= 17\n",
      "start year= 1975 member= 18\n"
     ]
    },
    {
     "name": "stderr",
     "output_type": "stream",
     "text": [
      "distributed.core - ERROR - Exception while handling op heartbeat_worker\n",
      "Traceback (most recent call last):\n",
      "  File \"/glade/work/kristenk/miniconda/envs/analysis4/lib/python3.7/site-packages/distributed/core.py\", line 493, in handle_comm\n",
      "    result = handler(comm, **msg)\n",
      "  File \"/glade/work/kristenk/miniconda/envs/analysis4/lib/python3.7/site-packages/distributed/scheduler.py\", line 2197, in heartbeat_worker\n",
      "    self.tasks[key]: duration for key, duration in executing.items()\n",
      "  File \"/glade/work/kristenk/miniconda/envs/analysis4/lib/python3.7/site-packages/distributed/scheduler.py\", line 2197, in <dictcomp>\n",
      "    self.tasks[key]: duration for key, duration in executing.items()\n",
      "KeyError: \"('open_dataset-73bfbcc8dead492cb78e15b08118445eDXT-6cef6b34ff79c674823a5d34097de991', 0, 0)\"\n"
     ]
    },
    {
     "name": "stdout",
     "output_type": "stream",
     "text": [
      "start year= 1975 member= 19\n",
      "start year= 1975 member= 20\n",
      "start year= 1975 member= 21\n",
      "start year= 1975 member= 22\n",
      "start year= 1975 member= 23\n",
      "start year= 1975 member= 24\n",
      "start year= 1975 member= 25\n",
      "start year= 1975 member= 26\n",
      "start year= 1975 member= 27\n",
      "start year= 1975 member= 28\n",
      "start year= 1975 member= 29\n",
      "start year= 1975 member= 30\n",
      "start year= 1975 member= 31\n",
      "start year= 1975 member= 32\n",
      "start year= 1975 member= 33\n",
      "start year= 1975 member= 34\n",
      "start year= 1975 member= 35\n",
      "start year= 1975 member= 36\n",
      "start year= 1975 member= 37\n",
      "start year= 1975 member= 38\n",
      "start year= 1975 member= 39\n",
      "start year= 1975 member= 40\n",
      "start year= 1976 member= 1\n",
      "start year= 1976 member= 2\n",
      "start year= 1976 member= 3\n",
      "start year= 1976 member= 4\n"
     ]
    },
    {
     "name": "stderr",
     "output_type": "stream",
     "text": [
      "distributed.core - ERROR - Exception while handling op heartbeat_worker\n",
      "Traceback (most recent call last):\n",
      "  File \"/glade/work/kristenk/miniconda/envs/analysis4/lib/python3.7/site-packages/distributed/core.py\", line 493, in handle_comm\n",
      "    result = handler(comm, **msg)\n",
      "  File \"/glade/work/kristenk/miniconda/envs/analysis4/lib/python3.7/site-packages/distributed/scheduler.py\", line 2197, in heartbeat_worker\n",
      "    self.tasks[key]: duration for key, duration in executing.items()\n",
      "  File \"/glade/work/kristenk/miniconda/envs/analysis4/lib/python3.7/site-packages/distributed/scheduler.py\", line 2197, in <dictcomp>\n",
      "    self.tasks[key]: duration for key, duration in executing.items()\n",
      "KeyError: \"('open_dataset-d253c7f636d4472987b74ca8758ff0d6DYT-5ba3ea7618042c11b8fc858de8829f23', 0, 0)\"\n",
      "distributed.core - ERROR - Exception while handling op heartbeat_worker\n",
      "Traceback (most recent call last):\n",
      "  File \"/glade/work/kristenk/miniconda/envs/analysis4/lib/python3.7/site-packages/distributed/core.py\", line 493, in handle_comm\n",
      "    result = handler(comm, **msg)\n",
      "  File \"/glade/work/kristenk/miniconda/envs/analysis4/lib/python3.7/site-packages/distributed/scheduler.py\", line 2197, in heartbeat_worker\n",
      "    self.tasks[key]: duration for key, duration in executing.items()\n",
      "  File \"/glade/work/kristenk/miniconda/envs/analysis4/lib/python3.7/site-packages/distributed/scheduler.py\", line 2197, in <dictcomp>\n",
      "    self.tasks[key]: duration for key, duration in executing.items()\n",
      "KeyError: \"('open_dataset-4565ea4840b72b9f6a32e95ff6c327d5DYU-8f5818ae30909c7b07f9d1ac898ec9d6', 0, 0)\"\n"
     ]
    },
    {
     "name": "stdout",
     "output_type": "stream",
     "text": [
      "start year= 1976 member= 5\n",
      "start year= 1976 member= 6\n",
      "start year= 1976 member= 7\n",
      "start year= 1976 member= 8\n",
      "start year= 1976 member= 9\n",
      "start year= 1976 member= 10\n",
      "start year= 1976 member= 11\n",
      "start year= 1976 member= 12\n",
      "start year= 1976 member= 13\n",
      "start year= 1976 member= 14\n",
      "start year= 1976 member= 15\n",
      "start year= 1976 member= 16\n",
      "start year= 1976 member= 17\n",
      "start year= 1976 member= 18\n",
      "start year= 1976 member= 19\n",
      "start year= 1976 member= 20\n",
      "start year= 1976 member= 21\n",
      "start year= 1976 member= 22\n",
      "start year= 1976 member= 23\n",
      "start year= 1976 member= 24\n",
      "start year= 1976 member= 25\n",
      "start year= 1976 member= 26\n",
      "start year= 1976 member= 27\n",
      "start year= 1976 member= 28\n",
      "start year= 1976 member= 29\n",
      "start year= 1976 member= 30\n",
      "start year= 1976 member= 31\n",
      "start year= 1976 member= 32\n",
      "start year= 1976 member= 33\n",
      "start year= 1976 member= 34\n",
      "start year= 1976 member= 35\n",
      "start year= 1976 member= 36\n",
      "start year= 1976 member= 37\n",
      "start year= 1976 member= 38\n",
      "start year= 1976 member= 39\n",
      "start year= 1976 member= 40\n",
      "start year= 1977 member= 1\n",
      "start year= 1977 member= 2\n",
      "start year= 1977 member= 3\n",
      "start year= 1977 member= 4\n",
      "start year= 1977 member= 5\n",
      "start year= 1977 member= 6\n",
      "start year= 1977 member= 7\n",
      "start year= 1977 member= 8\n",
      "start year= 1977 member= 9\n",
      "start year= 1977 member= 10\n",
      "start year= 1977 member= 11\n",
      "start year= 1977 member= 12\n",
      "start year= 1977 member= 13\n",
      "start year= 1977 member= 14\n",
      "start year= 1977 member= 15\n",
      "start year= 1977 member= 16\n",
      "start year= 1977 member= 17\n",
      "start year= 1977 member= 18\n",
      "start year= 1977 member= 19\n",
      "start year= 1977 member= 20\n",
      "start year= 1977 member= 21\n",
      "start year= 1977 member= 22\n",
      "start year= 1977 member= 23\n",
      "start year= 1977 member= 24\n",
      "start year= 1977 member= 25\n",
      "start year= 1977 member= 26\n",
      "start year= 1977 member= 27\n",
      "start year= 1977 member= 28\n",
      "start year= 1977 member= 29\n",
      "start year= 1977 member= 30\n",
      "start year= 1977 member= 31\n",
      "start year= 1977 member= 32\n",
      "start year= 1977 member= 33\n",
      "start year= 1977 member= 34\n",
      "start year= 1977 member= 35\n",
      "start year= 1977 member= 36\n"
     ]
    },
    {
     "name": "stderr",
     "output_type": "stream",
     "text": [
      "distributed.core - ERROR - Exception while handling op heartbeat_worker\n",
      "Traceback (most recent call last):\n",
      "  File \"/glade/work/kristenk/miniconda/envs/analysis4/lib/python3.7/site-packages/distributed/core.py\", line 493, in handle_comm\n",
      "    result = handler(comm, **msg)\n",
      "  File \"/glade/work/kristenk/miniconda/envs/analysis4/lib/python3.7/site-packages/distributed/scheduler.py\", line 2197, in heartbeat_worker\n",
      "    self.tasks[key]: duration for key, duration in executing.items()\n",
      "  File \"/glade/work/kristenk/miniconda/envs/analysis4/lib/python3.7/site-packages/distributed/scheduler.py\", line 2197, in <dictcomp>\n",
      "    self.tasks[key]: duration for key, duration in executing.items()\n",
      "KeyError: \"('open_dataset-c1924cfc43715dca56a574f4741e4768HT-bf86e4b401a7adf6095a4cc38733518c', 0, 0)\"\n"
     ]
    },
    {
     "name": "stdout",
     "output_type": "stream",
     "text": [
      "start year= 1977 member= 37\n"
     ]
    },
    {
     "name": "stderr",
     "output_type": "stream",
     "text": [
      "distributed.core - ERROR - Exception while handling op heartbeat_worker\n",
      "Traceback (most recent call last):\n",
      "  File \"/glade/work/kristenk/miniconda/envs/analysis4/lib/python3.7/site-packages/distributed/core.py\", line 493, in handle_comm\n",
      "    result = handler(comm, **msg)\n",
      "  File \"/glade/work/kristenk/miniconda/envs/analysis4/lib/python3.7/site-packages/distributed/scheduler.py\", line 2197, in heartbeat_worker\n",
      "    self.tasks[key]: duration for key, duration in executing.items()\n",
      "  File \"/glade/work/kristenk/miniconda/envs/analysis4/lib/python3.7/site-packages/distributed/scheduler.py\", line 2197, in <dictcomp>\n",
      "    self.tasks[key]: duration for key, duration in executing.items()\n",
      "KeyError: \"('open_dataset-c1924cfc43715dca56a574f4741e4768HTN-4e58a97aec5c13ae12f84cce12037a8c', 0, 0)\"\n"
     ]
    },
    {
     "name": "stdout",
     "output_type": "stream",
     "text": [
      "start year= 1977 member= 38\n",
      "start year= 1977 member= 39\n",
      "start year= 1977 member= 40\n"
     ]
    },
    {
     "name": "stderr",
     "output_type": "stream",
     "text": [
      "distributed.core - ERROR - Exception while handling op heartbeat_worker\n",
      "Traceback (most recent call last):\n",
      "  File \"/glade/work/kristenk/miniconda/envs/analysis4/lib/python3.7/site-packages/distributed/core.py\", line 493, in handle_comm\n",
      "    result = handler(comm, **msg)\n",
      "  File \"/glade/work/kristenk/miniconda/envs/analysis4/lib/python3.7/site-packages/distributed/scheduler.py\", line 2197, in heartbeat_worker\n",
      "    self.tasks[key]: duration for key, duration in executing.items()\n",
      "  File \"/glade/work/kristenk/miniconda/envs/analysis4/lib/python3.7/site-packages/distributed/scheduler.py\", line 2197, in <dictcomp>\n",
      "    self.tasks[key]: duration for key, duration in executing.items()\n",
      "KeyError: \"('open_dataset-58071311da1315bfe4620b557f5948e8HU-2b72c9926630ee2e65834e56a4351d0d', 0, 0)\"\n"
     ]
    },
    {
     "name": "stdout",
     "output_type": "stream",
     "text": [
      "start year= 1978 member= 1\n",
      "start year= 1978 member= 2\n",
      "start year= 1978 member= 3\n",
      "start year= 1978 member= 4\n",
      "start year= 1978 member= 5\n",
      "start year= 1978 member= 6\n",
      "start year= 1978 member= 7\n",
      "start year= 1978 member= 8\n",
      "start year= 1978 member= 9\n",
      "start year= 1978 member= 10\n",
      "start year= 1978 member= 11\n",
      "start year= 1978 member= 12\n",
      "start year= 1978 member= 13\n",
      "start year= 1978 member= 14\n"
     ]
    },
    {
     "name": "stderr",
     "output_type": "stream",
     "text": [
      "distributed.core - ERROR - Exception while handling op heartbeat_worker\n",
      "Traceback (most recent call last):\n",
      "  File \"/glade/work/kristenk/miniconda/envs/analysis4/lib/python3.7/site-packages/distributed/core.py\", line 493, in handle_comm\n",
      "    result = handler(comm, **msg)\n",
      "  File \"/glade/work/kristenk/miniconda/envs/analysis4/lib/python3.7/site-packages/distributed/scheduler.py\", line 2197, in heartbeat_worker\n",
      "    self.tasks[key]: duration for key, duration in executing.items()\n",
      "  File \"/glade/work/kristenk/miniconda/envs/analysis4/lib/python3.7/site-packages/distributed/scheduler.py\", line 2197, in <dictcomp>\n",
      "    self.tasks[key]: duration for key, duration in executing.items()\n",
      "KeyError: \"('open_dataset-bd9fc76aa539e14c26c0c7ca94394c76DYU-ad26ea0c9296cd9343e9070d1f0a461c', 0, 0)\"\n"
     ]
    },
    {
     "name": "stdout",
     "output_type": "stream",
     "text": [
      "start year= 1978 member= 15\n",
      "start year= 1978 member= 16\n",
      "start year= 1978 member= 17\n",
      "start year= 1978 member= 18\n",
      "start year= 1978 member= 19\n",
      "start year= 1978 member= 20\n",
      "start year= 1978 member= 21\n",
      "start year= 1978 member= 22\n",
      "start year= 1978 member= 23\n",
      "start year= 1978 member= 24\n",
      "start year= 1978 member= 25\n",
      "start year= 1978 member= 26\n",
      "start year= 1978 member= 27\n",
      "start year= 1978 member= 28\n",
      "start year= 1978 member= 29\n",
      "start year= 1978 member= 30\n",
      "start year= 1978 member= 31\n",
      "start year= 1978 member= 32\n",
      "start year= 1978 member= 33\n",
      "start year= 1978 member= 34\n",
      "start year= 1978 member= 35\n",
      "start year= 1978 member= 36\n",
      "start year= 1978 member= 37\n",
      "start year= 1978 member= 38\n",
      "start year= 1978 member= 39\n",
      "start year= 1978 member= 40\n",
      "start year= 1979 member= 1\n",
      "start year= 1979 member= 2\n",
      "start year= 1979 member= 3\n",
      "start year= 1979 member= 4\n"
     ]
    },
    {
     "name": "stderr",
     "output_type": "stream",
     "text": [
      "distributed.core - ERROR - Exception while handling op heartbeat_worker\n",
      "Traceback (most recent call last):\n",
      "  File \"/glade/work/kristenk/miniconda/envs/analysis4/lib/python3.7/site-packages/distributed/core.py\", line 493, in handle_comm\n",
      "    result = handler(comm, **msg)\n",
      "  File \"/glade/work/kristenk/miniconda/envs/analysis4/lib/python3.7/site-packages/distributed/scheduler.py\", line 2197, in heartbeat_worker\n",
      "    self.tasks[key]: duration for key, duration in executing.items()\n",
      "  File \"/glade/work/kristenk/miniconda/envs/analysis4/lib/python3.7/site-packages/distributed/scheduler.py\", line 2197, in <dictcomp>\n",
      "    self.tasks[key]: duration for key, duration in executing.items()\n",
      "KeyError: \"('open_dataset-3e79b3ed1dd5c88cf49a000616f4aeb2HU-4282c7897e11f249dacf5349ec4e3f3c', 0, 0)\"\n",
      "distributed.core - ERROR - Exception while handling op heartbeat_worker\n",
      "Traceback (most recent call last):\n",
      "  File \"/glade/work/kristenk/miniconda/envs/analysis4/lib/python3.7/site-packages/distributed/core.py\", line 493, in handle_comm\n",
      "    result = handler(comm, **msg)\n",
      "  File \"/glade/work/kristenk/miniconda/envs/analysis4/lib/python3.7/site-packages/distributed/scheduler.py\", line 2197, in heartbeat_worker\n",
      "    self.tasks[key]: duration for key, duration in executing.items()\n",
      "  File \"/glade/work/kristenk/miniconda/envs/analysis4/lib/python3.7/site-packages/distributed/scheduler.py\", line 2197, in <dictcomp>\n",
      "    self.tasks[key]: duration for key, duration in executing.items()\n",
      "KeyError: \"('open_dataset-3e79b3ed1dd5c88cf49a000616f4aeb2HUS-3e56e6bac176b842457ab69c616150bf', 0, 0)\"\n",
      "distributed.core - ERROR - Exception while handling op heartbeat_worker\n",
      "Traceback (most recent call last):\n",
      "  File \"/glade/work/kristenk/miniconda/envs/analysis4/lib/python3.7/site-packages/distributed/core.py\", line 493, in handle_comm\n",
      "    result = handler(comm, **msg)\n",
      "  File \"/glade/work/kristenk/miniconda/envs/analysis4/lib/python3.7/site-packages/distributed/scheduler.py\", line 2197, in heartbeat_worker\n",
      "    self.tasks[key]: duration for key, duration in executing.items()\n",
      "  File \"/glade/work/kristenk/miniconda/envs/analysis4/lib/python3.7/site-packages/distributed/scheduler.py\", line 2197, in <dictcomp>\n",
      "    self.tasks[key]: duration for key, duration in executing.items()\n",
      "KeyError: \"('open_dataset-3e79b3ed1dd5c88cf49a000616f4aeb2HTN-0859c7c46ed6063f5626fccce89eddee', 0, 0)\"\n"
     ]
    },
    {
     "name": "stdout",
     "output_type": "stream",
     "text": [
      "start year= 1979 member= 5\n",
      "start year= 1979 member= 6\n",
      "start year= 1979 member= 7\n",
      "start year= 1979 member= 8\n",
      "start year= 1979 member= 9\n",
      "start year= 1979 member= 10\n",
      "start year= 1979 member= 11\n"
     ]
    },
    {
     "name": "stderr",
     "output_type": "stream",
     "text": [
      "distributed.core - ERROR - Exception while handling op heartbeat_worker\n",
      "Traceback (most recent call last):\n",
      "  File \"/glade/work/kristenk/miniconda/envs/analysis4/lib/python3.7/site-packages/distributed/core.py\", line 493, in handle_comm\n",
      "    result = handler(comm, **msg)\n",
      "  File \"/glade/work/kristenk/miniconda/envs/analysis4/lib/python3.7/site-packages/distributed/scheduler.py\", line 2197, in heartbeat_worker\n",
      "    self.tasks[key]: duration for key, duration in executing.items()\n",
      "  File \"/glade/work/kristenk/miniconda/envs/analysis4/lib/python3.7/site-packages/distributed/scheduler.py\", line 2197, in <dictcomp>\n",
      "    self.tasks[key]: duration for key, duration in executing.items()\n",
      "KeyError: \"('open_dataset-98e48b83269c29f61f691e8462d52b2cDXU-b6e65abde0796dca77c4037498410144', 0, 0)\"\n"
     ]
    },
    {
     "name": "stdout",
     "output_type": "stream",
     "text": [
      "start year= 1979 member= 12\n",
      "start year= 1979 member= 13\n",
      "start year= 1979 member= 14\n",
      "start year= 1979 member= 15\n",
      "start year= 1979 member= 16\n",
      "start year= 1979 member= 17\n",
      "start year= 1979 member= 18\n",
      "start year= 1979 member= 19\n",
      "start year= 1979 member= 20\n",
      "start year= 1979 member= 21\n",
      "start year= 1979 member= 22\n",
      "start year= 1979 member= 23\n",
      "start year= 1979 member= 24\n"
     ]
    },
    {
     "name": "stderr",
     "output_type": "stream",
     "text": [
      "distributed.core - ERROR - Exception while handling op heartbeat_worker\n",
      "Traceback (most recent call last):\n",
      "  File \"/glade/work/kristenk/miniconda/envs/analysis4/lib/python3.7/site-packages/distributed/core.py\", line 493, in handle_comm\n",
      "    result = handler(comm, **msg)\n",
      "  File \"/glade/work/kristenk/miniconda/envs/analysis4/lib/python3.7/site-packages/distributed/scheduler.py\", line 2197, in heartbeat_worker\n",
      "    self.tasks[key]: duration for key, duration in executing.items()\n",
      "  File \"/glade/work/kristenk/miniconda/envs/analysis4/lib/python3.7/site-packages/distributed/scheduler.py\", line 2197, in <dictcomp>\n",
      "    self.tasks[key]: duration for key, duration in executing.items()\n",
      "KeyError: \"('open_dataset-cfabc411310ff367a34bb7d31515b17eDXU-9d9e0a0a859bceb5bd6164da34a0e8d5', 0, 0)\"\n"
     ]
    },
    {
     "name": "stdout",
     "output_type": "stream",
     "text": [
      "start year= 1979 member= 25\n",
      "start year= 1979 member= 26\n",
      "start year= 1979 member= 27\n",
      "start year= 1979 member= 28\n",
      "start year= 1979 member= 29\n",
      "start year= 1979 member= 30\n",
      "start year= 1979 member= 31\n"
     ]
    },
    {
     "name": "stderr",
     "output_type": "stream",
     "text": [
      "distributed.core - ERROR - Exception while handling op heartbeat_worker\n",
      "Traceback (most recent call last):\n",
      "  File \"/glade/work/kristenk/miniconda/envs/analysis4/lib/python3.7/site-packages/distributed/core.py\", line 493, in handle_comm\n",
      "    result = handler(comm, **msg)\n",
      "  File \"/glade/work/kristenk/miniconda/envs/analysis4/lib/python3.7/site-packages/distributed/scheduler.py\", line 2197, in heartbeat_worker\n",
      "    self.tasks[key]: duration for key, duration in executing.items()\n",
      "  File \"/glade/work/kristenk/miniconda/envs/analysis4/lib/python3.7/site-packages/distributed/scheduler.py\", line 2197, in <dictcomp>\n",
      "    self.tasks[key]: duration for key, duration in executing.items()\n",
      "KeyError: \"('open_dataset-24a2a01f9c43908f74eb4f596308dcecDYU-5ee702f9b357e5b08e32b4fb648f1b93', 0, 0)\"\n"
     ]
    },
    {
     "name": "stdout",
     "output_type": "stream",
     "text": [
      "start year= 1979 member= 32\n",
      "start year= 1979 member= 33\n",
      "start year= 1979 member= 34\n",
      "start year= 1979 member= 35\n",
      "start year= 1979 member= 36\n",
      "start year= 1979 member= 37\n",
      "start year= 1979 member= 38\n",
      "start year= 1979 member= 39\n",
      "start year= 1979 member= 40\n"
     ]
    },
    {
     "name": "stderr",
     "output_type": "stream",
     "text": [
      "distributed.core - ERROR - Exception while handling op heartbeat_worker\n",
      "Traceback (most recent call last):\n",
      "  File \"/glade/work/kristenk/miniconda/envs/analysis4/lib/python3.7/site-packages/distributed/core.py\", line 493, in handle_comm\n",
      "    result = handler(comm, **msg)\n",
      "  File \"/glade/work/kristenk/miniconda/envs/analysis4/lib/python3.7/site-packages/distributed/scheduler.py\", line 2197, in heartbeat_worker\n",
      "    self.tasks[key]: duration for key, duration in executing.items()\n",
      "  File \"/glade/work/kristenk/miniconda/envs/analysis4/lib/python3.7/site-packages/distributed/scheduler.py\", line 2197, in <dictcomp>\n",
      "    self.tasks[key]: duration for key, duration in executing.items()\n",
      "KeyError: \"('open_dataset-91cd5452cd2f4c77ac78ef88a5f46069DXU-9fd0c9845610675be07902ed8723a554', 0, 0)\"\n",
      "distributed.core - ERROR - Exception while handling op heartbeat_worker\n",
      "Traceback (most recent call last):\n",
      "  File \"/glade/work/kristenk/miniconda/envs/analysis4/lib/python3.7/site-packages/distributed/core.py\", line 493, in handle_comm\n",
      "    result = handler(comm, **msg)\n",
      "  File \"/glade/work/kristenk/miniconda/envs/analysis4/lib/python3.7/site-packages/distributed/scheduler.py\", line 2197, in heartbeat_worker\n",
      "    self.tasks[key]: duration for key, duration in executing.items()\n",
      "  File \"/glade/work/kristenk/miniconda/envs/analysis4/lib/python3.7/site-packages/distributed/scheduler.py\", line 2197, in <dictcomp>\n",
      "    self.tasks[key]: duration for key, duration in executing.items()\n",
      "KeyError: \"('open_dataset-91cd5452cd2f4c77ac78ef88a5f46069HU-29dda100d1eaabe43b81d4bd5cffd2d1', 0, 0)\"\n"
     ]
    },
    {
     "name": "stdout",
     "output_type": "stream",
     "text": [
      "start year= 1980 member= 1\n",
      "start year= 1980 member= 2\n",
      "start year= 1980 member= 3\n",
      "start year= 1980 member= 4\n",
      "start year= 1980 member= 5\n",
      "start year= 1980 member= 6\n",
      "start year= 1980 member= 7\n",
      "start year= 1980 member= 8\n",
      "start year= 1980 member= 9\n",
      "start year= 1980 member= 10\n",
      "start year= 1980 member= 11\n",
      "start year= 1980 member= 12\n",
      "start year= 1980 member= 13\n",
      "start year= 1980 member= 14\n"
     ]
    },
    {
     "name": "stderr",
     "output_type": "stream",
     "text": [
      "distributed.core - ERROR - Exception while handling op heartbeat_worker\n",
      "Traceback (most recent call last):\n",
      "  File \"/glade/work/kristenk/miniconda/envs/analysis4/lib/python3.7/site-packages/distributed/core.py\", line 493, in handle_comm\n",
      "    result = handler(comm, **msg)\n",
      "  File \"/glade/work/kristenk/miniconda/envs/analysis4/lib/python3.7/site-packages/distributed/scheduler.py\", line 2197, in heartbeat_worker\n",
      "    self.tasks[key]: duration for key, duration in executing.items()\n",
      "  File \"/glade/work/kristenk/miniconda/envs/analysis4/lib/python3.7/site-packages/distributed/scheduler.py\", line 2197, in <dictcomp>\n",
      "    self.tasks[key]: duration for key, duration in executing.items()\n",
      "KeyError: \"('open_dataset-17ee4b378ed9ae3a9aadb5fcf959da6dDXT-ba35412afdacc51b62a09eba18a0f3e3', 0, 0)\"\n"
     ]
    },
    {
     "name": "stdout",
     "output_type": "stream",
     "text": [
      "start year= 1980 member= 15\n",
      "start year= 1980 member= 16\n",
      "start year= 1980 member= 17\n",
      "start year= 1980 member= 18\n",
      "start year= 1980 member= 19\n",
      "start year= 1980 member= 20\n",
      "start year= 1980 member= 21\n",
      "start year= 1980 member= 22\n",
      "start year= 1980 member= 23\n",
      "start year= 1980 member= 24\n",
      "start year= 1980 member= 25\n"
     ]
    },
    {
     "name": "stderr",
     "output_type": "stream",
     "text": [
      "distributed.core - ERROR - Exception while handling op heartbeat_worker\n",
      "Traceback (most recent call last):\n",
      "  File \"/glade/work/kristenk/miniconda/envs/analysis4/lib/python3.7/site-packages/distributed/core.py\", line 493, in handle_comm\n",
      "    result = handler(comm, **msg)\n",
      "  File \"/glade/work/kristenk/miniconda/envs/analysis4/lib/python3.7/site-packages/distributed/scheduler.py\", line 2197, in heartbeat_worker\n",
      "    self.tasks[key]: duration for key, duration in executing.items()\n",
      "  File \"/glade/work/kristenk/miniconda/envs/analysis4/lib/python3.7/site-packages/distributed/scheduler.py\", line 2197, in <dictcomp>\n",
      "    self.tasks[key]: duration for key, duration in executing.items()\n",
      "KeyError: \"('open_dataset-49f5aa06ffc13534bc636a97bc6c7b09HU-e4b6a582040d0657051a7237df3cf1dc', 0, 0)\"\n",
      "distributed.core - ERROR - Exception while handling op heartbeat_worker\n",
      "Traceback (most recent call last):\n",
      "  File \"/glade/work/kristenk/miniconda/envs/analysis4/lib/python3.7/site-packages/distributed/core.py\", line 493, in handle_comm\n",
      "    result = handler(comm, **msg)\n",
      "  File \"/glade/work/kristenk/miniconda/envs/analysis4/lib/python3.7/site-packages/distributed/scheduler.py\", line 2197, in heartbeat_worker\n",
      "    self.tasks[key]: duration for key, duration in executing.items()\n",
      "  File \"/glade/work/kristenk/miniconda/envs/analysis4/lib/python3.7/site-packages/distributed/scheduler.py\", line 2197, in <dictcomp>\n",
      "    self.tasks[key]: duration for key, duration in executing.items()\n",
      "KeyError: \"('open_dataset-49f5aa06ffc13534bc636a97bc6c7b09HUS-47bab9b99b04e6833aac032ac95eb8b8', 0, 0)\"\n"
     ]
    },
    {
     "name": "stdout",
     "output_type": "stream",
     "text": [
      "start year= 1980 member= 26\n",
      "start year= 1980 member= 27\n",
      "start year= 1980 member= 28\n",
      "start year= 1980 member= 29\n"
     ]
    },
    {
     "name": "stderr",
     "output_type": "stream",
     "text": [
      "distributed.core - ERROR - Exception while handling op heartbeat_worker\n",
      "Traceback (most recent call last):\n",
      "  File \"/glade/work/kristenk/miniconda/envs/analysis4/lib/python3.7/site-packages/distributed/core.py\", line 493, in handle_comm\n",
      "    result = handler(comm, **msg)\n",
      "  File \"/glade/work/kristenk/miniconda/envs/analysis4/lib/python3.7/site-packages/distributed/scheduler.py\", line 2197, in heartbeat_worker\n",
      "    self.tasks[key]: duration for key, duration in executing.items()\n",
      "  File \"/glade/work/kristenk/miniconda/envs/analysis4/lib/python3.7/site-packages/distributed/scheduler.py\", line 2197, in <dictcomp>\n",
      "    self.tasks[key]: duration for key, duration in executing.items()\n",
      "KeyError: \"('open_dataset-db69e6ee62b591132927bdc8d36a8d08DYU-c20b2f967175f3f72383b19340ec0246', 0, 0)\"\n"
     ]
    },
    {
     "name": "stdout",
     "output_type": "stream",
     "text": [
      "start year= 1980 member= 30\n",
      "start year= 1980 member= 31\n",
      "start year= 1980 member= 32\n",
      "start year= 1980 member= 33\n",
      "start year= 1980 member= 34\n"
     ]
    },
    {
     "name": "stderr",
     "output_type": "stream",
     "text": [
      "distributed.core - ERROR - Exception while handling op heartbeat_worker\n",
      "Traceback (most recent call last):\n",
      "  File \"/glade/work/kristenk/miniconda/envs/analysis4/lib/python3.7/site-packages/distributed/core.py\", line 493, in handle_comm\n",
      "    result = handler(comm, **msg)\n",
      "  File \"/glade/work/kristenk/miniconda/envs/analysis4/lib/python3.7/site-packages/distributed/scheduler.py\", line 2197, in heartbeat_worker\n",
      "    self.tasks[key]: duration for key, duration in executing.items()\n",
      "  File \"/glade/work/kristenk/miniconda/envs/analysis4/lib/python3.7/site-packages/distributed/scheduler.py\", line 2197, in <dictcomp>\n",
      "    self.tasks[key]: duration for key, duration in executing.items()\n",
      "KeyError: \"('open_dataset-f8ab98b9870b678e02308e1342a7e711ANGLE-b0a93b7a4e65c2dd419a6b84f1354ad9', 0, 0)\"\n"
     ]
    },
    {
     "name": "stdout",
     "output_type": "stream",
     "text": [
      "start year= 1980 member= 35\n"
     ]
    },
    {
     "name": "stderr",
     "output_type": "stream",
     "text": [
      "distributed.core - ERROR - Exception while handling op heartbeat_worker\n",
      "Traceback (most recent call last):\n",
      "  File \"/glade/work/kristenk/miniconda/envs/analysis4/lib/python3.7/site-packages/distributed/core.py\", line 493, in handle_comm\n",
      "    result = handler(comm, **msg)\n",
      "  File \"/glade/work/kristenk/miniconda/envs/analysis4/lib/python3.7/site-packages/distributed/scheduler.py\", line 2197, in heartbeat_worker\n",
      "    self.tasks[key]: duration for key, duration in executing.items()\n",
      "  File \"/glade/work/kristenk/miniconda/envs/analysis4/lib/python3.7/site-packages/distributed/scheduler.py\", line 2197, in <dictcomp>\n",
      "    self.tasks[key]: duration for key, duration in executing.items()\n",
      "KeyError: \"('open_dataset-f8ab98b9870b678e02308e1342a7e711ANGLET-1a25ea6d3bc6ef9dc12723b511e80828', 0, 0)\"\n",
      "distributed.core - ERROR - Exception while handling op heartbeat_worker\n",
      "Traceback (most recent call last):\n",
      "  File \"/glade/work/kristenk/miniconda/envs/analysis4/lib/python3.7/site-packages/distributed/core.py\", line 493, in handle_comm\n",
      "    result = handler(comm, **msg)\n",
      "  File \"/glade/work/kristenk/miniconda/envs/analysis4/lib/python3.7/site-packages/distributed/scheduler.py\", line 2197, in heartbeat_worker\n",
      "    self.tasks[key]: duration for key, duration in executing.items()\n",
      "  File \"/glade/work/kristenk/miniconda/envs/analysis4/lib/python3.7/site-packages/distributed/scheduler.py\", line 2197, in <dictcomp>\n",
      "    self.tasks[key]: duration for key, duration in executing.items()\n",
      "KeyError: \"('open_dataset-f8ab98b9870b678e02308e1342a7e711HU-fabb93e49f5961e0d7dfec366f5a6700', 0, 0)\"\n"
     ]
    },
    {
     "name": "stdout",
     "output_type": "stream",
     "text": [
      "start year= 1980 member= 36\n",
      "start year= 1980 member= 37\n",
      "start year= 1980 member= 38\n",
      "start year= 1980 member= 39\n",
      "start year= 1980 member= 40\n",
      "start year= 1981 member= 1\n",
      "start year= 1981 member= 2\n",
      "start year= 1981 member= 3\n",
      "start year= 1981 member= 4\n",
      "start year= 1981 member= 5\n"
     ]
    },
    {
     "name": "stderr",
     "output_type": "stream",
     "text": [
      "distributed.core - ERROR - Exception while handling op heartbeat_worker\n",
      "Traceback (most recent call last):\n",
      "  File \"/glade/work/kristenk/miniconda/envs/analysis4/lib/python3.7/site-packages/distributed/core.py\", line 493, in handle_comm\n",
      "    result = handler(comm, **msg)\n",
      "  File \"/glade/work/kristenk/miniconda/envs/analysis4/lib/python3.7/site-packages/distributed/scheduler.py\", line 2197, in heartbeat_worker\n",
      "    self.tasks[key]: duration for key, duration in executing.items()\n",
      "  File \"/glade/work/kristenk/miniconda/envs/analysis4/lib/python3.7/site-packages/distributed/scheduler.py\", line 2197, in <dictcomp>\n",
      "    self.tasks[key]: duration for key, duration in executing.items()\n",
      "KeyError: \"('open_dataset-99aba774f37bf2ce30ff4d79d650c939HUS-e9d3c4df8a4dbbd02dc654ad1ee5e5ad', 0, 0)\"\n"
     ]
    },
    {
     "name": "stdout",
     "output_type": "stream",
     "text": [
      "start year= 1981 member= 6\n",
      "start year= 1981 member= 7\n",
      "start year= 1981 member= 8\n",
      "start year= 1981 member= 9\n",
      "start year= 1981 member= 10\n",
      "start year= 1981 member= 11\n",
      "start year= 1981 member= 12\n",
      "start year= 1981 member= 13\n"
     ]
    },
    {
     "name": "stderr",
     "output_type": "stream",
     "text": [
      "distributed.core - ERROR - Exception while handling op heartbeat_worker\n",
      "Traceback (most recent call last):\n",
      "  File \"/glade/work/kristenk/miniconda/envs/analysis4/lib/python3.7/site-packages/distributed/core.py\", line 493, in handle_comm\n",
      "    result = handler(comm, **msg)\n",
      "  File \"/glade/work/kristenk/miniconda/envs/analysis4/lib/python3.7/site-packages/distributed/scheduler.py\", line 2197, in heartbeat_worker\n",
      "    self.tasks[key]: duration for key, duration in executing.items()\n",
      "  File \"/glade/work/kristenk/miniconda/envs/analysis4/lib/python3.7/site-packages/distributed/scheduler.py\", line 2197, in <dictcomp>\n",
      "    self.tasks[key]: duration for key, duration in executing.items()\n",
      "KeyError: \"('open_dataset-1268a6692c2fcc371397d51f8525a73cDYU-99277c81be700d07e60e88a3380277ac', 0, 0)\"\n"
     ]
    },
    {
     "name": "stdout",
     "output_type": "stream",
     "text": [
      "start year= 1981 member= 14\n",
      "start year= 1981 member= 15\n",
      "start year= 1981 member= 16\n",
      "start year= 1981 member= 17\n",
      "start year= 1981 member= 18\n",
      "start year= 1981 member= 19\n",
      "start year= 1981 member= 20\n",
      "start year= 1981 member= 21\n",
      "start year= 1981 member= 22\n",
      "start year= 1981 member= 23\n",
      "start year= 1981 member= 24\n",
      "start year= 1981 member= 25\n",
      "start year= 1981 member= 26\n",
      "start year= 1981 member= 27\n",
      "start year= 1981 member= 28\n",
      "start year= 1981 member= 29\n",
      "start year= 1981 member= 30\n",
      "start year= 1981 member= 31\n",
      "start year= 1981 member= 32\n",
      "start year= 1981 member= 33\n",
      "start year= 1981 member= 34\n",
      "start year= 1981 member= 35\n",
      "start year= 1981 member= 36\n",
      "start year= 1981 member= 37\n",
      "start year= 1981 member= 38\n",
      "start year= 1981 member= 39\n"
     ]
    },
    {
     "name": "stderr",
     "output_type": "stream",
     "text": [
      "distributed.core - ERROR - Exception while handling op heartbeat_worker\n",
      "Traceback (most recent call last):\n",
      "  File \"/glade/work/kristenk/miniconda/envs/analysis4/lib/python3.7/site-packages/distributed/core.py\", line 493, in handle_comm\n",
      "    result = handler(comm, **msg)\n",
      "  File \"/glade/work/kristenk/miniconda/envs/analysis4/lib/python3.7/site-packages/distributed/scheduler.py\", line 2197, in heartbeat_worker\n",
      "    self.tasks[key]: duration for key, duration in executing.items()\n",
      "  File \"/glade/work/kristenk/miniconda/envs/analysis4/lib/python3.7/site-packages/distributed/scheduler.py\", line 2197, in <dictcomp>\n",
      "    self.tasks[key]: duration for key, duration in executing.items()\n",
      "KeyError: \"('open_dataset-6c53937af6e263989120aab2851996d6DYT-654116d0719b0e5291a18edb57eff87a', 0, 0)\"\n",
      "distributed.core - ERROR - Exception while handling op heartbeat_worker\n",
      "Traceback (most recent call last):\n",
      "  File \"/glade/work/kristenk/miniconda/envs/analysis4/lib/python3.7/site-packages/distributed/core.py\", line 493, in handle_comm\n",
      "    result = handler(comm, **msg)\n",
      "  File \"/glade/work/kristenk/miniconda/envs/analysis4/lib/python3.7/site-packages/distributed/scheduler.py\", line 2197, in heartbeat_worker\n",
      "    self.tasks[key]: duration for key, duration in executing.items()\n",
      "  File \"/glade/work/kristenk/miniconda/envs/analysis4/lib/python3.7/site-packages/distributed/scheduler.py\", line 2197, in <dictcomp>\n",
      "    self.tasks[key]: duration for key, duration in executing.items()\n",
      "KeyError: \"('open_dataset-6c53937af6e263989120aab2851996d6DXU-d106aa307ce4e0f5622c878fc0f1929e', 0, 0)\"\n",
      "distributed.core - ERROR - Exception while handling op heartbeat_worker\n",
      "Traceback (most recent call last):\n",
      "  File \"/glade/work/kristenk/miniconda/envs/analysis4/lib/python3.7/site-packages/distributed/core.py\", line 493, in handle_comm\n",
      "    result = handler(comm, **msg)\n",
      "  File \"/glade/work/kristenk/miniconda/envs/analysis4/lib/python3.7/site-packages/distributed/scheduler.py\", line 2197, in heartbeat_worker\n",
      "    self.tasks[key]: duration for key, duration in executing.items()\n",
      "  File \"/glade/work/kristenk/miniconda/envs/analysis4/lib/python3.7/site-packages/distributed/scheduler.py\", line 2197, in <dictcomp>\n",
      "    self.tasks[key]: duration for key, duration in executing.items()\n",
      "KeyError: \"('open_dataset-6c53937af6e263989120aab2851996d6HUS-534c9d873bf1a4886fb7a79f17cf579e', 0, 0)\"\n"
     ]
    },
    {
     "name": "stdout",
     "output_type": "stream",
     "text": [
      "start year= 1981 member= 40\n",
      "start year= 1982 member= 1\n",
      "start year= 1982 member= 2\n",
      "start year= 1982 member= 3\n",
      "start year= 1982 member= 4\n",
      "start year= 1982 member= 5\n"
     ]
    },
    {
     "name": "stderr",
     "output_type": "stream",
     "text": [
      "distributed.core - ERROR - Exception while handling op heartbeat_worker\n",
      "Traceback (most recent call last):\n",
      "  File \"/glade/work/kristenk/miniconda/envs/analysis4/lib/python3.7/site-packages/distributed/core.py\", line 493, in handle_comm\n",
      "    result = handler(comm, **msg)\n",
      "  File \"/glade/work/kristenk/miniconda/envs/analysis4/lib/python3.7/site-packages/distributed/scheduler.py\", line 2197, in heartbeat_worker\n",
      "    self.tasks[key]: duration for key, duration in executing.items()\n",
      "  File \"/glade/work/kristenk/miniconda/envs/analysis4/lib/python3.7/site-packages/distributed/scheduler.py\", line 2197, in <dictcomp>\n",
      "    self.tasks[key]: duration for key, duration in executing.items()\n",
      "KeyError: \"('open_dataset-25078ad4224a2ef90eac8224532d0392HTE-39818e1c2bacef4b25cdc836aff55880', 0, 0)\"\n",
      "distributed.core - ERROR - Exception while handling op heartbeat_worker\n",
      "Traceback (most recent call last):\n",
      "  File \"/glade/work/kristenk/miniconda/envs/analysis4/lib/python3.7/site-packages/distributed/core.py\", line 493, in handle_comm\n",
      "    result = handler(comm, **msg)\n",
      "  File \"/glade/work/kristenk/miniconda/envs/analysis4/lib/python3.7/site-packages/distributed/scheduler.py\", line 2197, in heartbeat_worker\n",
      "    self.tasks[key]: duration for key, duration in executing.items()\n",
      "  File \"/glade/work/kristenk/miniconda/envs/analysis4/lib/python3.7/site-packages/distributed/scheduler.py\", line 2197, in <dictcomp>\n",
      "    self.tasks[key]: duration for key, duration in executing.items()\n",
      "KeyError: \"('open_dataset-25078ad4224a2ef90eac8224532d0392HT-1334a80e4dd3fd213091785dc7b7f61c', 0, 0)\"\n"
     ]
    },
    {
     "name": "stdout",
     "output_type": "stream",
     "text": [
      "start year= 1982 member= 6\n",
      "start year= 1982 member= 7\n",
      "start year= 1982 member= 8\n",
      "start year= 1982 member= 9\n",
      "start year= 1982 member= 10\n",
      "start year= 1982 member= 11\n",
      "start year= 1982 member= 12\n",
      "start year= 1982 member= 13\n",
      "start year= 1982 member= 14\n",
      "start year= 1982 member= 15\n",
      "start year= 1982 member= 16\n",
      "start year= 1982 member= 17\n",
      "start year= 1982 member= 18\n",
      "start year= 1982 member= 19\n",
      "start year= 1982 member= 20\n",
      "start year= 1982 member= 21\n",
      "start year= 1982 member= 22\n",
      "start year= 1982 member= 23\n",
      "start year= 1982 member= 24\n",
      "start year= 1982 member= 25\n",
      "start year= 1982 member= 26\n",
      "start year= 1982 member= 27\n",
      "start year= 1982 member= 28\n",
      "start year= 1982 member= 29\n",
      "start year= 1982 member= 30\n",
      "start year= 1982 member= 31\n",
      "start year= 1982 member= 32\n",
      "start year= 1982 member= 33\n",
      "start year= 1982 member= 34\n",
      "start year= 1982 member= 35\n",
      "start year= 1982 member= 36\n"
     ]
    },
    {
     "name": "stderr",
     "output_type": "stream",
     "text": [
      "distributed.core - ERROR - Exception while handling op heartbeat_worker\n",
      "Traceback (most recent call last):\n",
      "  File \"/glade/work/kristenk/miniconda/envs/analysis4/lib/python3.7/site-packages/distributed/core.py\", line 493, in handle_comm\n",
      "    result = handler(comm, **msg)\n",
      "  File \"/glade/work/kristenk/miniconda/envs/analysis4/lib/python3.7/site-packages/distributed/scheduler.py\", line 2197, in heartbeat_worker\n",
      "    self.tasks[key]: duration for key, duration in executing.items()\n",
      "  File \"/glade/work/kristenk/miniconda/envs/analysis4/lib/python3.7/site-packages/distributed/scheduler.py\", line 2197, in <dictcomp>\n",
      "    self.tasks[key]: duration for key, duration in executing.items()\n",
      "KeyError: \"('open_dataset-8eac724ae88d95eccbe418130a987896ANGLET-8a38d507ce6ea2d23b105148c70c2224', 0, 0)\"\n"
     ]
    },
    {
     "name": "stdout",
     "output_type": "stream",
     "text": [
      "start year= 1982 member= 37\n",
      "start year= 1982 member= 38\n"
     ]
    },
    {
     "name": "stderr",
     "output_type": "stream",
     "text": [
      "distributed.core - ERROR - Exception while handling op heartbeat_worker\n",
      "Traceback (most recent call last):\n",
      "  File \"/glade/work/kristenk/miniconda/envs/analysis4/lib/python3.7/site-packages/distributed/core.py\", line 493, in handle_comm\n",
      "    result = handler(comm, **msg)\n",
      "  File \"/glade/work/kristenk/miniconda/envs/analysis4/lib/python3.7/site-packages/distributed/scheduler.py\", line 2197, in heartbeat_worker\n",
      "    self.tasks[key]: duration for key, duration in executing.items()\n",
      "  File \"/glade/work/kristenk/miniconda/envs/analysis4/lib/python3.7/site-packages/distributed/scheduler.py\", line 2197, in <dictcomp>\n",
      "    self.tasks[key]: duration for key, duration in executing.items()\n",
      "KeyError: \"('open_dataset-75d37f816d7ddeb3e52c041ae4458622DYU-c3631c3e17bd65f9c7cd95607ade3ac4', 0, 0)\"\n"
     ]
    },
    {
     "name": "stdout",
     "output_type": "stream",
     "text": [
      "start year= 1982 member= 39\n",
      "start year= 1982 member= 40\n",
      "start year= 1983 member= 1\n",
      "start year= 1983 member= 2\n",
      "start year= 1983 member= 3\n",
      "start year= 1983 member= 4\n",
      "start year= 1983 member= 5\n",
      "start year= 1983 member= 6\n",
      "start year= 1983 member= 7\n"
     ]
    },
    {
     "name": "stderr",
     "output_type": "stream",
     "text": [
      "distributed.core - ERROR - Exception while handling op heartbeat_worker\n",
      "Traceback (most recent call last):\n",
      "  File \"/glade/work/kristenk/miniconda/envs/analysis4/lib/python3.7/site-packages/distributed/core.py\", line 493, in handle_comm\n",
      "    result = handler(comm, **msg)\n",
      "  File \"/glade/work/kristenk/miniconda/envs/analysis4/lib/python3.7/site-packages/distributed/scheduler.py\", line 2197, in heartbeat_worker\n",
      "    self.tasks[key]: duration for key, duration in executing.items()\n",
      "  File \"/glade/work/kristenk/miniconda/envs/analysis4/lib/python3.7/site-packages/distributed/scheduler.py\", line 2197, in <dictcomp>\n",
      "    self.tasks[key]: duration for key, duration in executing.items()\n",
      "KeyError: \"('open_dataset-e8c80466a65949c0502ff94d03db07b7DXU-b9956da2d329d5bf4a4cb1bebd0f00bb', 0, 0)\"\n"
     ]
    },
    {
     "name": "stdout",
     "output_type": "stream",
     "text": [
      "start year= 1983 member= 8\n",
      "start year= 1983 member= 9\n",
      "start year= 1983 member= 10\n",
      "start year= 1983 member= 11\n",
      "start year= 1983 member= 12\n",
      "start year= 1983 member= 13\n",
      "start year= 1983 member= 14\n",
      "start year= 1983 member= 15\n",
      "start year= 1983 member= 16\n",
      "start year= 1983 member= 17\n",
      "start year= 1983 member= 18\n",
      "start year= 1983 member= 19\n",
      "start year= 1983 member= 20\n",
      "start year= 1983 member= 21\n",
      "start year= 1983 member= 22\n",
      "start year= 1983 member= 23\n"
     ]
    },
    {
     "name": "stderr",
     "output_type": "stream",
     "text": [
      "distributed.core - ERROR - Exception while handling op heartbeat_worker\n",
      "Traceback (most recent call last):\n",
      "  File \"/glade/work/kristenk/miniconda/envs/analysis4/lib/python3.7/site-packages/distributed/core.py\", line 493, in handle_comm\n",
      "    result = handler(comm, **msg)\n",
      "  File \"/glade/work/kristenk/miniconda/envs/analysis4/lib/python3.7/site-packages/distributed/scheduler.py\", line 2197, in heartbeat_worker\n",
      "    self.tasks[key]: duration for key, duration in executing.items()\n",
      "  File \"/glade/work/kristenk/miniconda/envs/analysis4/lib/python3.7/site-packages/distributed/scheduler.py\", line 2197, in <dictcomp>\n",
      "    self.tasks[key]: duration for key, duration in executing.items()\n",
      "KeyError: \"('open_dataset-cf1ddc6bc5809ea94f26280af899d989ANGLE-f95bf051710f1b1cd7e99c3b1604037e', 0, 0)\"\n",
      "distributed.core - ERROR - Exception while handling op heartbeat_worker\n",
      "Traceback (most recent call last):\n",
      "  File \"/glade/work/kristenk/miniconda/envs/analysis4/lib/python3.7/site-packages/distributed/core.py\", line 493, in handle_comm\n",
      "    result = handler(comm, **msg)\n",
      "  File \"/glade/work/kristenk/miniconda/envs/analysis4/lib/python3.7/site-packages/distributed/scheduler.py\", line 2197, in heartbeat_worker\n",
      "    self.tasks[key]: duration for key, duration in executing.items()\n",
      "  File \"/glade/work/kristenk/miniconda/envs/analysis4/lib/python3.7/site-packages/distributed/scheduler.py\", line 2197, in <dictcomp>\n",
      "    self.tasks[key]: duration for key, duration in executing.items()\n",
      "KeyError: \"('open_dataset-cf1ddc6bc5809ea94f26280af899d989ANGLET-a1829e079c25e66eda82b497842cd330', 0, 0)\"\n",
      "distributed.core - ERROR - Exception while handling op heartbeat_worker\n",
      "Traceback (most recent call last):\n",
      "  File \"/glade/work/kristenk/miniconda/envs/analysis4/lib/python3.7/site-packages/distributed/core.py\", line 493, in handle_comm\n",
      "    result = handler(comm, **msg)\n",
      "  File \"/glade/work/kristenk/miniconda/envs/analysis4/lib/python3.7/site-packages/distributed/scheduler.py\", line 2197, in heartbeat_worker\n",
      "    self.tasks[key]: duration for key, duration in executing.items()\n",
      "  File \"/glade/work/kristenk/miniconda/envs/analysis4/lib/python3.7/site-packages/distributed/scheduler.py\", line 2197, in <dictcomp>\n",
      "    self.tasks[key]: duration for key, duration in executing.items()\n",
      "KeyError: \"('open_dataset-cf1ddc6bc5809ea94f26280af899d989HT-04916786951241c6219682353c5e8721', 0, 0)\"\n"
     ]
    },
    {
     "name": "stdout",
     "output_type": "stream",
     "text": [
      "start year= 1983 member= 24\n"
     ]
    },
    {
     "name": "stderr",
     "output_type": "stream",
     "text": [
      "distributed.core - ERROR - Exception while handling op heartbeat_worker\n",
      "Traceback (most recent call last):\n",
      "  File \"/glade/work/kristenk/miniconda/envs/analysis4/lib/python3.7/site-packages/distributed/core.py\", line 493, in handle_comm\n",
      "    result = handler(comm, **msg)\n",
      "  File \"/glade/work/kristenk/miniconda/envs/analysis4/lib/python3.7/site-packages/distributed/scheduler.py\", line 2197, in heartbeat_worker\n",
      "    self.tasks[key]: duration for key, duration in executing.items()\n",
      "  File \"/glade/work/kristenk/miniconda/envs/analysis4/lib/python3.7/site-packages/distributed/scheduler.py\", line 2197, in <dictcomp>\n",
      "    self.tasks[key]: duration for key, duration in executing.items()\n",
      "KeyError: \"('open_dataset-f24fa94d0989fdece7aa6283bde60b2cANGLET-100133fbf494b0d3d55017deaa274312', 0, 0)\"\n",
      "distributed.core - ERROR - Exception while handling op heartbeat_worker\n",
      "Traceback (most recent call last):\n",
      "  File \"/glade/work/kristenk/miniconda/envs/analysis4/lib/python3.7/site-packages/distributed/core.py\", line 493, in handle_comm\n",
      "    result = handler(comm, **msg)\n",
      "  File \"/glade/work/kristenk/miniconda/envs/analysis4/lib/python3.7/site-packages/distributed/scheduler.py\", line 2197, in heartbeat_worker\n",
      "    self.tasks[key]: duration for key, duration in executing.items()\n",
      "  File \"/glade/work/kristenk/miniconda/envs/analysis4/lib/python3.7/site-packages/distributed/scheduler.py\", line 2197, in <dictcomp>\n",
      "    self.tasks[key]: duration for key, duration in executing.items()\n",
      "KeyError: \"('open_dataset-f24fa94d0989fdece7aa6283bde60b2cANGLE-f2994b6eb19cd1c3f53049376d8f49f6', 0, 0)\"\n",
      "distributed.core - ERROR - Exception while handling op heartbeat_worker\n",
      "Traceback (most recent call last):\n",
      "  File \"/glade/work/kristenk/miniconda/envs/analysis4/lib/python3.7/site-packages/distributed/core.py\", line 493, in handle_comm\n",
      "    result = handler(comm, **msg)\n",
      "  File \"/glade/work/kristenk/miniconda/envs/analysis4/lib/python3.7/site-packages/distributed/scheduler.py\", line 2197, in heartbeat_worker\n",
      "    self.tasks[key]: duration for key, duration in executing.items()\n",
      "  File \"/glade/work/kristenk/miniconda/envs/analysis4/lib/python3.7/site-packages/distributed/scheduler.py\", line 2197, in <dictcomp>\n",
      "    self.tasks[key]: duration for key, duration in executing.items()\n",
      "KeyError: \"('open_dataset-f24fa94d0989fdece7aa6283bde60b2cHUW-58bec63eb6f792765a951534705e5ab5', 0, 0)\"\n",
      "distributed.core - ERROR - Exception while handling op heartbeat_worker\n",
      "Traceback (most recent call last):\n",
      "  File \"/glade/work/kristenk/miniconda/envs/analysis4/lib/python3.7/site-packages/distributed/core.py\", line 493, in handle_comm\n",
      "    result = handler(comm, **msg)\n",
      "  File \"/glade/work/kristenk/miniconda/envs/analysis4/lib/python3.7/site-packages/distributed/scheduler.py\", line 2197, in heartbeat_worker\n",
      "    self.tasks[key]: duration for key, duration in executing.items()\n",
      "  File \"/glade/work/kristenk/miniconda/envs/analysis4/lib/python3.7/site-packages/distributed/scheduler.py\", line 2197, in <dictcomp>\n",
      "    self.tasks[key]: duration for key, duration in executing.items()\n",
      "KeyError: \"('open_dataset-f24fa94d0989fdece7aa6283bde60b2cHTN-74e4d4d2c7860e398f57e4e81d8af38b', 0, 0)\"\n"
     ]
    },
    {
     "name": "stdout",
     "output_type": "stream",
     "text": [
      "start year= 1983 member= 25\n",
      "start year= 1983 member= 26\n"
     ]
    },
    {
     "name": "stderr",
     "output_type": "stream",
     "text": [
      "distributed.core - ERROR - Exception while handling op heartbeat_worker\n",
      "Traceback (most recent call last):\n",
      "  File \"/glade/work/kristenk/miniconda/envs/analysis4/lib/python3.7/site-packages/distributed/core.py\", line 493, in handle_comm\n",
      "    result = handler(comm, **msg)\n",
      "  File \"/glade/work/kristenk/miniconda/envs/analysis4/lib/python3.7/site-packages/distributed/scheduler.py\", line 2197, in heartbeat_worker\n",
      "    self.tasks[key]: duration for key, duration in executing.items()\n",
      "  File \"/glade/work/kristenk/miniconda/envs/analysis4/lib/python3.7/site-packages/distributed/scheduler.py\", line 2197, in <dictcomp>\n",
      "    self.tasks[key]: duration for key, duration in executing.items()\n",
      "KeyError: \"('open_dataset-8f7fa1e999a2a9d5e17544abb7ad5f87DXT-0db2e03735240b879734f14133aebbe3', 0, 0)\"\n"
     ]
    },
    {
     "name": "stdout",
     "output_type": "stream",
     "text": [
      "start year= 1983 member= 27\n",
      "start year= 1983 member= 28\n",
      "start year= 1983 member= 29\n",
      "start year= 1983 member= 30\n"
     ]
    },
    {
     "name": "stderr",
     "output_type": "stream",
     "text": [
      "distributed.core - ERROR - Exception while handling op heartbeat_worker\n",
      "Traceback (most recent call last):\n",
      "  File \"/glade/work/kristenk/miniconda/envs/analysis4/lib/python3.7/site-packages/distributed/core.py\", line 493, in handle_comm\n",
      "    result = handler(comm, **msg)\n",
      "  File \"/glade/work/kristenk/miniconda/envs/analysis4/lib/python3.7/site-packages/distributed/scheduler.py\", line 2197, in heartbeat_worker\n",
      "    self.tasks[key]: duration for key, duration in executing.items()\n",
      "  File \"/glade/work/kristenk/miniconda/envs/analysis4/lib/python3.7/site-packages/distributed/scheduler.py\", line 2197, in <dictcomp>\n",
      "    self.tasks[key]: duration for key, duration in executing.items()\n",
      "KeyError: \"('open_dataset-fa3ebacb33fab99276fe94da0521e6acHTE-7284b9a39a2d7a529ca0914746f30b8c', 0, 0)\"\n"
     ]
    },
    {
     "name": "stdout",
     "output_type": "stream",
     "text": [
      "start year= 1983 member= 31\n",
      "start year= 1983 member= 32\n",
      "start year= 1983 member= 33\n",
      "start year= 1983 member= 34\n",
      "start year= 1983 member= 35\n"
     ]
    },
    {
     "name": "stderr",
     "output_type": "stream",
     "text": [
      "distributed.core - ERROR - Exception while handling op heartbeat_worker\n",
      "Traceback (most recent call last):\n",
      "  File \"/glade/work/kristenk/miniconda/envs/analysis4/lib/python3.7/site-packages/distributed/core.py\", line 493, in handle_comm\n",
      "    result = handler(comm, **msg)\n",
      "  File \"/glade/work/kristenk/miniconda/envs/analysis4/lib/python3.7/site-packages/distributed/scheduler.py\", line 2197, in heartbeat_worker\n",
      "    self.tasks[key]: duration for key, duration in executing.items()\n",
      "  File \"/glade/work/kristenk/miniconda/envs/analysis4/lib/python3.7/site-packages/distributed/scheduler.py\", line 2197, in <dictcomp>\n",
      "    self.tasks[key]: duration for key, duration in executing.items()\n",
      "KeyError: \"('open_dataset-6c003ea7716b369c5031ca706da6659fHTN-463471bd7125962ece25f22cda23f19d', 0, 0)\"\n"
     ]
    },
    {
     "name": "stdout",
     "output_type": "stream",
     "text": [
      "start year= 1983 member= 36\n"
     ]
    },
    {
     "name": "stderr",
     "output_type": "stream",
     "text": [
      "distributed.core - ERROR - Exception while handling op heartbeat_worker\n",
      "Traceback (most recent call last):\n",
      "  File \"/glade/work/kristenk/miniconda/envs/analysis4/lib/python3.7/site-packages/distributed/core.py\", line 493, in handle_comm\n",
      "    result = handler(comm, **msg)\n",
      "  File \"/glade/work/kristenk/miniconda/envs/analysis4/lib/python3.7/site-packages/distributed/scheduler.py\", line 2197, in heartbeat_worker\n",
      "    self.tasks[key]: duration for key, duration in executing.items()\n",
      "  File \"/glade/work/kristenk/miniconda/envs/analysis4/lib/python3.7/site-packages/distributed/scheduler.py\", line 2197, in <dictcomp>\n",
      "    self.tasks[key]: duration for key, duration in executing.items()\n",
      "KeyError: \"('open_dataset-6c003ea7716b369c5031ca706da6659fHUW-ad4306f05896d9c0ed94d021be6f5ada', 0, 0)\"\n",
      "distributed.core - ERROR - Exception while handling op heartbeat_worker\n",
      "Traceback (most recent call last):\n",
      "  File \"/glade/work/kristenk/miniconda/envs/analysis4/lib/python3.7/site-packages/distributed/core.py\", line 493, in handle_comm\n",
      "    result = handler(comm, **msg)\n",
      "  File \"/glade/work/kristenk/miniconda/envs/analysis4/lib/python3.7/site-packages/distributed/scheduler.py\", line 2197, in heartbeat_worker\n",
      "    self.tasks[key]: duration for key, duration in executing.items()\n",
      "  File \"/glade/work/kristenk/miniconda/envs/analysis4/lib/python3.7/site-packages/distributed/scheduler.py\", line 2197, in <dictcomp>\n",
      "    self.tasks[key]: duration for key, duration in executing.items()\n",
      "KeyError: \"('open_dataset-6c003ea7716b369c5031ca706da6659fANGLET-0b89a79470f5083310a679119ef4b766', 0, 0)\"\n"
     ]
    },
    {
     "name": "stdout",
     "output_type": "stream",
     "text": [
      "start year= 1983 member= 37\n",
      "start year= 1983 member= 38\n"
     ]
    },
    {
     "name": "stderr",
     "output_type": "stream",
     "text": [
      "distributed.core - ERROR - Exception while handling op heartbeat_worker\n",
      "Traceback (most recent call last):\n",
      "  File \"/glade/work/kristenk/miniconda/envs/analysis4/lib/python3.7/site-packages/distributed/core.py\", line 493, in handle_comm\n",
      "    result = handler(comm, **msg)\n",
      "  File \"/glade/work/kristenk/miniconda/envs/analysis4/lib/python3.7/site-packages/distributed/scheduler.py\", line 2197, in heartbeat_worker\n",
      "    self.tasks[key]: duration for key, duration in executing.items()\n",
      "  File \"/glade/work/kristenk/miniconda/envs/analysis4/lib/python3.7/site-packages/distributed/scheduler.py\", line 2197, in <dictcomp>\n",
      "    self.tasks[key]: duration for key, duration in executing.items()\n",
      "KeyError: \"('open_dataset-9cf88743ab762cfd582a8e9580a2c7b0DYU-d7d008f6d3664489ab7067dce4c3fd06', 0, 0)\"\n"
     ]
    },
    {
     "name": "stdout",
     "output_type": "stream",
     "text": [
      "start year= 1983 member= 39\n"
     ]
    },
    {
     "name": "stderr",
     "output_type": "stream",
     "text": [
      "distributed.core - ERROR - Exception while handling op heartbeat_worker\n",
      "Traceback (most recent call last):\n",
      "  File \"/glade/work/kristenk/miniconda/envs/analysis4/lib/python3.7/site-packages/distributed/core.py\", line 493, in handle_comm\n",
      "    result = handler(comm, **msg)\n",
      "  File \"/glade/work/kristenk/miniconda/envs/analysis4/lib/python3.7/site-packages/distributed/scheduler.py\", line 2197, in heartbeat_worker\n",
      "    self.tasks[key]: duration for key, duration in executing.items()\n",
      "  File \"/glade/work/kristenk/miniconda/envs/analysis4/lib/python3.7/site-packages/distributed/scheduler.py\", line 2197, in <dictcomp>\n",
      "    self.tasks[key]: duration for key, duration in executing.items()\n",
      "KeyError: \"('open_dataset-8f3e34404c46a9386b2a943df5940fe4ANGLE-225c49a1882cb69ff969e23b7afcceb8', 0, 0)\"\n",
      "distributed.core - ERROR - Exception while handling op heartbeat_worker\n",
      "Traceback (most recent call last):\n",
      "  File \"/glade/work/kristenk/miniconda/envs/analysis4/lib/python3.7/site-packages/distributed/core.py\", line 493, in handle_comm\n",
      "    result = handler(comm, **msg)\n",
      "  File \"/glade/work/kristenk/miniconda/envs/analysis4/lib/python3.7/site-packages/distributed/scheduler.py\", line 2197, in heartbeat_worker\n",
      "    self.tasks[key]: duration for key, duration in executing.items()\n",
      "  File \"/glade/work/kristenk/miniconda/envs/analysis4/lib/python3.7/site-packages/distributed/scheduler.py\", line 2197, in <dictcomp>\n",
      "    self.tasks[key]: duration for key, duration in executing.items()\n",
      "KeyError: \"('open_dataset-8f3e34404c46a9386b2a943df5940fe4HTN-62027707fc6e71b35db4318f976d9de2', 0, 0)\"\n"
     ]
    },
    {
     "name": "stdout",
     "output_type": "stream",
     "text": [
      "start year= 1983 member= 40\n"
     ]
    },
    {
     "name": "stderr",
     "output_type": "stream",
     "text": [
      "distributed.core - ERROR - Exception while handling op heartbeat_worker\n",
      "Traceback (most recent call last):\n",
      "  File \"/glade/work/kristenk/miniconda/envs/analysis4/lib/python3.7/site-packages/distributed/core.py\", line 493, in handle_comm\n",
      "    result = handler(comm, **msg)\n",
      "  File \"/glade/work/kristenk/miniconda/envs/analysis4/lib/python3.7/site-packages/distributed/scheduler.py\", line 2197, in heartbeat_worker\n",
      "    self.tasks[key]: duration for key, duration in executing.items()\n",
      "  File \"/glade/work/kristenk/miniconda/envs/analysis4/lib/python3.7/site-packages/distributed/scheduler.py\", line 2197, in <dictcomp>\n",
      "    self.tasks[key]: duration for key, duration in executing.items()\n",
      "KeyError: \"('open_dataset-8f3e34404c46a9386b2a943df5940fe4ANGLET-7975c1520a23beb37a0b64bb33ef7b15', 0, 0)\"\n"
     ]
    },
    {
     "name": "stdout",
     "output_type": "stream",
     "text": [
      "start year= 1984 member= 1\n"
     ]
    },
    {
     "name": "stderr",
     "output_type": "stream",
     "text": [
      "distributed.core - ERROR - Exception while handling op heartbeat_worker\n",
      "Traceback (most recent call last):\n",
      "  File \"/glade/work/kristenk/miniconda/envs/analysis4/lib/python3.7/site-packages/distributed/core.py\", line 493, in handle_comm\n",
      "    result = handler(comm, **msg)\n",
      "  File \"/glade/work/kristenk/miniconda/envs/analysis4/lib/python3.7/site-packages/distributed/scheduler.py\", line 2197, in heartbeat_worker\n",
      "    self.tasks[key]: duration for key, duration in executing.items()\n",
      "  File \"/glade/work/kristenk/miniconda/envs/analysis4/lib/python3.7/site-packages/distributed/scheduler.py\", line 2197, in <dictcomp>\n",
      "    self.tasks[key]: duration for key, duration in executing.items()\n",
      "KeyError: \"('open_dataset-23062898a2cc58261228a1adb078ada1ANGLE-3589ba1864a3d2afa962842c2e57fa4a', 0, 0)\"\n",
      "distributed.core - ERROR - Exception while handling op heartbeat_worker\n",
      "Traceback (most recent call last):\n",
      "  File \"/glade/work/kristenk/miniconda/envs/analysis4/lib/python3.7/site-packages/distributed/core.py\", line 493, in handle_comm\n",
      "    result = handler(comm, **msg)\n",
      "  File \"/glade/work/kristenk/miniconda/envs/analysis4/lib/python3.7/site-packages/distributed/scheduler.py\", line 2197, in heartbeat_worker\n",
      "    self.tasks[key]: duration for key, duration in executing.items()\n",
      "  File \"/glade/work/kristenk/miniconda/envs/analysis4/lib/python3.7/site-packages/distributed/scheduler.py\", line 2197, in <dictcomp>\n",
      "    self.tasks[key]: duration for key, duration in executing.items()\n",
      "KeyError: \"('open_dataset-23062898a2cc58261228a1adb078ada1HUW-0b77e69ebb32bd76e65002d133149cad', 0, 0)\"\n",
      "distributed.core - ERROR - Exception while handling op heartbeat_worker\n",
      "Traceback (most recent call last):\n",
      "  File \"/glade/work/kristenk/miniconda/envs/analysis4/lib/python3.7/site-packages/distributed/core.py\", line 493, in handle_comm\n",
      "    result = handler(comm, **msg)\n",
      "  File \"/glade/work/kristenk/miniconda/envs/analysis4/lib/python3.7/site-packages/distributed/scheduler.py\", line 2197, in heartbeat_worker\n",
      "    self.tasks[key]: duration for key, duration in executing.items()\n",
      "  File \"/glade/work/kristenk/miniconda/envs/analysis4/lib/python3.7/site-packages/distributed/scheduler.py\", line 2197, in <dictcomp>\n",
      "    self.tasks[key]: duration for key, duration in executing.items()\n",
      "KeyError: \"('open_dataset-23062898a2cc58261228a1adb078ada1HTN-eb20250bc818f41707ad116f1e4579d8', 0, 0)\"\n"
     ]
    },
    {
     "name": "stdout",
     "output_type": "stream",
     "text": [
      "start year= 1984 member= 2\n",
      "start year= 1984 member= 3\n",
      "start year= 1984 member= 4\n",
      "start year= 1984 member= 5\n",
      "start year= 1984 member= 6\n",
      "start year= 1984 member= 7\n",
      "start year= 1984 member= 8\n"
     ]
    },
    {
     "name": "stderr",
     "output_type": "stream",
     "text": [
      "distributed.core - ERROR - Exception while handling op heartbeat_worker\n",
      "Traceback (most recent call last):\n",
      "  File \"/glade/work/kristenk/miniconda/envs/analysis4/lib/python3.7/site-packages/distributed/core.py\", line 493, in handle_comm\n",
      "    result = handler(comm, **msg)\n",
      "  File \"/glade/work/kristenk/miniconda/envs/analysis4/lib/python3.7/site-packages/distributed/scheduler.py\", line 2197, in heartbeat_worker\n",
      "    self.tasks[key]: duration for key, duration in executing.items()\n",
      "  File \"/glade/work/kristenk/miniconda/envs/analysis4/lib/python3.7/site-packages/distributed/scheduler.py\", line 2197, in <dictcomp>\n",
      "    self.tasks[key]: duration for key, duration in executing.items()\n",
      "KeyError: \"('open_dataset-7332078c45375356bb7e007d7085b736DYT-b17e8cd1ffc832cadfc1d9adbe8822b9', 0, 0)\"\n",
      "distributed.core - ERROR - Exception while handling op heartbeat_worker\n",
      "Traceback (most recent call last):\n",
      "  File \"/glade/work/kristenk/miniconda/envs/analysis4/lib/python3.7/site-packages/distributed/core.py\", line 493, in handle_comm\n",
      "    result = handler(comm, **msg)\n",
      "  File \"/glade/work/kristenk/miniconda/envs/analysis4/lib/python3.7/site-packages/distributed/scheduler.py\", line 2197, in heartbeat_worker\n",
      "    self.tasks[key]: duration for key, duration in executing.items()\n",
      "  File \"/glade/work/kristenk/miniconda/envs/analysis4/lib/python3.7/site-packages/distributed/scheduler.py\", line 2197, in <dictcomp>\n",
      "    self.tasks[key]: duration for key, duration in executing.items()\n",
      "KeyError: \"('open_dataset-7332078c45375356bb7e007d7085b736DXT-d1577b2540e7bf5b0b48ea6967ef605a', 0, 0)\"\n"
     ]
    },
    {
     "name": "stdout",
     "output_type": "stream",
     "text": [
      "start year= 1984 member= 9\n",
      "start year= 1984 member= 10\n",
      "start year= 1984 member= 11\n",
      "start year= 1984 member= 12\n",
      "start year= 1984 member= 13\n",
      "start year= 1984 member= 14\n",
      "start year= 1984 member= 15\n",
      "start year= 1984 member= 16\n",
      "start year= 1984 member= 17\n",
      "start year= 1984 member= 18\n",
      "start year= 1984 member= 19\n",
      "start year= 1984 member= 20\n",
      "start year= 1984 member= 21\n",
      "start year= 1984 member= 22\n",
      "start year= 1984 member= 23\n",
      "start year= 1984 member= 24\n",
      "start year= 1984 member= 25\n",
      "start year= 1984 member= 26\n",
      "start year= 1984 member= 27\n",
      "start year= 1984 member= 28\n",
      "start year= 1984 member= 29\n",
      "start year= 1984 member= 30\n",
      "start year= 1984 member= 31\n",
      "start year= 1984 member= 32\n",
      "start year= 1984 member= 33\n",
      "start year= 1984 member= 34\n",
      "start year= 1984 member= 35\n",
      "start year= 1984 member= 36\n",
      "start year= 1984 member= 37\n",
      "start year= 1984 member= 38\n",
      "start year= 1984 member= 39\n",
      "start year= 1984 member= 40\n",
      "start year= 1985 member= 1\n",
      "start year= 1985 member= 2\n",
      "start year= 1985 member= 3\n",
      "start year= 1985 member= 4\n"
     ]
    },
    {
     "name": "stderr",
     "output_type": "stream",
     "text": [
      "distributed.core - ERROR - Exception while handling op heartbeat_worker\n",
      "Traceback (most recent call last):\n",
      "  File \"/glade/work/kristenk/miniconda/envs/analysis4/lib/python3.7/site-packages/distributed/core.py\", line 493, in handle_comm\n",
      "    result = handler(comm, **msg)\n",
      "  File \"/glade/work/kristenk/miniconda/envs/analysis4/lib/python3.7/site-packages/distributed/scheduler.py\", line 2197, in heartbeat_worker\n",
      "    self.tasks[key]: duration for key, duration in executing.items()\n",
      "  File \"/glade/work/kristenk/miniconda/envs/analysis4/lib/python3.7/site-packages/distributed/scheduler.py\", line 2197, in <dictcomp>\n",
      "    self.tasks[key]: duration for key, duration in executing.items()\n",
      "KeyError: \"('open_dataset-1bfb721b4840a261320e2e16eae45e12HTN-04023e7b0130a96c3c68e0a10512e2a7', 0, 0)\"\n",
      "distributed.core - ERROR - Exception while handling op heartbeat_worker\n",
      "Traceback (most recent call last):\n",
      "  File \"/glade/work/kristenk/miniconda/envs/analysis4/lib/python3.7/site-packages/distributed/core.py\", line 493, in handle_comm\n",
      "    result = handler(comm, **msg)\n",
      "  File \"/glade/work/kristenk/miniconda/envs/analysis4/lib/python3.7/site-packages/distributed/scheduler.py\", line 2197, in heartbeat_worker\n",
      "    self.tasks[key]: duration for key, duration in executing.items()\n",
      "  File \"/glade/work/kristenk/miniconda/envs/analysis4/lib/python3.7/site-packages/distributed/scheduler.py\", line 2197, in <dictcomp>\n",
      "    self.tasks[key]: duration for key, duration in executing.items()\n",
      "KeyError: \"('open_dataset-1bfb721b4840a261320e2e16eae45e12HTE-3dde9fe4663a756fe409ae0b7f161c69', 0, 0)\"\n",
      "distributed.core - ERROR - Exception while handling op heartbeat_worker\n",
      "Traceback (most recent call last):\n",
      "  File \"/glade/work/kristenk/miniconda/envs/analysis4/lib/python3.7/site-packages/distributed/core.py\", line 493, in handle_comm\n",
      "    result = handler(comm, **msg)\n",
      "  File \"/glade/work/kristenk/miniconda/envs/analysis4/lib/python3.7/site-packages/distributed/scheduler.py\", line 2197, in heartbeat_worker\n",
      "    self.tasks[key]: duration for key, duration in executing.items()\n",
      "  File \"/glade/work/kristenk/miniconda/envs/analysis4/lib/python3.7/site-packages/distributed/scheduler.py\", line 2197, in <dictcomp>\n",
      "    self.tasks[key]: duration for key, duration in executing.items()\n",
      "KeyError: \"('open_dataset-1bfb721b4840a261320e2e16eae45e12HT-973aa254177072952897ce3471913a94', 0, 0)\"\n"
     ]
    },
    {
     "name": "stdout",
     "output_type": "stream",
     "text": [
      "start year= 1985 member= 5\n",
      "start year= 1985 member= 6\n",
      "start year= 1985 member= 7\n",
      "start year= 1985 member= 8\n",
      "start year= 1985 member= 9\n",
      "start year= 1985 member= 10\n",
      "start year= 1985 member= 11\n",
      "start year= 1985 member= 12\n",
      "start year= 1985 member= 13\n",
      "start year= 1985 member= 14\n",
      "start year= 1985 member= 15\n",
      "start year= 1985 member= 16\n",
      "start year= 1985 member= 17\n",
      "start year= 1985 member= 18\n",
      "start year= 1985 member= 19\n"
     ]
    },
    {
     "name": "stderr",
     "output_type": "stream",
     "text": [
      "distributed.core - ERROR - Exception while handling op heartbeat_worker\n",
      "Traceback (most recent call last):\n",
      "  File \"/glade/work/kristenk/miniconda/envs/analysis4/lib/python3.7/site-packages/distributed/core.py\", line 493, in handle_comm\n",
      "    result = handler(comm, **msg)\n",
      "  File \"/glade/work/kristenk/miniconda/envs/analysis4/lib/python3.7/site-packages/distributed/scheduler.py\", line 2197, in heartbeat_worker\n",
      "    self.tasks[key]: duration for key, duration in executing.items()\n",
      "  File \"/glade/work/kristenk/miniconda/envs/analysis4/lib/python3.7/site-packages/distributed/scheduler.py\", line 2197, in <dictcomp>\n",
      "    self.tasks[key]: duration for key, duration in executing.items()\n",
      "KeyError: \"('open_dataset-342ba3e278ce921558596f14d9962d71HU-a6f8de7f2d471e87a781085a00a8e6ab', 0, 0)\"\n"
     ]
    },
    {
     "name": "stdout",
     "output_type": "stream",
     "text": [
      "start year= 1985 member= 20\n",
      "start year= 1985 member= 21\n",
      "start year= 1985 member= 22\n",
      "start year= 1985 member= 23\n",
      "start year= 1985 member= 24\n",
      "start year= 1985 member= 25\n",
      "start year= 1985 member= 26\n",
      "start year= 1985 member= 27\n",
      "start year= 1985 member= 28\n",
      "start year= 1985 member= 29\n",
      "start year= 1985 member= 30\n",
      "start year= 1985 member= 31\n",
      "start year= 1985 member= 32\n",
      "start year= 1985 member= 33\n",
      "start year= 1985 member= 34\n",
      "start year= 1985 member= 35\n",
      "start year= 1985 member= 36\n",
      "start year= 1985 member= 37\n",
      "start year= 1985 member= 38\n",
      "start year= 1985 member= 39\n",
      "start year= 1985 member= 40\n",
      "start year= 1986 member= 1\n",
      "start year= 1986 member= 2\n",
      "start year= 1986 member= 3\n"
     ]
    },
    {
     "name": "stderr",
     "output_type": "stream",
     "text": [
      "distributed.core - ERROR - Exception while handling op heartbeat_worker\n",
      "Traceback (most recent call last):\n",
      "  File \"/glade/work/kristenk/miniconda/envs/analysis4/lib/python3.7/site-packages/distributed/core.py\", line 493, in handle_comm\n",
      "    result = handler(comm, **msg)\n",
      "  File \"/glade/work/kristenk/miniconda/envs/analysis4/lib/python3.7/site-packages/distributed/scheduler.py\", line 2197, in heartbeat_worker\n",
      "    self.tasks[key]: duration for key, duration in executing.items()\n",
      "  File \"/glade/work/kristenk/miniconda/envs/analysis4/lib/python3.7/site-packages/distributed/scheduler.py\", line 2197, in <dictcomp>\n",
      "    self.tasks[key]: duration for key, duration in executing.items()\n",
      "KeyError: \"('open_dataset-ba3b57108b02438112ca4a150b67e3e6HUS-3b2b7515a839849d1b023bfa121ece2f', 0, 0)\"\n",
      "distributed.core - ERROR - Exception while handling op heartbeat_worker\n",
      "Traceback (most recent call last):\n",
      "  File \"/glade/work/kristenk/miniconda/envs/analysis4/lib/python3.7/site-packages/distributed/core.py\", line 493, in handle_comm\n",
      "    result = handler(comm, **msg)\n",
      "  File \"/glade/work/kristenk/miniconda/envs/analysis4/lib/python3.7/site-packages/distributed/scheduler.py\", line 2197, in heartbeat_worker\n",
      "    self.tasks[key]: duration for key, duration in executing.items()\n",
      "  File \"/glade/work/kristenk/miniconda/envs/analysis4/lib/python3.7/site-packages/distributed/scheduler.py\", line 2197, in <dictcomp>\n",
      "    self.tasks[key]: duration for key, duration in executing.items()\n",
      "KeyError: \"('open_dataset-ba3b57108b02438112ca4a150b67e3e6HU-b8dffb71ce8eb11fb8bd4785b93529b7', 0, 0)\"\n"
     ]
    },
    {
     "name": "stdout",
     "output_type": "stream",
     "text": [
      "start year= 1986 member= 4\n",
      "start year= 1986 member= 5\n",
      "start year= 1986 member= 6\n",
      "start year= 1986 member= 7\n",
      "start year= 1986 member= 8\n",
      "start year= 1986 member= 9\n",
      "start year= 1986 member= 10\n",
      "start year= 1986 member= 11\n",
      "start year= 1986 member= 12\n",
      "start year= 1986 member= 13\n",
      "start year= 1986 member= 14\n",
      "start year= 1986 member= 15\n",
      "start year= 1986 member= 16\n",
      "start year= 1986 member= 17\n",
      "start year= 1986 member= 18\n"
     ]
    },
    {
     "name": "stderr",
     "output_type": "stream",
     "text": [
      "distributed.core - ERROR - Exception while handling op heartbeat_worker\n",
      "Traceback (most recent call last):\n",
      "  File \"/glade/work/kristenk/miniconda/envs/analysis4/lib/python3.7/site-packages/distributed/core.py\", line 493, in handle_comm\n",
      "    result = handler(comm, **msg)\n",
      "  File \"/glade/work/kristenk/miniconda/envs/analysis4/lib/python3.7/site-packages/distributed/scheduler.py\", line 2197, in heartbeat_worker\n",
      "    self.tasks[key]: duration for key, duration in executing.items()\n",
      "  File \"/glade/work/kristenk/miniconda/envs/analysis4/lib/python3.7/site-packages/distributed/scheduler.py\", line 2197, in <dictcomp>\n",
      "    self.tasks[key]: duration for key, duration in executing.items()\n",
      "KeyError: \"('open_dataset-5d144b607429592515f10ed9b8e69a59DYU-281d8df5a2acc1eea105f621d9b32477', 0, 0)\"\n"
     ]
    },
    {
     "name": "stdout",
     "output_type": "stream",
     "text": [
      "start year= 1986 member= 19\n"
     ]
    },
    {
     "name": "stderr",
     "output_type": "stream",
     "text": [
      "distributed.core - ERROR - Exception while handling op heartbeat_worker\n",
      "Traceback (most recent call last):\n",
      "  File \"/glade/work/kristenk/miniconda/envs/analysis4/lib/python3.7/site-packages/distributed/core.py\", line 493, in handle_comm\n",
      "    result = handler(comm, **msg)\n",
      "  File \"/glade/work/kristenk/miniconda/envs/analysis4/lib/python3.7/site-packages/distributed/scheduler.py\", line 2197, in heartbeat_worker\n",
      "    self.tasks[key]: duration for key, duration in executing.items()\n",
      "  File \"/glade/work/kristenk/miniconda/envs/analysis4/lib/python3.7/site-packages/distributed/scheduler.py\", line 2197, in <dictcomp>\n",
      "    self.tasks[key]: duration for key, duration in executing.items()\n",
      "KeyError: \"('open_dataset-5802974bec4432e00766b7c715f5e189DXT-4316c200239b11d87529df9bc817ce2a', 0, 0)\"\n"
     ]
    },
    {
     "name": "stdout",
     "output_type": "stream",
     "text": [
      "start year= 1986 member= 20\n",
      "start year= 1986 member= 21\n",
      "start year= 1986 member= 22\n",
      "start year= 1986 member= 23\n",
      "start year= 1986 member= 24\n",
      "start year= 1986 member= 25\n",
      "start year= 1986 member= 26\n",
      "start year= 1986 member= 27\n"
     ]
    },
    {
     "name": "stderr",
     "output_type": "stream",
     "text": [
      "distributed.core - ERROR - Exception while handling op heartbeat_worker\n",
      "Traceback (most recent call last):\n",
      "  File \"/glade/work/kristenk/miniconda/envs/analysis4/lib/python3.7/site-packages/distributed/core.py\", line 493, in handle_comm\n",
      "    result = handler(comm, **msg)\n",
      "  File \"/glade/work/kristenk/miniconda/envs/analysis4/lib/python3.7/site-packages/distributed/scheduler.py\", line 2197, in heartbeat_worker\n",
      "    self.tasks[key]: duration for key, duration in executing.items()\n",
      "  File \"/glade/work/kristenk/miniconda/envs/analysis4/lib/python3.7/site-packages/distributed/scheduler.py\", line 2197, in <dictcomp>\n",
      "    self.tasks[key]: duration for key, duration in executing.items()\n",
      "KeyError: \"('open_dataset-37de541322607dc6f48752dc46c2c401DXU-e47ae7beec7cb043accfb24481f32209', 0, 0)\"\n",
      "distributed.core - ERROR - Exception while handling op heartbeat_worker\n",
      "Traceback (most recent call last):\n",
      "  File \"/glade/work/kristenk/miniconda/envs/analysis4/lib/python3.7/site-packages/distributed/core.py\", line 493, in handle_comm\n",
      "    result = handler(comm, **msg)\n",
      "  File \"/glade/work/kristenk/miniconda/envs/analysis4/lib/python3.7/site-packages/distributed/scheduler.py\", line 2197, in heartbeat_worker\n",
      "    self.tasks[key]: duration for key, duration in executing.items()\n",
      "  File \"/glade/work/kristenk/miniconda/envs/analysis4/lib/python3.7/site-packages/distributed/scheduler.py\", line 2197, in <dictcomp>\n",
      "    self.tasks[key]: duration for key, duration in executing.items()\n",
      "KeyError: \"('open_dataset-37de541322607dc6f48752dc46c2c401DYT-cee8dd41677062c6337e650f76c8e9f3', 0, 0)\"\n",
      "distributed.core - ERROR - Exception while handling op heartbeat_worker\n",
      "Traceback (most recent call last):\n",
      "  File \"/glade/work/kristenk/miniconda/envs/analysis4/lib/python3.7/site-packages/distributed/core.py\", line 493, in handle_comm\n",
      "    result = handler(comm, **msg)\n",
      "  File \"/glade/work/kristenk/miniconda/envs/analysis4/lib/python3.7/site-packages/distributed/scheduler.py\", line 2197, in heartbeat_worker\n",
      "    self.tasks[key]: duration for key, duration in executing.items()\n",
      "  File \"/glade/work/kristenk/miniconda/envs/analysis4/lib/python3.7/site-packages/distributed/scheduler.py\", line 2197, in <dictcomp>\n",
      "    self.tasks[key]: duration for key, duration in executing.items()\n",
      "KeyError: \"('open_dataset-37de541322607dc6f48752dc46c2c401HU-76c9894a205e4abee00f223b294cfc81', 0, 0)\"\n"
     ]
    },
    {
     "name": "stdout",
     "output_type": "stream",
     "text": [
      "start year= 1986 member= 28\n",
      "start year= 1986 member= 29\n",
      "start year= 1986 member= 30\n",
      "start year= 1986 member= 31\n",
      "start year= 1986 member= 32\n"
     ]
    },
    {
     "name": "stderr",
     "output_type": "stream",
     "text": [
      "distributed.core - ERROR - Exception while handling op heartbeat_worker\n",
      "Traceback (most recent call last):\n",
      "  File \"/glade/work/kristenk/miniconda/envs/analysis4/lib/python3.7/site-packages/distributed/core.py\", line 493, in handle_comm\n",
      "    result = handler(comm, **msg)\n",
      "  File \"/glade/work/kristenk/miniconda/envs/analysis4/lib/python3.7/site-packages/distributed/scheduler.py\", line 2197, in heartbeat_worker\n",
      "    self.tasks[key]: duration for key, duration in executing.items()\n",
      "  File \"/glade/work/kristenk/miniconda/envs/analysis4/lib/python3.7/site-packages/distributed/scheduler.py\", line 2197, in <dictcomp>\n",
      "    self.tasks[key]: duration for key, duration in executing.items()\n",
      "KeyError: \"('open_dataset-f2709cf99b11ca4951d9752d284d4e3fDYT-8cc9fe08583463429362f62d7bcf96ac', 0, 0)\"\n"
     ]
    },
    {
     "name": "stdout",
     "output_type": "stream",
     "text": [
      "start year= 1986 member= 33\n",
      "start year= 1986 member= 34\n",
      "start year= 1986 member= 35\n",
      "start year= 1986 member= 36\n",
      "start year= 1986 member= 37\n",
      "start year= 1986 member= 38\n",
      "start year= 1986 member= 39\n",
      "start year= 1986 member= 40\n",
      "start year= 1987 member= 1\n",
      "start year= 1987 member= 2\n",
      "start year= 1987 member= 3\n"
     ]
    },
    {
     "name": "stderr",
     "output_type": "stream",
     "text": [
      "distributed.core - ERROR - Exception while handling op heartbeat_worker\n",
      "Traceback (most recent call last):\n",
      "  File \"/glade/work/kristenk/miniconda/envs/analysis4/lib/python3.7/site-packages/distributed/core.py\", line 493, in handle_comm\n",
      "    result = handler(comm, **msg)\n",
      "  File \"/glade/work/kristenk/miniconda/envs/analysis4/lib/python3.7/site-packages/distributed/scheduler.py\", line 2197, in heartbeat_worker\n",
      "    self.tasks[key]: duration for key, duration in executing.items()\n",
      "  File \"/glade/work/kristenk/miniconda/envs/analysis4/lib/python3.7/site-packages/distributed/scheduler.py\", line 2197, in <dictcomp>\n",
      "    self.tasks[key]: duration for key, duration in executing.items()\n",
      "KeyError: \"('open_dataset-fe93473a70eb6e0f73aced4107e8f5e4DYU-1e3be019be37d55e17ecee75de13486f', 0, 0)\"\n"
     ]
    },
    {
     "name": "stdout",
     "output_type": "stream",
     "text": [
      "start year= 1987 member= 4\n",
      "start year= 1987 member= 5\n",
      "start year= 1987 member= 6\n",
      "start year= 1987 member= 7\n",
      "start year= 1987 member= 8\n",
      "start year= 1987 member= 9\n",
      "start year= 1987 member= 10\n",
      "start year= 1987 member= 11\n",
      "start year= 1987 member= 12\n",
      "start year= 1987 member= 13\n",
      "start year= 1987 member= 14\n",
      "start year= 1987 member= 15\n",
      "start year= 1987 member= 16\n",
      "start year= 1987 member= 17\n",
      "start year= 1987 member= 18\n",
      "start year= 1987 member= 19\n",
      "start year= 1987 member= 20\n",
      "start year= 1987 member= 21\n",
      "start year= 1987 member= 22\n",
      "start year= 1987 member= 23\n"
     ]
    },
    {
     "name": "stderr",
     "output_type": "stream",
     "text": [
      "distributed.core - ERROR - Exception while handling op heartbeat_worker\n",
      "Traceback (most recent call last):\n",
      "  File \"/glade/work/kristenk/miniconda/envs/analysis4/lib/python3.7/site-packages/distributed/core.py\", line 493, in handle_comm\n",
      "    result = handler(comm, **msg)\n",
      "  File \"/glade/work/kristenk/miniconda/envs/analysis4/lib/python3.7/site-packages/distributed/scheduler.py\", line 2197, in heartbeat_worker\n",
      "    self.tasks[key]: duration for key, duration in executing.items()\n",
      "  File \"/glade/work/kristenk/miniconda/envs/analysis4/lib/python3.7/site-packages/distributed/scheduler.py\", line 2197, in <dictcomp>\n",
      "    self.tasks[key]: duration for key, duration in executing.items()\n",
      "KeyError: \"('open_dataset-51ef08e30e4ba16fef253f8f075ffe06ANGLE-51b318678c9d979a7b8a5adbd0d40f0f', 0, 0)\"\n",
      "distributed.core - ERROR - Exception while handling op heartbeat_worker\n",
      "Traceback (most recent call last):\n",
      "  File \"/glade/work/kristenk/miniconda/envs/analysis4/lib/python3.7/site-packages/distributed/core.py\", line 493, in handle_comm\n",
      "    result = handler(comm, **msg)\n",
      "  File \"/glade/work/kristenk/miniconda/envs/analysis4/lib/python3.7/site-packages/distributed/scheduler.py\", line 2197, in heartbeat_worker\n",
      "    self.tasks[key]: duration for key, duration in executing.items()\n",
      "  File \"/glade/work/kristenk/miniconda/envs/analysis4/lib/python3.7/site-packages/distributed/scheduler.py\", line 2197, in <dictcomp>\n",
      "    self.tasks[key]: duration for key, duration in executing.items()\n",
      "KeyError: \"('open_dataset-51ef08e30e4ba16fef253f8f075ffe06ANGLET-d05bc286a738e02f5ef070339837b21d', 0, 0)\"\n"
     ]
    },
    {
     "name": "stdout",
     "output_type": "stream",
     "text": [
      "start year= 1987 member= 24\n",
      "start year= 1987 member= 25\n",
      "start year= 1987 member= 26\n",
      "start year= 1987 member= 27\n",
      "start year= 1987 member= 28\n",
      "start year= 1987 member= 29\n",
      "start year= 1987 member= 30\n",
      "start year= 1987 member= 31\n",
      "start year= 1987 member= 32\n",
      "start year= 1987 member= 33\n"
     ]
    },
    {
     "name": "stderr",
     "output_type": "stream",
     "text": [
      "distributed.core - ERROR - Exception while handling op heartbeat_worker\n",
      "Traceback (most recent call last):\n",
      "  File \"/glade/work/kristenk/miniconda/envs/analysis4/lib/python3.7/site-packages/distributed/core.py\", line 493, in handle_comm\n",
      "    result = handler(comm, **msg)\n",
      "  File \"/glade/work/kristenk/miniconda/envs/analysis4/lib/python3.7/site-packages/distributed/scheduler.py\", line 2197, in heartbeat_worker\n",
      "    self.tasks[key]: duration for key, duration in executing.items()\n",
      "  File \"/glade/work/kristenk/miniconda/envs/analysis4/lib/python3.7/site-packages/distributed/scheduler.py\", line 2197, in <dictcomp>\n",
      "    self.tasks[key]: duration for key, duration in executing.items()\n",
      "KeyError: \"('open_dataset-786cbe8546fb4ff24b42da72e957540cHT-296d8043e0136d08b9542349c37eb51d', 0, 0)\"\n"
     ]
    },
    {
     "name": "stdout",
     "output_type": "stream",
     "text": [
      "start year= 1987 member= 34\n",
      "start year= 1987 member= 35\n",
      "start year= 1987 member= 36\n",
      "start year= 1987 member= 37\n"
     ]
    },
    {
     "name": "stderr",
     "output_type": "stream",
     "text": [
      "distributed.core - ERROR - Exception while handling op heartbeat_worker\n",
      "Traceback (most recent call last):\n",
      "  File \"/glade/work/kristenk/miniconda/envs/analysis4/lib/python3.7/site-packages/distributed/core.py\", line 493, in handle_comm\n",
      "    result = handler(comm, **msg)\n",
      "  File \"/glade/work/kristenk/miniconda/envs/analysis4/lib/python3.7/site-packages/distributed/scheduler.py\", line 2197, in heartbeat_worker\n",
      "    self.tasks[key]: duration for key, duration in executing.items()\n",
      "  File \"/glade/work/kristenk/miniconda/envs/analysis4/lib/python3.7/site-packages/distributed/scheduler.py\", line 2197, in <dictcomp>\n",
      "    self.tasks[key]: duration for key, duration in executing.items()\n",
      "KeyError: \"('open_dataset-b490685c9c032d5d4856597cb905a8faDYT-128f5a408cd8147aaf40cbb50cec4182', 0, 0)\"\n"
     ]
    },
    {
     "name": "stdout",
     "output_type": "stream",
     "text": [
      "start year= 1987 member= 38\n",
      "start year= 1987 member= 39\n",
      "start year= 1987 member= 40\n",
      "start year= 1988 member= 1\n",
      "start year= 1988 member= 2\n",
      "start year= 1988 member= 3\n",
      "start year= 1988 member= 4\n",
      "start year= 1988 member= 5\n",
      "start year= 1988 member= 6\n",
      "start year= 1988 member= 7\n",
      "start year= 1988 member= 8\n",
      "start year= 1988 member= 9\n",
      "start year= 1988 member= 10\n",
      "start year= 1988 member= 11\n",
      "start year= 1988 member= 12\n",
      "start year= 1988 member= 13\n",
      "start year= 1988 member= 14\n"
     ]
    },
    {
     "name": "stderr",
     "output_type": "stream",
     "text": [
      "distributed.core - ERROR - Exception while handling op heartbeat_worker\n",
      "Traceback (most recent call last):\n",
      "  File \"/glade/work/kristenk/miniconda/envs/analysis4/lib/python3.7/site-packages/distributed/core.py\", line 493, in handle_comm\n",
      "    result = handler(comm, **msg)\n",
      "  File \"/glade/work/kristenk/miniconda/envs/analysis4/lib/python3.7/site-packages/distributed/scheduler.py\", line 2197, in heartbeat_worker\n",
      "    self.tasks[key]: duration for key, duration in executing.items()\n",
      "  File \"/glade/work/kristenk/miniconda/envs/analysis4/lib/python3.7/site-packages/distributed/scheduler.py\", line 2197, in <dictcomp>\n",
      "    self.tasks[key]: duration for key, duration in executing.items()\n",
      "KeyError: \"('open_dataset-2ba50cc7595e78b982f06f85f1ea68adHT-3daacae84a7c168ae9144d4705fbd19b', 0, 0)\"\n",
      "distributed.core - ERROR - Exception while handling op heartbeat_worker\n",
      "Traceback (most recent call last):\n",
      "  File \"/glade/work/kristenk/miniconda/envs/analysis4/lib/python3.7/site-packages/distributed/core.py\", line 493, in handle_comm\n",
      "    result = handler(comm, **msg)\n",
      "  File \"/glade/work/kristenk/miniconda/envs/analysis4/lib/python3.7/site-packages/distributed/scheduler.py\", line 2197, in heartbeat_worker\n",
      "    self.tasks[key]: duration for key, duration in executing.items()\n",
      "  File \"/glade/work/kristenk/miniconda/envs/analysis4/lib/python3.7/site-packages/distributed/scheduler.py\", line 2197, in <dictcomp>\n",
      "    self.tasks[key]: duration for key, duration in executing.items()\n",
      "KeyError: \"('open_dataset-2ba50cc7595e78b982f06f85f1ea68adHTN-50c34f34ce83d75e079eca9c1650c9a5', 0, 0)\"\n"
     ]
    },
    {
     "name": "stdout",
     "output_type": "stream",
     "text": [
      "start year= 1988 member= 15\n",
      "start year= 1988 member= 16\n",
      "start year= 1988 member= 17\n",
      "start year= 1988 member= 18\n",
      "start year= 1988 member= 19\n",
      "start year= 1988 member= 20\n",
      "start year= 1988 member= 21\n",
      "start year= 1988 member= 22\n",
      "start year= 1988 member= 23\n",
      "start year= 1988 member= 24\n",
      "start year= 1988 member= 25\n",
      "start year= 1988 member= 26\n",
      "start year= 1988 member= 27\n",
      "start year= 1988 member= 28\n",
      "start year= 1988 member= 29\n",
      "start year= 1988 member= 30\n",
      "start year= 1988 member= 31\n",
      "start year= 1988 member= 32\n",
      "start year= 1988 member= 33\n",
      "start year= 1988 member= 34\n",
      "start year= 1988 member= 35\n",
      "start year= 1988 member= 36\n",
      "start year= 1988 member= 37\n",
      "start year= 1988 member= 38\n",
      "start year= 1988 member= 39\n",
      "start year= 1988 member= 40\n",
      "start year= 1989 member= 1\n",
      "start year= 1989 member= 2\n"
     ]
    },
    {
     "name": "stderr",
     "output_type": "stream",
     "text": [
      "distributed.core - ERROR - Exception while handling op heartbeat_worker\n",
      "Traceback (most recent call last):\n",
      "  File \"/glade/work/kristenk/miniconda/envs/analysis4/lib/python3.7/site-packages/distributed/core.py\", line 493, in handle_comm\n",
      "    result = handler(comm, **msg)\n",
      "  File \"/glade/work/kristenk/miniconda/envs/analysis4/lib/python3.7/site-packages/distributed/scheduler.py\", line 2197, in heartbeat_worker\n",
      "    self.tasks[key]: duration for key, duration in executing.items()\n",
      "  File \"/glade/work/kristenk/miniconda/envs/analysis4/lib/python3.7/site-packages/distributed/scheduler.py\", line 2197, in <dictcomp>\n",
      "    self.tasks[key]: duration for key, duration in executing.items()\n",
      "KeyError: \"('open_dataset-00feb66d133a95af05b0f5e6925c4ed5DXT-32a8e26a7dce642cfd579a5e7480241f', 0, 0)\"\n"
     ]
    },
    {
     "name": "stdout",
     "output_type": "stream",
     "text": [
      "start year= 1989 member= 3\n",
      "start year= 1989 member= 4\n",
      "start year= 1989 member= 5\n",
      "start year= 1989 member= 6\n",
      "start year= 1989 member= 7\n",
      "start year= 1989 member= 8\n",
      "start year= 1989 member= 9\n",
      "start year= 1989 member= 10\n",
      "start year= 1989 member= 11\n",
      "start year= 1989 member= 12\n",
      "start year= 1989 member= 13\n",
      "start year= 1989 member= 14\n",
      "start year= 1989 member= 15\n",
      "start year= 1989 member= 16\n",
      "start year= 1989 member= 17\n",
      "start year= 1989 member= 18\n",
      "start year= 1989 member= 19\n",
      "start year= 1989 member= 20\n",
      "start year= 1989 member= 21\n",
      "start year= 1989 member= 22\n",
      "start year= 1989 member= 23\n",
      "start year= 1989 member= 24\n",
      "start year= 1989 member= 25\n"
     ]
    },
    {
     "name": "stderr",
     "output_type": "stream",
     "text": [
      "distributed.core - ERROR - Exception while handling op heartbeat_worker\n",
      "Traceback (most recent call last):\n",
      "  File \"/glade/work/kristenk/miniconda/envs/analysis4/lib/python3.7/site-packages/distributed/core.py\", line 493, in handle_comm\n",
      "    result = handler(comm, **msg)\n",
      "  File \"/glade/work/kristenk/miniconda/envs/analysis4/lib/python3.7/site-packages/distributed/scheduler.py\", line 2197, in heartbeat_worker\n",
      "    self.tasks[key]: duration for key, duration in executing.items()\n",
      "  File \"/glade/work/kristenk/miniconda/envs/analysis4/lib/python3.7/site-packages/distributed/scheduler.py\", line 2197, in <dictcomp>\n",
      "    self.tasks[key]: duration for key, duration in executing.items()\n",
      "KeyError: \"('open_dataset-33ab2c0000eb766cb1c22691d3a59f06DXU-145313cd356a3c90d93212fe9a6980d9', 0, 0)\"\n"
     ]
    },
    {
     "name": "stdout",
     "output_type": "stream",
     "text": [
      "start year= 1989 member= 26\n",
      "start year= 1989 member= 27\n",
      "start year= 1989 member= 28\n",
      "start year= 1989 member= 29\n",
      "start year= 1989 member= 30\n",
      "start year= 1989 member= 31\n",
      "start year= 1989 member= 32\n",
      "start year= 1989 member= 33\n",
      "start year= 1989 member= 34\n",
      "start year= 1989 member= 35\n",
      "start year= 1989 member= 36\n",
      "start year= 1989 member= 37\n",
      "start year= 1989 member= 38\n",
      "start year= 1989 member= 39\n",
      "start year= 1989 member= 40\n",
      "start year= 1990 member= 1\n",
      "start year= 1990 member= 2\n",
      "start year= 1990 member= 3\n",
      "start year= 1990 member= 4\n",
      "start year= 1990 member= 5\n",
      "start year= 1990 member= 6\n",
      "start year= 1990 member= 7\n",
      "start year= 1990 member= 8\n",
      "start year= 1990 member= 9\n",
      "start year= 1990 member= 10\n",
      "start year= 1990 member= 11\n",
      "start year= 1990 member= 12\n",
      "start year= 1990 member= 13\n",
      "start year= 1990 member= 14\n",
      "start year= 1990 member= 15\n",
      "start year= 1990 member= 16\n",
      "start year= 1990 member= 17\n",
      "start year= 1990 member= 18\n",
      "start year= 1990 member= 19\n",
      "start year= 1990 member= 20\n",
      "start year= 1990 member= 21\n",
      "start year= 1990 member= 22\n",
      "start year= 1990 member= 23\n",
      "start year= 1990 member= 24\n",
      "start year= 1990 member= 25\n",
      "start year= 1990 member= 26\n",
      "start year= 1990 member= 27\n"
     ]
    },
    {
     "name": "stderr",
     "output_type": "stream",
     "text": [
      "distributed.core - ERROR - Exception while handling op heartbeat_worker\n",
      "Traceback (most recent call last):\n",
      "  File \"/glade/work/kristenk/miniconda/envs/analysis4/lib/python3.7/site-packages/distributed/core.py\", line 493, in handle_comm\n",
      "    result = handler(comm, **msg)\n",
      "  File \"/glade/work/kristenk/miniconda/envs/analysis4/lib/python3.7/site-packages/distributed/scheduler.py\", line 2197, in heartbeat_worker\n",
      "    self.tasks[key]: duration for key, duration in executing.items()\n",
      "  File \"/glade/work/kristenk/miniconda/envs/analysis4/lib/python3.7/site-packages/distributed/scheduler.py\", line 2197, in <dictcomp>\n",
      "    self.tasks[key]: duration for key, duration in executing.items()\n",
      "KeyError: \"('open_dataset-4516b3a5e945211e5a93d79514c86052ANGLE-c9c8aa023d273aba120f5200d28d1635', 0, 0)\"\n",
      "distributed.core - ERROR - Exception while handling op heartbeat_worker\n",
      "Traceback (most recent call last):\n",
      "  File \"/glade/work/kristenk/miniconda/envs/analysis4/lib/python3.7/site-packages/distributed/core.py\", line 493, in handle_comm\n",
      "    result = handler(comm, **msg)\n",
      "  File \"/glade/work/kristenk/miniconda/envs/analysis4/lib/python3.7/site-packages/distributed/scheduler.py\", line 2197, in heartbeat_worker\n",
      "    self.tasks[key]: duration for key, duration in executing.items()\n",
      "  File \"/glade/work/kristenk/miniconda/envs/analysis4/lib/python3.7/site-packages/distributed/scheduler.py\", line 2197, in <dictcomp>\n",
      "    self.tasks[key]: duration for key, duration in executing.items()\n",
      "KeyError: \"('open_dataset-4516b3a5e945211e5a93d79514c86052HUW-888b6a947293747f44ea4f70825bf64a', 0, 0)\"\n"
     ]
    },
    {
     "name": "stdout",
     "output_type": "stream",
     "text": [
      "start year= 1990 member= 28\n",
      "start year= 1990 member= 29\n",
      "start year= 1990 member= 30\n",
      "start year= 1990 member= 31\n",
      "start year= 1990 member= 32\n",
      "start year= 1990 member= 33\n",
      "start year= 1990 member= 34\n",
      "start year= 1990 member= 35\n",
      "start year= 1990 member= 36\n",
      "start year= 1990 member= 37\n",
      "start year= 1990 member= 38\n",
      "start year= 1990 member= 39\n",
      "start year= 1990 member= 40\n",
      "start year= 1991 member= 1\n",
      "start year= 1991 member= 2\n"
     ]
    },
    {
     "name": "stderr",
     "output_type": "stream",
     "text": [
      "distributed.core - ERROR - Exception while handling op heartbeat_worker\n",
      "Traceback (most recent call last):\n",
      "  File \"/glade/work/kristenk/miniconda/envs/analysis4/lib/python3.7/site-packages/distributed/core.py\", line 493, in handle_comm\n",
      "    result = handler(comm, **msg)\n",
      "  File \"/glade/work/kristenk/miniconda/envs/analysis4/lib/python3.7/site-packages/distributed/scheduler.py\", line 2197, in heartbeat_worker\n",
      "    self.tasks[key]: duration for key, duration in executing.items()\n",
      "  File \"/glade/work/kristenk/miniconda/envs/analysis4/lib/python3.7/site-packages/distributed/scheduler.py\", line 2197, in <dictcomp>\n",
      "    self.tasks[key]: duration for key, duration in executing.items()\n",
      "KeyError: \"('open_dataset-e23b3c42c5b24b2b6c478df81eeeed5dHTE-a04f717a15b3ce274da747e1f16de28d', 0, 0)\"\n",
      "distributed.core - ERROR - Exception while handling op heartbeat_worker\n",
      "Traceback (most recent call last):\n",
      "  File \"/glade/work/kristenk/miniconda/envs/analysis4/lib/python3.7/site-packages/distributed/core.py\", line 493, in handle_comm\n",
      "    result = handler(comm, **msg)\n",
      "  File \"/glade/work/kristenk/miniconda/envs/analysis4/lib/python3.7/site-packages/distributed/scheduler.py\", line 2197, in heartbeat_worker\n",
      "    self.tasks[key]: duration for key, duration in executing.items()\n",
      "  File \"/glade/work/kristenk/miniconda/envs/analysis4/lib/python3.7/site-packages/distributed/scheduler.py\", line 2197, in <dictcomp>\n",
      "    self.tasks[key]: duration for key, duration in executing.items()\n",
      "KeyError: \"('open_dataset-e23b3c42c5b24b2b6c478df81eeeed5dHT-77b646b0e682f5d6a9260d50a36a8f27', 0, 0)\"\n",
      "distributed.core - ERROR - Exception while handling op heartbeat_worker\n",
      "Traceback (most recent call last):\n",
      "  File \"/glade/work/kristenk/miniconda/envs/analysis4/lib/python3.7/site-packages/distributed/core.py\", line 493, in handle_comm\n",
      "    result = handler(comm, **msg)\n",
      "  File \"/glade/work/kristenk/miniconda/envs/analysis4/lib/python3.7/site-packages/distributed/scheduler.py\", line 2197, in heartbeat_worker\n",
      "    self.tasks[key]: duration for key, duration in executing.items()\n",
      "  File \"/glade/work/kristenk/miniconda/envs/analysis4/lib/python3.7/site-packages/distributed/scheduler.py\", line 2197, in <dictcomp>\n",
      "    self.tasks[key]: duration for key, duration in executing.items()\n",
      "KeyError: \"('open_dataset-e23b3c42c5b24b2b6c478df81eeeed5dHTN-f80166598fd7b4a62611e95a13238d6e', 0, 0)\"\n"
     ]
    },
    {
     "name": "stdout",
     "output_type": "stream",
     "text": [
      "start year= 1991 member= 3\n",
      "start year= 1991 member= 4\n",
      "start year= 1991 member= 5\n",
      "start year= 1991 member= 6\n",
      "start year= 1991 member= 7\n",
      "start year= 1991 member= 8\n",
      "start year= 1991 member= 9\n",
      "start year= 1991 member= 10\n"
     ]
    },
    {
     "name": "stderr",
     "output_type": "stream",
     "text": [
      "distributed.core - ERROR - Exception while handling op heartbeat_worker\n",
      "Traceback (most recent call last):\n",
      "  File \"/glade/work/kristenk/miniconda/envs/analysis4/lib/python3.7/site-packages/distributed/core.py\", line 493, in handle_comm\n",
      "    result = handler(comm, **msg)\n",
      "  File \"/glade/work/kristenk/miniconda/envs/analysis4/lib/python3.7/site-packages/distributed/scheduler.py\", line 2197, in heartbeat_worker\n",
      "    self.tasks[key]: duration for key, duration in executing.items()\n",
      "  File \"/glade/work/kristenk/miniconda/envs/analysis4/lib/python3.7/site-packages/distributed/scheduler.py\", line 2197, in <dictcomp>\n",
      "    self.tasks[key]: duration for key, duration in executing.items()\n",
      "KeyError: \"('open_dataset-141720924b2eaa6e31fd0f9f735ead52DYU-eb9cf57d90c153d8e5d8c4794b11240f', 0, 0)\"\n"
     ]
    },
    {
     "name": "stdout",
     "output_type": "stream",
     "text": [
      "start year= 1991 member= 11\n",
      "start year= 1991 member= 12\n",
      "start year= 1991 member= 13\n",
      "start year= 1991 member= 14\n",
      "start year= 1991 member= 15\n",
      "start year= 1991 member= 16\n",
      "start year= 1991 member= 17\n",
      "start year= 1991 member= 18\n"
     ]
    },
    {
     "name": "stderr",
     "output_type": "stream",
     "text": [
      "distributed.core - ERROR - Exception while handling op heartbeat_worker\n",
      "Traceback (most recent call last):\n",
      "  File \"/glade/work/kristenk/miniconda/envs/analysis4/lib/python3.7/site-packages/distributed/core.py\", line 493, in handle_comm\n",
      "    result = handler(comm, **msg)\n",
      "  File \"/glade/work/kristenk/miniconda/envs/analysis4/lib/python3.7/site-packages/distributed/scheduler.py\", line 2197, in heartbeat_worker\n",
      "    self.tasks[key]: duration for key, duration in executing.items()\n",
      "  File \"/glade/work/kristenk/miniconda/envs/analysis4/lib/python3.7/site-packages/distributed/scheduler.py\", line 2197, in <dictcomp>\n",
      "    self.tasks[key]: duration for key, duration in executing.items()\n",
      "KeyError: \"('open_dataset-5fbe5d94c4ac2f65dc9561fa2c200e1aHU-ea3561f003719e31ab66056452f93176', 0, 0)\"\n",
      "distributed.core - ERROR - Exception while handling op heartbeat_worker\n",
      "Traceback (most recent call last):\n",
      "  File \"/glade/work/kristenk/miniconda/envs/analysis4/lib/python3.7/site-packages/distributed/core.py\", line 493, in handle_comm\n",
      "    result = handler(comm, **msg)\n",
      "  File \"/glade/work/kristenk/miniconda/envs/analysis4/lib/python3.7/site-packages/distributed/scheduler.py\", line 2197, in heartbeat_worker\n",
      "    self.tasks[key]: duration for key, duration in executing.items()\n",
      "  File \"/glade/work/kristenk/miniconda/envs/analysis4/lib/python3.7/site-packages/distributed/scheduler.py\", line 2197, in <dictcomp>\n",
      "    self.tasks[key]: duration for key, duration in executing.items()\n",
      "KeyError: \"('open_dataset-5fbe5d94c4ac2f65dc9561fa2c200e1aHUS-a41817b2f4b81c5b75affa20264d3d67', 0, 0)\"\n"
     ]
    },
    {
     "name": "stdout",
     "output_type": "stream",
     "text": [
      "start year= 1991 member= 19\n",
      "start year= 1991 member= 20\n",
      "start year= 1991 member= 21\n"
     ]
    },
    {
     "name": "stderr",
     "output_type": "stream",
     "text": [
      "distributed.core - ERROR - Exception while handling op heartbeat_worker\n",
      "Traceback (most recent call last):\n",
      "  File \"/glade/work/kristenk/miniconda/envs/analysis4/lib/python3.7/site-packages/distributed/core.py\", line 493, in handle_comm\n",
      "    result = handler(comm, **msg)\n",
      "  File \"/glade/work/kristenk/miniconda/envs/analysis4/lib/python3.7/site-packages/distributed/scheduler.py\", line 2197, in heartbeat_worker\n",
      "    self.tasks[key]: duration for key, duration in executing.items()\n",
      "  File \"/glade/work/kristenk/miniconda/envs/analysis4/lib/python3.7/site-packages/distributed/scheduler.py\", line 2197, in <dictcomp>\n",
      "    self.tasks[key]: duration for key, duration in executing.items()\n",
      "KeyError: \"('open_dataset-2a953ca63c29602b8cdb5dfcf47d8623DXT-6d7dd2d19cc800aa9fab0196b281ee87', 0, 0)\"\n"
     ]
    },
    {
     "name": "stdout",
     "output_type": "stream",
     "text": [
      "start year= 1991 member= 22\n",
      "start year= 1991 member= 23\n",
      "start year= 1991 member= 24\n",
      "start year= 1991 member= 25\n",
      "start year= 1991 member= 26\n",
      "start year= 1991 member= 27\n",
      "start year= 1991 member= 28\n",
      "start year= 1991 member= 29\n",
      "start year= 1991 member= 30\n",
      "start year= 1991 member= 31\n",
      "start year= 1991 member= 32\n",
      "start year= 1991 member= 33\n",
      "start year= 1991 member= 34\n",
      "start year= 1991 member= 35\n",
      "start year= 1991 member= 36\n",
      "start year= 1991 member= 37\n",
      "start year= 1991 member= 38\n",
      "start year= 1991 member= 39\n",
      "start year= 1991 member= 40\n",
      "start year= 1992 member= 1\n",
      "start year= 1992 member= 2\n",
      "start year= 1992 member= 3\n",
      "start year= 1992 member= 4\n",
      "start year= 1992 member= 5\n",
      "start year= 1992 member= 6\n",
      "start year= 1992 member= 7\n",
      "start year= 1992 member= 8\n",
      "start year= 1992 member= 9\n",
      "start year= 1992 member= 10\n",
      "start year= 1992 member= 11\n",
      "start year= 1992 member= 12\n",
      "start year= 1992 member= 13\n",
      "start year= 1992 member= 14\n",
      "start year= 1992 member= 15\n",
      "start year= 1992 member= 16\n",
      "start year= 1992 member= 17\n",
      "start year= 1992 member= 18\n",
      "start year= 1992 member= 19\n",
      "start year= 1992 member= 20\n",
      "start year= 1992 member= 21\n",
      "start year= 1992 member= 22\n"
     ]
    },
    {
     "name": "stderr",
     "output_type": "stream",
     "text": [
      "distributed.core - ERROR - Exception while handling op heartbeat_worker\n",
      "Traceback (most recent call last):\n",
      "  File \"/glade/work/kristenk/miniconda/envs/analysis4/lib/python3.7/site-packages/distributed/core.py\", line 493, in handle_comm\n",
      "    result = handler(comm, **msg)\n",
      "  File \"/glade/work/kristenk/miniconda/envs/analysis4/lib/python3.7/site-packages/distributed/scheduler.py\", line 2197, in heartbeat_worker\n",
      "    self.tasks[key]: duration for key, duration in executing.items()\n",
      "  File \"/glade/work/kristenk/miniconda/envs/analysis4/lib/python3.7/site-packages/distributed/scheduler.py\", line 2197, in <dictcomp>\n",
      "    self.tasks[key]: duration for key, duration in executing.items()\n",
      "KeyError: \"('open_dataset-2f2df527016a74beddcd970e98746cf0DYT-b9d0e58523e92ab741c12ebbd43b8039', 0, 0)\"\n"
     ]
    },
    {
     "name": "stdout",
     "output_type": "stream",
     "text": [
      "start year= 1992 member= 23\n",
      "start year= 1992 member= 24\n",
      "start year= 1992 member= 25\n",
      "start year= 1992 member= 26\n",
      "start year= 1992 member= 27\n",
      "start year= 1992 member= 28\n",
      "start year= 1992 member= 29\n",
      "start year= 1992 member= 30\n",
      "start year= 1992 member= 31\n",
      "start year= 1992 member= 32\n"
     ]
    },
    {
     "name": "stderr",
     "output_type": "stream",
     "text": [
      "distributed.core - ERROR - Exception while handling op heartbeat_worker\n",
      "Traceback (most recent call last):\n",
      "  File \"/glade/work/kristenk/miniconda/envs/analysis4/lib/python3.7/site-packages/distributed/core.py\", line 493, in handle_comm\n",
      "    result = handler(comm, **msg)\n",
      "  File \"/glade/work/kristenk/miniconda/envs/analysis4/lib/python3.7/site-packages/distributed/scheduler.py\", line 2197, in heartbeat_worker\n",
      "    self.tasks[key]: duration for key, duration in executing.items()\n",
      "  File \"/glade/work/kristenk/miniconda/envs/analysis4/lib/python3.7/site-packages/distributed/scheduler.py\", line 2197, in <dictcomp>\n",
      "    self.tasks[key]: duration for key, duration in executing.items()\n",
      "KeyError: \"('open_dataset-c746659c29d3747145a32ce995c568bcDXU-4aeb10df6a63c9ec2ba51089f083bbbf', 0, 0)\"\n"
     ]
    },
    {
     "name": "stdout",
     "output_type": "stream",
     "text": [
      "start year= 1992 member= 33\n",
      "start year= 1992 member= 34\n",
      "start year= 1992 member= 35\n",
      "start year= 1992 member= 36\n",
      "start year= 1992 member= 37\n",
      "start year= 1992 member= 38\n",
      "start year= 1992 member= 39\n",
      "start year= 1992 member= 40\n",
      "start year= 1993 member= 1\n",
      "start year= 1993 member= 2\n",
      "start year= 1993 member= 3\n",
      "start year= 1993 member= 4\n",
      "start year= 1993 member= 5\n",
      "start year= 1993 member= 6\n",
      "start year= 1993 member= 7\n",
      "start year= 1993 member= 8\n",
      "start year= 1993 member= 9\n",
      "start year= 1993 member= 10\n",
      "start year= 1993 member= 11\n",
      "start year= 1993 member= 12\n",
      "start year= 1993 member= 13\n",
      "start year= 1993 member= 14\n",
      "start year= 1993 member= 15\n",
      "start year= 1993 member= 16\n",
      "start year= 1993 member= 17\n",
      "start year= 1993 member= 18\n",
      "start year= 1993 member= 19\n",
      "start year= 1993 member= 20\n",
      "start year= 1993 member= 21\n",
      "start year= 1993 member= 22\n",
      "start year= 1993 member= 23\n",
      "start year= 1993 member= 24\n",
      "start year= 1993 member= 25\n",
      "start year= 1993 member= 26\n",
      "start year= 1993 member= 27\n",
      "start year= 1993 member= 28\n",
      "start year= 1993 member= 29\n"
     ]
    },
    {
     "name": "stderr",
     "output_type": "stream",
     "text": [
      "distributed.core - ERROR - Exception while handling op heartbeat_worker\n",
      "Traceback (most recent call last):\n",
      "  File \"/glade/work/kristenk/miniconda/envs/analysis4/lib/python3.7/site-packages/distributed/core.py\", line 493, in handle_comm\n",
      "    result = handler(comm, **msg)\n",
      "  File \"/glade/work/kristenk/miniconda/envs/analysis4/lib/python3.7/site-packages/distributed/scheduler.py\", line 2197, in heartbeat_worker\n",
      "    self.tasks[key]: duration for key, duration in executing.items()\n",
      "  File \"/glade/work/kristenk/miniconda/envs/analysis4/lib/python3.7/site-packages/distributed/scheduler.py\", line 2197, in <dictcomp>\n",
      "    self.tasks[key]: duration for key, duration in executing.items()\n",
      "KeyError: \"('open_dataset-959b07152c29e7247b7d1b7ccb632b4dDYU-2defe2ac080c5d8721cf7e4ebc28046f', 0, 0)\"\n"
     ]
    },
    {
     "name": "stdout",
     "output_type": "stream",
     "text": [
      "start year= 1993 member= 30\n",
      "start year= 1993 member= 31\n",
      "start year= 1993 member= 32\n",
      "start year= 1993 member= 33\n",
      "start year= 1993 member= 34\n",
      "start year= 1993 member= 35\n",
      "start year= 1993 member= 36\n"
     ]
    },
    {
     "name": "stderr",
     "output_type": "stream",
     "text": [
      "distributed.core - ERROR - Exception while handling op heartbeat_worker\n",
      "Traceback (most recent call last):\n",
      "  File \"/glade/work/kristenk/miniconda/envs/analysis4/lib/python3.7/site-packages/distributed/core.py\", line 493, in handle_comm\n",
      "    result = handler(comm, **msg)\n",
      "  File \"/glade/work/kristenk/miniconda/envs/analysis4/lib/python3.7/site-packages/distributed/scheduler.py\", line 2197, in heartbeat_worker\n",
      "    self.tasks[key]: duration for key, duration in executing.items()\n",
      "  File \"/glade/work/kristenk/miniconda/envs/analysis4/lib/python3.7/site-packages/distributed/scheduler.py\", line 2197, in <dictcomp>\n",
      "    self.tasks[key]: duration for key, duration in executing.items()\n",
      "KeyError: \"('open_dataset-084c0fc270fa3a94198a6c153c3943a4HT-7cbb1e2bb2748a26e3de11dbfec7c1d0', 0, 0)\"\n"
     ]
    },
    {
     "name": "stdout",
     "output_type": "stream",
     "text": [
      "start year= 1993 member= 37\n",
      "start year= 1993 member= 38\n",
      "start year= 1993 member= 39\n",
      "start year= 1993 member= 40\n",
      "start year= 1994 member= 1\n",
      "start year= 1994 member= 2\n",
      "start year= 1994 member= 3\n",
      "start year= 1994 member= 4\n",
      "start year= 1994 member= 5\n",
      "start year= 1994 member= 6\n",
      "start year= 1994 member= 7\n",
      "start year= 1994 member= 8\n",
      "start year= 1994 member= 9\n",
      "start year= 1994 member= 10\n",
      "start year= 1994 member= 11\n"
     ]
    },
    {
     "name": "stderr",
     "output_type": "stream",
     "text": [
      "distributed.core - ERROR - Exception while handling op heartbeat_worker\n",
      "Traceback (most recent call last):\n",
      "  File \"/glade/work/kristenk/miniconda/envs/analysis4/lib/python3.7/site-packages/distributed/core.py\", line 493, in handle_comm\n",
      "    result = handler(comm, **msg)\n",
      "  File \"/glade/work/kristenk/miniconda/envs/analysis4/lib/python3.7/site-packages/distributed/scheduler.py\", line 2197, in heartbeat_worker\n",
      "    self.tasks[key]: duration for key, duration in executing.items()\n",
      "  File \"/glade/work/kristenk/miniconda/envs/analysis4/lib/python3.7/site-packages/distributed/scheduler.py\", line 2197, in <dictcomp>\n",
      "    self.tasks[key]: duration for key, duration in executing.items()\n",
      "KeyError: \"('open_dataset-be88fe07deb95cbbd7af69ed93538873HTE-199b4a341c512186a28c8472a5c91deb', 0, 0)\"\n",
      "distributed.core - ERROR - Exception while handling op heartbeat_worker\n",
      "Traceback (most recent call last):\n",
      "  File \"/glade/work/kristenk/miniconda/envs/analysis4/lib/python3.7/site-packages/distributed/core.py\", line 493, in handle_comm\n",
      "    result = handler(comm, **msg)\n",
      "  File \"/glade/work/kristenk/miniconda/envs/analysis4/lib/python3.7/site-packages/distributed/scheduler.py\", line 2197, in heartbeat_worker\n",
      "    self.tasks[key]: duration for key, duration in executing.items()\n",
      "  File \"/glade/work/kristenk/miniconda/envs/analysis4/lib/python3.7/site-packages/distributed/scheduler.py\", line 2197, in <dictcomp>\n",
      "    self.tasks[key]: duration for key, duration in executing.items()\n",
      "KeyError: \"('open_dataset-be88fe07deb95cbbd7af69ed93538873HUS-0c987390e8548ba4db4a76e515244d0a', 0, 0)\"\n"
     ]
    },
    {
     "name": "stdout",
     "output_type": "stream",
     "text": [
      "start year= 1994 member= 12\n",
      "start year= 1994 member= 13\n",
      "start year= 1994 member= 14\n",
      "start year= 1994 member= 15\n",
      "start year= 1994 member= 16\n",
      "start year= 1994 member= 17\n",
      "start year= 1994 member= 18\n",
      "start year= 1994 member= 19\n",
      "start year= 1994 member= 20\n",
      "start year= 1994 member= 21\n",
      "start year= 1994 member= 22\n",
      "start year= 1994 member= 23\n",
      "start year= 1994 member= 24\n",
      "start year= 1994 member= 25\n",
      "start year= 1994 member= 26\n",
      "start year= 1994 member= 27\n",
      "start year= 1994 member= 28\n",
      "start year= 1994 member= 29\n",
      "start year= 1994 member= 30\n",
      "start year= 1994 member= 31\n",
      "start year= 1994 member= 32\n",
      "start year= 1994 member= 33\n",
      "start year= 1994 member= 34\n",
      "start year= 1994 member= 35\n",
      "start year= 1994 member= 36\n",
      "start year= 1994 member= 37\n",
      "start year= 1994 member= 38\n",
      "start year= 1994 member= 39\n",
      "start year= 1994 member= 40\n",
      "start year= 1995 member= 1\n",
      "start year= 1995 member= 2\n",
      "start year= 1995 member= 3\n",
      "start year= 1995 member= 4\n",
      "start year= 1995 member= 5\n",
      "start year= 1995 member= 6\n",
      "start year= 1995 member= 7\n",
      "start year= 1995 member= 8\n",
      "start year= 1995 member= 9\n",
      "start year= 1995 member= 10\n",
      "start year= 1995 member= 11\n",
      "start year= 1995 member= 12\n",
      "start year= 1995 member= 13\n",
      "start year= 1995 member= 14\n",
      "start year= 1995 member= 15\n",
      "start year= 1995 member= 16\n",
      "start year= 1995 member= 17\n",
      "start year= 1995 member= 18\n"
     ]
    },
    {
     "name": "stderr",
     "output_type": "stream",
     "text": [
      "distributed.core - ERROR - Exception while handling op heartbeat_worker\n",
      "Traceback (most recent call last):\n",
      "  File \"/glade/work/kristenk/miniconda/envs/analysis4/lib/python3.7/site-packages/distributed/core.py\", line 493, in handle_comm\n",
      "    result = handler(comm, **msg)\n",
      "  File \"/glade/work/kristenk/miniconda/envs/analysis4/lib/python3.7/site-packages/distributed/scheduler.py\", line 2197, in heartbeat_worker\n",
      "    self.tasks[key]: duration for key, duration in executing.items()\n",
      "  File \"/glade/work/kristenk/miniconda/envs/analysis4/lib/python3.7/site-packages/distributed/scheduler.py\", line 2197, in <dictcomp>\n",
      "    self.tasks[key]: duration for key, duration in executing.items()\n",
      "KeyError: \"('open_dataset-b4872b277c90a7e7d5eda371c1c0192aDYT-919ddb4688c9bb371d99340a6deeef70', 0, 0)\"\n",
      "distributed.core - ERROR - Exception while handling op heartbeat_worker\n",
      "Traceback (most recent call last):\n",
      "  File \"/glade/work/kristenk/miniconda/envs/analysis4/lib/python3.7/site-packages/distributed/core.py\", line 493, in handle_comm\n",
      "    result = handler(comm, **msg)\n",
      "  File \"/glade/work/kristenk/miniconda/envs/analysis4/lib/python3.7/site-packages/distributed/scheduler.py\", line 2197, in heartbeat_worker\n",
      "    self.tasks[key]: duration for key, duration in executing.items()\n",
      "  File \"/glade/work/kristenk/miniconda/envs/analysis4/lib/python3.7/site-packages/distributed/scheduler.py\", line 2197, in <dictcomp>\n",
      "    self.tasks[key]: duration for key, duration in executing.items()\n",
      "KeyError: \"('open_dataset-b4872b277c90a7e7d5eda371c1c0192aDXT-9f7e4ca1b2c8bc27dbb85cfdc199cf9b', 0, 0)\"\n",
      "distributed.core - ERROR - Exception while handling op heartbeat_worker\n",
      "Traceback (most recent call last):\n",
      "  File \"/glade/work/kristenk/miniconda/envs/analysis4/lib/python3.7/site-packages/distributed/core.py\", line 493, in handle_comm\n",
      "    result = handler(comm, **msg)\n",
      "  File \"/glade/work/kristenk/miniconda/envs/analysis4/lib/python3.7/site-packages/distributed/scheduler.py\", line 2197, in heartbeat_worker\n",
      "    self.tasks[key]: duration for key, duration in executing.items()\n",
      "  File \"/glade/work/kristenk/miniconda/envs/analysis4/lib/python3.7/site-packages/distributed/scheduler.py\", line 2197, in <dictcomp>\n",
      "    self.tasks[key]: duration for key, duration in executing.items()\n",
      "KeyError: \"('open_dataset-b4872b277c90a7e7d5eda371c1c0192aHT-cb26d9f6a9c2ecd551bf76cf9d9ec493', 0, 0)\"\n"
     ]
    },
    {
     "name": "stdout",
     "output_type": "stream",
     "text": [
      "start year= 1995 member= 19\n"
     ]
    },
    {
     "name": "stderr",
     "output_type": "stream",
     "text": [
      "distributed.core - ERROR - Exception while handling op heartbeat_worker\n",
      "Traceback (most recent call last):\n",
      "  File \"/glade/work/kristenk/miniconda/envs/analysis4/lib/python3.7/site-packages/distributed/core.py\", line 493, in handle_comm\n",
      "    result = handler(comm, **msg)\n",
      "  File \"/glade/work/kristenk/miniconda/envs/analysis4/lib/python3.7/site-packages/distributed/scheduler.py\", line 2197, in heartbeat_worker\n",
      "    self.tasks[key]: duration for key, duration in executing.items()\n",
      "  File \"/glade/work/kristenk/miniconda/envs/analysis4/lib/python3.7/site-packages/distributed/scheduler.py\", line 2197, in <dictcomp>\n",
      "    self.tasks[key]: duration for key, duration in executing.items()\n",
      "KeyError: \"('open_dataset-fc4d3248b877d830a89733639d2a17e0DXU-31aa4f282613d433b44982009b20c211', 0, 0)\"\n",
      "distributed.core - ERROR - Exception while handling op heartbeat_worker\n",
      "Traceback (most recent call last):\n",
      "  File \"/glade/work/kristenk/miniconda/envs/analysis4/lib/python3.7/site-packages/distributed/core.py\", line 493, in handle_comm\n",
      "    result = handler(comm, **msg)\n",
      "  File \"/glade/work/kristenk/miniconda/envs/analysis4/lib/python3.7/site-packages/distributed/scheduler.py\", line 2197, in heartbeat_worker\n",
      "    self.tasks[key]: duration for key, duration in executing.items()\n",
      "  File \"/glade/work/kristenk/miniconda/envs/analysis4/lib/python3.7/site-packages/distributed/scheduler.py\", line 2197, in <dictcomp>\n",
      "    self.tasks[key]: duration for key, duration in executing.items()\n",
      "KeyError: \"('open_dataset-fc4d3248b877d830a89733639d2a17e0HUS-22e33c2e10d3d0d9b87a62a6970142d2', 0, 0)\"\n"
     ]
    },
    {
     "name": "stdout",
     "output_type": "stream",
     "text": [
      "start year= 1995 member= 20\n",
      "start year= 1995 member= 21\n",
      "start year= 1995 member= 22\n",
      "start year= 1995 member= 23\n",
      "start year= 1995 member= 24\n"
     ]
    },
    {
     "name": "stderr",
     "output_type": "stream",
     "text": [
      "distributed.core - ERROR - Exception while handling op heartbeat_worker\n",
      "Traceback (most recent call last):\n",
      "  File \"/glade/work/kristenk/miniconda/envs/analysis4/lib/python3.7/site-packages/distributed/core.py\", line 493, in handle_comm\n",
      "    result = handler(comm, **msg)\n",
      "  File \"/glade/work/kristenk/miniconda/envs/analysis4/lib/python3.7/site-packages/distributed/scheduler.py\", line 2197, in heartbeat_worker\n",
      "    self.tasks[key]: duration for key, duration in executing.items()\n",
      "  File \"/glade/work/kristenk/miniconda/envs/analysis4/lib/python3.7/site-packages/distributed/scheduler.py\", line 2197, in <dictcomp>\n",
      "    self.tasks[key]: duration for key, duration in executing.items()\n",
      "KeyError: \"('open_dataset-140ede57d476e130e5813db93bbd723cDYT-d26f1880603673ea52084842f9bba119', 0, 0)\"\n",
      "distributed.core - ERROR - Exception while handling op heartbeat_worker\n",
      "Traceback (most recent call last):\n",
      "  File \"/glade/work/kristenk/miniconda/envs/analysis4/lib/python3.7/site-packages/distributed/core.py\", line 493, in handle_comm\n",
      "    result = handler(comm, **msg)\n",
      "  File \"/glade/work/kristenk/miniconda/envs/analysis4/lib/python3.7/site-packages/distributed/scheduler.py\", line 2197, in heartbeat_worker\n",
      "    self.tasks[key]: duration for key, duration in executing.items()\n",
      "  File \"/glade/work/kristenk/miniconda/envs/analysis4/lib/python3.7/site-packages/distributed/scheduler.py\", line 2197, in <dictcomp>\n",
      "    self.tasks[key]: duration for key, duration in executing.items()\n",
      "KeyError: \"('open_dataset-140ede57d476e130e5813db93bbd723cDXU-f85650e831ae244b60d0ceb973a06b1c', 0, 0)\"\n"
     ]
    },
    {
     "name": "stdout",
     "output_type": "stream",
     "text": [
      "start year= 1995 member= 25\n",
      "start year= 1995 member= 26\n",
      "start year= 1995 member= 27\n",
      "start year= 1995 member= 28\n",
      "start year= 1995 member= 29\n",
      "start year= 1995 member= 30\n",
      "start year= 1995 member= 31\n",
      "start year= 1995 member= 32\n",
      "start year= 1995 member= 33\n",
      "start year= 1995 member= 34\n",
      "start year= 1995 member= 35\n",
      "start year= 1995 member= 36\n"
     ]
    },
    {
     "name": "stderr",
     "output_type": "stream",
     "text": [
      "distributed.core - ERROR - Exception while handling op heartbeat_worker\n",
      "Traceback (most recent call last):\n",
      "  File \"/glade/work/kristenk/miniconda/envs/analysis4/lib/python3.7/site-packages/distributed/core.py\", line 493, in handle_comm\n",
      "    result = handler(comm, **msg)\n",
      "  File \"/glade/work/kristenk/miniconda/envs/analysis4/lib/python3.7/site-packages/distributed/scheduler.py\", line 2197, in heartbeat_worker\n",
      "    self.tasks[key]: duration for key, duration in executing.items()\n",
      "  File \"/glade/work/kristenk/miniconda/envs/analysis4/lib/python3.7/site-packages/distributed/scheduler.py\", line 2197, in <dictcomp>\n",
      "    self.tasks[key]: duration for key, duration in executing.items()\n",
      "KeyError: \"('open_dataset-3277f97333a5442423db73da25a34524DYT-c19ef122e6b5c7f246356db7ce76c65f', 0, 0)\"\n"
     ]
    },
    {
     "name": "stdout",
     "output_type": "stream",
     "text": [
      "start year= 1995 member= 37\n",
      "start year= 1995 member= 38\n",
      "start year= 1995 member= 39\n",
      "start year= 1995 member= 40\n",
      "start year= 1996 member= 1\n",
      "start year= 1996 member= 2\n",
      "start year= 1996 member= 3\n",
      "start year= 1996 member= 4\n",
      "start year= 1996 member= 5\n",
      "start year= 1996 member= 6\n",
      "start year= 1996 member= 7\n",
      "start year= 1996 member= 8\n",
      "start year= 1996 member= 9\n",
      "start year= 1996 member= 10\n",
      "start year= 1996 member= 11\n",
      "start year= 1996 member= 12\n",
      "start year= 1996 member= 13\n",
      "start year= 1996 member= 14\n",
      "start year= 1996 member= 15\n",
      "start year= 1996 member= 16\n",
      "start year= 1996 member= 17\n",
      "start year= 1996 member= 18\n",
      "start year= 1996 member= 19\n",
      "start year= 1996 member= 20\n",
      "start year= 1996 member= 21\n",
      "start year= 1996 member= 22\n",
      "start year= 1996 member= 23\n",
      "start year= 1996 member= 24\n",
      "start year= 1996 member= 25\n",
      "start year= 1996 member= 26\n",
      "start year= 1996 member= 27\n",
      "start year= 1996 member= 28\n",
      "start year= 1996 member= 29\n",
      "start year= 1996 member= 30\n",
      "start year= 1996 member= 31\n",
      "start year= 1996 member= 32\n",
      "start year= 1996 member= 33\n",
      "start year= 1996 member= 34\n",
      "start year= 1996 member= 35\n",
      "start year= 1996 member= 36\n",
      "start year= 1996 member= 37\n",
      "start year= 1996 member= 38\n",
      "start year= 1996 member= 39\n"
     ]
    },
    {
     "name": "stderr",
     "output_type": "stream",
     "text": [
      "distributed.core - ERROR - Exception while handling op heartbeat_worker\n",
      "Traceback (most recent call last):\n",
      "  File \"/glade/work/kristenk/miniconda/envs/analysis4/lib/python3.7/site-packages/distributed/core.py\", line 493, in handle_comm\n",
      "    result = handler(comm, **msg)\n",
      "  File \"/glade/work/kristenk/miniconda/envs/analysis4/lib/python3.7/site-packages/distributed/scheduler.py\", line 2197, in heartbeat_worker\n",
      "    self.tasks[key]: duration for key, duration in executing.items()\n",
      "  File \"/glade/work/kristenk/miniconda/envs/analysis4/lib/python3.7/site-packages/distributed/scheduler.py\", line 2197, in <dictcomp>\n",
      "    self.tasks[key]: duration for key, duration in executing.items()\n",
      "KeyError: \"('open_dataset-13713ad0dde5a19fbba205f2168568baHU-54aa148374a1f261a1c9c436098dc4d6', 0, 0)\"\n",
      "distributed.core - ERROR - Exception while handling op heartbeat_worker\n",
      "Traceback (most recent call last):\n",
      "  File \"/glade/work/kristenk/miniconda/envs/analysis4/lib/python3.7/site-packages/distributed/core.py\", line 493, in handle_comm\n",
      "    result = handler(comm, **msg)\n",
      "  File \"/glade/work/kristenk/miniconda/envs/analysis4/lib/python3.7/site-packages/distributed/scheduler.py\", line 2197, in heartbeat_worker\n",
      "    self.tasks[key]: duration for key, duration in executing.items()\n",
      "  File \"/glade/work/kristenk/miniconda/envs/analysis4/lib/python3.7/site-packages/distributed/scheduler.py\", line 2197, in <dictcomp>\n",
      "    self.tasks[key]: duration for key, duration in executing.items()\n",
      "KeyError: \"('open_dataset-13713ad0dde5a19fbba205f2168568baHUS-5f71137062b3469d4936624665156467', 0, 0)\"\n"
     ]
    },
    {
     "name": "stdout",
     "output_type": "stream",
     "text": [
      "start year= 1996 member= 40\n"
     ]
    },
    {
     "name": "stderr",
     "output_type": "stream",
     "text": [
      "distributed.core - ERROR - Exception while handling op heartbeat_worker\n",
      "Traceback (most recent call last):\n",
      "  File \"/glade/work/kristenk/miniconda/envs/analysis4/lib/python3.7/site-packages/distributed/core.py\", line 493, in handle_comm\n",
      "    result = handler(comm, **msg)\n",
      "  File \"/glade/work/kristenk/miniconda/envs/analysis4/lib/python3.7/site-packages/distributed/scheduler.py\", line 2197, in heartbeat_worker\n",
      "    self.tasks[key]: duration for key, duration in executing.items()\n",
      "  File \"/glade/work/kristenk/miniconda/envs/analysis4/lib/python3.7/site-packages/distributed/scheduler.py\", line 2197, in <dictcomp>\n",
      "    self.tasks[key]: duration for key, duration in executing.items()\n",
      "KeyError: \"('open_dataset-13713ad0dde5a19fbba205f2168568baDXU-056ca2badd928b6918d410e71b8264f5', 0, 0)\"\n"
     ]
    },
    {
     "name": "stdout",
     "output_type": "stream",
     "text": [
      "start year= 1997 member= 1\n",
      "start year= 1997 member= 2\n",
      "start year= 1997 member= 3\n",
      "start year= 1997 member= 4\n"
     ]
    },
    {
     "name": "stderr",
     "output_type": "stream",
     "text": [
      "distributed.core - ERROR - Exception while handling op heartbeat_worker\n",
      "Traceback (most recent call last):\n",
      "  File \"/glade/work/kristenk/miniconda/envs/analysis4/lib/python3.7/site-packages/distributed/core.py\", line 493, in handle_comm\n",
      "    result = handler(comm, **msg)\n",
      "  File \"/glade/work/kristenk/miniconda/envs/analysis4/lib/python3.7/site-packages/distributed/scheduler.py\", line 2197, in heartbeat_worker\n",
      "    self.tasks[key]: duration for key, duration in executing.items()\n",
      "  File \"/glade/work/kristenk/miniconda/envs/analysis4/lib/python3.7/site-packages/distributed/scheduler.py\", line 2197, in <dictcomp>\n",
      "    self.tasks[key]: duration for key, duration in executing.items()\n",
      "KeyError: \"('open_dataset-4bc5c5e7c49106c001430541dbf8ac20DYU-84c2b7a5434b5630b7a4706b50aca132', 0, 0)\"\n"
     ]
    },
    {
     "name": "stdout",
     "output_type": "stream",
     "text": [
      "start year= 1997 member= 5\n",
      "start year= 1997 member= 6\n",
      "start year= 1997 member= 7\n",
      "start year= 1997 member= 8\n",
      "start year= 1997 member= 9\n",
      "start year= 1997 member= 10\n",
      "start year= 1997 member= 11\n",
      "start year= 1997 member= 12\n",
      "start year= 1997 member= 13\n",
      "start year= 1997 member= 14\n",
      "start year= 1997 member= 15\n",
      "start year= 1997 member= 16\n",
      "start year= 1997 member= 17\n",
      "start year= 1997 member= 18\n",
      "start year= 1997 member= 19\n",
      "start year= 1997 member= 20\n",
      "start year= 1997 member= 21\n",
      "start year= 1997 member= 22\n",
      "start year= 1997 member= 23\n",
      "start year= 1997 member= 24\n",
      "start year= 1997 member= 25\n",
      "start year= 1997 member= 26\n",
      "start year= 1997 member= 27\n",
      "start year= 1997 member= 28\n",
      "start year= 1997 member= 29\n",
      "start year= 1997 member= 30\n",
      "start year= 1997 member= 31\n",
      "start year= 1997 member= 32\n",
      "start year= 1997 member= 33\n",
      "start year= 1997 member= 34\n",
      "start year= 1997 member= 35\n",
      "start year= 1997 member= 36\n",
      "start year= 1997 member= 37\n",
      "start year= 1997 member= 38\n",
      "start year= 1997 member= 39\n",
      "start year= 1997 member= 40\n",
      "start year= 1998 member= 1\n",
      "start year= 1998 member= 2\n",
      "start year= 1998 member= 3\n",
      "start year= 1998 member= 4\n",
      "start year= 1998 member= 5\n",
      "start year= 1998 member= 6\n",
      "start year= 1998 member= 7\n",
      "start year= 1998 member= 8\n",
      "start year= 1998 member= 9\n",
      "start year= 1998 member= 10\n",
      "start year= 1998 member= 11\n",
      "start year= 1998 member= 12\n",
      "start year= 1998 member= 13\n",
      "start year= 1998 member= 14\n"
     ]
    },
    {
     "name": "stderr",
     "output_type": "stream",
     "text": [
      "distributed.core - ERROR - Exception while handling op heartbeat_worker\n",
      "Traceback (most recent call last):\n",
      "  File \"/glade/work/kristenk/miniconda/envs/analysis4/lib/python3.7/site-packages/distributed/core.py\", line 493, in handle_comm\n",
      "    result = handler(comm, **msg)\n",
      "  File \"/glade/work/kristenk/miniconda/envs/analysis4/lib/python3.7/site-packages/distributed/scheduler.py\", line 2197, in heartbeat_worker\n",
      "    self.tasks[key]: duration for key, duration in executing.items()\n",
      "  File \"/glade/work/kristenk/miniconda/envs/analysis4/lib/python3.7/site-packages/distributed/scheduler.py\", line 2197, in <dictcomp>\n",
      "    self.tasks[key]: duration for key, duration in executing.items()\n",
      "KeyError: \"('open_dataset-ac64af871328a34f828401b2d3448badDYT-2b4d7de649cc5c29d4d0a91d4459816a', 0, 0)\"\n"
     ]
    },
    {
     "name": "stdout",
     "output_type": "stream",
     "text": [
      "start year= 1998 member= 15\n",
      "start year= 1998 member= 16\n",
      "start year= 1998 member= 17\n",
      "start year= 1998 member= 18\n",
      "start year= 1998 member= 19\n",
      "start year= 1998 member= 20\n",
      "start year= 1998 member= 21\n",
      "start year= 1998 member= 22\n",
      "start year= 1998 member= 23\n",
      "start year= 1998 member= 24\n",
      "start year= 1998 member= 25\n",
      "start year= 1998 member= 26\n",
      "start year= 1998 member= 27\n",
      "start year= 1998 member= 28\n",
      "start year= 1998 member= 29\n",
      "start year= 1998 member= 30\n",
      "start year= 1998 member= 31\n",
      "start year= 1998 member= 32\n",
      "start year= 1998 member= 33\n",
      "start year= 1998 member= 34\n",
      "start year= 1998 member= 35\n",
      "start year= 1998 member= 36\n"
     ]
    },
    {
     "name": "stderr",
     "output_type": "stream",
     "text": [
      "distributed.core - ERROR - Exception while handling op heartbeat_worker\n",
      "Traceback (most recent call last):\n",
      "  File \"/glade/work/kristenk/miniconda/envs/analysis4/lib/python3.7/site-packages/distributed/core.py\", line 493, in handle_comm\n",
      "    result = handler(comm, **msg)\n",
      "  File \"/glade/work/kristenk/miniconda/envs/analysis4/lib/python3.7/site-packages/distributed/scheduler.py\", line 2197, in heartbeat_worker\n",
      "    self.tasks[key]: duration for key, duration in executing.items()\n",
      "  File \"/glade/work/kristenk/miniconda/envs/analysis4/lib/python3.7/site-packages/distributed/scheduler.py\", line 2197, in <dictcomp>\n",
      "    self.tasks[key]: duration for key, duration in executing.items()\n",
      "KeyError: \"('open_dataset-75652f25002e548b8e04046f3b897081DXU-75d9926630abb1491a21b260eed9e8cf', 0, 0)\"\n",
      "distributed.core - ERROR - Exception while handling op heartbeat_worker\n",
      "Traceback (most recent call last):\n",
      "  File \"/glade/work/kristenk/miniconda/envs/analysis4/lib/python3.7/site-packages/distributed/core.py\", line 493, in handle_comm\n",
      "    result = handler(comm, **msg)\n",
      "  File \"/glade/work/kristenk/miniconda/envs/analysis4/lib/python3.7/site-packages/distributed/scheduler.py\", line 2197, in heartbeat_worker\n",
      "    self.tasks[key]: duration for key, duration in executing.items()\n",
      "  File \"/glade/work/kristenk/miniconda/envs/analysis4/lib/python3.7/site-packages/distributed/scheduler.py\", line 2197, in <dictcomp>\n",
      "    self.tasks[key]: duration for key, duration in executing.items()\n",
      "KeyError: \"('open_dataset-75652f25002e548b8e04046f3b897081HT-3d4b3b09bdd4b28799f844a8901b5028', 0, 0)\"\n"
     ]
    },
    {
     "name": "stdout",
     "output_type": "stream",
     "text": [
      "start year= 1998 member= 37\n",
      "start year= 1998 member= 38\n",
      "start year= 1998 member= 39\n",
      "start year= 1998 member= 40\n",
      "start year= 1999 member= 1\n",
      "start year= 1999 member= 2\n"
     ]
    },
    {
     "name": "stderr",
     "output_type": "stream",
     "text": [
      "distributed.core - ERROR - Exception while handling op heartbeat_worker\n",
      "Traceback (most recent call last):\n",
      "  File \"/glade/work/kristenk/miniconda/envs/analysis4/lib/python3.7/site-packages/distributed/core.py\", line 493, in handle_comm\n",
      "    result = handler(comm, **msg)\n",
      "  File \"/glade/work/kristenk/miniconda/envs/analysis4/lib/python3.7/site-packages/distributed/scheduler.py\", line 2197, in heartbeat_worker\n",
      "    self.tasks[key]: duration for key, duration in executing.items()\n",
      "  File \"/glade/work/kristenk/miniconda/envs/analysis4/lib/python3.7/site-packages/distributed/scheduler.py\", line 2197, in <dictcomp>\n",
      "    self.tasks[key]: duration for key, duration in executing.items()\n",
      "KeyError: \"('open_dataset-2cd0c109c3ab920e97a90b15f813cac4ANGLE-cb204cfb3fe55e7b00b12bcf0662993f', 0, 0)\"\n",
      "distributed.core - ERROR - Exception while handling op heartbeat_worker\n",
      "Traceback (most recent call last):\n",
      "  File \"/glade/work/kristenk/miniconda/envs/analysis4/lib/python3.7/site-packages/distributed/core.py\", line 493, in handle_comm\n",
      "    result = handler(comm, **msg)\n",
      "  File \"/glade/work/kristenk/miniconda/envs/analysis4/lib/python3.7/site-packages/distributed/scheduler.py\", line 2197, in heartbeat_worker\n",
      "    self.tasks[key]: duration for key, duration in executing.items()\n",
      "  File \"/glade/work/kristenk/miniconda/envs/analysis4/lib/python3.7/site-packages/distributed/scheduler.py\", line 2197, in <dictcomp>\n",
      "    self.tasks[key]: duration for key, duration in executing.items()\n",
      "KeyError: \"('open_dataset-2cd0c109c3ab920e97a90b15f813cac4ANGLET-f73e8f90269800ab83ecb4be9cb93189', 0, 0)\"\n"
     ]
    },
    {
     "name": "stdout",
     "output_type": "stream",
     "text": [
      "start year= 1999 member= 3\n"
     ]
    },
    {
     "name": "stderr",
     "output_type": "stream",
     "text": [
      "distributed.core - ERROR - Exception while handling op heartbeat_worker\n",
      "Traceback (most recent call last):\n",
      "  File \"/glade/work/kristenk/miniconda/envs/analysis4/lib/python3.7/site-packages/distributed/core.py\", line 493, in handle_comm\n",
      "    result = handler(comm, **msg)\n",
      "  File \"/glade/work/kristenk/miniconda/envs/analysis4/lib/python3.7/site-packages/distributed/scheduler.py\", line 2197, in heartbeat_worker\n",
      "    self.tasks[key]: duration for key, duration in executing.items()\n",
      "  File \"/glade/work/kristenk/miniconda/envs/analysis4/lib/python3.7/site-packages/distributed/scheduler.py\", line 2197, in <dictcomp>\n",
      "    self.tasks[key]: duration for key, duration in executing.items()\n",
      "KeyError: \"('open_dataset-2cd0c109c3ab920e97a90b15f813cac4HUW-603f0f30937e08c5f06204273a77ffde', 0, 0)\"\n"
     ]
    },
    {
     "name": "stdout",
     "output_type": "stream",
     "text": [
      "start year= 1999 member= 4\n",
      "start year= 1999 member= 5\n",
      "start year= 1999 member= 6\n",
      "start year= 1999 member= 7\n",
      "start year= 1999 member= 8\n",
      "start year= 1999 member= 9\n",
      "start year= 1999 member= 10\n",
      "start year= 1999 member= 11\n",
      "start year= 1999 member= 12\n",
      "start year= 1999 member= 13\n",
      "start year= 1999 member= 14\n",
      "start year= 1999 member= 15\n"
     ]
    },
    {
     "name": "stderr",
     "output_type": "stream",
     "text": [
      "distributed.core - ERROR - Exception while handling op heartbeat_worker\n",
      "Traceback (most recent call last):\n",
      "  File \"/glade/work/kristenk/miniconda/envs/analysis4/lib/python3.7/site-packages/distributed/core.py\", line 493, in handle_comm\n",
      "    result = handler(comm, **msg)\n",
      "  File \"/glade/work/kristenk/miniconda/envs/analysis4/lib/python3.7/site-packages/distributed/scheduler.py\", line 2197, in heartbeat_worker\n",
      "    self.tasks[key]: duration for key, duration in executing.items()\n",
      "  File \"/glade/work/kristenk/miniconda/envs/analysis4/lib/python3.7/site-packages/distributed/scheduler.py\", line 2197, in <dictcomp>\n",
      "    self.tasks[key]: duration for key, duration in executing.items()\n",
      "KeyError: \"('open_dataset-1bfedd2a00a5c30c2db877e966d0a34fDYT-f73c5fe895c3aacc4082d3bf0663e679', 0, 0)\"\n",
      "distributed.core - ERROR - Exception while handling op heartbeat_worker\n",
      "Traceback (most recent call last):\n",
      "  File \"/glade/work/kristenk/miniconda/envs/analysis4/lib/python3.7/site-packages/distributed/core.py\", line 493, in handle_comm\n",
      "    result = handler(comm, **msg)\n",
      "  File \"/glade/work/kristenk/miniconda/envs/analysis4/lib/python3.7/site-packages/distributed/scheduler.py\", line 2197, in heartbeat_worker\n",
      "    self.tasks[key]: duration for key, duration in executing.items()\n",
      "  File \"/glade/work/kristenk/miniconda/envs/analysis4/lib/python3.7/site-packages/distributed/scheduler.py\", line 2197, in <dictcomp>\n",
      "    self.tasks[key]: duration for key, duration in executing.items()\n",
      "KeyError: \"('open_dataset-1bfedd2a00a5c30c2db877e966d0a34fDXU-fed1bd11e5e4ddd6ee6b0121a3a0da70', 0, 0)\"\n",
      "distributed.core - ERROR - Exception while handling op heartbeat_worker\n",
      "Traceback (most recent call last):\n",
      "  File \"/glade/work/kristenk/miniconda/envs/analysis4/lib/python3.7/site-packages/distributed/core.py\", line 493, in handle_comm\n",
      "    result = handler(comm, **msg)\n",
      "  File \"/glade/work/kristenk/miniconda/envs/analysis4/lib/python3.7/site-packages/distributed/scheduler.py\", line 2197, in heartbeat_worker\n",
      "    self.tasks[key]: duration for key, duration in executing.items()\n",
      "  File \"/glade/work/kristenk/miniconda/envs/analysis4/lib/python3.7/site-packages/distributed/scheduler.py\", line 2197, in <dictcomp>\n",
      "    self.tasks[key]: duration for key, duration in executing.items()\n",
      "KeyError: \"('open_dataset-1bfedd2a00a5c30c2db877e966d0a34fDXT-ad750e8e82ec839084a3182cf94a78de', 0, 0)\"\n",
      "distributed.core - ERROR - Exception while handling op heartbeat_worker\n",
      "Traceback (most recent call last):\n",
      "  File \"/glade/work/kristenk/miniconda/envs/analysis4/lib/python3.7/site-packages/distributed/core.py\", line 493, in handle_comm\n",
      "    result = handler(comm, **msg)\n",
      "  File \"/glade/work/kristenk/miniconda/envs/analysis4/lib/python3.7/site-packages/distributed/scheduler.py\", line 2197, in heartbeat_worker\n",
      "    self.tasks[key]: duration for key, duration in executing.items()\n",
      "  File \"/glade/work/kristenk/miniconda/envs/analysis4/lib/python3.7/site-packages/distributed/scheduler.py\", line 2197, in <dictcomp>\n",
      "    self.tasks[key]: duration for key, duration in executing.items()\n",
      "KeyError: \"('open_dataset-1bfedd2a00a5c30c2db877e966d0a34fHTE-5d05c7743cabf18fae1b7787ba83a75a', 0, 0)\"\n",
      "distributed.core - ERROR - Exception while handling op heartbeat_worker\n",
      "Traceback (most recent call last):\n",
      "  File \"/glade/work/kristenk/miniconda/envs/analysis4/lib/python3.7/site-packages/distributed/core.py\", line 493, in handle_comm\n",
      "    result = handler(comm, **msg)\n",
      "  File \"/glade/work/kristenk/miniconda/envs/analysis4/lib/python3.7/site-packages/distributed/scheduler.py\", line 2197, in heartbeat_worker\n",
      "    self.tasks[key]: duration for key, duration in executing.items()\n",
      "  File \"/glade/work/kristenk/miniconda/envs/analysis4/lib/python3.7/site-packages/distributed/scheduler.py\", line 2197, in <dictcomp>\n",
      "    self.tasks[key]: duration for key, duration in executing.items()\n",
      "KeyError: \"('open_dataset-1bfedd2a00a5c30c2db877e966d0a34fHT-c5b03ae488ae3b30e392620c92c6b9c8', 0, 0)\"\n",
      "distributed.core - ERROR - Exception while handling op heartbeat_worker\n",
      "Traceback (most recent call last):\n",
      "  File \"/glade/work/kristenk/miniconda/envs/analysis4/lib/python3.7/site-packages/distributed/core.py\", line 493, in handle_comm\n",
      "    result = handler(comm, **msg)\n",
      "  File \"/glade/work/kristenk/miniconda/envs/analysis4/lib/python3.7/site-packages/distributed/scheduler.py\", line 2197, in heartbeat_worker\n",
      "    self.tasks[key]: duration for key, duration in executing.items()\n",
      "  File \"/glade/work/kristenk/miniconda/envs/analysis4/lib/python3.7/site-packages/distributed/scheduler.py\", line 2197, in <dictcomp>\n",
      "    self.tasks[key]: duration for key, duration in executing.items()\n",
      "KeyError: \"('open_dataset-1bfedd2a00a5c30c2db877e966d0a34fHUS-e3a0538061bcc9ba9e4d3150b41121f1', 0, 0)\"\n",
      "distributed.core - ERROR - Exception while handling op heartbeat_worker\n",
      "Traceback (most recent call last):\n",
      "  File \"/glade/work/kristenk/miniconda/envs/analysis4/lib/python3.7/site-packages/distributed/core.py\", line 493, in handle_comm\n",
      "    result = handler(comm, **msg)\n",
      "  File \"/glade/work/kristenk/miniconda/envs/analysis4/lib/python3.7/site-packages/distributed/scheduler.py\", line 2197, in heartbeat_worker\n",
      "    self.tasks[key]: duration for key, duration in executing.items()\n",
      "  File \"/glade/work/kristenk/miniconda/envs/analysis4/lib/python3.7/site-packages/distributed/scheduler.py\", line 2197, in <dictcomp>\n",
      "    self.tasks[key]: duration for key, duration in executing.items()\n",
      "KeyError: \"('open_dataset-1bfedd2a00a5c30c2db877e966d0a34fHU-4b71266f54961d78030caf98d6fc4dcb', 0, 0)\"\n"
     ]
    },
    {
     "name": "stdout",
     "output_type": "stream",
     "text": [
      "start year= 1999 member= 16\n",
      "start year= 1999 member= 17\n",
      "start year= 1999 member= 18\n",
      "start year= 1999 member= 19\n",
      "start year= 1999 member= 20\n",
      "start year= 1999 member= 21\n",
      "start year= 1999 member= 22\n",
      "start year= 1999 member= 23\n",
      "start year= 1999 member= 24\n",
      "start year= 1999 member= 25\n"
     ]
    },
    {
     "name": "stderr",
     "output_type": "stream",
     "text": [
      "distributed.core - ERROR - Exception while handling op heartbeat_worker\n",
      "Traceback (most recent call last):\n",
      "  File \"/glade/work/kristenk/miniconda/envs/analysis4/lib/python3.7/site-packages/distributed/core.py\", line 493, in handle_comm\n",
      "    result = handler(comm, **msg)\n",
      "  File \"/glade/work/kristenk/miniconda/envs/analysis4/lib/python3.7/site-packages/distributed/scheduler.py\", line 2197, in heartbeat_worker\n",
      "    self.tasks[key]: duration for key, duration in executing.items()\n",
      "  File \"/glade/work/kristenk/miniconda/envs/analysis4/lib/python3.7/site-packages/distributed/scheduler.py\", line 2197, in <dictcomp>\n",
      "    self.tasks[key]: duration for key, duration in executing.items()\n",
      "KeyError: \"('open_dataset-061935787d289123b601e4ffa8048b6dDXT-2b0e3e90134c87dddbba9633ad33ebef', 0, 0)\"\n"
     ]
    },
    {
     "name": "stdout",
     "output_type": "stream",
     "text": [
      "start year= 1999 member= 26\n",
      "start year= 1999 member= 27\n",
      "start year= 1999 member= 28\n",
      "start year= 1999 member= 29\n",
      "start year= 1999 member= 30\n",
      "start year= 1999 member= 31\n"
     ]
    },
    {
     "name": "stderr",
     "output_type": "stream",
     "text": [
      "distributed.core - ERROR - Exception while handling op heartbeat_worker\n",
      "Traceback (most recent call last):\n",
      "  File \"/glade/work/kristenk/miniconda/envs/analysis4/lib/python3.7/site-packages/distributed/core.py\", line 493, in handle_comm\n",
      "    result = handler(comm, **msg)\n",
      "  File \"/glade/work/kristenk/miniconda/envs/analysis4/lib/python3.7/site-packages/distributed/scheduler.py\", line 2197, in heartbeat_worker\n",
      "    self.tasks[key]: duration for key, duration in executing.items()\n",
      "  File \"/glade/work/kristenk/miniconda/envs/analysis4/lib/python3.7/site-packages/distributed/scheduler.py\", line 2197, in <dictcomp>\n",
      "    self.tasks[key]: duration for key, duration in executing.items()\n",
      "KeyError: \"('open_dataset-68d8263ba6fcb1d57b956eb84b300b29DXU-27a8e3eb061c690f720835566c5f7e7e', 0, 0)\"\n"
     ]
    },
    {
     "name": "stdout",
     "output_type": "stream",
     "text": [
      "start year= 1999 member= 32\n",
      "start year= 1999 member= 33\n",
      "start year= 1999 member= 34\n",
      "start year= 1999 member= 35\n",
      "start year= 1999 member= 36\n",
      "start year= 1999 member= 37\n"
     ]
    },
    {
     "name": "stderr",
     "output_type": "stream",
     "text": [
      "distributed.core - ERROR - Exception while handling op heartbeat_worker\n",
      "Traceback (most recent call last):\n",
      "  File \"/glade/work/kristenk/miniconda/envs/analysis4/lib/python3.7/site-packages/distributed/core.py\", line 493, in handle_comm\n",
      "    result = handler(comm, **msg)\n",
      "  File \"/glade/work/kristenk/miniconda/envs/analysis4/lib/python3.7/site-packages/distributed/scheduler.py\", line 2197, in heartbeat_worker\n",
      "    self.tasks[key]: duration for key, duration in executing.items()\n",
      "  File \"/glade/work/kristenk/miniconda/envs/analysis4/lib/python3.7/site-packages/distributed/scheduler.py\", line 2197, in <dictcomp>\n",
      "    self.tasks[key]: duration for key, duration in executing.items()\n",
      "KeyError: \"('open_dataset-c0aa6c5d63c87ee6b27b3a9fddd5abfeDXU-4229672f97e34a7484f17d3759400c67', 0, 0)\"\n",
      "distributed.core - ERROR - Exception while handling op heartbeat_worker\n",
      "Traceback (most recent call last):\n",
      "  File \"/glade/work/kristenk/miniconda/envs/analysis4/lib/python3.7/site-packages/distributed/core.py\", line 493, in handle_comm\n",
      "    result = handler(comm, **msg)\n",
      "  File \"/glade/work/kristenk/miniconda/envs/analysis4/lib/python3.7/site-packages/distributed/scheduler.py\", line 2197, in heartbeat_worker\n",
      "    self.tasks[key]: duration for key, duration in executing.items()\n",
      "  File \"/glade/work/kristenk/miniconda/envs/analysis4/lib/python3.7/site-packages/distributed/scheduler.py\", line 2197, in <dictcomp>\n",
      "    self.tasks[key]: duration for key, duration in executing.items()\n",
      "KeyError: \"('open_dataset-c0aa6c5d63c87ee6b27b3a9fddd5abfeDYT-6508a565bba2669d750f236b1da19aae', 0, 0)\"\n",
      "distributed.core - ERROR - Exception while handling op heartbeat_worker\n",
      "Traceback (most recent call last):\n",
      "  File \"/glade/work/kristenk/miniconda/envs/analysis4/lib/python3.7/site-packages/distributed/core.py\", line 493, in handle_comm\n",
      "    result = handler(comm, **msg)\n",
      "  File \"/glade/work/kristenk/miniconda/envs/analysis4/lib/python3.7/site-packages/distributed/scheduler.py\", line 2197, in heartbeat_worker\n",
      "    self.tasks[key]: duration for key, duration in executing.items()\n",
      "  File \"/glade/work/kristenk/miniconda/envs/analysis4/lib/python3.7/site-packages/distributed/scheduler.py\", line 2197, in <dictcomp>\n",
      "    self.tasks[key]: duration for key, duration in executing.items()\n",
      "KeyError: \"('open_dataset-c0aa6c5d63c87ee6b27b3a9fddd5abfeHU-7b1edf465a0420da90bd82b6594403ec', 0, 0)\"\n"
     ]
    },
    {
     "name": "stdout",
     "output_type": "stream",
     "text": [
      "start year= 1999 member= 38\n",
      "start year= 1999 member= 39\n",
      "start year= 1999 member= 40\n",
      "start year= 2000 member= 1\n",
      "start year= 2000 member= 2\n",
      "start year= 2000 member= 3\n",
      "start year= 2000 member= 4\n",
      "start year= 2000 member= 5\n",
      "start year= 2000 member= 6\n",
      "start year= 2000 member= 7\n",
      "start year= 2000 member= 8\n",
      "start year= 2000 member= 9\n",
      "start year= 2000 member= 10\n",
      "start year= 2000 member= 11\n",
      "start year= 2000 member= 12\n"
     ]
    },
    {
     "name": "stderr",
     "output_type": "stream",
     "text": [
      "distributed.core - ERROR - Exception while handling op heartbeat_worker\n",
      "Traceback (most recent call last):\n",
      "  File \"/glade/work/kristenk/miniconda/envs/analysis4/lib/python3.7/site-packages/distributed/core.py\", line 493, in handle_comm\n",
      "    result = handler(comm, **msg)\n",
      "  File \"/glade/work/kristenk/miniconda/envs/analysis4/lib/python3.7/site-packages/distributed/scheduler.py\", line 2197, in heartbeat_worker\n",
      "    self.tasks[key]: duration for key, duration in executing.items()\n",
      "  File \"/glade/work/kristenk/miniconda/envs/analysis4/lib/python3.7/site-packages/distributed/scheduler.py\", line 2197, in <dictcomp>\n",
      "    self.tasks[key]: duration for key, duration in executing.items()\n",
      "KeyError: \"('open_dataset-8e7c2e06322ef087eb03f6bfc266dee9DXU-50837938374cbc1fc48d1b77d921a7f4', 0, 0)\"\n"
     ]
    },
    {
     "name": "stdout",
     "output_type": "stream",
     "text": [
      "start year= 2000 member= 13\n",
      "start year= 2000 member= 14\n",
      "start year= 2000 member= 15\n",
      "start year= 2000 member= 16\n",
      "start year= 2000 member= 17\n",
      "start year= 2000 member= 18\n",
      "start year= 2000 member= 19\n",
      "start year= 2000 member= 20\n",
      "start year= 2000 member= 21\n",
      "start year= 2000 member= 22\n",
      "start year= 2000 member= 23\n",
      "start year= 2000 member= 24\n",
      "start year= 2000 member= 25\n",
      "start year= 2000 member= 26\n",
      "start year= 2000 member= 27\n",
      "start year= 2000 member= 28\n"
     ]
    },
    {
     "name": "stderr",
     "output_type": "stream",
     "text": [
      "distributed.core - ERROR - Exception while handling op heartbeat_worker\n",
      "Traceback (most recent call last):\n",
      "  File \"/glade/work/kristenk/miniconda/envs/analysis4/lib/python3.7/site-packages/distributed/core.py\", line 493, in handle_comm\n",
      "    result = handler(comm, **msg)\n",
      "  File \"/glade/work/kristenk/miniconda/envs/analysis4/lib/python3.7/site-packages/distributed/scheduler.py\", line 2197, in heartbeat_worker\n",
      "    self.tasks[key]: duration for key, duration in executing.items()\n",
      "  File \"/glade/work/kristenk/miniconda/envs/analysis4/lib/python3.7/site-packages/distributed/scheduler.py\", line 2197, in <dictcomp>\n",
      "    self.tasks[key]: duration for key, duration in executing.items()\n",
      "KeyError: \"('open_dataset-e21b080bbc337e741d98744c9e736e12HUS-f3bba311b1ebfa5cfb7c976f4598c6b7', 0, 0)\"\n"
     ]
    },
    {
     "name": "stdout",
     "output_type": "stream",
     "text": [
      "start year= 2000 member= 29\n",
      "start year= 2000 member= 30\n",
      "start year= 2000 member= 31\n",
      "start year= 2000 member= 32\n",
      "start year= 2000 member= 33\n",
      "start year= 2000 member= 34\n",
      "start year= 2000 member= 35\n",
      "start year= 2000 member= 36\n",
      "start year= 2000 member= 37\n",
      "start year= 2000 member= 38\n",
      "start year= 2000 member= 39\n",
      "start year= 2000 member= 40\n",
      "start year= 2001 member= 1\n",
      "start year= 2001 member= 2\n",
      "start year= 2001 member= 3\n",
      "start year= 2001 member= 4\n",
      "start year= 2001 member= 5\n",
      "start year= 2001 member= 6\n"
     ]
    },
    {
     "name": "stderr",
     "output_type": "stream",
     "text": [
      "distributed.core - ERROR - Exception while handling op heartbeat_worker\n",
      "Traceback (most recent call last):\n",
      "  File \"/glade/work/kristenk/miniconda/envs/analysis4/lib/python3.7/site-packages/distributed/core.py\", line 493, in handle_comm\n",
      "    result = handler(comm, **msg)\n",
      "  File \"/glade/work/kristenk/miniconda/envs/analysis4/lib/python3.7/site-packages/distributed/scheduler.py\", line 2197, in heartbeat_worker\n",
      "    self.tasks[key]: duration for key, duration in executing.items()\n",
      "  File \"/glade/work/kristenk/miniconda/envs/analysis4/lib/python3.7/site-packages/distributed/scheduler.py\", line 2197, in <dictcomp>\n",
      "    self.tasks[key]: duration for key, duration in executing.items()\n",
      "KeyError: \"('open_dataset-384dc43eea916a90ce8ad46bbc7027c3HT-2f5a814e38c74aab94ba91995eaae781', 0, 0)\"\n"
     ]
    },
    {
     "name": "stdout",
     "output_type": "stream",
     "text": [
      "start year= 2001 member= 7\n",
      "start year= 2001 member= 8\n",
      "start year= 2001 member= 9\n",
      "start year= 2001 member= 10\n",
      "start year= 2001 member= 11\n",
      "start year= 2001 member= 12\n",
      "start year= 2001 member= 13\n",
      "start year= 2001 member= 14\n",
      "start year= 2001 member= 15\n",
      "start year= 2001 member= 16\n",
      "start year= 2001 member= 17\n",
      "start year= 2001 member= 18\n",
      "start year= 2001 member= 19\n",
      "start year= 2001 member= 20\n",
      "start year= 2001 member= 21\n",
      "start year= 2001 member= 22\n",
      "start year= 2001 member= 23\n",
      "start year= 2001 member= 24\n",
      "start year= 2001 member= 25\n",
      "start year= 2001 member= 26\n",
      "start year= 2001 member= 27\n",
      "start year= 2001 member= 28\n",
      "start year= 2001 member= 29\n",
      "start year= 2001 member= 30\n",
      "start year= 2001 member= 31\n",
      "start year= 2001 member= 32\n",
      "start year= 2001 member= 33\n",
      "start year= 2001 member= 34\n",
      "start year= 2001 member= 35\n",
      "start year= 2001 member= 36\n",
      "start year= 2001 member= 37\n",
      "start year= 2001 member= 38\n",
      "start year= 2001 member= 39\n",
      "start year= 2001 member= 40\n",
      "start year= 2002 member= 1\n",
      "start year= 2002 member= 2\n",
      "start year= 2002 member= 3\n",
      "start year= 2002 member= 4\n"
     ]
    },
    {
     "name": "stderr",
     "output_type": "stream",
     "text": [
      "distributed.core - ERROR - Exception while handling op heartbeat_worker\n",
      "Traceback (most recent call last):\n",
      "  File \"/glade/work/kristenk/miniconda/envs/analysis4/lib/python3.7/site-packages/distributed/core.py\", line 493, in handle_comm\n",
      "    result = handler(comm, **msg)\n",
      "  File \"/glade/work/kristenk/miniconda/envs/analysis4/lib/python3.7/site-packages/distributed/scheduler.py\", line 2197, in heartbeat_worker\n",
      "    self.tasks[key]: duration for key, duration in executing.items()\n",
      "  File \"/glade/work/kristenk/miniconda/envs/analysis4/lib/python3.7/site-packages/distributed/scheduler.py\", line 2197, in <dictcomp>\n",
      "    self.tasks[key]: duration for key, duration in executing.items()\n",
      "KeyError: \"('open_dataset-54201c64fce1f74432a0b735d5b0224fHU-d792feb9c7e02ab7c0d216e3f18d5bd0', 0, 0)\"\n"
     ]
    },
    {
     "name": "stdout",
     "output_type": "stream",
     "text": [
      "start year= 2002 member= 5\n",
      "start year= 2002 member= 6\n"
     ]
    },
    {
     "name": "stderr",
     "output_type": "stream",
     "text": [
      "distributed.core - ERROR - Exception while handling op heartbeat_worker\n",
      "Traceback (most recent call last):\n",
      "  File \"/glade/work/kristenk/miniconda/envs/analysis4/lib/python3.7/site-packages/distributed/core.py\", line 493, in handle_comm\n",
      "    result = handler(comm, **msg)\n",
      "  File \"/glade/work/kristenk/miniconda/envs/analysis4/lib/python3.7/site-packages/distributed/scheduler.py\", line 2197, in heartbeat_worker\n",
      "    self.tasks[key]: duration for key, duration in executing.items()\n",
      "  File \"/glade/work/kristenk/miniconda/envs/analysis4/lib/python3.7/site-packages/distributed/scheduler.py\", line 2197, in <dictcomp>\n",
      "    self.tasks[key]: duration for key, duration in executing.items()\n",
      "KeyError: \"('open_dataset-8bd462348aa78e1f3744ce2822a422f0HTN-05ed7960abe4046940686f9e56a24d36', 0, 0)\"\n"
     ]
    },
    {
     "name": "stdout",
     "output_type": "stream",
     "text": [
      "start year= 2002 member= 7\n",
      "start year= 2002 member= 8\n",
      "start year= 2002 member= 9\n",
      "start year= 2002 member= 10\n",
      "start year= 2002 member= 11\n",
      "start year= 2002 member= 12\n",
      "start year= 2002 member= 13\n",
      "start year= 2002 member= 14\n",
      "start year= 2002 member= 15\n",
      "start year= 2002 member= 16\n",
      "start year= 2002 member= 17\n"
     ]
    },
    {
     "name": "stderr",
     "output_type": "stream",
     "text": [
      "distributed.core - ERROR - Exception while handling op heartbeat_worker\n",
      "Traceback (most recent call last):\n",
      "  File \"/glade/work/kristenk/miniconda/envs/analysis4/lib/python3.7/site-packages/distributed/core.py\", line 493, in handle_comm\n",
      "    result = handler(comm, **msg)\n",
      "  File \"/glade/work/kristenk/miniconda/envs/analysis4/lib/python3.7/site-packages/distributed/scheduler.py\", line 2197, in heartbeat_worker\n",
      "    self.tasks[key]: duration for key, duration in executing.items()\n",
      "  File \"/glade/work/kristenk/miniconda/envs/analysis4/lib/python3.7/site-packages/distributed/scheduler.py\", line 2197, in <dictcomp>\n",
      "    self.tasks[key]: duration for key, duration in executing.items()\n",
      "KeyError: \"('open_dataset-1eeb573b4ca46048085b22e029e9d4deANGLET-0430eeeafac7c6d0f69da072360c5c0f', 0, 0)\"\n",
      "distributed.core - ERROR - Exception while handling op heartbeat_worker\n",
      "Traceback (most recent call last):\n",
      "  File \"/glade/work/kristenk/miniconda/envs/analysis4/lib/python3.7/site-packages/distributed/core.py\", line 493, in handle_comm\n",
      "    result = handler(comm, **msg)\n",
      "  File \"/glade/work/kristenk/miniconda/envs/analysis4/lib/python3.7/site-packages/distributed/scheduler.py\", line 2197, in heartbeat_worker\n",
      "    self.tasks[key]: duration for key, duration in executing.items()\n",
      "  File \"/glade/work/kristenk/miniconda/envs/analysis4/lib/python3.7/site-packages/distributed/scheduler.py\", line 2197, in <dictcomp>\n",
      "    self.tasks[key]: duration for key, duration in executing.items()\n",
      "KeyError: \"('open_dataset-1eeb573b4ca46048085b22e029e9d4deANGLE-74a9ff378d17dac621d319dffdc669aa', 0, 0)\"\n",
      "distributed.core - ERROR - Exception while handling op heartbeat_worker\n",
      "Traceback (most recent call last):\n",
      "  File \"/glade/work/kristenk/miniconda/envs/analysis4/lib/python3.7/site-packages/distributed/core.py\", line 493, in handle_comm\n",
      "    result = handler(comm, **msg)\n",
      "  File \"/glade/work/kristenk/miniconda/envs/analysis4/lib/python3.7/site-packages/distributed/scheduler.py\", line 2197, in heartbeat_worker\n",
      "    self.tasks[key]: duration for key, duration in executing.items()\n",
      "  File \"/glade/work/kristenk/miniconda/envs/analysis4/lib/python3.7/site-packages/distributed/scheduler.py\", line 2197, in <dictcomp>\n",
      "    self.tasks[key]: duration for key, duration in executing.items()\n",
      "KeyError: \"('open_dataset-1eeb573b4ca46048085b22e029e9d4deHUW-d23db7639bbf71dd2c7150eb3b51a5ef', 0, 0)\"\n",
      "distributed.core - ERROR - Exception while handling op heartbeat_worker\n",
      "Traceback (most recent call last):\n",
      "  File \"/glade/work/kristenk/miniconda/envs/analysis4/lib/python3.7/site-packages/distributed/core.py\", line 493, in handle_comm\n",
      "    result = handler(comm, **msg)\n",
      "  File \"/glade/work/kristenk/miniconda/envs/analysis4/lib/python3.7/site-packages/distributed/scheduler.py\", line 2197, in heartbeat_worker\n",
      "    self.tasks[key]: duration for key, duration in executing.items()\n",
      "  File \"/glade/work/kristenk/miniconda/envs/analysis4/lib/python3.7/site-packages/distributed/scheduler.py\", line 2197, in <dictcomp>\n",
      "    self.tasks[key]: duration for key, duration in executing.items()\n",
      "KeyError: \"('open_dataset-1eeb573b4ca46048085b22e029e9d4deHTN-4d5a98f260a152c80b344db9d8359750', 0, 0)\"\n"
     ]
    },
    {
     "name": "stdout",
     "output_type": "stream",
     "text": [
      "start year= 2002 member= 18\n",
      "start year= 2002 member= 19\n",
      "start year= 2002 member= 20\n"
     ]
    },
    {
     "name": "stderr",
     "output_type": "stream",
     "text": [
      "distributed.core - ERROR - Exception while handling op heartbeat_worker\n",
      "Traceback (most recent call last):\n",
      "  File \"/glade/work/kristenk/miniconda/envs/analysis4/lib/python3.7/site-packages/distributed/core.py\", line 493, in handle_comm\n",
      "    result = handler(comm, **msg)\n",
      "  File \"/glade/work/kristenk/miniconda/envs/analysis4/lib/python3.7/site-packages/distributed/scheduler.py\", line 2197, in heartbeat_worker\n",
      "    self.tasks[key]: duration for key, duration in executing.items()\n",
      "  File \"/glade/work/kristenk/miniconda/envs/analysis4/lib/python3.7/site-packages/distributed/scheduler.py\", line 2197, in <dictcomp>\n",
      "    self.tasks[key]: duration for key, duration in executing.items()\n",
      "KeyError: \"('open_dataset-6541fc66a68869037f22f3c6248d9c52HTE-b551f2974ebc88f24dac05417121c2c5', 0, 0)\"\n",
      "distributed.core - ERROR - Exception while handling op heartbeat_worker\n",
      "Traceback (most recent call last):\n",
      "  File \"/glade/work/kristenk/miniconda/envs/analysis4/lib/python3.7/site-packages/distributed/core.py\", line 493, in handle_comm\n",
      "    result = handler(comm, **msg)\n",
      "  File \"/glade/work/kristenk/miniconda/envs/analysis4/lib/python3.7/site-packages/distributed/scheduler.py\", line 2197, in heartbeat_worker\n",
      "    self.tasks[key]: duration for key, duration in executing.items()\n",
      "  File \"/glade/work/kristenk/miniconda/envs/analysis4/lib/python3.7/site-packages/distributed/scheduler.py\", line 2197, in <dictcomp>\n",
      "    self.tasks[key]: duration for key, duration in executing.items()\n",
      "KeyError: \"('open_dataset-6541fc66a68869037f22f3c6248d9c52HT-a2e8ef460e1b82d4e955eb14668aca1a', 0, 0)\"\n"
     ]
    },
    {
     "name": "stdout",
     "output_type": "stream",
     "text": [
      "start year= 2002 member= 21\n",
      "start year= 2002 member= 22\n",
      "start year= 2002 member= 23\n",
      "start year= 2002 member= 24\n",
      "start year= 2002 member= 25\n",
      "start year= 2002 member= 26\n",
      "start year= 2002 member= 27\n",
      "start year= 2002 member= 28\n",
      "start year= 2002 member= 29\n",
      "start year= 2002 member= 30\n",
      "start year= 2002 member= 31\n",
      "start year= 2002 member= 32\n",
      "start year= 2002 member= 33\n",
      "start year= 2002 member= 34\n",
      "start year= 2002 member= 35\n"
     ]
    },
    {
     "name": "stderr",
     "output_type": "stream",
     "text": [
      "distributed.core - ERROR - Exception while handling op heartbeat_worker\n",
      "Traceback (most recent call last):\n",
      "  File \"/glade/work/kristenk/miniconda/envs/analysis4/lib/python3.7/site-packages/distributed/core.py\", line 493, in handle_comm\n",
      "    result = handler(comm, **msg)\n",
      "  File \"/glade/work/kristenk/miniconda/envs/analysis4/lib/python3.7/site-packages/distributed/scheduler.py\", line 2197, in heartbeat_worker\n",
      "    self.tasks[key]: duration for key, duration in executing.items()\n",
      "  File \"/glade/work/kristenk/miniconda/envs/analysis4/lib/python3.7/site-packages/distributed/scheduler.py\", line 2197, in <dictcomp>\n",
      "    self.tasks[key]: duration for key, duration in executing.items()\n",
      "KeyError: \"('open_dataset-0df543d662a818fce6d60af7f6f57a88HUW-f1ce08683964e0582d89535b4eb5d21b', 0, 0)\"\n",
      "distributed.core - ERROR - Exception while handling op heartbeat_worker\n",
      "Traceback (most recent call last):\n",
      "  File \"/glade/work/kristenk/miniconda/envs/analysis4/lib/python3.7/site-packages/distributed/core.py\", line 493, in handle_comm\n",
      "    result = handler(comm, **msg)\n",
      "  File \"/glade/work/kristenk/miniconda/envs/analysis4/lib/python3.7/site-packages/distributed/scheduler.py\", line 2197, in heartbeat_worker\n",
      "    self.tasks[key]: duration for key, duration in executing.items()\n",
      "  File \"/glade/work/kristenk/miniconda/envs/analysis4/lib/python3.7/site-packages/distributed/scheduler.py\", line 2197, in <dictcomp>\n",
      "    self.tasks[key]: duration for key, duration in executing.items()\n",
      "KeyError: \"('open_dataset-0df543d662a818fce6d60af7f6f57a88HT-d4c47c141e7091400d2dc0969b237042', 0, 0)\"\n"
     ]
    },
    {
     "name": "stdout",
     "output_type": "stream",
     "text": [
      "start year= 2002 member= 36\n",
      "start year= 2002 member= 37\n",
      "start year= 2002 member= 38\n",
      "start year= 2002 member= 39\n",
      "start year= 2002 member= 40\n",
      "start year= 2003 member= 1\n",
      "start year= 2003 member= 2\n",
      "start year= 2003 member= 3\n",
      "start year= 2003 member= 4\n"
     ]
    },
    {
     "name": "stderr",
     "output_type": "stream",
     "text": [
      "distributed.core - ERROR - Exception while handling op heartbeat_worker\n",
      "Traceback (most recent call last):\n",
      "  File \"/glade/work/kristenk/miniconda/envs/analysis4/lib/python3.7/site-packages/distributed/core.py\", line 493, in handle_comm\n",
      "    result = handler(comm, **msg)\n",
      "  File \"/glade/work/kristenk/miniconda/envs/analysis4/lib/python3.7/site-packages/distributed/scheduler.py\", line 2197, in heartbeat_worker\n",
      "    self.tasks[key]: duration for key, duration in executing.items()\n",
      "  File \"/glade/work/kristenk/miniconda/envs/analysis4/lib/python3.7/site-packages/distributed/scheduler.py\", line 2197, in <dictcomp>\n",
      "    self.tasks[key]: duration for key, duration in executing.items()\n",
      "KeyError: \"('open_dataset-08e1efcfc9b06c81756ab20ecb1705f4DYT-d06b62e2e712881e0539a9ece4cf7017', 0, 0)\"\n"
     ]
    },
    {
     "name": "stdout",
     "output_type": "stream",
     "text": [
      "start year= 2003 member= 5\n",
      "start year= 2003 member= 6\n",
      "start year= 2003 member= 7\n",
      "start year= 2003 member= 8\n"
     ]
    },
    {
     "name": "stderr",
     "output_type": "stream",
     "text": [
      "distributed.core - ERROR - Exception while handling op heartbeat_worker\n",
      "Traceback (most recent call last):\n",
      "  File \"/glade/work/kristenk/miniconda/envs/analysis4/lib/python3.7/site-packages/distributed/core.py\", line 493, in handle_comm\n",
      "    result = handler(comm, **msg)\n",
      "  File \"/glade/work/kristenk/miniconda/envs/analysis4/lib/python3.7/site-packages/distributed/scheduler.py\", line 2197, in heartbeat_worker\n",
      "    self.tasks[key]: duration for key, duration in executing.items()\n",
      "  File \"/glade/work/kristenk/miniconda/envs/analysis4/lib/python3.7/site-packages/distributed/scheduler.py\", line 2197, in <dictcomp>\n",
      "    self.tasks[key]: duration for key, duration in executing.items()\n",
      "KeyError: \"('open_dataset-68c005aa361f5dea185dfc7eaee4987cHT-68492812743217cde6d7656beb8a6a77', 0, 0)\"\n"
     ]
    },
    {
     "name": "stdout",
     "output_type": "stream",
     "text": [
      "start year= 2003 member= 9\n",
      "start year= 2003 member= 10\n",
      "start year= 2003 member= 11\n",
      "start year= 2003 member= 12\n",
      "start year= 2003 member= 13\n"
     ]
    },
    {
     "name": "stderr",
     "output_type": "stream",
     "text": [
      "distributed.core - ERROR - Exception while handling op heartbeat_worker\n",
      "Traceback (most recent call last):\n",
      "  File \"/glade/work/kristenk/miniconda/envs/analysis4/lib/python3.7/site-packages/distributed/core.py\", line 493, in handle_comm\n",
      "    result = handler(comm, **msg)\n",
      "  File \"/glade/work/kristenk/miniconda/envs/analysis4/lib/python3.7/site-packages/distributed/scheduler.py\", line 2197, in heartbeat_worker\n",
      "    self.tasks[key]: duration for key, duration in executing.items()\n",
      "  File \"/glade/work/kristenk/miniconda/envs/analysis4/lib/python3.7/site-packages/distributed/scheduler.py\", line 2197, in <dictcomp>\n",
      "    self.tasks[key]: duration for key, duration in executing.items()\n",
      "KeyError: \"('open_dataset-eb2851c8923ab0aa43ef86ba849a7387DYU-d3d7095f5e858b6d5d40ff1f9cc6752d', 0, 0)\"\n"
     ]
    },
    {
     "name": "stdout",
     "output_type": "stream",
     "text": [
      "start year= 2003 member= 14\n",
      "start year= 2003 member= 15\n",
      "start year= 2003 member= 16\n",
      "start year= 2003 member= 17\n",
      "start year= 2003 member= 18\n"
     ]
    },
    {
     "name": "stderr",
     "output_type": "stream",
     "text": [
      "distributed.core - ERROR - Exception while handling op heartbeat_worker\n",
      "Traceback (most recent call last):\n",
      "  File \"/glade/work/kristenk/miniconda/envs/analysis4/lib/python3.7/site-packages/distributed/core.py\", line 493, in handle_comm\n",
      "    result = handler(comm, **msg)\n",
      "  File \"/glade/work/kristenk/miniconda/envs/analysis4/lib/python3.7/site-packages/distributed/scheduler.py\", line 2197, in heartbeat_worker\n",
      "    self.tasks[key]: duration for key, duration in executing.items()\n",
      "  File \"/glade/work/kristenk/miniconda/envs/analysis4/lib/python3.7/site-packages/distributed/scheduler.py\", line 2197, in <dictcomp>\n",
      "    self.tasks[key]: duration for key, duration in executing.items()\n",
      "KeyError: \"('open_dataset-d0fcba4bd3f176771a8e099d46125f70ANGLE-8c2c83a55930975e58f709755fe11ebb', 0, 0)\"\n",
      "distributed.core - ERROR - Exception while handling op heartbeat_worker\n",
      "Traceback (most recent call last):\n",
      "  File \"/glade/work/kristenk/miniconda/envs/analysis4/lib/python3.7/site-packages/distributed/core.py\", line 493, in handle_comm\n",
      "    result = handler(comm, **msg)\n",
      "  File \"/glade/work/kristenk/miniconda/envs/analysis4/lib/python3.7/site-packages/distributed/scheduler.py\", line 2197, in heartbeat_worker\n",
      "    self.tasks[key]: duration for key, duration in executing.items()\n",
      "  File \"/glade/work/kristenk/miniconda/envs/analysis4/lib/python3.7/site-packages/distributed/scheduler.py\", line 2197, in <dictcomp>\n",
      "    self.tasks[key]: duration for key, duration in executing.items()\n",
      "KeyError: \"('open_dataset-d0fcba4bd3f176771a8e099d46125f70ANGLET-8d5d8245d7e61408993d7636df505421', 0, 0)\"\n",
      "distributed.core - ERROR - Exception while handling op heartbeat_worker\n",
      "Traceback (most recent call last):\n",
      "  File \"/glade/work/kristenk/miniconda/envs/analysis4/lib/python3.7/site-packages/distributed/core.py\", line 493, in handle_comm\n",
      "    result = handler(comm, **msg)\n",
      "  File \"/glade/work/kristenk/miniconda/envs/analysis4/lib/python3.7/site-packages/distributed/scheduler.py\", line 2197, in heartbeat_worker\n",
      "    self.tasks[key]: duration for key, duration in executing.items()\n",
      "  File \"/glade/work/kristenk/miniconda/envs/analysis4/lib/python3.7/site-packages/distributed/scheduler.py\", line 2197, in <dictcomp>\n",
      "    self.tasks[key]: duration for key, duration in executing.items()\n",
      "KeyError: \"('open_dataset-d0fcba4bd3f176771a8e099d46125f70HUW-816f4882161ac4567f4ebaf6287ed6a1', 0, 0)\"\n"
     ]
    },
    {
     "name": "stdout",
     "output_type": "stream",
     "text": [
      "start year= 2003 member= 19\n"
     ]
    },
    {
     "name": "stderr",
     "output_type": "stream",
     "text": [
      "distributed.core - ERROR - Exception while handling op heartbeat_worker\n",
      "Traceback (most recent call last):\n",
      "  File \"/glade/work/kristenk/miniconda/envs/analysis4/lib/python3.7/site-packages/distributed/core.py\", line 493, in handle_comm\n",
      "    result = handler(comm, **msg)\n",
      "  File \"/glade/work/kristenk/miniconda/envs/analysis4/lib/python3.7/site-packages/distributed/scheduler.py\", line 2197, in heartbeat_worker\n",
      "    self.tasks[key]: duration for key, duration in executing.items()\n",
      "  File \"/glade/work/kristenk/miniconda/envs/analysis4/lib/python3.7/site-packages/distributed/scheduler.py\", line 2197, in <dictcomp>\n",
      "    self.tasks[key]: duration for key, duration in executing.items()\n",
      "KeyError: \"('open_dataset-d0fcba4bd3f176771a8e099d46125f70HT-b51e1c71df0ad30687a936f5070a0c52', 0, 0)\"\n",
      "distributed.core - ERROR - Exception while handling op heartbeat_worker\n",
      "Traceback (most recent call last):\n",
      "  File \"/glade/work/kristenk/miniconda/envs/analysis4/lib/python3.7/site-packages/distributed/core.py\", line 493, in handle_comm\n",
      "    result = handler(comm, **msg)\n",
      "  File \"/glade/work/kristenk/miniconda/envs/analysis4/lib/python3.7/site-packages/distributed/scheduler.py\", line 2197, in heartbeat_worker\n",
      "    self.tasks[key]: duration for key, duration in executing.items()\n",
      "  File \"/glade/work/kristenk/miniconda/envs/analysis4/lib/python3.7/site-packages/distributed/scheduler.py\", line 2197, in <dictcomp>\n",
      "    self.tasks[key]: duration for key, duration in executing.items()\n",
      "KeyError: \"('open_dataset-d0fcba4bd3f176771a8e099d46125f70HTE-e2cd89f728bc5636b8ea62ea7d5a9e4b', 0, 0)\"\n"
     ]
    },
    {
     "name": "stdout",
     "output_type": "stream",
     "text": [
      "start year= 2003 member= 20\n",
      "start year= 2003 member= 21\n",
      "start year= 2003 member= 22\n",
      "start year= 2003 member= 23\n"
     ]
    },
    {
     "name": "stderr",
     "output_type": "stream",
     "text": [
      "distributed.core - ERROR - Exception while handling op heartbeat_worker\n",
      "Traceback (most recent call last):\n",
      "  File \"/glade/work/kristenk/miniconda/envs/analysis4/lib/python3.7/site-packages/distributed/core.py\", line 493, in handle_comm\n",
      "    result = handler(comm, **msg)\n",
      "  File \"/glade/work/kristenk/miniconda/envs/analysis4/lib/python3.7/site-packages/distributed/scheduler.py\", line 2197, in heartbeat_worker\n",
      "    self.tasks[key]: duration for key, duration in executing.items()\n",
      "  File \"/glade/work/kristenk/miniconda/envs/analysis4/lib/python3.7/site-packages/distributed/scheduler.py\", line 2197, in <dictcomp>\n",
      "    self.tasks[key]: duration for key, duration in executing.items()\n",
      "KeyError: \"('open_dataset-965b09b5a7b5f412f484a1d4b3b2c1c2DYU-87a5d8d11b901743264b2567146ad6a2', 0, 0)\"\n"
     ]
    },
    {
     "name": "stdout",
     "output_type": "stream",
     "text": [
      "start year= 2003 member= 24\n",
      "start year= 2003 member= 25\n",
      "start year= 2003 member= 26\n",
      "start year= 2003 member= 27\n",
      "start year= 2003 member= 28\n"
     ]
    },
    {
     "name": "stderr",
     "output_type": "stream",
     "text": [
      "distributed.core - ERROR - Exception while handling op heartbeat_worker\n",
      "Traceback (most recent call last):\n",
      "  File \"/glade/work/kristenk/miniconda/envs/analysis4/lib/python3.7/site-packages/distributed/core.py\", line 493, in handle_comm\n",
      "    result = handler(comm, **msg)\n",
      "  File \"/glade/work/kristenk/miniconda/envs/analysis4/lib/python3.7/site-packages/distributed/scheduler.py\", line 2197, in heartbeat_worker\n",
      "    self.tasks[key]: duration for key, duration in executing.items()\n",
      "  File \"/glade/work/kristenk/miniconda/envs/analysis4/lib/python3.7/site-packages/distributed/scheduler.py\", line 2197, in <dictcomp>\n",
      "    self.tasks[key]: duration for key, duration in executing.items()\n",
      "KeyError: \"('open_dataset-2dcea875030ad9c055c93c1eb84dcea3ANGLET-138f7ece397c9d380f3ac04f1bb88c49', 0, 0)\"\n"
     ]
    },
    {
     "name": "stdout",
     "output_type": "stream",
     "text": [
      "start year= 2003 member= 29\n",
      "start year= 2003 member= 30\n",
      "start year= 2003 member= 31\n",
      "start year= 2003 member= 32\n",
      "start year= 2003 member= 33\n",
      "start year= 2003 member= 34\n",
      "start year= 2003 member= 35\n",
      "start year= 2003 member= 36\n",
      "start year= 2003 member= 37\n",
      "start year= 2003 member= 38\n",
      "start year= 2003 member= 39\n",
      "start year= 2003 member= 40\n"
     ]
    },
    {
     "name": "stderr",
     "output_type": "stream",
     "text": [
      "distributed.core - ERROR - Exception while handling op heartbeat_worker\n",
      "Traceback (most recent call last):\n",
      "  File \"/glade/work/kristenk/miniconda/envs/analysis4/lib/python3.7/site-packages/distributed/core.py\", line 493, in handle_comm\n",
      "    result = handler(comm, **msg)\n",
      "  File \"/glade/work/kristenk/miniconda/envs/analysis4/lib/python3.7/site-packages/distributed/scheduler.py\", line 2197, in heartbeat_worker\n",
      "    self.tasks[key]: duration for key, duration in executing.items()\n",
      "  File \"/glade/work/kristenk/miniconda/envs/analysis4/lib/python3.7/site-packages/distributed/scheduler.py\", line 2197, in <dictcomp>\n",
      "    self.tasks[key]: duration for key, duration in executing.items()\n",
      "KeyError: \"('open_dataset-ddf69e0f9e2c483e102dad81e4f2bd2eHT-5e2fa1b03f5a037e4eb7b971e74e9709', 0, 0)\"\n",
      "distributed.core - ERROR - Exception while handling op heartbeat_worker\n",
      "Traceback (most recent call last):\n",
      "  File \"/glade/work/kristenk/miniconda/envs/analysis4/lib/python3.7/site-packages/distributed/core.py\", line 493, in handle_comm\n",
      "    result = handler(comm, **msg)\n",
      "  File \"/glade/work/kristenk/miniconda/envs/analysis4/lib/python3.7/site-packages/distributed/scheduler.py\", line 2197, in heartbeat_worker\n",
      "    self.tasks[key]: duration for key, duration in executing.items()\n",
      "  File \"/glade/work/kristenk/miniconda/envs/analysis4/lib/python3.7/site-packages/distributed/scheduler.py\", line 2197, in <dictcomp>\n",
      "    self.tasks[key]: duration for key, duration in executing.items()\n",
      "KeyError: \"('open_dataset-ddf69e0f9e2c483e102dad81e4f2bd2eHTE-6c146b61b27de8441f3273c4143455f1', 0, 0)\"\n",
      "distributed.core - ERROR - Exception while handling op heartbeat_worker\n",
      "Traceback (most recent call last):\n",
      "  File \"/glade/work/kristenk/miniconda/envs/analysis4/lib/python3.7/site-packages/distributed/core.py\", line 493, in handle_comm\n",
      "    result = handler(comm, **msg)\n",
      "  File \"/glade/work/kristenk/miniconda/envs/analysis4/lib/python3.7/site-packages/distributed/scheduler.py\", line 2197, in heartbeat_worker\n",
      "    self.tasks[key]: duration for key, duration in executing.items()\n",
      "  File \"/glade/work/kristenk/miniconda/envs/analysis4/lib/python3.7/site-packages/distributed/scheduler.py\", line 2197, in <dictcomp>\n",
      "    self.tasks[key]: duration for key, duration in executing.items()\n",
      "KeyError: \"('open_dataset-ddf69e0f9e2c483e102dad81e4f2bd2eHU-0527c2131a1afbfc564daaa2655b762e', 0, 0)\"\n"
     ]
    },
    {
     "name": "stdout",
     "output_type": "stream",
     "text": [
      "start year= 2004 member= 1\n",
      "start year= 2004 member= 2\n",
      "start year= 2004 member= 3\n",
      "start year= 2004 member= 4\n",
      "start year= 2004 member= 5\n",
      "start year= 2004 member= 6\n",
      "start year= 2004 member= 7\n",
      "start year= 2004 member= 8\n",
      "start year= 2004 member= 9\n",
      "start year= 2004 member= 10\n"
     ]
    },
    {
     "name": "stderr",
     "output_type": "stream",
     "text": [
      "distributed.core - ERROR - Exception while handling op heartbeat_worker\n",
      "Traceback (most recent call last):\n",
      "  File \"/glade/work/kristenk/miniconda/envs/analysis4/lib/python3.7/site-packages/distributed/core.py\", line 493, in handle_comm\n",
      "    result = handler(comm, **msg)\n",
      "  File \"/glade/work/kristenk/miniconda/envs/analysis4/lib/python3.7/site-packages/distributed/scheduler.py\", line 2197, in heartbeat_worker\n",
      "    self.tasks[key]: duration for key, duration in executing.items()\n",
      "  File \"/glade/work/kristenk/miniconda/envs/analysis4/lib/python3.7/site-packages/distributed/scheduler.py\", line 2197, in <dictcomp>\n",
      "    self.tasks[key]: duration for key, duration in executing.items()\n",
      "KeyError: \"('open_dataset-31761ddaa560bdd7fdcc52cd2dd00d44DYU-25574844d53727c9c3fbf2bb79d90672', 0, 0)\"\n"
     ]
    },
    {
     "name": "stdout",
     "output_type": "stream",
     "text": [
      "start year= 2004 member= 11\n",
      "start year= 2004 member= 12\n",
      "start year= 2004 member= 13\n",
      "start year= 2004 member= 14\n",
      "start year= 2004 member= 15\n",
      "start year= 2004 member= 16\n",
      "start year= 2004 member= 17\n",
      "start year= 2004 member= 18\n",
      "start year= 2004 member= 19\n",
      "start year= 2004 member= 20\n",
      "start year= 2004 member= 21\n",
      "start year= 2004 member= 22\n",
      "start year= 2004 member= 23\n",
      "start year= 2004 member= 24\n",
      "start year= 2004 member= 25\n",
      "start year= 2004 member= 26\n",
      "start year= 2004 member= 27\n",
      "start year= 2004 member= 28\n",
      "start year= 2004 member= 29\n",
      "start year= 2004 member= 30\n",
      "start year= 2004 member= 31\n",
      "start year= 2004 member= 32\n",
      "start year= 2004 member= 33\n",
      "start year= 2004 member= 34\n"
     ]
    },
    {
     "name": "stderr",
     "output_type": "stream",
     "text": [
      "distributed.core - ERROR - Exception while handling op heartbeat_worker\n",
      "Traceback (most recent call last):\n",
      "  File \"/glade/work/kristenk/miniconda/envs/analysis4/lib/python3.7/site-packages/distributed/core.py\", line 493, in handle_comm\n",
      "    result = handler(comm, **msg)\n",
      "  File \"/glade/work/kristenk/miniconda/envs/analysis4/lib/python3.7/site-packages/distributed/scheduler.py\", line 2197, in heartbeat_worker\n",
      "    self.tasks[key]: duration for key, duration in executing.items()\n",
      "  File \"/glade/work/kristenk/miniconda/envs/analysis4/lib/python3.7/site-packages/distributed/scheduler.py\", line 2197, in <dictcomp>\n",
      "    self.tasks[key]: duration for key, duration in executing.items()\n",
      "KeyError: \"('open_dataset-ab4a688eef4a0dc7d5c1fc96f1000194DXU-c2cf72f60f1b37730016e481c1b22019', 0, 0)\"\n"
     ]
    },
    {
     "name": "stdout",
     "output_type": "stream",
     "text": [
      "start year= 2004 member= 35\n",
      "start year= 2004 member= 36\n"
     ]
    },
    {
     "name": "stderr",
     "output_type": "stream",
     "text": [
      "distributed.core - ERROR - Exception while handling op heartbeat_worker\n",
      "Traceback (most recent call last):\n",
      "  File \"/glade/work/kristenk/miniconda/envs/analysis4/lib/python3.7/site-packages/distributed/core.py\", line 493, in handle_comm\n",
      "    result = handler(comm, **msg)\n",
      "  File \"/glade/work/kristenk/miniconda/envs/analysis4/lib/python3.7/site-packages/distributed/scheduler.py\", line 2197, in heartbeat_worker\n",
      "    self.tasks[key]: duration for key, duration in executing.items()\n",
      "  File \"/glade/work/kristenk/miniconda/envs/analysis4/lib/python3.7/site-packages/distributed/scheduler.py\", line 2197, in <dictcomp>\n",
      "    self.tasks[key]: duration for key, duration in executing.items()\n",
      "KeyError: \"('open_dataset-3727e3aa6c9b03a00d3fda6a720c9c6eHT-eb26bba87d26ea05547b7de8e8a7a502', 0, 0)\"\n"
     ]
    },
    {
     "name": "stdout",
     "output_type": "stream",
     "text": [
      "start year= 2004 member= 37\n",
      "start year= 2004 member= 38\n"
     ]
    },
    {
     "name": "stderr",
     "output_type": "stream",
     "text": [
      "distributed.core - ERROR - Exception while handling op heartbeat_worker\n",
      "Traceback (most recent call last):\n",
      "  File \"/glade/work/kristenk/miniconda/envs/analysis4/lib/python3.7/site-packages/distributed/core.py\", line 493, in handle_comm\n",
      "    result = handler(comm, **msg)\n",
      "  File \"/glade/work/kristenk/miniconda/envs/analysis4/lib/python3.7/site-packages/distributed/scheduler.py\", line 2197, in heartbeat_worker\n",
      "    self.tasks[key]: duration for key, duration in executing.items()\n",
      "  File \"/glade/work/kristenk/miniconda/envs/analysis4/lib/python3.7/site-packages/distributed/scheduler.py\", line 2197, in <dictcomp>\n",
      "    self.tasks[key]: duration for key, duration in executing.items()\n",
      "KeyError: \"('open_dataset-84264399a3c3ad66eb9c0396bbe65154ANGLE-141d37206236001129e343f8a02f5623', 0, 0)\"\n"
     ]
    },
    {
     "name": "stdout",
     "output_type": "stream",
     "text": [
      "start year= 2004 member= 39\n"
     ]
    },
    {
     "name": "stderr",
     "output_type": "stream",
     "text": [
      "distributed.core - ERROR - Exception while handling op heartbeat_worker\n",
      "Traceback (most recent call last):\n",
      "  File \"/glade/work/kristenk/miniconda/envs/analysis4/lib/python3.7/site-packages/distributed/core.py\", line 493, in handle_comm\n",
      "    result = handler(comm, **msg)\n",
      "  File \"/glade/work/kristenk/miniconda/envs/analysis4/lib/python3.7/site-packages/distributed/scheduler.py\", line 2197, in heartbeat_worker\n",
      "    self.tasks[key]: duration for key, duration in executing.items()\n",
      "  File \"/glade/work/kristenk/miniconda/envs/analysis4/lib/python3.7/site-packages/distributed/scheduler.py\", line 2197, in <dictcomp>\n",
      "    self.tasks[key]: duration for key, duration in executing.items()\n",
      "KeyError: \"('open_dataset-80c966b2df416eadf89bfbebf85d08fdHU-d01273799b61bd1d756ed7b87625cbc3', 0, 0)\"\n"
     ]
    },
    {
     "name": "stdout",
     "output_type": "stream",
     "text": [
      "start year= 2004 member= 40\n",
      "start year= 2005 member= 1\n",
      "start year= 2005 member= 2\n",
      "start year= 2005 member= 3\n",
      "start year= 2005 member= 4\n",
      "start year= 2005 member= 5\n",
      "start year= 2005 member= 6\n",
      "start year= 2005 member= 7\n",
      "start year= 2005 member= 8\n",
      "start year= 2005 member= 9\n",
      "start year= 2005 member= 10\n",
      "start year= 2005 member= 11\n",
      "start year= 2005 member= 12\n",
      "start year= 2005 member= 13\n",
      "start year= 2005 member= 14\n",
      "start year= 2005 member= 15\n",
      "start year= 2005 member= 16\n",
      "start year= 2005 member= 17\n",
      "start year= 2005 member= 18\n",
      "start year= 2005 member= 19\n"
     ]
    },
    {
     "name": "stderr",
     "output_type": "stream",
     "text": [
      "distributed.core - ERROR - Exception while handling op heartbeat_worker\n",
      "Traceback (most recent call last):\n",
      "  File \"/glade/work/kristenk/miniconda/envs/analysis4/lib/python3.7/site-packages/distributed/core.py\", line 493, in handle_comm\n",
      "    result = handler(comm, **msg)\n",
      "  File \"/glade/work/kristenk/miniconda/envs/analysis4/lib/python3.7/site-packages/distributed/scheduler.py\", line 2197, in heartbeat_worker\n",
      "    self.tasks[key]: duration for key, duration in executing.items()\n",
      "  File \"/glade/work/kristenk/miniconda/envs/analysis4/lib/python3.7/site-packages/distributed/scheduler.py\", line 2197, in <dictcomp>\n",
      "    self.tasks[key]: duration for key, duration in executing.items()\n",
      "KeyError: \"('open_dataset-55cecc0675ad5335740515a56ef2ccc7DYT-983ca7e82907b08eeedef9a814c73ffc', 0, 0)\"\n"
     ]
    },
    {
     "name": "stdout",
     "output_type": "stream",
     "text": [
      "start year= 2005 member= 20\n",
      "start year= 2005 member= 21\n",
      "start year= 2005 member= 22\n",
      "start year= 2005 member= 23\n",
      "start year= 2005 member= 24\n",
      "start year= 2005 member= 25\n",
      "start year= 2005 member= 26\n",
      "start year= 2005 member= 27\n",
      "start year= 2005 member= 28\n"
     ]
    },
    {
     "name": "stderr",
     "output_type": "stream",
     "text": [
      "distributed.core - ERROR - Exception while handling op heartbeat_worker\n",
      "Traceback (most recent call last):\n",
      "  File \"/glade/work/kristenk/miniconda/envs/analysis4/lib/python3.7/site-packages/distributed/core.py\", line 493, in handle_comm\n",
      "    result = handler(comm, **msg)\n",
      "  File \"/glade/work/kristenk/miniconda/envs/analysis4/lib/python3.7/site-packages/distributed/scheduler.py\", line 2197, in heartbeat_worker\n",
      "    self.tasks[key]: duration for key, duration in executing.items()\n",
      "  File \"/glade/work/kristenk/miniconda/envs/analysis4/lib/python3.7/site-packages/distributed/scheduler.py\", line 2197, in <dictcomp>\n",
      "    self.tasks[key]: duration for key, duration in executing.items()\n",
      "KeyError: \"('open_dataset-bcb5bf316efa2f8aa3e8a447fcd85da9ANGLET-63a654c3e8ed20807ca8defd4c164619', 0, 0)\"\n"
     ]
    },
    {
     "name": "stdout",
     "output_type": "stream",
     "text": [
      "start year= 2005 member= 29\n"
     ]
    },
    {
     "name": "stderr",
     "output_type": "stream",
     "text": [
      "distributed.core - ERROR - Exception while handling op heartbeat_worker\n",
      "Traceback (most recent call last):\n",
      "  File \"/glade/work/kristenk/miniconda/envs/analysis4/lib/python3.7/site-packages/distributed/core.py\", line 493, in handle_comm\n",
      "    result = handler(comm, **msg)\n",
      "  File \"/glade/work/kristenk/miniconda/envs/analysis4/lib/python3.7/site-packages/distributed/scheduler.py\", line 2197, in heartbeat_worker\n",
      "    self.tasks[key]: duration for key, duration in executing.items()\n",
      "  File \"/glade/work/kristenk/miniconda/envs/analysis4/lib/python3.7/site-packages/distributed/scheduler.py\", line 2197, in <dictcomp>\n",
      "    self.tasks[key]: duration for key, duration in executing.items()\n",
      "KeyError: \"('open_dataset-bcb5bf316efa2f8aa3e8a447fcd85da9ANGLE-4ef4d0c59bfaaa0edafd72eb50edfec4', 0, 0)\"\n",
      "distributed.core - ERROR - Exception while handling op heartbeat_worker\n",
      "Traceback (most recent call last):\n",
      "  File \"/glade/work/kristenk/miniconda/envs/analysis4/lib/python3.7/site-packages/distributed/core.py\", line 493, in handle_comm\n",
      "    result = handler(comm, **msg)\n",
      "  File \"/glade/work/kristenk/miniconda/envs/analysis4/lib/python3.7/site-packages/distributed/scheduler.py\", line 2197, in heartbeat_worker\n",
      "    self.tasks[key]: duration for key, duration in executing.items()\n",
      "  File \"/glade/work/kristenk/miniconda/envs/analysis4/lib/python3.7/site-packages/distributed/scheduler.py\", line 2197, in <dictcomp>\n",
      "    self.tasks[key]: duration for key, duration in executing.items()\n",
      "KeyError: \"('open_dataset-bcb5bf316efa2f8aa3e8a447fcd85da9HUW-c241c96e8a671d59c3d5cd63f5d839a1', 0, 0)\"\n"
     ]
    },
    {
     "name": "stdout",
     "output_type": "stream",
     "text": [
      "start year= 2005 member= 30\n"
     ]
    },
    {
     "name": "stderr",
     "output_type": "stream",
     "text": [
      "distributed.core - ERROR - Exception while handling op heartbeat_worker\n",
      "Traceback (most recent call last):\n",
      "  File \"/glade/work/kristenk/miniconda/envs/analysis4/lib/python3.7/site-packages/distributed/core.py\", line 493, in handle_comm\n",
      "    result = handler(comm, **msg)\n",
      "  File \"/glade/work/kristenk/miniconda/envs/analysis4/lib/python3.7/site-packages/distributed/scheduler.py\", line 2197, in heartbeat_worker\n",
      "    self.tasks[key]: duration for key, duration in executing.items()\n",
      "  File \"/glade/work/kristenk/miniconda/envs/analysis4/lib/python3.7/site-packages/distributed/scheduler.py\", line 2197, in <dictcomp>\n",
      "    self.tasks[key]: duration for key, duration in executing.items()\n",
      "KeyError: \"('open_dataset-a97fa48f77638bca01616453f98c872dHT-ab62cbd8fd945d96e5b40022888970bc', 0, 0)\"\n"
     ]
    },
    {
     "name": "stdout",
     "output_type": "stream",
     "text": [
      "start year= 2005 member= 31\n",
      "start year= 2005 member= 32\n",
      "start year= 2005 member= 33\n",
      "start year= 2005 member= 34\n",
      "start year= 2005 member= 35\n",
      "start year= 2005 member= 36\n",
      "start year= 2005 member= 37\n",
      "start year= 2005 member= 38\n",
      "start year= 2005 member= 39\n",
      "start year= 2005 member= 40\n",
      "start year= 2006 member= 1\n",
      "start year= 2006 member= 2\n",
      "start year= 2006 member= 3\n",
      "start year= 2006 member= 4\n",
      "start year= 2006 member= 5\n",
      "start year= 2006 member= 6\n",
      "start year= 2006 member= 7\n",
      "start year= 2006 member= 8\n",
      "start year= 2006 member= 9\n",
      "start year= 2006 member= 10\n",
      "start year= 2006 member= 11\n",
      "start year= 2006 member= 12\n",
      "start year= 2006 member= 13\n",
      "start year= 2006 member= 14\n",
      "start year= 2006 member= 15\n",
      "start year= 2006 member= 16\n",
      "start year= 2006 member= 17\n"
     ]
    },
    {
     "name": "stderr",
     "output_type": "stream",
     "text": [
      "distributed.core - ERROR - Exception while handling op heartbeat_worker\n",
      "Traceback (most recent call last):\n",
      "  File \"/glade/work/kristenk/miniconda/envs/analysis4/lib/python3.7/site-packages/distributed/core.py\", line 493, in handle_comm\n",
      "    result = handler(comm, **msg)\n",
      "  File \"/glade/work/kristenk/miniconda/envs/analysis4/lib/python3.7/site-packages/distributed/scheduler.py\", line 2197, in heartbeat_worker\n",
      "    self.tasks[key]: duration for key, duration in executing.items()\n",
      "  File \"/glade/work/kristenk/miniconda/envs/analysis4/lib/python3.7/site-packages/distributed/scheduler.py\", line 2197, in <dictcomp>\n",
      "    self.tasks[key]: duration for key, duration in executing.items()\n",
      "KeyError: \"('open_dataset-fe32236221143acd0daf038daffbe15cANGLET-83e7350b83d28e30d294ea36108e7ed4', 0, 0)\"\n",
      "distributed.core - ERROR - Exception while handling op heartbeat_worker\n",
      "Traceback (most recent call last):\n",
      "  File \"/glade/work/kristenk/miniconda/envs/analysis4/lib/python3.7/site-packages/distributed/core.py\", line 493, in handle_comm\n",
      "    result = handler(comm, **msg)\n",
      "  File \"/glade/work/kristenk/miniconda/envs/analysis4/lib/python3.7/site-packages/distributed/scheduler.py\", line 2197, in heartbeat_worker\n",
      "    self.tasks[key]: duration for key, duration in executing.items()\n",
      "  File \"/glade/work/kristenk/miniconda/envs/analysis4/lib/python3.7/site-packages/distributed/scheduler.py\", line 2197, in <dictcomp>\n",
      "    self.tasks[key]: duration for key, duration in executing.items()\n",
      "KeyError: \"('open_dataset-fe32236221143acd0daf038daffbe15cANGLE-c4587b0d13519e3d5c077852465a5066', 0, 0)\"\n",
      "distributed.core - ERROR - Exception while handling op heartbeat_worker\n",
      "Traceback (most recent call last):\n",
      "  File \"/glade/work/kristenk/miniconda/envs/analysis4/lib/python3.7/site-packages/distributed/core.py\", line 493, in handle_comm\n",
      "    result = handler(comm, **msg)\n",
      "  File \"/glade/work/kristenk/miniconda/envs/analysis4/lib/python3.7/site-packages/distributed/scheduler.py\", line 2197, in heartbeat_worker\n",
      "    self.tasks[key]: duration for key, duration in executing.items()\n",
      "  File \"/glade/work/kristenk/miniconda/envs/analysis4/lib/python3.7/site-packages/distributed/scheduler.py\", line 2197, in <dictcomp>\n",
      "    self.tasks[key]: duration for key, duration in executing.items()\n",
      "KeyError: \"('open_dataset-fe32236221143acd0daf038daffbe15cHT-b4a620581ffe8dce76f61ec593dd7339', 0, 0)\"\n"
     ]
    },
    {
     "name": "stdout",
     "output_type": "stream",
     "text": [
      "start year= 2006 member= 18\n"
     ]
    },
    {
     "name": "stderr",
     "output_type": "stream",
     "text": [
      "distributed.core - ERROR - Exception while handling op heartbeat_worker\n",
      "Traceback (most recent call last):\n",
      "  File \"/glade/work/kristenk/miniconda/envs/analysis4/lib/python3.7/site-packages/distributed/core.py\", line 493, in handle_comm\n",
      "    result = handler(comm, **msg)\n",
      "  File \"/glade/work/kristenk/miniconda/envs/analysis4/lib/python3.7/site-packages/distributed/scheduler.py\", line 2197, in heartbeat_worker\n",
      "    self.tasks[key]: duration for key, duration in executing.items()\n",
      "  File \"/glade/work/kristenk/miniconda/envs/analysis4/lib/python3.7/site-packages/distributed/scheduler.py\", line 2197, in <dictcomp>\n",
      "    self.tasks[key]: duration for key, duration in executing.items()\n",
      "KeyError: \"('open_dataset-412a5630082ef4681a701d3caa1d88b0ANGLE-75a385f7b9fb899d71e81a8b5974fa58', 0, 0)\"\n"
     ]
    },
    {
     "name": "stdout",
     "output_type": "stream",
     "text": [
      "start year= 2006 member= 19\n",
      "start year= 2006 member= 20\n",
      "start year= 2006 member= 21\n",
      "start year= 2006 member= 22\n",
      "start year= 2006 member= 23\n",
      "start year= 2006 member= 24\n",
      "start year= 2006 member= 25\n",
      "start year= 2006 member= 26\n",
      "start year= 2006 member= 27\n"
     ]
    },
    {
     "name": "stderr",
     "output_type": "stream",
     "text": [
      "distributed.core - ERROR - Exception while handling op heartbeat_worker\n",
      "Traceback (most recent call last):\n",
      "  File \"/glade/work/kristenk/miniconda/envs/analysis4/lib/python3.7/site-packages/distributed/core.py\", line 493, in handle_comm\n",
      "    result = handler(comm, **msg)\n",
      "  File \"/glade/work/kristenk/miniconda/envs/analysis4/lib/python3.7/site-packages/distributed/scheduler.py\", line 2197, in heartbeat_worker\n",
      "    self.tasks[key]: duration for key, duration in executing.items()\n",
      "  File \"/glade/work/kristenk/miniconda/envs/analysis4/lib/python3.7/site-packages/distributed/scheduler.py\", line 2197, in <dictcomp>\n",
      "    self.tasks[key]: duration for key, duration in executing.items()\n",
      "KeyError: \"('open_dataset-0710c69db5efc66d0b65278adc951addHU-44ac489e570fa3593c3eb9f0f3e8f705', 0, 0)\"\n"
     ]
    },
    {
     "name": "stdout",
     "output_type": "stream",
     "text": [
      "start year= 2006 member= 28\n",
      "start year= 2006 member= 29\n",
      "start year= 2006 member= 30\n",
      "start year= 2006 member= 31\n",
      "start year= 2006 member= 32\n",
      "start year= 2006 member= 33\n"
     ]
    },
    {
     "name": "stderr",
     "output_type": "stream",
     "text": [
      "distributed.core - ERROR - Exception while handling op heartbeat_worker\n",
      "Traceback (most recent call last):\n",
      "  File \"/glade/work/kristenk/miniconda/envs/analysis4/lib/python3.7/site-packages/distributed/core.py\", line 493, in handle_comm\n",
      "    result = handler(comm, **msg)\n",
      "  File \"/glade/work/kristenk/miniconda/envs/analysis4/lib/python3.7/site-packages/distributed/scheduler.py\", line 2197, in heartbeat_worker\n",
      "    self.tasks[key]: duration for key, duration in executing.items()\n",
      "  File \"/glade/work/kristenk/miniconda/envs/analysis4/lib/python3.7/site-packages/distributed/scheduler.py\", line 2197, in <dictcomp>\n",
      "    self.tasks[key]: duration for key, duration in executing.items()\n",
      "KeyError: \"('open_dataset-f584b7eb2b87be0f885b8bbe01c40442DXU-11d5561a7dcea71881f02471e5bf8d3d', 0, 0)\"\n",
      "distributed.core - ERROR - Exception while handling op heartbeat_worker\n",
      "Traceback (most recent call last):\n",
      "  File \"/glade/work/kristenk/miniconda/envs/analysis4/lib/python3.7/site-packages/distributed/core.py\", line 493, in handle_comm\n",
      "    result = handler(comm, **msg)\n",
      "  File \"/glade/work/kristenk/miniconda/envs/analysis4/lib/python3.7/site-packages/distributed/scheduler.py\", line 2197, in heartbeat_worker\n",
      "    self.tasks[key]: duration for key, duration in executing.items()\n",
      "  File \"/glade/work/kristenk/miniconda/envs/analysis4/lib/python3.7/site-packages/distributed/scheduler.py\", line 2197, in <dictcomp>\n",
      "    self.tasks[key]: duration for key, duration in executing.items()\n",
      "KeyError: \"('open_dataset-f584b7eb2b87be0f885b8bbe01c40442HU-53393542440fdbff1a7e3528449ca58f', 0, 0)\"\n"
     ]
    },
    {
     "name": "stdout",
     "output_type": "stream",
     "text": [
      "start year= 2006 member= 34\n"
     ]
    },
    {
     "name": "stderr",
     "output_type": "stream",
     "text": [
      "distributed.core - ERROR - Exception while handling op heartbeat_worker\n",
      "Traceback (most recent call last):\n",
      "  File \"/glade/work/kristenk/miniconda/envs/analysis4/lib/python3.7/site-packages/distributed/core.py\", line 493, in handle_comm\n",
      "    result = handler(comm, **msg)\n",
      "  File \"/glade/work/kristenk/miniconda/envs/analysis4/lib/python3.7/site-packages/distributed/scheduler.py\", line 2197, in heartbeat_worker\n",
      "    self.tasks[key]: duration for key, duration in executing.items()\n",
      "  File \"/glade/work/kristenk/miniconda/envs/analysis4/lib/python3.7/site-packages/distributed/scheduler.py\", line 2197, in <dictcomp>\n",
      "    self.tasks[key]: duration for key, duration in executing.items()\n",
      "KeyError: \"('open_dataset-1581920191048659d405c1fa2243f146HTE-27dd9b0054ea88601d6a190919d7d985', 0, 0)\"\n"
     ]
    },
    {
     "name": "stdout",
     "output_type": "stream",
     "text": [
      "start year= 2006 member= 35\n",
      "start year= 2006 member= 36\n"
     ]
    },
    {
     "name": "stderr",
     "output_type": "stream",
     "text": [
      "distributed.core - ERROR - Exception while handling op heartbeat_worker\n",
      "Traceback (most recent call last):\n",
      "  File \"/glade/work/kristenk/miniconda/envs/analysis4/lib/python3.7/site-packages/distributed/core.py\", line 493, in handle_comm\n",
      "    result = handler(comm, **msg)\n",
      "  File \"/glade/work/kristenk/miniconda/envs/analysis4/lib/python3.7/site-packages/distributed/scheduler.py\", line 2197, in heartbeat_worker\n",
      "    self.tasks[key]: duration for key, duration in executing.items()\n",
      "  File \"/glade/work/kristenk/miniconda/envs/analysis4/lib/python3.7/site-packages/distributed/scheduler.py\", line 2197, in <dictcomp>\n",
      "    self.tasks[key]: duration for key, duration in executing.items()\n",
      "KeyError: \"('open_dataset-3628f1403943f45418755157499d9dfbDXU-fb95e105a54650b5cff897c7843582a5', 0, 0)\"\n"
     ]
    },
    {
     "name": "stdout",
     "output_type": "stream",
     "text": [
      "start year= 2006 member= 37\n",
      "start year= 2006 member= 38\n",
      "start year= 2006 member= 39\n",
      "start year= 2006 member= 40\n",
      "start year= 2007 member= 1\n"
     ]
    },
    {
     "name": "stderr",
     "output_type": "stream",
     "text": [
      "distributed.core - ERROR - Exception while handling op heartbeat_worker\n",
      "Traceback (most recent call last):\n",
      "  File \"/glade/work/kristenk/miniconda/envs/analysis4/lib/python3.7/site-packages/distributed/core.py\", line 493, in handle_comm\n",
      "    result = handler(comm, **msg)\n",
      "  File \"/glade/work/kristenk/miniconda/envs/analysis4/lib/python3.7/site-packages/distributed/scheduler.py\", line 2197, in heartbeat_worker\n",
      "    self.tasks[key]: duration for key, duration in executing.items()\n",
      "  File \"/glade/work/kristenk/miniconda/envs/analysis4/lib/python3.7/site-packages/distributed/scheduler.py\", line 2197, in <dictcomp>\n",
      "    self.tasks[key]: duration for key, duration in executing.items()\n",
      "KeyError: \"('open_dataset-c63b2b16215a41a764d6d1aae185ad6eDXU-ddf73b3c54861f5a94491c8b0c4b2cb1', 0, 0)\"\n"
     ]
    },
    {
     "name": "stdout",
     "output_type": "stream",
     "text": [
      "start year= 2007 member= 2\n",
      "start year= 2007 member= 3\n",
      "start year= 2007 member= 4\n",
      "start year= 2007 member= 5\n",
      "start year= 2007 member= 6\n",
      "start year= 2007 member= 7\n",
      "start year= 2007 member= 8\n",
      "start year= 2007 member= 9\n",
      "start year= 2007 member= 10\n",
      "start year= 2007 member= 11\n",
      "start year= 2007 member= 12\n",
      "start year= 2007 member= 13\n",
      "start year= 2007 member= 14\n",
      "start year= 2007 member= 15\n",
      "start year= 2007 member= 16\n",
      "start year= 2007 member= 17\n",
      "start year= 2007 member= 18\n",
      "start year= 2007 member= 19\n",
      "start year= 2007 member= 20\n",
      "start year= 2007 member= 21\n",
      "start year= 2007 member= 22\n",
      "start year= 2007 member= 23\n",
      "start year= 2007 member= 24\n",
      "start year= 2007 member= 25\n",
      "start year= 2007 member= 26\n",
      "start year= 2007 member= 27\n",
      "start year= 2007 member= 28\n",
      "start year= 2007 member= 29\n",
      "start year= 2007 member= 30\n",
      "start year= 2007 member= 31\n",
      "start year= 2007 member= 32\n",
      "start year= 2007 member= 33\n",
      "start year= 2007 member= 34\n"
     ]
    },
    {
     "name": "stderr",
     "output_type": "stream",
     "text": [
      "distributed.core - ERROR - Exception while handling op heartbeat_worker\n",
      "Traceback (most recent call last):\n",
      "  File \"/glade/work/kristenk/miniconda/envs/analysis4/lib/python3.7/site-packages/distributed/core.py\", line 493, in handle_comm\n",
      "    result = handler(comm, **msg)\n",
      "  File \"/glade/work/kristenk/miniconda/envs/analysis4/lib/python3.7/site-packages/distributed/scheduler.py\", line 2197, in heartbeat_worker\n",
      "    self.tasks[key]: duration for key, duration in executing.items()\n",
      "  File \"/glade/work/kristenk/miniconda/envs/analysis4/lib/python3.7/site-packages/distributed/scheduler.py\", line 2197, in <dictcomp>\n",
      "    self.tasks[key]: duration for key, duration in executing.items()\n",
      "KeyError: \"('open_dataset-9e59500671d22a6062e8669a706184daDXT-e4c0baffb3d888ea3e62ff7ef5e6469f', 0, 0)\"\n"
     ]
    },
    {
     "name": "stdout",
     "output_type": "stream",
     "text": [
      "start year= 2007 member= 35\n",
      "start year= 2007 member= 36\n",
      "start year= 2007 member= 37\n",
      "start year= 2007 member= 38\n",
      "start year= 2007 member= 39\n"
     ]
    },
    {
     "name": "stderr",
     "output_type": "stream",
     "text": [
      "distributed.core - ERROR - Exception while handling op heartbeat_worker\n",
      "Traceback (most recent call last):\n",
      "  File \"/glade/work/kristenk/miniconda/envs/analysis4/lib/python3.7/site-packages/distributed/core.py\", line 493, in handle_comm\n",
      "    result = handler(comm, **msg)\n",
      "  File \"/glade/work/kristenk/miniconda/envs/analysis4/lib/python3.7/site-packages/distributed/scheduler.py\", line 2197, in heartbeat_worker\n",
      "    self.tasks[key]: duration for key, duration in executing.items()\n",
      "  File \"/glade/work/kristenk/miniconda/envs/analysis4/lib/python3.7/site-packages/distributed/scheduler.py\", line 2197, in <dictcomp>\n",
      "    self.tasks[key]: duration for key, duration in executing.items()\n",
      "KeyError: \"('open_dataset-feabcb4f36747d570acb2e25d0eb2c50ANGLET-b0001d0e7241d7e0809c4c0f2ea04120', 0, 0)\"\n",
      "distributed.core - ERROR - Exception while handling op heartbeat_worker\n",
      "Traceback (most recent call last):\n",
      "  File \"/glade/work/kristenk/miniconda/envs/analysis4/lib/python3.7/site-packages/distributed/core.py\", line 493, in handle_comm\n",
      "    result = handler(comm, **msg)\n",
      "  File \"/glade/work/kristenk/miniconda/envs/analysis4/lib/python3.7/site-packages/distributed/scheduler.py\", line 2197, in heartbeat_worker\n",
      "    self.tasks[key]: duration for key, duration in executing.items()\n",
      "  File \"/glade/work/kristenk/miniconda/envs/analysis4/lib/python3.7/site-packages/distributed/scheduler.py\", line 2197, in <dictcomp>\n",
      "    self.tasks[key]: duration for key, duration in executing.items()\n",
      "KeyError: \"('open_dataset-feabcb4f36747d570acb2e25d0eb2c50ANGLE-a8a9a1de2b1139a52fae4fe78781e4f3', 0, 0)\"\n",
      "distributed.core - ERROR - Exception while handling op heartbeat_worker\n",
      "Traceback (most recent call last):\n",
      "  File \"/glade/work/kristenk/miniconda/envs/analysis4/lib/python3.7/site-packages/distributed/core.py\", line 493, in handle_comm\n",
      "    result = handler(comm, **msg)\n",
      "  File \"/glade/work/kristenk/miniconda/envs/analysis4/lib/python3.7/site-packages/distributed/scheduler.py\", line 2197, in heartbeat_worker\n",
      "    self.tasks[key]: duration for key, duration in executing.items()\n",
      "  File \"/glade/work/kristenk/miniconda/envs/analysis4/lib/python3.7/site-packages/distributed/scheduler.py\", line 2197, in <dictcomp>\n",
      "    self.tasks[key]: duration for key, duration in executing.items()\n",
      "KeyError: \"('open_dataset-feabcb4f36747d570acb2e25d0eb2c50HT-17038738271d0a53f85887ee159cb306', 0, 0)\"\n"
     ]
    },
    {
     "name": "stdout",
     "output_type": "stream",
     "text": [
      "start year= 2007 member= 40\n",
      "start year= 2008 member= 1\n",
      "start year= 2008 member= 2\n",
      "start year= 2008 member= 3\n",
      "start year= 2008 member= 4\n",
      "start year= 2008 member= 5\n",
      "start year= 2008 member= 6\n",
      "start year= 2008 member= 7\n",
      "start year= 2008 member= 8\n",
      "start year= 2008 member= 9\n",
      "start year= 2008 member= 10\n",
      "start year= 2008 member= 11\n",
      "start year= 2008 member= 12\n",
      "start year= 2008 member= 13\n",
      "start year= 2008 member= 14\n",
      "start year= 2008 member= 15\n",
      "start year= 2008 member= 16\n",
      "start year= 2008 member= 17\n",
      "start year= 2008 member= 18\n",
      "start year= 2008 member= 19\n",
      "start year= 2008 member= 20\n",
      "start year= 2008 member= 21\n",
      "start year= 2008 member= 22\n"
     ]
    },
    {
     "name": "stderr",
     "output_type": "stream",
     "text": [
      "distributed.core - ERROR - Exception while handling op heartbeat_worker\n",
      "Traceback (most recent call last):\n",
      "  File \"/glade/work/kristenk/miniconda/envs/analysis4/lib/python3.7/site-packages/distributed/core.py\", line 493, in handle_comm\n",
      "    result = handler(comm, **msg)\n",
      "  File \"/glade/work/kristenk/miniconda/envs/analysis4/lib/python3.7/site-packages/distributed/scheduler.py\", line 2197, in heartbeat_worker\n",
      "    self.tasks[key]: duration for key, duration in executing.items()\n",
      "  File \"/glade/work/kristenk/miniconda/envs/analysis4/lib/python3.7/site-packages/distributed/scheduler.py\", line 2197, in <dictcomp>\n",
      "    self.tasks[key]: duration for key, duration in executing.items()\n",
      "KeyError: \"('open_dataset-bf99ca6844095cbdb59da0928d0d9328ANGLET-a071e0209352bf1e9bd7cdcea7b7d2cc', 0, 0)\"\n",
      "distributed.core - ERROR - Exception while handling op heartbeat_worker\n",
      "Traceback (most recent call last):\n",
      "  File \"/glade/work/kristenk/miniconda/envs/analysis4/lib/python3.7/site-packages/distributed/core.py\", line 493, in handle_comm\n",
      "    result = handler(comm, **msg)\n",
      "  File \"/glade/work/kristenk/miniconda/envs/analysis4/lib/python3.7/site-packages/distributed/scheduler.py\", line 2197, in heartbeat_worker\n",
      "    self.tasks[key]: duration for key, duration in executing.items()\n",
      "  File \"/glade/work/kristenk/miniconda/envs/analysis4/lib/python3.7/site-packages/distributed/scheduler.py\", line 2197, in <dictcomp>\n",
      "    self.tasks[key]: duration for key, duration in executing.items()\n",
      "KeyError: \"('open_dataset-bf99ca6844095cbdb59da0928d0d9328ANGLE-099b77c95a8cf60e0f4ff81f303db443', 0, 0)\"\n",
      "distributed.core - ERROR - Exception while handling op heartbeat_worker\n",
      "Traceback (most recent call last):\n",
      "  File \"/glade/work/kristenk/miniconda/envs/analysis4/lib/python3.7/site-packages/distributed/core.py\", line 493, in handle_comm\n",
      "    result = handler(comm, **msg)\n",
      "  File \"/glade/work/kristenk/miniconda/envs/analysis4/lib/python3.7/site-packages/distributed/scheduler.py\", line 2197, in heartbeat_worker\n",
      "    self.tasks[key]: duration for key, duration in executing.items()\n",
      "  File \"/glade/work/kristenk/miniconda/envs/analysis4/lib/python3.7/site-packages/distributed/scheduler.py\", line 2197, in <dictcomp>\n",
      "    self.tasks[key]: duration for key, duration in executing.items()\n",
      "KeyError: \"('open_dataset-bf99ca6844095cbdb59da0928d0d9328HTN-73c9e76f1673d242b3ea55677bf2d047', 0, 0)\"\n"
     ]
    },
    {
     "name": "stdout",
     "output_type": "stream",
     "text": [
      "start year= 2008 member= 23\n",
      "start year= 2008 member= 24\n",
      "start year= 2008 member= 25\n",
      "start year= 2008 member= 26\n",
      "start year= 2008 member= 27\n",
      "start year= 2008 member= 28\n",
      "start year= 2008 member= 29\n",
      "start year= 2008 member= 30\n",
      "start year= 2008 member= 31\n",
      "start year= 2008 member= 32\n",
      "start year= 2008 member= 33\n",
      "start year= 2008 member= 34\n",
      "start year= 2008 member= 35\n",
      "start year= 2008 member= 36\n",
      "start year= 2008 member= 37\n",
      "start year= 2008 member= 38\n",
      "start year= 2008 member= 39\n",
      "start year= 2008 member= 40\n",
      "start year= 2009 member= 1\n",
      "start year= 2009 member= 2\n",
      "start year= 2009 member= 3\n",
      "start year= 2009 member= 4\n",
      "start year= 2009 member= 5\n",
      "start year= 2009 member= 6\n",
      "start year= 2009 member= 7\n",
      "start year= 2009 member= 8\n",
      "start year= 2009 member= 9\n",
      "start year= 2009 member= 10\n",
      "start year= 2009 member= 11\n",
      "start year= 2009 member= 12\n",
      "start year= 2009 member= 13\n"
     ]
    },
    {
     "name": "stderr",
     "output_type": "stream",
     "text": [
      "distributed.core - ERROR - Exception while handling op heartbeat_worker\n",
      "Traceback (most recent call last):\n",
      "  File \"/glade/work/kristenk/miniconda/envs/analysis4/lib/python3.7/site-packages/distributed/core.py\", line 493, in handle_comm\n",
      "    result = handler(comm, **msg)\n",
      "  File \"/glade/work/kristenk/miniconda/envs/analysis4/lib/python3.7/site-packages/distributed/scheduler.py\", line 2197, in heartbeat_worker\n",
      "    self.tasks[key]: duration for key, duration in executing.items()\n",
      "  File \"/glade/work/kristenk/miniconda/envs/analysis4/lib/python3.7/site-packages/distributed/scheduler.py\", line 2197, in <dictcomp>\n",
      "    self.tasks[key]: duration for key, duration in executing.items()\n",
      "KeyError: \"('open_dataset-d5eb25c31b85e8960876814345980edbHTE-4b1c3bb5a54a7e43dc9bff0bdb608016', 0, 0)\"\n",
      "distributed.core - ERROR - Exception while handling op heartbeat_worker\n",
      "Traceback (most recent call last):\n",
      "  File \"/glade/work/kristenk/miniconda/envs/analysis4/lib/python3.7/site-packages/distributed/core.py\", line 493, in handle_comm\n",
      "    result = handler(comm, **msg)\n",
      "  File \"/glade/work/kristenk/miniconda/envs/analysis4/lib/python3.7/site-packages/distributed/scheduler.py\", line 2197, in heartbeat_worker\n",
      "    self.tasks[key]: duration for key, duration in executing.items()\n",
      "  File \"/glade/work/kristenk/miniconda/envs/analysis4/lib/python3.7/site-packages/distributed/scheduler.py\", line 2197, in <dictcomp>\n",
      "    self.tasks[key]: duration for key, duration in executing.items()\n",
      "KeyError: \"('open_dataset-d5eb25c31b85e8960876814345980edbHUW-860403068ec0fd06443c7c9b301518d2', 0, 0)\"\n"
     ]
    },
    {
     "name": "stdout",
     "output_type": "stream",
     "text": [
      "start year= 2009 member= 14\n",
      "start year= 2009 member= 15\n",
      "start year= 2009 member= 16\n",
      "start year= 2009 member= 17\n",
      "start year= 2009 member= 18\n",
      "start year= 2009 member= 19\n",
      "start year= 2009 member= 20\n",
      "start year= 2009 member= 21\n",
      "start year= 2009 member= 22\n",
      "start year= 2009 member= 23\n",
      "start year= 2009 member= 24\n",
      "start year= 2009 member= 25\n",
      "start year= 2009 member= 26\n",
      "start year= 2009 member= 27\n",
      "start year= 2009 member= 28\n",
      "start year= 2009 member= 29\n",
      "start year= 2009 member= 30\n",
      "start year= 2009 member= 31\n",
      "start year= 2009 member= 32\n",
      "start year= 2009 member= 33\n",
      "start year= 2009 member= 34\n",
      "start year= 2009 member= 35\n",
      "start year= 2009 member= 36\n",
      "start year= 2009 member= 37\n",
      "start year= 2009 member= 38\n",
      "start year= 2009 member= 39\n",
      "start year= 2009 member= 40\n",
      "start year= 2010 member= 1\n",
      "start year= 2010 member= 2\n",
      "start year= 2010 member= 3\n",
      "start year= 2010 member= 4\n",
      "start year= 2010 member= 5\n",
      "start year= 2010 member= 6\n",
      "start year= 2010 member= 7\n",
      "start year= 2010 member= 8\n",
      "start year= 2010 member= 9\n",
      "start year= 2010 member= 10\n",
      "start year= 2010 member= 11\n",
      "start year= 2010 member= 12\n",
      "start year= 2010 member= 13\n",
      "start year= 2010 member= 14\n",
      "start year= 2010 member= 15\n",
      "start year= 2010 member= 16\n",
      "start year= 2010 member= 17\n",
      "start year= 2010 member= 18\n",
      "start year= 2010 member= 19\n",
      "start year= 2010 member= 20\n",
      "start year= 2010 member= 21\n",
      "start year= 2010 member= 22\n",
      "start year= 2010 member= 23\n",
      "start year= 2010 member= 24\n",
      "start year= 2010 member= 25\n",
      "start year= 2010 member= 26\n",
      "start year= 2010 member= 27\n",
      "start year= 2010 member= 28\n",
      "start year= 2010 member= 29\n",
      "start year= 2010 member= 30\n",
      "start year= 2010 member= 31\n",
      "start year= 2010 member= 32\n",
      "start year= 2010 member= 33\n",
      "start year= 2010 member= 34\n",
      "start year= 2010 member= 35\n",
      "start year= 2010 member= 36\n",
      "start year= 2010 member= 37\n",
      "start year= 2010 member= 38\n"
     ]
    },
    {
     "name": "stderr",
     "output_type": "stream",
     "text": [
      "distributed.core - ERROR - Exception while handling op heartbeat_worker\n",
      "Traceback (most recent call last):\n",
      "  File \"/glade/work/kristenk/miniconda/envs/analysis4/lib/python3.7/site-packages/distributed/core.py\", line 493, in handle_comm\n",
      "    result = handler(comm, **msg)\n",
      "  File \"/glade/work/kristenk/miniconda/envs/analysis4/lib/python3.7/site-packages/distributed/scheduler.py\", line 2197, in heartbeat_worker\n",
      "    self.tasks[key]: duration for key, duration in executing.items()\n",
      "  File \"/glade/work/kristenk/miniconda/envs/analysis4/lib/python3.7/site-packages/distributed/scheduler.py\", line 2197, in <dictcomp>\n",
      "    self.tasks[key]: duration for key, duration in executing.items()\n",
      "KeyError: \"('open_dataset-3e9c8cb28c68582010c1e29bd1362af7DYU-883e329e3726224f4eb834303ec25d43', 0, 0)\"\n"
     ]
    },
    {
     "name": "stdout",
     "output_type": "stream",
     "text": [
      "start year= 2010 member= 39\n",
      "start year= 2010 member= 40\n",
      "start year= 2011 member= 1\n",
      "start year= 2011 member= 2\n",
      "start year= 2011 member= 3\n",
      "start year= 2011 member= 4\n",
      "start year= 2011 member= 5\n",
      "start year= 2011 member= 6\n",
      "start year= 2011 member= 7\n",
      "start year= 2011 member= 8\n"
     ]
    },
    {
     "name": "stderr",
     "output_type": "stream",
     "text": [
      "distributed.core - ERROR - Exception while handling op heartbeat_worker\n",
      "Traceback (most recent call last):\n",
      "  File \"/glade/work/kristenk/miniconda/envs/analysis4/lib/python3.7/site-packages/distributed/core.py\", line 493, in handle_comm\n",
      "    result = handler(comm, **msg)\n",
      "  File \"/glade/work/kristenk/miniconda/envs/analysis4/lib/python3.7/site-packages/distributed/scheduler.py\", line 2197, in heartbeat_worker\n",
      "    self.tasks[key]: duration for key, duration in executing.items()\n",
      "  File \"/glade/work/kristenk/miniconda/envs/analysis4/lib/python3.7/site-packages/distributed/scheduler.py\", line 2197, in <dictcomp>\n",
      "    self.tasks[key]: duration for key, duration in executing.items()\n",
      "KeyError: \"('open_dataset-9e16582cd7bd8102a27834a993b7c92aDYT-c1a2d38caf11665cb4888a811261f450', 0, 0)\"\n",
      "distributed.core - ERROR - Exception while handling op heartbeat_worker\n",
      "Traceback (most recent call last):\n",
      "  File \"/glade/work/kristenk/miniconda/envs/analysis4/lib/python3.7/site-packages/distributed/core.py\", line 493, in handle_comm\n",
      "    result = handler(comm, **msg)\n",
      "  File \"/glade/work/kristenk/miniconda/envs/analysis4/lib/python3.7/site-packages/distributed/scheduler.py\", line 2197, in heartbeat_worker\n",
      "    self.tasks[key]: duration for key, duration in executing.items()\n",
      "  File \"/glade/work/kristenk/miniconda/envs/analysis4/lib/python3.7/site-packages/distributed/scheduler.py\", line 2197, in <dictcomp>\n",
      "    self.tasks[key]: duration for key, duration in executing.items()\n",
      "KeyError: \"('open_dataset-9e16582cd7bd8102a27834a993b7c92aDXU-a85f59eca4647170d4849262ddf6a36b', 0, 0)\"\n"
     ]
    },
    {
     "name": "stdout",
     "output_type": "stream",
     "text": [
      "start year= 2011 member= 9\n",
      "start year= 2011 member= 10\n",
      "start year= 2011 member= 11\n"
     ]
    },
    {
     "name": "stderr",
     "output_type": "stream",
     "text": [
      "distributed.core - ERROR - Exception while handling op heartbeat_worker\n",
      "Traceback (most recent call last):\n",
      "  File \"/glade/work/kristenk/miniconda/envs/analysis4/lib/python3.7/site-packages/distributed/core.py\", line 493, in handle_comm\n",
      "    result = handler(comm, **msg)\n",
      "  File \"/glade/work/kristenk/miniconda/envs/analysis4/lib/python3.7/site-packages/distributed/scheduler.py\", line 2197, in heartbeat_worker\n",
      "    self.tasks[key]: duration for key, duration in executing.items()\n",
      "  File \"/glade/work/kristenk/miniconda/envs/analysis4/lib/python3.7/site-packages/distributed/scheduler.py\", line 2197, in <dictcomp>\n",
      "    self.tasks[key]: duration for key, duration in executing.items()\n",
      "KeyError: \"('open_dataset-49573ef7c47d5f60ea407510cdaf4455HU-acbab87b7413ef60c7feb3350adfb20c', 0, 0)\"\n",
      "distributed.core - ERROR - Exception while handling op heartbeat_worker\n",
      "Traceback (most recent call last):\n",
      "  File \"/glade/work/kristenk/miniconda/envs/analysis4/lib/python3.7/site-packages/distributed/core.py\", line 493, in handle_comm\n",
      "    result = handler(comm, **msg)\n",
      "  File \"/glade/work/kristenk/miniconda/envs/analysis4/lib/python3.7/site-packages/distributed/scheduler.py\", line 2197, in heartbeat_worker\n",
      "    self.tasks[key]: duration for key, duration in executing.items()\n",
      "  File \"/glade/work/kristenk/miniconda/envs/analysis4/lib/python3.7/site-packages/distributed/scheduler.py\", line 2197, in <dictcomp>\n",
      "    self.tasks[key]: duration for key, duration in executing.items()\n",
      "KeyError: \"('open_dataset-49573ef7c47d5f60ea407510cdaf4455HUS-adc677d7c41449f0199a2b2f85c77392', 0, 0)\"\n",
      "distributed.core - ERROR - Exception while handling op heartbeat_worker\n",
      "Traceback (most recent call last):\n",
      "  File \"/glade/work/kristenk/miniconda/envs/analysis4/lib/python3.7/site-packages/distributed/core.py\", line 493, in handle_comm\n",
      "    result = handler(comm, **msg)\n",
      "  File \"/glade/work/kristenk/miniconda/envs/analysis4/lib/python3.7/site-packages/distributed/scheduler.py\", line 2197, in heartbeat_worker\n",
      "    self.tasks[key]: duration for key, duration in executing.items()\n",
      "  File \"/glade/work/kristenk/miniconda/envs/analysis4/lib/python3.7/site-packages/distributed/scheduler.py\", line 2197, in <dictcomp>\n",
      "    self.tasks[key]: duration for key, duration in executing.items()\n",
      "KeyError: \"('open_dataset-49573ef7c47d5f60ea407510cdaf4455HTN-99ab7eac59266a0d4173f2b0c7846227', 0, 0)\"\n"
     ]
    },
    {
     "name": "stdout",
     "output_type": "stream",
     "text": [
      "start year= 2011 member= 12\n",
      "start year= 2011 member= 13\n",
      "start year= 2011 member= 14\n",
      "start year= 2011 member= 15\n",
      "start year= 2011 member= 16\n",
      "start year= 2011 member= 17\n",
      "start year= 2011 member= 18\n"
     ]
    },
    {
     "name": "stderr",
     "output_type": "stream",
     "text": [
      "distributed.core - ERROR - Exception while handling op heartbeat_worker\n",
      "Traceback (most recent call last):\n",
      "  File \"/glade/work/kristenk/miniconda/envs/analysis4/lib/python3.7/site-packages/distributed/core.py\", line 493, in handle_comm\n",
      "    result = handler(comm, **msg)\n",
      "  File \"/glade/work/kristenk/miniconda/envs/analysis4/lib/python3.7/site-packages/distributed/scheduler.py\", line 2197, in heartbeat_worker\n",
      "    self.tasks[key]: duration for key, duration in executing.items()\n",
      "  File \"/glade/work/kristenk/miniconda/envs/analysis4/lib/python3.7/site-packages/distributed/scheduler.py\", line 2197, in <dictcomp>\n",
      "    self.tasks[key]: duration for key, duration in executing.items()\n",
      "KeyError: \"('open_dataset-55cb1246ec2c6a5076d7b0dfd2ab1733DXU-e7668f4db290eb33b9b988bf0ff54da3', 0, 0)\"\n"
     ]
    },
    {
     "name": "stdout",
     "output_type": "stream",
     "text": [
      "start year= 2011 member= 19\n",
      "start year= 2011 member= 20\n",
      "start year= 2011 member= 21\n",
      "start year= 2011 member= 22\n",
      "start year= 2011 member= 23\n",
      "start year= 2011 member= 24\n",
      "start year= 2011 member= 25\n",
      "start year= 2011 member= 26\n",
      "start year= 2011 member= 27\n",
      "start year= 2011 member= 28\n",
      "start year= 2011 member= 29\n"
     ]
    },
    {
     "name": "stderr",
     "output_type": "stream",
     "text": [
      "distributed.core - ERROR - Exception while handling op heartbeat_worker\n",
      "Traceback (most recent call last):\n",
      "  File \"/glade/work/kristenk/miniconda/envs/analysis4/lib/python3.7/site-packages/distributed/core.py\", line 493, in handle_comm\n",
      "    result = handler(comm, **msg)\n",
      "  File \"/glade/work/kristenk/miniconda/envs/analysis4/lib/python3.7/site-packages/distributed/scheduler.py\", line 2197, in heartbeat_worker\n",
      "    self.tasks[key]: duration for key, duration in executing.items()\n",
      "  File \"/glade/work/kristenk/miniconda/envs/analysis4/lib/python3.7/site-packages/distributed/scheduler.py\", line 2197, in <dictcomp>\n",
      "    self.tasks[key]: duration for key, duration in executing.items()\n",
      "KeyError: \"('open_dataset-74e368115794c2f2c65527e3ef7bb3f2HUS-645688203cf1947c8400e1eae9ce84c4', 0, 0)\"\n",
      "distributed.core - ERROR - Exception while handling op heartbeat_worker\n",
      "Traceback (most recent call last):\n",
      "  File \"/glade/work/kristenk/miniconda/envs/analysis4/lib/python3.7/site-packages/distributed/core.py\", line 493, in handle_comm\n",
      "    result = handler(comm, **msg)\n",
      "  File \"/glade/work/kristenk/miniconda/envs/analysis4/lib/python3.7/site-packages/distributed/scheduler.py\", line 2197, in heartbeat_worker\n",
      "    self.tasks[key]: duration for key, duration in executing.items()\n",
      "  File \"/glade/work/kristenk/miniconda/envs/analysis4/lib/python3.7/site-packages/distributed/scheduler.py\", line 2197, in <dictcomp>\n",
      "    self.tasks[key]: duration for key, duration in executing.items()\n",
      "KeyError: \"('open_dataset-74e368115794c2f2c65527e3ef7bb3f2HU-ad2eb9b61af00272de8519dc85432881', 0, 0)\"\n"
     ]
    },
    {
     "name": "stdout",
     "output_type": "stream",
     "text": [
      "start year= 2011 member= 30\n",
      "start year= 2011 member= 31\n"
     ]
    },
    {
     "name": "stderr",
     "output_type": "stream",
     "text": [
      "distributed.core - ERROR - Exception while handling op heartbeat_worker\n",
      "Traceback (most recent call last):\n",
      "  File \"/glade/work/kristenk/miniconda/envs/analysis4/lib/python3.7/site-packages/distributed/core.py\", line 493, in handle_comm\n",
      "    result = handler(comm, **msg)\n",
      "  File \"/glade/work/kristenk/miniconda/envs/analysis4/lib/python3.7/site-packages/distributed/scheduler.py\", line 2197, in heartbeat_worker\n",
      "    self.tasks[key]: duration for key, duration in executing.items()\n",
      "  File \"/glade/work/kristenk/miniconda/envs/analysis4/lib/python3.7/site-packages/distributed/scheduler.py\", line 2197, in <dictcomp>\n",
      "    self.tasks[key]: duration for key, duration in executing.items()\n",
      "KeyError: \"('open_dataset-cd80e271a6c9a51b2bb4e6d88b46bbf1DYU-9df876b157dfe41d00b9cfb2fab597f8', 0, 0)\"\n"
     ]
    },
    {
     "name": "stdout",
     "output_type": "stream",
     "text": [
      "start year= 2011 member= 32\n",
      "start year= 2011 member= 33\n",
      "start year= 2011 member= 34\n",
      "start year= 2011 member= 35\n",
      "start year= 2011 member= 36\n",
      "start year= 2011 member= 37\n",
      "start year= 2011 member= 38\n",
      "start year= 2011 member= 39\n",
      "start year= 2011 member= 40\n",
      "start year= 2012 member= 1\n",
      "start year= 2012 member= 2\n",
      "start year= 2012 member= 3\n",
      "start year= 2012 member= 4\n",
      "start year= 2012 member= 5\n",
      "start year= 2012 member= 6\n",
      "start year= 2012 member= 7\n",
      "start year= 2012 member= 8\n",
      "start year= 2012 member= 9\n",
      "start year= 2012 member= 10\n",
      "start year= 2012 member= 11\n",
      "start year= 2012 member= 12\n",
      "start year= 2012 member= 13\n",
      "start year= 2012 member= 14\n",
      "start year= 2012 member= 15\n",
      "start year= 2012 member= 16\n",
      "start year= 2012 member= 17\n",
      "start year= 2012 member= 18\n",
      "start year= 2012 member= 19\n",
      "start year= 2012 member= 20\n",
      "start year= 2012 member= 21\n",
      "start year= 2012 member= 22\n",
      "start year= 2012 member= 23\n",
      "start year= 2012 member= 24\n",
      "start year= 2012 member= 25\n",
      "start year= 2012 member= 26\n",
      "start year= 2012 member= 27\n"
     ]
    },
    {
     "name": "stderr",
     "output_type": "stream",
     "text": [
      "distributed.core - ERROR - Exception while handling op heartbeat_worker\n",
      "Traceback (most recent call last):\n",
      "  File \"/glade/work/kristenk/miniconda/envs/analysis4/lib/python3.7/site-packages/distributed/core.py\", line 493, in handle_comm\n",
      "    result = handler(comm, **msg)\n",
      "  File \"/glade/work/kristenk/miniconda/envs/analysis4/lib/python3.7/site-packages/distributed/scheduler.py\", line 2197, in heartbeat_worker\n",
      "    self.tasks[key]: duration for key, duration in executing.items()\n",
      "  File \"/glade/work/kristenk/miniconda/envs/analysis4/lib/python3.7/site-packages/distributed/scheduler.py\", line 2197, in <dictcomp>\n",
      "    self.tasks[key]: duration for key, duration in executing.items()\n",
      "KeyError: \"('open_dataset-52733de424bbac0cd10f36fdca812fb1DYT-859eea3614c1869ae2902c131aab12a3', 0, 0)\"\n"
     ]
    },
    {
     "name": "stdout",
     "output_type": "stream",
     "text": [
      "start year= 2012 member= 28\n",
      "start year= 2012 member= 29\n",
      "start year= 2012 member= 30\n",
      "start year= 2012 member= 31\n",
      "start year= 2012 member= 32\n",
      "start year= 2012 member= 33\n",
      "start year= 2012 member= 34\n",
      "start year= 2012 member= 35\n",
      "start year= 2012 member= 36\n",
      "start year= 2012 member= 37\n",
      "start year= 2012 member= 38\n",
      "start year= 2012 member= 39\n",
      "start year= 2012 member= 40\n",
      "start year= 2013 member= 1\n",
      "start year= 2013 member= 2\n",
      "start year= 2013 member= 3\n",
      "start year= 2013 member= 4\n",
      "start year= 2013 member= 5\n",
      "start year= 2013 member= 6\n",
      "start year= 2013 member= 7\n",
      "start year= 2013 member= 8\n",
      "start year= 2013 member= 9\n",
      "start year= 2013 member= 10\n",
      "start year= 2013 member= 11\n",
      "start year= 2013 member= 12\n",
      "start year= 2013 member= 13\n",
      "start year= 2013 member= 14\n",
      "start year= 2013 member= 15\n",
      "start year= 2013 member= 16\n",
      "start year= 2013 member= 17\n",
      "start year= 2013 member= 18\n",
      "start year= 2013 member= 19\n",
      "start year= 2013 member= 20\n",
      "start year= 2013 member= 21\n",
      "start year= 2013 member= 22\n",
      "start year= 2013 member= 23\n",
      "start year= 2013 member= 24\n",
      "start year= 2013 member= 25\n",
      "start year= 2013 member= 26\n",
      "start year= 2013 member= 27\n",
      "start year= 2013 member= 28\n",
      "start year= 2013 member= 29\n",
      "start year= 2013 member= 30\n",
      "start year= 2013 member= 31\n"
     ]
    },
    {
     "name": "stderr",
     "output_type": "stream",
     "text": [
      "distributed.core - ERROR - Exception while handling op heartbeat_worker\n",
      "Traceback (most recent call last):\n",
      "  File \"/glade/work/kristenk/miniconda/envs/analysis4/lib/python3.7/site-packages/distributed/core.py\", line 493, in handle_comm\n",
      "    result = handler(comm, **msg)\n",
      "  File \"/glade/work/kristenk/miniconda/envs/analysis4/lib/python3.7/site-packages/distributed/scheduler.py\", line 2197, in heartbeat_worker\n",
      "    self.tasks[key]: duration for key, duration in executing.items()\n",
      "  File \"/glade/work/kristenk/miniconda/envs/analysis4/lib/python3.7/site-packages/distributed/scheduler.py\", line 2197, in <dictcomp>\n",
      "    self.tasks[key]: duration for key, duration in executing.items()\n",
      "KeyError: \"('open_dataset-549491d7fbdf6c9d4352dd9387108258ANGLE-3d3848a42fdae5591bca790d529533f1', 0, 0)\"\n",
      "distributed.core - ERROR - Exception while handling op heartbeat_worker\n",
      "Traceback (most recent call last):\n",
      "  File \"/glade/work/kristenk/miniconda/envs/analysis4/lib/python3.7/site-packages/distributed/core.py\", line 493, in handle_comm\n",
      "    result = handler(comm, **msg)\n",
      "  File \"/glade/work/kristenk/miniconda/envs/analysis4/lib/python3.7/site-packages/distributed/scheduler.py\", line 2197, in heartbeat_worker\n",
      "    self.tasks[key]: duration for key, duration in executing.items()\n",
      "  File \"/glade/work/kristenk/miniconda/envs/analysis4/lib/python3.7/site-packages/distributed/scheduler.py\", line 2197, in <dictcomp>\n",
      "    self.tasks[key]: duration for key, duration in executing.items()\n",
      "KeyError: \"('open_dataset-549491d7fbdf6c9d4352dd9387108258HTE-10641f4f1a36e127083b9a027ff735d7', 0, 0)\"\n",
      "distributed.core - ERROR - Exception while handling op heartbeat_worker\n",
      "Traceback (most recent call last):\n",
      "  File \"/glade/work/kristenk/miniconda/envs/analysis4/lib/python3.7/site-packages/distributed/core.py\", line 493, in handle_comm\n",
      "    result = handler(comm, **msg)\n",
      "  File \"/glade/work/kristenk/miniconda/envs/analysis4/lib/python3.7/site-packages/distributed/scheduler.py\", line 2197, in heartbeat_worker\n",
      "    self.tasks[key]: duration for key, duration in executing.items()\n",
      "  File \"/glade/work/kristenk/miniconda/envs/analysis4/lib/python3.7/site-packages/distributed/scheduler.py\", line 2197, in <dictcomp>\n",
      "    self.tasks[key]: duration for key, duration in executing.items()\n",
      "KeyError: \"('open_dataset-549491d7fbdf6c9d4352dd9387108258HTN-03948da6d9c1b0a294c8d3034c353d8c', 0, 0)\"\n"
     ]
    },
    {
     "name": "stdout",
     "output_type": "stream",
     "text": [
      "start year= 2013 member= 32\n",
      "start year= 2013 member= 33\n",
      "start year= 2013 member= 34\n",
      "start year= 2013 member= 35\n",
      "start year= 2013 member= 36\n",
      "start year= 2013 member= 37\n",
      "start year= 2013 member= 38\n",
      "start year= 2013 member= 39\n",
      "start year= 2013 member= 40\n",
      "start year= 2014 member= 1\n",
      "start year= 2014 member= 2\n",
      "start year= 2014 member= 3\n",
      "start year= 2014 member= 4\n"
     ]
    },
    {
     "name": "stderr",
     "output_type": "stream",
     "text": [
      "distributed.core - ERROR - Exception while handling op heartbeat_worker\n",
      "Traceback (most recent call last):\n",
      "  File \"/glade/work/kristenk/miniconda/envs/analysis4/lib/python3.7/site-packages/distributed/core.py\", line 493, in handle_comm\n",
      "    result = handler(comm, **msg)\n",
      "  File \"/glade/work/kristenk/miniconda/envs/analysis4/lib/python3.7/site-packages/distributed/scheduler.py\", line 2197, in heartbeat_worker\n",
      "    self.tasks[key]: duration for key, duration in executing.items()\n",
      "  File \"/glade/work/kristenk/miniconda/envs/analysis4/lib/python3.7/site-packages/distributed/scheduler.py\", line 2197, in <dictcomp>\n",
      "    self.tasks[key]: duration for key, duration in executing.items()\n",
      "KeyError: \"('open_dataset-32ca63a5f93e65ab202bd8beb4da2b95HT-0e3326ac930e4b9301fb5e76a058a493', 0, 0)\"\n"
     ]
    },
    {
     "name": "stdout",
     "output_type": "stream",
     "text": [
      "start year= 2014 member= 5\n",
      "start year= 2014 member= 6\n",
      "start year= 2014 member= 7\n",
      "start year= 2014 member= 8\n",
      "start year= 2014 member= 9\n",
      "start year= 2014 member= 10\n",
      "start year= 2014 member= 11\n",
      "start year= 2014 member= 12\n",
      "start year= 2014 member= 13\n"
     ]
    },
    {
     "name": "stderr",
     "output_type": "stream",
     "text": [
      "distributed.core - ERROR - Exception while handling op heartbeat_worker\n",
      "Traceback (most recent call last):\n",
      "  File \"/glade/work/kristenk/miniconda/envs/analysis4/lib/python3.7/site-packages/distributed/core.py\", line 493, in handle_comm\n",
      "    result = handler(comm, **msg)\n",
      "  File \"/glade/work/kristenk/miniconda/envs/analysis4/lib/python3.7/site-packages/distributed/scheduler.py\", line 2197, in heartbeat_worker\n",
      "    self.tasks[key]: duration for key, duration in executing.items()\n",
      "  File \"/glade/work/kristenk/miniconda/envs/analysis4/lib/python3.7/site-packages/distributed/scheduler.py\", line 2197, in <dictcomp>\n",
      "    self.tasks[key]: duration for key, duration in executing.items()\n",
      "KeyError: \"('open_dataset-6cfc0167d84917d9ffbed746dd6b5f3fDYT-75a1a79b7a7c664028504b89e5297f0c', 0, 0)\"\n",
      "distributed.core - ERROR - Exception while handling op heartbeat_worker\n",
      "Traceback (most recent call last):\n",
      "  File \"/glade/work/kristenk/miniconda/envs/analysis4/lib/python3.7/site-packages/distributed/core.py\", line 493, in handle_comm\n",
      "    result = handler(comm, **msg)\n",
      "  File \"/glade/work/kristenk/miniconda/envs/analysis4/lib/python3.7/site-packages/distributed/scheduler.py\", line 2197, in heartbeat_worker\n",
      "    self.tasks[key]: duration for key, duration in executing.items()\n",
      "  File \"/glade/work/kristenk/miniconda/envs/analysis4/lib/python3.7/site-packages/distributed/scheduler.py\", line 2197, in <dictcomp>\n",
      "    self.tasks[key]: duration for key, duration in executing.items()\n",
      "KeyError: \"('open_dataset-6cfc0167d84917d9ffbed746dd6b5f3fDXT-a23a97e2f8c5b0490afe8b00fc8eba0b', 0, 0)\"\n"
     ]
    },
    {
     "name": "stdout",
     "output_type": "stream",
     "text": [
      "start year= 2014 member= 14\n",
      "start year= 2014 member= 15\n",
      "start year= 2014 member= 16\n",
      "start year= 2014 member= 17\n",
      "start year= 2014 member= 18\n",
      "start year= 2014 member= 19\n"
     ]
    },
    {
     "name": "stderr",
     "output_type": "stream",
     "text": [
      "distributed.core - ERROR - Exception while handling op heartbeat_worker\n",
      "Traceback (most recent call last):\n",
      "  File \"/glade/work/kristenk/miniconda/envs/analysis4/lib/python3.7/site-packages/distributed/core.py\", line 493, in handle_comm\n",
      "    result = handler(comm, **msg)\n",
      "  File \"/glade/work/kristenk/miniconda/envs/analysis4/lib/python3.7/site-packages/distributed/scheduler.py\", line 2197, in heartbeat_worker\n",
      "    self.tasks[key]: duration for key, duration in executing.items()\n",
      "  File \"/glade/work/kristenk/miniconda/envs/analysis4/lib/python3.7/site-packages/distributed/scheduler.py\", line 2197, in <dictcomp>\n",
      "    self.tasks[key]: duration for key, duration in executing.items()\n",
      "KeyError: \"('open_dataset-45235095c41bfe92e4cc2722257eafb4HTE-101f5328de9cf95330cb766d5b6528d7', 0, 0)\"\n"
     ]
    },
    {
     "name": "stdout",
     "output_type": "stream",
     "text": [
      "start year= 2014 member= 20\n"
     ]
    },
    {
     "name": "stderr",
     "output_type": "stream",
     "text": [
      "distributed.core - ERROR - Exception while handling op heartbeat_worker\n",
      "Traceback (most recent call last):\n",
      "  File \"/glade/work/kristenk/miniconda/envs/analysis4/lib/python3.7/site-packages/distributed/core.py\", line 493, in handle_comm\n",
      "    result = handler(comm, **msg)\n",
      "  File \"/glade/work/kristenk/miniconda/envs/analysis4/lib/python3.7/site-packages/distributed/scheduler.py\", line 2197, in heartbeat_worker\n",
      "    self.tasks[key]: duration for key, duration in executing.items()\n",
      "  File \"/glade/work/kristenk/miniconda/envs/analysis4/lib/python3.7/site-packages/distributed/scheduler.py\", line 2197, in <dictcomp>\n",
      "    self.tasks[key]: duration for key, duration in executing.items()\n",
      "KeyError: \"('open_dataset-eb03d93d58fa59dad94fe5fd24642bc4HT-9972d22d007b9695a455b1ab73766c73', 0, 0)\"\n"
     ]
    },
    {
     "name": "stdout",
     "output_type": "stream",
     "text": [
      "start year= 2014 member= 21\n",
      "start year= 2014 member= 22\n",
      "start year= 2014 member= 23\n",
      "start year= 2014 member= 24\n",
      "start year= 2014 member= 25\n",
      "start year= 2014 member= 26\n",
      "start year= 2014 member= 27\n",
      "start year= 2014 member= 28\n",
      "start year= 2014 member= 29\n",
      "start year= 2014 member= 30\n",
      "start year= 2014 member= 31\n",
      "start year= 2014 member= 32\n",
      "start year= 2014 member= 33\n",
      "start year= 2014 member= 34\n",
      "start year= 2014 member= 35\n",
      "start year= 2014 member= 36\n",
      "start year= 2014 member= 37\n",
      "start year= 2014 member= 38\n",
      "start year= 2014 member= 39\n",
      "start year= 2014 member= 40\n",
      "start year= 2015 member= 1\n"
     ]
    },
    {
     "name": "stderr",
     "output_type": "stream",
     "text": [
      "distributed.core - ERROR - Exception while handling op heartbeat_worker\n",
      "Traceback (most recent call last):\n",
      "  File \"/glade/work/kristenk/miniconda/envs/analysis4/lib/python3.7/site-packages/distributed/core.py\", line 493, in handle_comm\n",
      "    result = handler(comm, **msg)\n",
      "  File \"/glade/work/kristenk/miniconda/envs/analysis4/lib/python3.7/site-packages/distributed/scheduler.py\", line 2197, in heartbeat_worker\n",
      "    self.tasks[key]: duration for key, duration in executing.items()\n",
      "  File \"/glade/work/kristenk/miniconda/envs/analysis4/lib/python3.7/site-packages/distributed/scheduler.py\", line 2197, in <dictcomp>\n",
      "    self.tasks[key]: duration for key, duration in executing.items()\n",
      "KeyError: \"('open_dataset-d4873bec704f110da958855aadf9667eHU-b1327d99ccf65f74dc3987f7365b4b26', 0, 0)\"\n",
      "distributed.core - ERROR - Exception while handling op heartbeat_worker\n",
      "Traceback (most recent call last):\n",
      "  File \"/glade/work/kristenk/miniconda/envs/analysis4/lib/python3.7/site-packages/distributed/core.py\", line 493, in handle_comm\n",
      "    result = handler(comm, **msg)\n",
      "  File \"/glade/work/kristenk/miniconda/envs/analysis4/lib/python3.7/site-packages/distributed/scheduler.py\", line 2197, in heartbeat_worker\n",
      "    self.tasks[key]: duration for key, duration in executing.items()\n",
      "  File \"/glade/work/kristenk/miniconda/envs/analysis4/lib/python3.7/site-packages/distributed/scheduler.py\", line 2197, in <dictcomp>\n",
      "    self.tasks[key]: duration for key, duration in executing.items()\n",
      "KeyError: \"('open_dataset-d4873bec704f110da958855aadf9667eDXU-7df263ed8ca4e3c87aaf4216b37f6b2b', 0, 0)\"\n"
     ]
    },
    {
     "name": "stdout",
     "output_type": "stream",
     "text": [
      "start year= 2015 member= 2\n",
      "start year= 2015 member= 3\n",
      "start year= 2015 member= 4\n",
      "start year= 2015 member= 5\n",
      "start year= 2015 member= 6\n",
      "start year= 2015 member= 7\n",
      "start year= 2015 member= 8\n",
      "start year= 2015 member= 9\n",
      "start year= 2015 member= 10\n",
      "start year= 2015 member= 11\n",
      "start year= 2015 member= 12\n",
      "start year= 2015 member= 13\n",
      "start year= 2015 member= 14\n",
      "start year= 2015 member= 15\n",
      "start year= 2015 member= 16\n",
      "start year= 2015 member= 17\n",
      "start year= 2015 member= 18\n",
      "start year= 2015 member= 19\n",
      "start year= 2015 member= 20\n",
      "start year= 2015 member= 21\n",
      "start year= 2015 member= 22\n",
      "start year= 2015 member= 23\n"
     ]
    },
    {
     "name": "stderr",
     "output_type": "stream",
     "text": [
      "distributed.core - ERROR - Exception while handling op heartbeat_worker\n",
      "Traceback (most recent call last):\n",
      "  File \"/glade/work/kristenk/miniconda/envs/analysis4/lib/python3.7/site-packages/distributed/core.py\", line 493, in handle_comm\n",
      "    result = handler(comm, **msg)\n",
      "  File \"/glade/work/kristenk/miniconda/envs/analysis4/lib/python3.7/site-packages/distributed/scheduler.py\", line 2197, in heartbeat_worker\n",
      "    self.tasks[key]: duration for key, duration in executing.items()\n",
      "  File \"/glade/work/kristenk/miniconda/envs/analysis4/lib/python3.7/site-packages/distributed/scheduler.py\", line 2197, in <dictcomp>\n",
      "    self.tasks[key]: duration for key, duration in executing.items()\n",
      "KeyError: \"('open_dataset-be7daade40b4fa34df94fa26ff0e9865DXT-f2b72aa07347d06f938b6dff249a2f8d', 0, 0)\"\n"
     ]
    },
    {
     "name": "stdout",
     "output_type": "stream",
     "text": [
      "start year= 2015 member= 24\n",
      "start year= 2015 member= 25\n",
      "start year= 2015 member= 26\n",
      "start year= 2015 member= 27\n",
      "start year= 2015 member= 28\n",
      "start year= 2015 member= 29\n",
      "start year= 2015 member= 30\n",
      "start year= 2015 member= 31\n",
      "start year= 2015 member= 32\n",
      "start year= 2015 member= 33\n",
      "start year= 2015 member= 34\n",
      "start year= 2015 member= 35\n",
      "start year= 2015 member= 36\n",
      "start year= 2015 member= 37\n",
      "start year= 2015 member= 38\n",
      "start year= 2015 member= 39\n",
      "start year= 2015 member= 40\n"
     ]
    },
    {
     "name": "stderr",
     "output_type": "stream",
     "text": [
      "distributed.core - ERROR - Exception while handling op heartbeat_worker\n",
      "Traceback (most recent call last):\n",
      "  File \"/glade/work/kristenk/miniconda/envs/analysis4/lib/python3.7/site-packages/distributed/core.py\", line 493, in handle_comm\n",
      "    result = handler(comm, **msg)\n",
      "  File \"/glade/work/kristenk/miniconda/envs/analysis4/lib/python3.7/site-packages/distributed/scheduler.py\", line 2197, in heartbeat_worker\n",
      "    self.tasks[key]: duration for key, duration in executing.items()\n",
      "  File \"/glade/work/kristenk/miniconda/envs/analysis4/lib/python3.7/site-packages/distributed/scheduler.py\", line 2197, in <dictcomp>\n",
      "    self.tasks[key]: duration for key, duration in executing.items()\n",
      "KeyError: \"('open_dataset-44d5041ba7294dde28525816680fb4c3ANGLE-0d0b2bd85c4a3c22b7c121a46f15e460', 0, 0)\"\n",
      "distributed.core - ERROR - Exception while handling op heartbeat_worker\n",
      "Traceback (most recent call last):\n",
      "  File \"/glade/work/kristenk/miniconda/envs/analysis4/lib/python3.7/site-packages/distributed/core.py\", line 493, in handle_comm\n",
      "    result = handler(comm, **msg)\n",
      "  File \"/glade/work/kristenk/miniconda/envs/analysis4/lib/python3.7/site-packages/distributed/scheduler.py\", line 2197, in heartbeat_worker\n",
      "    self.tasks[key]: duration for key, duration in executing.items()\n",
      "  File \"/glade/work/kristenk/miniconda/envs/analysis4/lib/python3.7/site-packages/distributed/scheduler.py\", line 2197, in <dictcomp>\n",
      "    self.tasks[key]: duration for key, duration in executing.items()\n",
      "KeyError: \"('open_dataset-44d5041ba7294dde28525816680fb4c3ANGLET-e9eb3a04afd78f676ba87b5f89e6e21f', 0, 0)\"\n",
      "distributed.core - ERROR - Exception while handling op heartbeat_worker\n",
      "Traceback (most recent call last):\n",
      "  File \"/glade/work/kristenk/miniconda/envs/analysis4/lib/python3.7/site-packages/distributed/core.py\", line 493, in handle_comm\n",
      "    result = handler(comm, **msg)\n",
      "  File \"/glade/work/kristenk/miniconda/envs/analysis4/lib/python3.7/site-packages/distributed/scheduler.py\", line 2197, in heartbeat_worker\n",
      "    self.tasks[key]: duration for key, duration in executing.items()\n",
      "  File \"/glade/work/kristenk/miniconda/envs/analysis4/lib/python3.7/site-packages/distributed/scheduler.py\", line 2197, in <dictcomp>\n",
      "    self.tasks[key]: duration for key, duration in executing.items()\n",
      "KeyError: \"('open_dataset-44d5041ba7294dde28525816680fb4c3HTE-3bae6260fe3203a7fa92f6db32fcaf36', 0, 0)\"\n",
      "distributed.core - ERROR - Exception while handling op heartbeat_worker\n",
      "Traceback (most recent call last):\n",
      "  File \"/glade/work/kristenk/miniconda/envs/analysis4/lib/python3.7/site-packages/distributed/core.py\", line 493, in handle_comm\n",
      "    result = handler(comm, **msg)\n",
      "  File \"/glade/work/kristenk/miniconda/envs/analysis4/lib/python3.7/site-packages/distributed/scheduler.py\", line 2197, in heartbeat_worker\n",
      "    self.tasks[key]: duration for key, duration in executing.items()\n",
      "  File \"/glade/work/kristenk/miniconda/envs/analysis4/lib/python3.7/site-packages/distributed/scheduler.py\", line 2197, in <dictcomp>\n",
      "    self.tasks[key]: duration for key, duration in executing.items()\n",
      "KeyError: \"('open_dataset-44d5041ba7294dde28525816680fb4c3HUW-7197b557d5ae581379b1ad76d77943d4', 0, 0)\"\n"
     ]
    },
    {
     "name": "stdout",
     "output_type": "stream",
     "text": [
      "start year= 2016 member= 1\n"
     ]
    },
    {
     "name": "stderr",
     "output_type": "stream",
     "text": [
      "distributed.core - ERROR - Exception while handling op heartbeat_worker\n",
      "Traceback (most recent call last):\n",
      "  File \"/glade/work/kristenk/miniconda/envs/analysis4/lib/python3.7/site-packages/distributed/core.py\", line 493, in handle_comm\n",
      "    result = handler(comm, **msg)\n",
      "  File \"/glade/work/kristenk/miniconda/envs/analysis4/lib/python3.7/site-packages/distributed/scheduler.py\", line 2197, in heartbeat_worker\n",
      "    self.tasks[key]: duration for key, duration in executing.items()\n",
      "  File \"/glade/work/kristenk/miniconda/envs/analysis4/lib/python3.7/site-packages/distributed/scheduler.py\", line 2197, in <dictcomp>\n",
      "    self.tasks[key]: duration for key, duration in executing.items()\n",
      "KeyError: \"('open_dataset-44d5041ba7294dde28525816680fb4c3HT-035cb741153cbb65b2580eada5c78821', 0, 0)\"\n"
     ]
    },
    {
     "name": "stdout",
     "output_type": "stream",
     "text": [
      "start year= 2016 member= 2\n",
      "start year= 2016 member= 3\n",
      "start year= 2016 member= 4\n",
      "start year= 2016 member= 5\n",
      "start year= 2016 member= 6\n",
      "start year= 2016 member= 7\n",
      "start year= 2016 member= 8\n",
      "start year= 2016 member= 9\n",
      "start year= 2016 member= 10\n",
      "start year= 2016 member= 11\n",
      "start year= 2016 member= 12\n",
      "start year= 2016 member= 13\n",
      "start year= 2016 member= 14\n",
      "start year= 2016 member= 15\n",
      "start year= 2016 member= 16\n",
      "start year= 2016 member= 17\n",
      "start year= 2016 member= 18\n",
      "start year= 2016 member= 19\n",
      "start year= 2016 member= 20\n",
      "start year= 2016 member= 21\n",
      "start year= 2016 member= 22\n",
      "start year= 2016 member= 23\n",
      "start year= 2016 member= 24\n",
      "start year= 2016 member= 25\n",
      "start year= 2016 member= 26\n",
      "start year= 2016 member= 27\n",
      "start year= 2016 member= 28\n"
     ]
    },
    {
     "name": "stderr",
     "output_type": "stream",
     "text": [
      "distributed.core - ERROR - Exception while handling op heartbeat_worker\n",
      "Traceback (most recent call last):\n",
      "  File \"/glade/work/kristenk/miniconda/envs/analysis4/lib/python3.7/site-packages/distributed/core.py\", line 493, in handle_comm\n",
      "    result = handler(comm, **msg)\n",
      "  File \"/glade/work/kristenk/miniconda/envs/analysis4/lib/python3.7/site-packages/distributed/scheduler.py\", line 2197, in heartbeat_worker\n",
      "    self.tasks[key]: duration for key, duration in executing.items()\n",
      "  File \"/glade/work/kristenk/miniconda/envs/analysis4/lib/python3.7/site-packages/distributed/scheduler.py\", line 2197, in <dictcomp>\n",
      "    self.tasks[key]: duration for key, duration in executing.items()\n",
      "KeyError: \"('open_dataset-9008a1dcdfdec070ffc31b65f0e13a00DYU-134f54bb5d97115517389267502895b9', 0, 0)\"\n"
     ]
    },
    {
     "name": "stdout",
     "output_type": "stream",
     "text": [
      "start year= 2016 member= 29\n",
      "start year= 2016 member= 30\n",
      "start year= 2016 member= 31\n",
      "start year= 2016 member= 32\n",
      "start year= 2016 member= 33\n",
      "start year= 2016 member= 34\n",
      "start year= 2016 member= 35\n",
      "start year= 2016 member= 36\n",
      "start year= 2016 member= 37\n",
      "start year= 2016 member= 38\n"
     ]
    },
    {
     "name": "stderr",
     "output_type": "stream",
     "text": [
      "distributed.core - ERROR - Exception while handling op heartbeat_worker\n",
      "Traceback (most recent call last):\n",
      "  File \"/glade/work/kristenk/miniconda/envs/analysis4/lib/python3.7/site-packages/distributed/core.py\", line 493, in handle_comm\n",
      "    result = handler(comm, **msg)\n",
      "  File \"/glade/work/kristenk/miniconda/envs/analysis4/lib/python3.7/site-packages/distributed/scheduler.py\", line 2197, in heartbeat_worker\n",
      "    self.tasks[key]: duration for key, duration in executing.items()\n",
      "  File \"/glade/work/kristenk/miniconda/envs/analysis4/lib/python3.7/site-packages/distributed/scheduler.py\", line 2197, in <dictcomp>\n",
      "    self.tasks[key]: duration for key, duration in executing.items()\n",
      "KeyError: \"('open_dataset-dbc89270dfa975ff6fa10cf8d53e8f0dDXT-e5738eaf98b7da997890771d2f4ca217', 0, 0)\"\n"
     ]
    },
    {
     "name": "stdout",
     "output_type": "stream",
     "text": [
      "start year= 2016 member= 39\n",
      "start year= 2016 member= 40\n",
      "start year= 2017 member= 1\n",
      "start year= 2017 member= 2\n",
      "start year= 2017 member= 3\n",
      "start year= 2017 member= 4\n",
      "start year= 2017 member= 5\n",
      "start year= 2017 member= 6\n",
      "start year= 2017 member= 7\n",
      "start year= 2017 member= 8\n",
      "start year= 2017 member= 9\n",
      "start year= 2017 member= 10\n",
      "start year= 2017 member= 11\n",
      "start year= 2017 member= 12\n",
      "start year= 2017 member= 13\n",
      "start year= 2017 member= 14\n",
      "start year= 2017 member= 15\n",
      "start year= 2017 member= 16\n",
      "start year= 2017 member= 17\n",
      "start year= 2017 member= 18\n",
      "start year= 2017 member= 19\n",
      "start year= 2017 member= 20\n",
      "start year= 2017 member= 21\n",
      "start year= 2017 member= 22\n",
      "start year= 2017 member= 23\n",
      "start year= 2017 member= 24\n",
      "start year= 2017 member= 25\n",
      "start year= 2017 member= 26\n",
      "start year= 2017 member= 27\n",
      "start year= 2017 member= 28\n",
      "start year= 2017 member= 29\n",
      "start year= 2017 member= 30\n",
      "start year= 2017 member= 31\n",
      "start year= 2017 member= 32\n",
      "start year= 2017 member= 33\n",
      "start year= 2017 member= 34\n",
      "start year= 2017 member= 35\n",
      "start year= 2017 member= 36\n",
      "start year= 2017 member= 37\n",
      "start year= 2017 member= 38\n"
     ]
    },
    {
     "name": "stderr",
     "output_type": "stream",
     "text": [
      "distributed.core - ERROR - Exception while handling op heartbeat_worker\n",
      "Traceback (most recent call last):\n",
      "  File \"/glade/work/kristenk/miniconda/envs/analysis4/lib/python3.7/site-packages/distributed/core.py\", line 493, in handle_comm\n",
      "    result = handler(comm, **msg)\n",
      "  File \"/glade/work/kristenk/miniconda/envs/analysis4/lib/python3.7/site-packages/distributed/scheduler.py\", line 2197, in heartbeat_worker\n",
      "    self.tasks[key]: duration for key, duration in executing.items()\n",
      "  File \"/glade/work/kristenk/miniconda/envs/analysis4/lib/python3.7/site-packages/distributed/scheduler.py\", line 2197, in <dictcomp>\n",
      "    self.tasks[key]: duration for key, duration in executing.items()\n",
      "KeyError: \"('open_dataset-f76d7056886d1e8a2a8f67f06a7acccaDYT-69a218326ffde90f0374eadbb61ff0ca', 0, 0)\"\n",
      "distributed.core - ERROR - Exception while handling op heartbeat_worker\n",
      "Traceback (most recent call last):\n",
      "  File \"/glade/work/kristenk/miniconda/envs/analysis4/lib/python3.7/site-packages/distributed/core.py\", line 493, in handle_comm\n",
      "    result = handler(comm, **msg)\n",
      "  File \"/glade/work/kristenk/miniconda/envs/analysis4/lib/python3.7/site-packages/distributed/scheduler.py\", line 2197, in heartbeat_worker\n",
      "    self.tasks[key]: duration for key, duration in executing.items()\n",
      "  File \"/glade/work/kristenk/miniconda/envs/analysis4/lib/python3.7/site-packages/distributed/scheduler.py\", line 2197, in <dictcomp>\n",
      "    self.tasks[key]: duration for key, duration in executing.items()\n",
      "KeyError: \"('open_dataset-f76d7056886d1e8a2a8f67f06a7acccaDXU-132d49ad9eee2de686473749da204c30', 0, 0)\"\n"
     ]
    },
    {
     "name": "stdout",
     "output_type": "stream",
     "text": [
      "start year= 2017 member= 39\n",
      "start year= 2017 member= 40\n"
     ]
    }
   ],
   "source": [
    "#user set/ cycle vars\n",
    "\n",
    "for var in ['zooC']: #, 'diatC', 'zoo_loss', 'spC', 'zooC', 'TEMP']:\n",
    "    \n",
    "    for styear in np.arange(1954,2018,1):\n",
    "\n",
    "        for member in np.arange(1,41,1):\n",
    "\n",
    "            print('start year=', styear, 'member=', member)\n",
    "\n",
    "            #first get this particular file\n",
    "            ds = xr.open_dataset(\n",
    "            utils.file_in(var,styear,member), \n",
    "            decode_coords=False, \n",
    "            decode_times=True,\n",
    "            chunks={'time': 12}).persist()\n",
    "\n",
    "            #tidy up the dataset\n",
    "            coords = {'x':'TLONG','y':'TLAT'}\n",
    "            keepthese=['z_t','z_t_150m','time_bound','TAREA','REGION_MASK','time','UAREA'] + [var]\n",
    "            keep_vars = keepthese +list(coords.values())+['dz','KMT']\n",
    "            ds = ds.drop([v for v in ds.variables if v not in keep_vars])\n",
    "\n",
    "            #prepare output file -- it needs certain variables add to work with the DPLE code\n",
    "            USER = os.environ['USER']\n",
    "            dout = f'/glade/scratch/{USER}/DPLE-tmpfiles3/'\n",
    "            os.makedirs(dout, exist_ok=True)\n",
    "            file_out = utils.file_out(dout,var,styear,member)\n",
    "            dso = ds[['TLONG', 'TLAT', 'KMT', 'TAREA','time','time_bound','dz']] \n",
    "\n",
    "            #reduce depth dimension\n",
    "            if (var=='TEMP'):\n",
    "                #TEMP top 150m mean\n",
    "                dso['TEMP_150m'] = utils.field_150m_mean(ds[var]).compute()\n",
    "                dso['TEMP_150m'].attrs['coordinates'] = \"TLONG TLAT time\"\n",
    "            elif ('z_t_150m' in ds[var].dims):\n",
    "                dso[f'{var}_150m'] = utils.field_150m_zint(ds[var], ds.dz).compute()\n",
    "                dso[f'{var}_150m'].attrs['coordinates'] = \"TLONG TLAT time\"\n",
    "                dso[f'{var}_150m'] = dso[f'{var}_150m'].where(grid.REGION_MASK>0)\n",
    "            #write out the file\n",
    "            dso.to_netcdf(file_out, mode='w')"
   ]
  },
  {
   "cell_type": "code",
   "execution_count": null,
   "metadata": {},
   "outputs": [],
   "source": [
    "cluster.close()"
   ]
  },
  {
   "cell_type": "code",
   "execution_count": null,
   "metadata": {},
   "outputs": [],
   "source": []
  },
  {
   "cell_type": "code",
   "execution_count": null,
   "metadata": {},
   "outputs": [],
   "source": []
  },
  {
   "cell_type": "code",
   "execution_count": null,
   "metadata": {},
   "outputs": [],
   "source": []
  },
  {
   "cell_type": "code",
   "execution_count": null,
   "metadata": {},
   "outputs": [],
   "source": []
  },
  {
   "cell_type": "code",
   "execution_count": null,
   "metadata": {},
   "outputs": [],
   "source": []
  }
 ],
 "metadata": {
  "kernelspec": {
   "display_name": "Python [conda env:miniconda-analysis4]",
   "language": "python",
   "name": "conda-env-miniconda-analysis4-py"
  },
  "language_info": {
   "codemirror_mode": {
    "name": "ipython",
    "version": 3
   },
   "file_extension": ".py",
   "mimetype": "text/x-python",
   "name": "python",
   "nbconvert_exporter": "python",
   "pygments_lexer": "ipython3",
   "version": "3.7.9"
  }
 },
 "nbformat": 4,
 "nbformat_minor": 4
}
