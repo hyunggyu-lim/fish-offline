{
 "cells": [
  {
   "cell_type": "markdown",
   "id": "wired-courage",
   "metadata": {},
   "source": [
    "# Regrid LME mask to model grid"
   ]
  },
  {
   "cell_type": "code",
   "execution_count": 1,
   "id": "handmade-donna",
   "metadata": {},
   "outputs": [],
   "source": [
    "import os\n",
    "import numpy as np\n",
    "import xarray as xr\n",
    "import xesmf as xe\n",
    "import pop_tools"
   ]
  },
  {
   "cell_type": "markdown",
   "id": "israeli-insert",
   "metadata": {},
   "source": [
    "## Input parameters"
   ]
  },
  {
   "cell_type": "code",
   "execution_count": 2,
   "id": "iraqi-teens",
   "metadata": {},
   "outputs": [],
   "source": [
    "dst_grid = 'POP_gx1v6'\n",
    "src_file_in = 'data/esm26_lme_mask_onedeg.nc'\n",
    "varname = 'lme_mask'\n",
    "\n",
    "dst_file_out = f'data/LME-mask-{dst_grid}.nc'"
   ]
  },
  {
   "cell_type": "markdown",
   "id": "verbal-religion",
   "metadata": {},
   "source": [
    "## Read the source data"
   ]
  },
  {
   "cell_type": "code",
   "execution_count": 3,
   "id": "substantial-invention",
   "metadata": {},
   "outputs": [
    {
     "name": "stdout",
     "output_type": "stream",
     "text": [
      "xarray.Dataset {\n",
      "dimensions:\n",
      "\tx = 360 ;\n",
      "\ty = 180 ;\n",
      "\n",
      "variables:\n",
      "\tfloat64 lat(x, y) ;\n",
      "\t\tlat:long_name = mask latitude ;\n",
      "\t\tlat:standard_name = lat ;\n",
      "\t\tlat:axis = Y ;\n",
      "\tfloat64 lon(x, y) ;\n",
      "\t\tlon:long_name = mask longitude ;\n",
      "\t\tlon:standard_name = lon ;\n",
      "\t\tlon:axis = X ;\n",
      "\tfloat64 lme_mask(y, x) ;\n",
      "\t\tlme_mask:long_name = LME mask ;\n",
      "\n",
      "// global attributes:\n",
      "\t:creation_date = 14-May-2021 13:35:42 ;\n",
      "\t:_FillValue = 1e+20 ;\n",
      "}"
     ]
    }
   ],
   "source": [
    "def fix_and_prep_ds(ds):\n",
    "    \"\"\"\n",
    "    make the varnames as xesmf likes them\n",
    "    correct mask dtype to int   \n",
    "    \"\"\"\n",
    "    from netCDF4 import default_fillvals\n",
    "    \n",
    "    # rename vars\n",
    "    ds = ds.rename({'Lat': 'lat', 'Lon': 'lon'}).set_coords(['lat', 'lon'])    \n",
    "\n",
    "    #return ds\n",
    "    # change type\n",
    "    fv = default_fillvals['i4']\n",
    "    data = ds[varname].fillna(fv)    \n",
    "    \n",
    "    encoding = ds[varname].encoding\n",
    "    encoding['_FillValue'] = fv\n",
    "    encoding['dtype'] = np.int32\n",
    "    ds[varname].data = data.astype(np.int32)\n",
    "    \n",
    "    ds[varname] = ds[varname].where(ds[varname] != fv)\n",
    "    ds[varname] = ds[varname].transpose('y', 'x')\n",
    "    \n",
    "    ds[varname].encoding = encoding\n",
    "    return ds\n",
    "\n",
    "src_data = xr.open_dataset(src_file_in)\n",
    "src_data = fix_and_prep_ds(src_data)\n",
    "\n",
    "src_data.info()"
   ]
  },
  {
   "cell_type": "markdown",
   "id": "rising-canon",
   "metadata": {},
   "source": [
    "### Make a quick plot\n"
   ]
  },
  {
   "cell_type": "code",
   "execution_count": 4,
   "id": "handy-coffee",
   "metadata": {},
   "outputs": [
    {
     "data": {
      "text/plain": [
       "<matplotlib.collections.QuadMesh at 0x2b54f4c03590>"
      ]
     },
     "execution_count": 4,
     "metadata": {},
     "output_type": "execute_result"
    },
    {
     "data": {
      "image/png": "[encoded data removed]",
      "text/plain": [
       "<Figure size 432x288 with 2 Axes>"
      ]
     },
     "metadata": {
      "needs_background": "light"
     },
     "output_type": "display_data"
    }
   ],
   "source": [
    "src_data[varname].plot()"
   ]
  },
  {
   "cell_type": "markdown",
   "id": "solar-layer",
   "metadata": {},
   "source": [
    "## Read the destination grid"
   ]
  },
  {
   "cell_type": "code",
   "execution_count": 5,
   "id": "naked-notification",
   "metadata": {},
   "outputs": [
    {
     "name": "stderr",
     "output_type": "stream",
     "text": [
      "/glade/work/mclong/miniconda3/envs/fish-offline/lib/python3.7/site-packages/numba/np/ufunc/parallel.py:365: NumbaWarning: The TBB threading layer requires TBB version 2019.5 or later i.e., TBB_INTERFACE_VERSION >= 11005. Found TBB_INTERFACE_VERSION = 6103. The TBB threading layer is disabled.\n",
      "  warnings.warn(problem)\n"
     ]
    },
    {
     "name": "stdout",
     "output_type": "stream",
     "text": [
      "xarray.Dataset {\n",
      "dimensions:\n",
      "\tnlat = 384 ;\n",
      "\tnlon = 320 ;\n",
      "\n",
      "variables:\n",
      "\tfloat64 lat(nlat, nlon) ;\n",
      "\t\tlat:units = degrees_north ;\n",
      "\t\tlat:long_name = T-grid latitude ;\n",
      "\tfloat64 lon(nlat, nlon) ;\n",
      "\t\tlon:units = degrees_east ;\n",
      "\t\tlon:long_name = T-grid longitude ;\n",
      "\tint32 KMT(nlat, nlon) ;\n",
      "\t\tKMT:long_name = k Index of Deepest Grid Cell on T Grid ;\n",
      "\t\tKMT:coordinates = TLONG TLAT ;\n",
      "\tfloat64 TAREA(nlat, nlon) ;\n",
      "\t\tTAREA:units = cm^2 ;\n",
      "\t\tTAREA:long_name = area of T cells ;\n",
      "\t\tTAREA:coordinates = TLONG TLAT ;\n",
      "\n",
      "// global attributes:\n",
      "\t:lateral_dims = [384, 320] ;\n",
      "\t:vertical_dims = 60 ;\n",
      "\t:vert_grid_file = gx1v7_vert_grid ;\n",
      "\t:horiz_grid_fname = inputdata/ocn/pop/gx1v6/grid/horiz_grid_20010402.ieeer8 ;\n",
      "\t:topography_fname = inputdata/ocn/pop/gx1v6/grid/topography_20090204.ieeei4 ;\n",
      "\t:region_mask_fname = inputdata/ocn/pop/gx1v6/grid/region_mask_20090205.ieeei4 ;\n",
      "\t:type = dipole ;\n",
      "\t:title = POP_gx1v6 grid ;\n",
      "}"
     ]
    }
   ],
   "source": [
    "dst_data = pop_tools.get_grid(dst_grid)[['TLAT', 'TLONG', 'KMT', 'TAREA']]\n",
    "dst_data = dst_data.rename({'TLAT': 'lat', 'TLONG': 'lon'})\n",
    "\n",
    "dst_data.info()"
   ]
  },
  {
   "cell_type": "markdown",
   "id": "opening-remedy",
   "metadata": {},
   "source": [
    "## Perform regridding"
   ]
  },
  {
   "cell_type": "code",
   "execution_count": 6,
   "id": "resident-victim",
   "metadata": {},
   "outputs": [
    {
     "name": "stdout",
     "output_type": "stream",
     "text": [
      "xarray.Dataset {\n",
      "dimensions:\n",
      "\tnlat = 384 ;\n",
      "\tnlon = 320 ;\n",
      "\n",
      "variables:\n",
      "\tfloat64 lme_mask(nlat, nlon) ;\n",
      "\t\tlme_mask:long_name = LME mask ;\n",
      "\tfloat64 TLONG(nlat, nlon) ;\n",
      "\t\tTLONG:units = degrees_east ;\n",
      "\t\tTLONG:long_name = T-grid longitude ;\n",
      "\tfloat64 TLAT(nlat, nlon) ;\n",
      "\t\tTLAT:units = degrees_north ;\n",
      "\t\tTLAT:long_name = T-grid latitude ;\n",
      "\tint32 KMT(nlat, nlon) ;\n",
      "\t\tKMT:long_name = k Index of Deepest Grid Cell on T Grid ;\n",
      "\t\tKMT:coordinates = TLONG TLAT ;\n",
      "\tfloat64 TAREA(nlat, nlon) ;\n",
      "\t\tTAREA:units = cm^2 ;\n",
      "\t\tTAREA:long_name = area of T cells ;\n",
      "\t\tTAREA:coordinates = TLONG TLAT ;\n",
      "\n",
      "// global attributes:\n",
      "\t:regrid_method = nearest_s2d ;\n",
      "}"
     ]
    },
    {
     "name": "stderr",
     "output_type": "stream",
     "text": [
      "/glade/work/mclong/miniconda3/envs/fish-offline/lib/python3.7/site-packages/xesmf/frontend.py:508: FutureWarning: ``output_sizes`` should be given in the ``dask_gufunc_kwargs`` parameter. It will be removed as direct parameter in a future version.\n",
      "  keep_attrs=keep_attrs,\n"
     ]
    }
   ],
   "source": [
    "regridder = xe.Regridder(src_data, dst_data, 'nearest_s2d')\n",
    "ds_out = regridder(src_data).rename({'lat': 'TLAT', 'lon': 'TLONG'})\n",
    "ds_out[varname].attrs = src_data[varname].attrs\n",
    "ds_out[varname].encoding = src_data[varname].encoding\n",
    "for v in ['KMT', 'TAREA']:\n",
    "    ds_out[v] = dst_data[v]\n",
    "ds_out.info()"
   ]
  },
  {
   "cell_type": "markdown",
   "id": "divided-ministry",
   "metadata": {},
   "source": [
    "### Check output plot"
   ]
  },
  {
   "cell_type": "code",
   "execution_count": 7,
   "id": "mental-portable",
   "metadata": {},
   "outputs": [
    {
     "data": {
      "text/plain": [
       "<matplotlib.collections.QuadMesh at 0x2b54fd3fd850>"
      ]
     },
     "execution_count": 7,
     "metadata": {},
     "output_type": "execute_result"
    },
    {
     "data": {
      "image/png": "[encoded data removed]",
      "text/plain": [
       "<Figure size 432x288 with 2 Axes>"
      ]
     },
     "metadata": {
      "needs_background": "light"
     },
     "output_type": "display_data"
    }
   ],
   "source": [
    "ds_out[varname].plot()"
   ]
  },
  {
   "cell_type": "markdown",
   "id": "qualified-worry",
   "metadata": {},
   "source": [
    "## Write output file"
   ]
  },
  {
   "cell_type": "code",
   "execution_count": 8,
   "id": "correct-tuesday",
   "metadata": {},
   "outputs": [
    {
     "name": "stdout",
     "output_type": "stream",
     "text": [
      "netcdf LME-mask-POP_gx1v6 {\n",
      "dimensions:\n",
      "\tnlat = 384 ;\n",
      "\tnlon = 320 ;\n",
      "variables:\n",
      "\tint lme_mask(nlat, nlon) ;\n",
      "\t\tlme_mask:_FillValue = -2147483647 ;\n",
      "\t\tlme_mask:long_name = \"LME mask\" ;\n",
      "\t\tlme_mask:coordinates = \"TLAT TLONG\" ;\n",
      "\tdouble TLONG(nlat, nlon) ;\n",
      "\t\tTLONG:_FillValue = NaN ;\n",
      "\t\tTLONG:units = \"degrees_east\" ;\n",
      "\t\tTLONG:long_name = \"T-grid longitude\" ;\n",
      "\tdouble TLAT(nlat, nlon) ;\n",
      "\t\tTLAT:_FillValue = NaN ;\n",
      "\t\tTLAT:units = \"degrees_north\" ;\n",
      "\t\tTLAT:long_name = \"T-grid latitude\" ;\n",
      "\tint KMT(nlat, nlon) ;\n",
      "\t\tKMT:long_name = \"k Index of Deepest Grid Cell on T Grid\" ;\n",
      "\t\tKMT:coordinates = \"TLAT TLONG\" ;\n",
      "\tdouble TAREA(nlat, nlon) ;\n",
      "\t\tTAREA:_FillValue = NaN ;\n",
      "\t\tTAREA:units = \"cm^2\" ;\n",
      "\t\tTAREA:long_name = \"area of T cells\" ;\n",
      "\t\tTAREA:coordinates = \"TLAT TLONG\" ;\n",
      "\n",
      "// global attributes:\n",
      "\t\t:regrid_method = \"nearest_s2d\" ;\n",
      "}\n"
     ]
    }
   ],
   "source": [
    "ds_out.to_netcdf(dst_file_out)\n",
    "\n",
    "# use ncdump via os to ensure all looks good\n",
    "os.environ['dst_file_out'] = dst_file_out\n",
    "!ncdump -h $dst_file_out"
   ]
  },
  {
   "cell_type": "markdown",
   "id": "attempted-smile",
   "metadata": {},
   "source": [
    "### Confirm that data can be read in correctly by `xarray`"
   ]
  },
  {
   "cell_type": "code",
   "execution_count": 9,
   "id": "downtown-routine",
   "metadata": {},
   "outputs": [
    {
     "data": {
      "image/png": "[encoded data removed]",
      "text/plain": [
       "<Figure size 432x288 with 2 Axes>"
      ]
     },
     "metadata": {
      "needs_background": "light"
     },
     "output_type": "display_data"
    }
   ],
   "source": [
    "with xr.open_dataset(dst_file_out) as ds:\n",
    "    ds[varname].plot()"
   ]
  },
  {
   "cell_type": "code",
   "execution_count": null,
   "id": "interested-accent",
   "metadata": {},
   "outputs": [],
   "source": []
  }
 ],
 "metadata": {
  "kernelspec": {
   "display_name": "Python [conda env:miniconda3-fish-offline]",
   "language": "python",
   "name": "conda-env-miniconda3-fish-offline-py"
  },
  "language_info": {
   "codemirror_mode": {
    "name": "ipython",
    "version": 3
   },
   "file_extension": ".py",
   "mimetype": "text/x-python",
   "name": "python",
   "nbconvert_exporter": "python",
   "pygments_lexer": "ipython3",
   "version": "3.7.10"
  }
 },
 "nbformat": 4,
 "nbformat_minor": 5
}
