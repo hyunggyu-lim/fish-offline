{
 "cells": [
  {
   "cell_type": "markdown",
   "metadata": {},
   "source": [
    "# Prep CESM-DPLE experiment data for use in DPLE processing notebook\n",
    "### • eliminates depth dimension"
   ]
  },
  {
   "cell_type": "code",
   "execution_count": 1,
   "metadata": {},
   "outputs": [],
   "source": [
    "import os\n",
    "from glob import glob\n",
    "\n",
    "import matplotlib.colors as colors\n",
    "\n",
    "import numpy as np\n",
    "import xarray as xr\n",
    "import pop_tools\n",
    "import utils\n",
    "\n",
    "import warnings\n",
    "warnings.filterwarnings('ignore')"
   ]
  },
  {
   "cell_type": "markdown",
   "metadata": {},
   "source": [
    "## Spin up a dask cluster"
   ]
  },
  {
   "cell_type": "code",
   "execution_count": 2,
   "metadata": {},
   "outputs": [],
   "source": [
    "def get_ClusterClient():\n",
    "    import dask\n",
    "    from dask_jobqueue import PBSCluster\n",
    "    from dask.distributed import Client\n",
    "    cluster = PBSCluster(\n",
    "        cores=1,\n",
    "        memory='50GB',\n",
    "        processes=1,\n",
    "        queue='casper',\n",
    "        resource_spec='select=1:ncpus=1:mem=50GB',\n",
    "        project='NCGD0011',\n",
    "        walltime='08:00:00',\n",
    "        interface='ib0',)\n",
    "\n",
    "    dask.config.set({\n",
    "        'distributed.dashboard.link':\n",
    "        'https://jupyterhub.hpc.ucar.edu/stable/user/{USER}/proxy/{port}/status'\n",
    "    })\n",
    "    client = Client(cluster)\n",
    "    return cluster, client"
   ]
  },
  {
   "cell_type": "code",
   "execution_count": 3,
   "metadata": {},
   "outputs": [],
   "source": [
    "cluster, client = get_ClusterClient()\n",
    "cluster.scale(12) "
   ]
  },
  {
   "cell_type": "code",
   "execution_count": 4,
   "metadata": {},
   "outputs": [
    {
     "data": {
      "text/html": [
       "<table style=\"border: 2px solid white;\">\n",
       "<tr>\n",
       "<td style=\"vertical-align: top; border: 0px solid white\">\n",
       "<h3 style=\"text-align: left;\">Client</h3>\n",
       "<ul style=\"text-align: left; list-style: none; margin: 0; padding: 0;\">\n",
       "  <li><b>Scheduler: </b>tcp://10.12.206.63:45134</li>\n",
       "  <li><b>Dashboard: </b><a href='https://jupyterhub.hpc.ucar.edu/stable/user/kristenk/proxy/41751/status' target='_blank'>https://jupyterhub.hpc.ucar.edu/stable/user/kristenk/proxy/41751/status</a></li>\n",
       "</ul>\n",
       "</td>\n",
       "<td style=\"vertical-align: top; border: 0px solid white\">\n",
       "<h3 style=\"text-align: left;\">Cluster</h3>\n",
       "<ul style=\"text-align: left; list-style:none; margin: 0; padding: 0;\">\n",
       "  <li><b>Workers: </b>0</li>\n",
       "  <li><b>Cores: </b>0</li>\n",
       "  <li><b>Memory: </b>0 B</li>\n",
       "</ul>\n",
       "</td>\n",
       "</tr>\n",
       "</table>"
      ],
      "text/plain": [
       "<Client: 'tcp://10.12.206.63:45134' processes=0 threads=0, memory=0 B>"
      ]
     },
     "execution_count": 4,
     "metadata": {},
     "output_type": "execute_result"
    }
   ],
   "source": [
    "client"
   ]
  },
  {
   "cell_type": "code",
   "execution_count": null,
   "metadata": {},
   "outputs": [],
   "source": []
  },
  {
   "cell_type": "code",
   "execution_count": 5,
   "metadata": {},
   "outputs": [],
   "source": [
    "grid = pop_tools.get_grid('POP_gx1v6')\n",
    "KMT = grid.KMT"
   ]
  },
  {
   "cell_type": "code",
   "execution_count": 6,
   "metadata": {},
   "outputs": [],
   "source": [
    "def field_at_bottom(da):\n",
    "    \"\"\"return a field indexed at the model's bottom layer\"\"\"\n",
    "\n",
    "    tmp_bot = xr.DataArray(np.ones(da[:, 0, :, :].shape) * np.nan, \n",
    "                           dims=tuple(da.dims[i] for i in [0, 2, 3]),\n",
    "                           coords={c: da.coords[c] for c in ['time']},\n",
    "                          )\n",
    "\n",
    "    assert KMT.shape == da.shape[-2:]\n",
    "    \n",
    "    for j in range(len(da.nlat)):\n",
    "        for i in range(len(da.nlon)):\n",
    "            if KMT[j, i] > 0:\n",
    "                k = int(KMT[j, i] - 1)\n",
    "                tmp_bot.values[:, j, i] = da[:, k, j, i]\n",
    "                \n",
    "    return tmp_bot"
   ]
  },
  {
   "cell_type": "markdown",
   "metadata": {},
   "source": [
    "## cycle through start years (1954 - 2017; n=64) and ensemble members (n=40) and do preprocessing"
   ]
  },
  {
   "cell_type": "code",
   "execution_count": 7,
   "metadata": {},
   "outputs": [
    {
     "name": "stdout",
     "output_type": "stream",
     "text": [
      "start year= 2014 member= 1\n",
      "start year= 2014 member= 2\n",
      "start year= 2014 member= 3\n",
      "start year= 2014 member= 4\n",
      "start year= 2014 member= 5\n",
      "start year= 2014 member= 6\n",
      "start year= 2014 member= 7\n",
      "start year= 2014 member= 8\n",
      "start year= 2014 member= 9\n",
      "start year= 2014 member= 10\n",
      "start year= 2014 member= 11\n",
      "start year= 2014 member= 12\n",
      "start year= 2014 member= 13\n",
      "start year= 2014 member= 14\n",
      "start year= 2014 member= 15\n",
      "start year= 2014 member= 16\n",
      "start year= 2014 member= 17\n",
      "start year= 2014 member= 18\n",
      "start year= 2014 member= 19\n",
      "start year= 2014 member= 20\n",
      "start year= 2014 member= 21\n",
      "start year= 2014 member= 22\n",
      "start year= 2014 member= 23\n",
      "start year= 2014 member= 24\n",
      "start year= 2014 member= 25\n",
      "start year= 2014 member= 26\n",
      "start year= 2014 member= 27\n",
      "start year= 2014 member= 28\n",
      "start year= 2014 member= 29\n",
      "start year= 2014 member= 30\n",
      "start year= 2014 member= 31\n",
      "start year= 2014 member= 32\n",
      "start year= 2014 member= 33\n",
      "start year= 2014 member= 34\n",
      "start year= 2014 member= 35\n",
      "start year= 2014 member= 36\n",
      "start year= 2014 member= 37\n",
      "start year= 2014 member= 38\n",
      "start year= 2014 member= 39\n",
      "start year= 2014 member= 40\n",
      "start year= 2015 member= 1\n",
      "start year= 2015 member= 2\n",
      "start year= 2015 member= 3\n",
      "start year= 2015 member= 4\n",
      "start year= 2015 member= 5\n",
      "start year= 2015 member= 6\n",
      "start year= 2015 member= 7\n",
      "start year= 2015 member= 8\n",
      "start year= 2015 member= 9\n"
     ]
    },
    {
     "name": "stderr",
     "output_type": "stream",
     "text": [
      "distributed.core - ERROR - Exception while handling op heartbeat_worker\n",
      "Traceback (most recent call last):\n",
      "  File \"/glade/work/kristenk/miniconda/envs/analysis4/lib/python3.7/site-packages/distributed/core.py\", line 493, in handle_comm\n",
      "    result = handler(comm, **msg)\n",
      "  File \"/glade/work/kristenk/miniconda/envs/analysis4/lib/python3.7/site-packages/distributed/scheduler.py\", line 2197, in heartbeat_worker\n",
      "    self.tasks[key]: duration for key, duration in executing.items()\n",
      "  File \"/glade/work/kristenk/miniconda/envs/analysis4/lib/python3.7/site-packages/distributed/scheduler.py\", line 2197, in <dictcomp>\n",
      "    self.tasks[key]: duration for key, duration in executing.items()\n",
      "KeyError: \"('open_dataset-5c98b2bc21c6cbeeef1a1a37d314def8DYT-ea2f854605a3ca946e4bf8609cb84b4a', 0, 0)\"\n",
      "distributed.core - ERROR - Exception while handling op heartbeat_worker\n",
      "Traceback (most recent call last):\n",
      "  File \"/glade/work/kristenk/miniconda/envs/analysis4/lib/python3.7/site-packages/distributed/core.py\", line 493, in handle_comm\n",
      "    result = handler(comm, **msg)\n",
      "  File \"/glade/work/kristenk/miniconda/envs/analysis4/lib/python3.7/site-packages/distributed/scheduler.py\", line 2197, in heartbeat_worker\n",
      "    self.tasks[key]: duration for key, duration in executing.items()\n",
      "  File \"/glade/work/kristenk/miniconda/envs/analysis4/lib/python3.7/site-packages/distributed/scheduler.py\", line 2197, in <dictcomp>\n",
      "    self.tasks[key]: duration for key, duration in executing.items()\n",
      "KeyError: \"('open_dataset-5c98b2bc21c6cbeeef1a1a37d314def8DYU-9a7937883a37c1ccc0987c086d26b0d1', 0, 0)\"\n",
      "distributed.core - ERROR - Exception while handling op heartbeat_worker\n",
      "Traceback (most recent call last):\n",
      "  File \"/glade/work/kristenk/miniconda/envs/analysis4/lib/python3.7/site-packages/distributed/core.py\", line 493, in handle_comm\n",
      "    result = handler(comm, **msg)\n",
      "  File \"/glade/work/kristenk/miniconda/envs/analysis4/lib/python3.7/site-packages/distributed/scheduler.py\", line 2197, in heartbeat_worker\n",
      "    self.tasks[key]: duration for key, duration in executing.items()\n",
      "  File \"/glade/work/kristenk/miniconda/envs/analysis4/lib/python3.7/site-packages/distributed/scheduler.py\", line 2197, in <dictcomp>\n",
      "    self.tasks[key]: duration for key, duration in executing.items()\n",
      "KeyError: \"('open_dataset-5c98b2bc21c6cbeeef1a1a37d314def8HT-92606f52864dbcb680fe0e1eb2d1f5a2', 0, 0)\"\n"
     ]
    },
    {
     "name": "stdout",
     "output_type": "stream",
     "text": [
      "start year= 2015 member= 10\n",
      "start year= 2015 member= 11\n",
      "start year= 2015 member= 12\n",
      "start year= 2015 member= 13\n",
      "start year= 2015 member= 14\n",
      "start year= 2015 member= 15\n",
      "start year= 2015 member= 16\n",
      "start year= 2015 member= 17\n",
      "start year= 2015 member= 18\n",
      "start year= 2015 member= 19\n",
      "start year= 2015 member= 20\n",
      "start year= 2015 member= 21\n",
      "start year= 2015 member= 22\n",
      "start year= 2015 member= 23\n",
      "start year= 2015 member= 24\n",
      "start year= 2015 member= 25\n",
      "start year= 2015 member= 26\n",
      "start year= 2015 member= 27\n",
      "start year= 2015 member= 28\n",
      "start year= 2015 member= 29\n",
      "start year= 2015 member= 30\n",
      "start year= 2015 member= 31\n",
      "start year= 2015 member= 32\n",
      "start year= 2015 member= 33\n",
      "start year= 2015 member= 34\n",
      "start year= 2015 member= 35\n",
      "start year= 2015 member= 36\n",
      "start year= 2015 member= 37\n",
      "start year= 2015 member= 38\n",
      "start year= 2015 member= 39\n",
      "start year= 2015 member= 40\n",
      "start year= 2016 member= 1\n",
      "start year= 2016 member= 2\n"
     ]
    },
    {
     "name": "stderr",
     "output_type": "stream",
     "text": [
      "distributed.core - ERROR - Exception while handling op heartbeat_worker\n",
      "Traceback (most recent call last):\n",
      "  File \"/glade/work/kristenk/miniconda/envs/analysis4/lib/python3.7/site-packages/distributed/core.py\", line 493, in handle_comm\n",
      "    result = handler(comm, **msg)\n",
      "  File \"/glade/work/kristenk/miniconda/envs/analysis4/lib/python3.7/site-packages/distributed/scheduler.py\", line 2197, in heartbeat_worker\n",
      "    self.tasks[key]: duration for key, duration in executing.items()\n",
      "  File \"/glade/work/kristenk/miniconda/envs/analysis4/lib/python3.7/site-packages/distributed/scheduler.py\", line 2197, in <dictcomp>\n",
      "    self.tasks[key]: duration for key, duration in executing.items()\n",
      "KeyError: \"('open_dataset-f545cf06f7c06ec7e25c76d9171884beDXU-f47ddf16416a246363230454f36bb16e', 0, 0)\"\n",
      "distributed.core - ERROR - Exception while handling op heartbeat_worker\n",
      "Traceback (most recent call last):\n",
      "  File \"/glade/work/kristenk/miniconda/envs/analysis4/lib/python3.7/site-packages/distributed/core.py\", line 493, in handle_comm\n",
      "    result = handler(comm, **msg)\n",
      "  File \"/glade/work/kristenk/miniconda/envs/analysis4/lib/python3.7/site-packages/distributed/scheduler.py\", line 2197, in heartbeat_worker\n",
      "    self.tasks[key]: duration for key, duration in executing.items()\n",
      "  File \"/glade/work/kristenk/miniconda/envs/analysis4/lib/python3.7/site-packages/distributed/scheduler.py\", line 2197, in <dictcomp>\n",
      "    self.tasks[key]: duration for key, duration in executing.items()\n",
      "KeyError: \"('open_dataset-f545cf06f7c06ec7e25c76d9171884beANGLE-5be97aa6a343880adc1a86f276ce3979', 0, 0)\"\n",
      "distributed.core - ERROR - Exception while handling op heartbeat_worker\n",
      "Traceback (most recent call last):\n",
      "  File \"/glade/work/kristenk/miniconda/envs/analysis4/lib/python3.7/site-packages/distributed/core.py\", line 493, in handle_comm\n",
      "    result = handler(comm, **msg)\n",
      "  File \"/glade/work/kristenk/miniconda/envs/analysis4/lib/python3.7/site-packages/distributed/scheduler.py\", line 2197, in heartbeat_worker\n",
      "    self.tasks[key]: duration for key, duration in executing.items()\n",
      "  File \"/glade/work/kristenk/miniconda/envs/analysis4/lib/python3.7/site-packages/distributed/scheduler.py\", line 2197, in <dictcomp>\n",
      "    self.tasks[key]: duration for key, duration in executing.items()\n",
      "KeyError: \"('open_dataset-f545cf06f7c06ec7e25c76d9171884beANGLET-c973bed20060256bcf2f7c02bc2e1102', 0, 0)\"\n",
      "distributed.core - ERROR - Exception while handling op heartbeat_worker\n",
      "Traceback (most recent call last):\n",
      "  File \"/glade/work/kristenk/miniconda/envs/analysis4/lib/python3.7/site-packages/distributed/core.py\", line 493, in handle_comm\n",
      "    result = handler(comm, **msg)\n",
      "  File \"/glade/work/kristenk/miniconda/envs/analysis4/lib/python3.7/site-packages/distributed/scheduler.py\", line 2197, in heartbeat_worker\n",
      "    self.tasks[key]: duration for key, duration in executing.items()\n",
      "  File \"/glade/work/kristenk/miniconda/envs/analysis4/lib/python3.7/site-packages/distributed/scheduler.py\", line 2197, in <dictcomp>\n",
      "    self.tasks[key]: duration for key, duration in executing.items()\n",
      "KeyError: \"('open_dataset-f545cf06f7c06ec7e25c76d9171884beDXT-28546cb6bd5ae38046d8fdbec6524241', 0, 0)\"\n"
     ]
    },
    {
     "name": "stdout",
     "output_type": "stream",
     "text": [
      "start year= 2016 member= 3\n",
      "start year= 2016 member= 4\n",
      "start year= 2016 member= 5\n",
      "start year= 2016 member= 6\n",
      "start year= 2016 member= 7\n",
      "start year= 2016 member= 8\n",
      "start year= 2016 member= 9\n",
      "start year= 2016 member= 10\n",
      "start year= 2016 member= 11\n",
      "start year= 2016 member= 12\n",
      "start year= 2016 member= 13\n",
      "start year= 2016 member= 14\n",
      "start year= 2016 member= 15\n",
      "start year= 2016 member= 16\n",
      "start year= 2016 member= 17\n"
     ]
    },
    {
     "name": "stderr",
     "output_type": "stream",
     "text": [
      "distributed.core - ERROR - Exception while handling op heartbeat_worker\n",
      "Traceback (most recent call last):\n",
      "  File \"/glade/work/kristenk/miniconda/envs/analysis4/lib/python3.7/site-packages/distributed/core.py\", line 493, in handle_comm\n",
      "    result = handler(comm, **msg)\n",
      "  File \"/glade/work/kristenk/miniconda/envs/analysis4/lib/python3.7/site-packages/distributed/scheduler.py\", line 2197, in heartbeat_worker\n",
      "    self.tasks[key]: duration for key, duration in executing.items()\n",
      "  File \"/glade/work/kristenk/miniconda/envs/analysis4/lib/python3.7/site-packages/distributed/scheduler.py\", line 2197, in <dictcomp>\n",
      "    self.tasks[key]: duration for key, duration in executing.items()\n",
      "KeyError: \"('open_dataset-cdbd57b89373b7c63b1c75f5bb38327bHTE-84c9f65e77555e263bcf546fd17431cf', 0, 0)\"\n",
      "distributed.core - ERROR - Exception while handling op heartbeat_worker\n",
      "Traceback (most recent call last):\n",
      "  File \"/glade/work/kristenk/miniconda/envs/analysis4/lib/python3.7/site-packages/distributed/core.py\", line 493, in handle_comm\n",
      "    result = handler(comm, **msg)\n",
      "  File \"/glade/work/kristenk/miniconda/envs/analysis4/lib/python3.7/site-packages/distributed/scheduler.py\", line 2197, in heartbeat_worker\n",
      "    self.tasks[key]: duration for key, duration in executing.items()\n",
      "  File \"/glade/work/kristenk/miniconda/envs/analysis4/lib/python3.7/site-packages/distributed/scheduler.py\", line 2197, in <dictcomp>\n",
      "    self.tasks[key]: duration for key, duration in executing.items()\n",
      "KeyError: \"('open_dataset-cdbd57b89373b7c63b1c75f5bb38327bHTN-d976b7b29a25947da20d944e1b2f9940', 0, 0)\"\n",
      "distributed.core - ERROR - Exception while handling op heartbeat_worker\n",
      "Traceback (most recent call last):\n",
      "  File \"/glade/work/kristenk/miniconda/envs/analysis4/lib/python3.7/site-packages/distributed/core.py\", line 493, in handle_comm\n",
      "    result = handler(comm, **msg)\n",
      "  File \"/glade/work/kristenk/miniconda/envs/analysis4/lib/python3.7/site-packages/distributed/scheduler.py\", line 2197, in heartbeat_worker\n",
      "    self.tasks[key]: duration for key, duration in executing.items()\n",
      "  File \"/glade/work/kristenk/miniconda/envs/analysis4/lib/python3.7/site-packages/distributed/scheduler.py\", line 2197, in <dictcomp>\n",
      "    self.tasks[key]: duration for key, duration in executing.items()\n",
      "KeyError: \"('open_dataset-cdbd57b89373b7c63b1c75f5bb38327bHUS-4ffef4b5e85044929ef87ec87e8285f6', 0, 0)\"\n",
      "distributed.core - ERROR - Exception while handling op heartbeat_worker\n",
      "Traceback (most recent call last):\n",
      "  File \"/glade/work/kristenk/miniconda/envs/analysis4/lib/python3.7/site-packages/distributed/core.py\", line 493, in handle_comm\n",
      "    result = handler(comm, **msg)\n",
      "  File \"/glade/work/kristenk/miniconda/envs/analysis4/lib/python3.7/site-packages/distributed/scheduler.py\", line 2197, in heartbeat_worker\n",
      "    self.tasks[key]: duration for key, duration in executing.items()\n",
      "  File \"/glade/work/kristenk/miniconda/envs/analysis4/lib/python3.7/site-packages/distributed/scheduler.py\", line 2197, in <dictcomp>\n",
      "    self.tasks[key]: duration for key, duration in executing.items()\n",
      "KeyError: \"('open_dataset-cdbd57b89373b7c63b1c75f5bb38327bHU-cc557c4d1b7301b26a70f1c30991b54f', 0, 0)\"\n"
     ]
    },
    {
     "name": "stdout",
     "output_type": "stream",
     "text": [
      "start year= 2016 member= 18\n",
      "start year= 2016 member= 19\n",
      "start year= 2016 member= 20\n",
      "start year= 2016 member= 21\n",
      "start year= 2016 member= 22\n",
      "start year= 2016 member= 23\n",
      "start year= 2016 member= 24\n",
      "start year= 2016 member= 25\n",
      "start year= 2016 member= 26\n",
      "start year= 2016 member= 27\n",
      "start year= 2016 member= 28\n",
      "start year= 2016 member= 29\n",
      "start year= 2016 member= 30\n",
      "start year= 2016 member= 31\n",
      "start year= 2016 member= 32\n"
     ]
    },
    {
     "name": "stderr",
     "output_type": "stream",
     "text": [
      "distributed.core - ERROR - Exception while handling op heartbeat_worker\n",
      "Traceback (most recent call last):\n",
      "  File \"/glade/work/kristenk/miniconda/envs/analysis4/lib/python3.7/site-packages/distributed/core.py\", line 493, in handle_comm\n",
      "    result = handler(comm, **msg)\n",
      "  File \"/glade/work/kristenk/miniconda/envs/analysis4/lib/python3.7/site-packages/distributed/scheduler.py\", line 2197, in heartbeat_worker\n",
      "    self.tasks[key]: duration for key, duration in executing.items()\n",
      "  File \"/glade/work/kristenk/miniconda/envs/analysis4/lib/python3.7/site-packages/distributed/scheduler.py\", line 2197, in <dictcomp>\n",
      "    self.tasks[key]: duration for key, duration in executing.items()\n",
      "KeyError: \"('open_dataset-d6fbb603ab9b51126471109eb05a9791HT-d40a1867887c5806c3b9292c76e7e81e', 0, 0)\"\n"
     ]
    },
    {
     "name": "stdout",
     "output_type": "stream",
     "text": [
      "start year= 2016 member= 33\n",
      "start year= 2016 member= 34\n",
      "start year= 2016 member= 35\n",
      "start year= 2016 member= 36\n",
      "start year= 2016 member= 37\n",
      "start year= 2016 member= 38\n",
      "start year= 2016 member= 39\n",
      "start year= 2016 member= 40\n",
      "start year= 2017 member= 1\n",
      "start year= 2017 member= 2\n",
      "start year= 2017 member= 3\n",
      "start year= 2017 member= 4\n",
      "start year= 2017 member= 5\n"
     ]
    },
    {
     "name": "stderr",
     "output_type": "stream",
     "text": [
      "distributed.core - ERROR - Exception while handling op heartbeat_worker\n",
      "Traceback (most recent call last):\n",
      "  File \"/glade/work/kristenk/miniconda/envs/analysis4/lib/python3.7/site-packages/distributed/core.py\", line 493, in handle_comm\n",
      "    result = handler(comm, **msg)\n",
      "  File \"/glade/work/kristenk/miniconda/envs/analysis4/lib/python3.7/site-packages/distributed/scheduler.py\", line 2197, in heartbeat_worker\n",
      "    self.tasks[key]: duration for key, duration in executing.items()\n",
      "  File \"/glade/work/kristenk/miniconda/envs/analysis4/lib/python3.7/site-packages/distributed/scheduler.py\", line 2197, in <dictcomp>\n",
      "    self.tasks[key]: duration for key, duration in executing.items()\n",
      "KeyError: \"('open_dataset-15b3fcfbf8b116e874e6e4a039d04854HTN-649ff242d9370084d721fdba69b41802', 0, 0)\"\n",
      "distributed.core - ERROR - Exception while handling op heartbeat_worker\n",
      "Traceback (most recent call last):\n",
      "  File \"/glade/work/kristenk/miniconda/envs/analysis4/lib/python3.7/site-packages/distributed/core.py\", line 493, in handle_comm\n",
      "    result = handler(comm, **msg)\n",
      "  File \"/glade/work/kristenk/miniconda/envs/analysis4/lib/python3.7/site-packages/distributed/scheduler.py\", line 2197, in heartbeat_worker\n",
      "    self.tasks[key]: duration for key, duration in executing.items()\n",
      "  File \"/glade/work/kristenk/miniconda/envs/analysis4/lib/python3.7/site-packages/distributed/scheduler.py\", line 2197, in <dictcomp>\n",
      "    self.tasks[key]: duration for key, duration in executing.items()\n",
      "KeyError: \"('open_dataset-15b3fcfbf8b116e874e6e4a039d04854HTE-9a4605a4d5ba35a77f2563371b96744b', 0, 0)\"\n"
     ]
    },
    {
     "name": "stdout",
     "output_type": "stream",
     "text": [
      "start year= 2017 member= 6\n"
     ]
    },
    {
     "name": "stderr",
     "output_type": "stream",
     "text": [
      "distributed.core - ERROR - Exception while handling op heartbeat_worker\n",
      "Traceback (most recent call last):\n",
      "  File \"/glade/work/kristenk/miniconda/envs/analysis4/lib/python3.7/site-packages/distributed/core.py\", line 493, in handle_comm\n",
      "    result = handler(comm, **msg)\n",
      "  File \"/glade/work/kristenk/miniconda/envs/analysis4/lib/python3.7/site-packages/distributed/scheduler.py\", line 2197, in heartbeat_worker\n",
      "    self.tasks[key]: duration for key, duration in executing.items()\n",
      "  File \"/glade/work/kristenk/miniconda/envs/analysis4/lib/python3.7/site-packages/distributed/scheduler.py\", line 2197, in <dictcomp>\n",
      "    self.tasks[key]: duration for key, duration in executing.items()\n",
      "KeyError: \"('open_dataset-168dca023be955755db6108fbae9c78cHUW-1f8de11e448b1c2bd7d362879f4aa312', 0, 0)\"\n"
     ]
    },
    {
     "name": "stdout",
     "output_type": "stream",
     "text": [
      "start year= 2017 member= 7\n",
      "start year= 2017 member= 8\n",
      "start year= 2017 member= 9\n",
      "start year= 2017 member= 10\n",
      "start year= 2017 member= 11\n",
      "start year= 2017 member= 12\n",
      "start year= 2017 member= 13\n",
      "start year= 2017 member= 14\n",
      "start year= 2017 member= 15\n",
      "start year= 2017 member= 16\n",
      "start year= 2017 member= 17\n",
      "start year= 2017 member= 18\n",
      "start year= 2017 member= 19\n",
      "start year= 2017 member= 20\n",
      "start year= 2017 member= 21\n"
     ]
    },
    {
     "name": "stderr",
     "output_type": "stream",
     "text": [
      "distributed.core - ERROR - Exception while handling op heartbeat_worker\n",
      "Traceback (most recent call last):\n",
      "  File \"/glade/work/kristenk/miniconda/envs/analysis4/lib/python3.7/site-packages/distributed/core.py\", line 493, in handle_comm\n",
      "    result = handler(comm, **msg)\n",
      "  File \"/glade/work/kristenk/miniconda/envs/analysis4/lib/python3.7/site-packages/distributed/scheduler.py\", line 2197, in heartbeat_worker\n",
      "    self.tasks[key]: duration for key, duration in executing.items()\n",
      "  File \"/glade/work/kristenk/miniconda/envs/analysis4/lib/python3.7/site-packages/distributed/scheduler.py\", line 2197, in <dictcomp>\n",
      "    self.tasks[key]: duration for key, duration in executing.items()\n",
      "KeyError: \"('open_dataset-26abae0efb26a70c400b3e8bdd94aba6HUW-846dd74dbcf05b20cfbb5c00aabd402c', 0, 0)\"\n"
     ]
    },
    {
     "name": "stdout",
     "output_type": "stream",
     "text": [
      "start year= 2017 member= 22\n",
      "start year= 2017 member= 23\n",
      "start year= 2017 member= 24\n",
      "start year= 2017 member= 25\n",
      "start year= 2017 member= 26\n",
      "start year= 2017 member= 27\n",
      "start year= 2017 member= 28\n",
      "start year= 2017 member= 29\n",
      "start year= 2017 member= 30\n",
      "start year= 2017 member= 31\n"
     ]
    },
    {
     "name": "stderr",
     "output_type": "stream",
     "text": [
      "distributed.core - ERROR - Exception while handling op heartbeat_worker\n",
      "Traceback (most recent call last):\n",
      "  File \"/glade/work/kristenk/miniconda/envs/analysis4/lib/python3.7/site-packages/distributed/core.py\", line 493, in handle_comm\n",
      "    result = handler(comm, **msg)\n",
      "  File \"/glade/work/kristenk/miniconda/envs/analysis4/lib/python3.7/site-packages/distributed/scheduler.py\", line 2197, in heartbeat_worker\n",
      "    self.tasks[key]: duration for key, duration in executing.items()\n",
      "  File \"/glade/work/kristenk/miniconda/envs/analysis4/lib/python3.7/site-packages/distributed/scheduler.py\", line 2197, in <dictcomp>\n",
      "    self.tasks[key]: duration for key, duration in executing.items()\n",
      "KeyError: \"('open_dataset-390b68544112b02eca14d7200f16a817HT-7f2851557b663d216e30791ee414cb17', 0, 0)\"\n"
     ]
    },
    {
     "name": "stdout",
     "output_type": "stream",
     "text": [
      "start year= 2017 member= 32\n"
     ]
    },
    {
     "name": "stderr",
     "output_type": "stream",
     "text": [
      "distributed.core - ERROR - Exception while handling op heartbeat_worker\n",
      "Traceback (most recent call last):\n",
      "  File \"/glade/work/kristenk/miniconda/envs/analysis4/lib/python3.7/site-packages/distributed/core.py\", line 493, in handle_comm\n",
      "    result = handler(comm, **msg)\n",
      "  File \"/glade/work/kristenk/miniconda/envs/analysis4/lib/python3.7/site-packages/distributed/scheduler.py\", line 2197, in heartbeat_worker\n",
      "    self.tasks[key]: duration for key, duration in executing.items()\n",
      "  File \"/glade/work/kristenk/miniconda/envs/analysis4/lib/python3.7/site-packages/distributed/scheduler.py\", line 2197, in <dictcomp>\n",
      "    self.tasks[key]: duration for key, duration in executing.items()\n",
      "KeyError: \"('open_dataset-b36742e406ba5f1e7356cf5a09c2fa86DYU-a731ad936dc6b558d92d177886cfcf0b', 0, 0)\"\n",
      "distributed.core - ERROR - Exception while handling op heartbeat_worker\n",
      "Traceback (most recent call last):\n",
      "  File \"/glade/work/kristenk/miniconda/envs/analysis4/lib/python3.7/site-packages/distributed/core.py\", line 493, in handle_comm\n",
      "    result = handler(comm, **msg)\n",
      "  File \"/glade/work/kristenk/miniconda/envs/analysis4/lib/python3.7/site-packages/distributed/scheduler.py\", line 2197, in heartbeat_worker\n",
      "    self.tasks[key]: duration for key, duration in executing.items()\n",
      "  File \"/glade/work/kristenk/miniconda/envs/analysis4/lib/python3.7/site-packages/distributed/scheduler.py\", line 2197, in <dictcomp>\n",
      "    self.tasks[key]: duration for key, duration in executing.items()\n",
      "KeyError: \"('open_dataset-b36742e406ba5f1e7356cf5a09c2fa86DYT-b00310b9f79509d6a85d93be2eea4845', 0, 0)\"\n",
      "distributed.core - ERROR - Exception while handling op heartbeat_worker\n",
      "Traceback (most recent call last):\n",
      "  File \"/glade/work/kristenk/miniconda/envs/analysis4/lib/python3.7/site-packages/distributed/core.py\", line 493, in handle_comm\n",
      "    result = handler(comm, **msg)\n",
      "  File \"/glade/work/kristenk/miniconda/envs/analysis4/lib/python3.7/site-packages/distributed/scheduler.py\", line 2197, in heartbeat_worker\n",
      "    self.tasks[key]: duration for key, duration in executing.items()\n",
      "  File \"/glade/work/kristenk/miniconda/envs/analysis4/lib/python3.7/site-packages/distributed/scheduler.py\", line 2197, in <dictcomp>\n",
      "    self.tasks[key]: duration for key, duration in executing.items()\n",
      "KeyError: \"('open_dataset-b36742e406ba5f1e7356cf5a09c2fa86HT-d39cbd07f3b5b71489824e330e7cc1de', 0, 0)\"\n"
     ]
    },
    {
     "name": "stdout",
     "output_type": "stream",
     "text": [
      "start year= 2017 member= 33\n",
      "start year= 2017 member= 34\n",
      "start year= 2017 member= 35\n",
      "start year= 2017 member= 36\n",
      "start year= 2017 member= 37\n",
      "start year= 2017 member= 38\n"
     ]
    },
    {
     "name": "stderr",
     "output_type": "stream",
     "text": [
      "distributed.core - ERROR - Exception while handling op heartbeat_worker\n",
      "Traceback (most recent call last):\n",
      "  File \"/glade/work/kristenk/miniconda/envs/analysis4/lib/python3.7/site-packages/distributed/core.py\", line 493, in handle_comm\n",
      "    result = handler(comm, **msg)\n",
      "  File \"/glade/work/kristenk/miniconda/envs/analysis4/lib/python3.7/site-packages/distributed/scheduler.py\", line 2197, in heartbeat_worker\n",
      "    self.tasks[key]: duration for key, duration in executing.items()\n",
      "  File \"/glade/work/kristenk/miniconda/envs/analysis4/lib/python3.7/site-packages/distributed/scheduler.py\", line 2197, in <dictcomp>\n",
      "    self.tasks[key]: duration for key, duration in executing.items()\n",
      "KeyError: \"('open_dataset-fee58147e8a4175c594f0fec4203b35fHTN-c97f299b8bcf99848e42bffaa3a96f8a', 0, 0)\"\n",
      "distributed.core - ERROR - Exception while handling op heartbeat_worker\n",
      "Traceback (most recent call last):\n",
      "  File \"/glade/work/kristenk/miniconda/envs/analysis4/lib/python3.7/site-packages/distributed/core.py\", line 493, in handle_comm\n",
      "    result = handler(comm, **msg)\n",
      "  File \"/glade/work/kristenk/miniconda/envs/analysis4/lib/python3.7/site-packages/distributed/scheduler.py\", line 2197, in heartbeat_worker\n",
      "    self.tasks[key]: duration for key, duration in executing.items()\n",
      "  File \"/glade/work/kristenk/miniconda/envs/analysis4/lib/python3.7/site-packages/distributed/scheduler.py\", line 2197, in <dictcomp>\n",
      "    self.tasks[key]: duration for key, duration in executing.items()\n",
      "KeyError: \"('open_dataset-fee58147e8a4175c594f0fec4203b35fHTE-149492f42dfac06c4db278c35ba6937a', 0, 0)\"\n"
     ]
    },
    {
     "name": "stdout",
     "output_type": "stream",
     "text": [
      "start year= 2017 member= 39\n",
      "start year= 2017 member= 40\n"
     ]
    }
   ],
   "source": [
    "#user set/ cycle vars\n",
    "var = 'POC_FLUX_IN'\n",
    "\n",
    "for styear in np.arange(2014,2018,1):\n",
    "    \n",
    "    for member in np.arange(1,41,1):\n",
    "    \n",
    "        print('start year=', styear, 'member=', member)\n",
    "        \n",
    "        #first get this particular file\n",
    "        ds = xr.open_dataset(\n",
    "        utils.file_in(var,styear,member), \n",
    "        decode_coords=False, \n",
    "        decode_times=True,\n",
    "        chunks={'time': 12}).persist()\n",
    "\n",
    "        #tidy up the dataset\n",
    "        coords = {'x':'TLONG','y':'TLAT'}\n",
    "        keepthese=['z_t','z_t_150m','time_bound','TAREA','REGION_MASK','time','UAREA'] + [var]\n",
    "        keep_vars = keepthese +list(coords.values())+['dz','KMT']\n",
    "        ds = ds.drop([v for v in ds.variables if v not in keep_vars])\n",
    "\n",
    "        #prepare output file -- it needs certain variables add to work with the DPLE code\n",
    "        USER = os.environ['USER']\n",
    "        dout = f'/glade/scratch/{USER}/DPLE-tmpfiles/'\n",
    "        os.makedirs(dout, exist_ok=True)\n",
    "        file_out = utils.file_out(dout,var,styear,member)\n",
    "        dso = ds[['TLONG', 'TLAT', 'KMT', 'TAREA','time','time_bound','dz']] \n",
    "\n",
    "        #get the KMT (even though this could be )\n",
    "        template = ds[var][:, 0, :, :].drop('z_t') \n",
    "        dso[f'{var}_bottom'] = xr.map_blocks(\n",
    "        field_at_bottom, ds[var],\n",
    "        template=template).compute()\n",
    "\n",
    "        #fix attributes\n",
    "        dso[f'{var}_bottom'].attrs['coordinates'] = \"TLONG TLAT time\"\n",
    "\n",
    "        #write out the file\n",
    "        dso.to_netcdf(file_out, mode='w')"
   ]
  },
  {
   "cell_type": "code",
   "execution_count": null,
   "metadata": {},
   "outputs": [],
   "source": []
  },
  {
   "cell_type": "code",
   "execution_count": null,
   "metadata": {},
   "outputs": [],
   "source": []
  },
  {
   "cell_type": "code",
   "execution_count": null,
   "metadata": {},
   "outputs": [],
   "source": []
  },
  {
   "cell_type": "code",
   "execution_count": null,
   "metadata": {},
   "outputs": [],
   "source": []
  },
  {
   "cell_type": "code",
   "execution_count": null,
   "metadata": {},
   "outputs": [],
   "source": []
  },
  {
   "cell_type": "code",
   "execution_count": null,
   "metadata": {},
   "outputs": [],
   "source": []
  },
  {
   "cell_type": "code",
   "execution_count": null,
   "metadata": {},
   "outputs": [],
   "source": []
  }
 ],
 "metadata": {
  "kernelspec": {
   "display_name": "Python [conda env:miniconda-analysis4]",
   "language": "python",
   "name": "conda-env-miniconda-analysis4-py"
  },
  "language_info": {
   "codemirror_mode": {
    "name": "ipython",
    "version": 3
   },
   "file_extension": ".py",
   "mimetype": "text/x-python",
   "name": "python",
   "nbconvert_exporter": "python",
   "pygments_lexer": "ipython3",
   "version": "3.7.9"
  }
 },
 "nbformat": 4,
 "nbformat_minor": 4
}
