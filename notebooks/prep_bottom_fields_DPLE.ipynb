{
 "cells": [
  {
   "cell_type": "markdown",
   "metadata": {},
   "source": [
    "# Prep CESM-DPLE experiment data for use in DPLE processing notebook\n",
    "### • eliminates depth dimension"
   ]
  },
  {
   "cell_type": "code",
   "execution_count": 1,
   "metadata": {},
   "outputs": [],
   "source": [
    "import os\n",
    "from glob import glob\n",
    "\n",
    "import matplotlib.colors as colors\n",
    "\n",
    "import numpy as np\n",
    "import xarray as xr\n",
    "import pop_tools\n",
    "import utils\n",
    "\n",
    "import warnings\n",
    "warnings.filterwarnings('ignore')"
   ]
  },
  {
   "cell_type": "markdown",
   "metadata": {},
   "source": [
    "## Spin up a dask cluster"
   ]
  },
  {
   "cell_type": "code",
   "execution_count": 2,
   "metadata": {},
   "outputs": [],
   "source": [
    "def get_ClusterClient():\n",
    "    import dask\n",
    "    from dask_jobqueue import PBSCluster\n",
    "    from dask.distributed import Client\n",
    "    cluster = PBSCluster(\n",
    "        cores=1,\n",
    "        memory='50GB',\n",
    "        processes=1,\n",
    "        queue='casper',\n",
    "        resource_spec='select=1:ncpus=1:mem=50GB',\n",
    "        project='NCGD0011',\n",
    "        walltime='02:00:00',\n",
    "        interface='ib0',)\n",
    "\n",
    "    dask.config.set({\n",
    "        'distributed.dashboard.link':\n",
    "        'https://jupyterhub.hpc.ucar.edu/stable/user/{USER}/proxy/{port}/status'\n",
    "    })\n",
    "    client = Client(cluster)\n",
    "    return cluster, client"
   ]
  },
  {
   "cell_type": "code",
   "execution_count": 3,
   "metadata": {},
   "outputs": [],
   "source": [
    "cluster, client = get_ClusterClient()\n",
    "cluster.scale(12) "
   ]
  },
  {
   "cell_type": "code",
   "execution_count": 4,
   "metadata": {},
   "outputs": [
    {
     "data": {
      "text/html": [
       "<table style=\"border: 2px solid white;\">\n",
       "<tr>\n",
       "<td style=\"vertical-align: top; border: 0px solid white\">\n",
       "<h3 style=\"text-align: left;\">Client</h3>\n",
       "<ul style=\"text-align: left; list-style: none; margin: 0; padding: 0;\">\n",
       "  <li><b>Scheduler: </b>tcp://10.12.206.51:34154</li>\n",
       "  <li><b>Dashboard: </b><a href='https://jupyterhub.hpc.ucar.edu/stable/user/kristenk/proxy/46631/status' target='_blank'>https://jupyterhub.hpc.ucar.edu/stable/user/kristenk/proxy/46631/status</a></li>\n",
       "</ul>\n",
       "</td>\n",
       "<td style=\"vertical-align: top; border: 0px solid white\">\n",
       "<h3 style=\"text-align: left;\">Cluster</h3>\n",
       "<ul style=\"text-align: left; list-style:none; margin: 0; padding: 0;\">\n",
       "  <li><b>Workers: </b>0</li>\n",
       "  <li><b>Cores: </b>0</li>\n",
       "  <li><b>Memory: </b>0 B</li>\n",
       "</ul>\n",
       "</td>\n",
       "</tr>\n",
       "</table>"
      ],
      "text/plain": [
       "<Client: 'tcp://10.12.206.51:34154' processes=0 threads=0, memory=0 B>"
      ]
     },
     "execution_count": 4,
     "metadata": {},
     "output_type": "execute_result"
    }
   ],
   "source": [
    "client"
   ]
  },
  {
   "cell_type": "code",
   "execution_count": 5,
   "metadata": {},
   "outputs": [],
   "source": [
    "grid = pop_tools.get_grid('POP_gx1v6')\n",
    "KMT = grid.KMT"
   ]
  },
  {
   "cell_type": "code",
   "execution_count": 6,
   "metadata": {},
   "outputs": [],
   "source": [
    "def field_at_bottom(da):\n",
    "    \"\"\"return a field indexed at the model's bottom layer\"\"\"\n",
    "\n",
    "    tmp_bot = xr.DataArray(np.ones(da[:, 0, :, :].shape) * np.nan, \n",
    "                           dims=tuple(da.dims[i] for i in [0, 2, 3]),\n",
    "                           coords={c: da.coords[c] for c in ['time']},\n",
    "                          )\n",
    "\n",
    "    assert KMT.shape == da.shape[-2:]\n",
    "    \n",
    "    for j in range(len(da.nlat)):\n",
    "        for i in range(len(da.nlon)):\n",
    "            if KMT[j, i] > 0:\n",
    "                k = int(KMT[j, i] - 1)\n",
    "                tmp_bot.values[:, j, i] = da[:, k, j, i]\n",
    "                \n",
    "    return tmp_bot"
   ]
  },
  {
   "cell_type": "markdown",
   "metadata": {},
   "source": [
    "## cycle through start years (1954 - 2017; n=64) and ensemble members (n=40) and do preprocessing"
   ]
  },
  {
   "cell_type": "code",
   "execution_count": null,
   "metadata": {},
   "outputs": [
    {
     "name": "stdout",
     "output_type": "stream",
     "text": [
      "start year= 1957 member= 1\n",
      "start year= 1957 member= 2\n",
      "start year= 1957 member= 3\n",
      "start year= 1957 member= 4\n"
     ]
    },
    {
     "name": "stderr",
     "output_type": "stream",
     "text": [
      "distributed.core - ERROR - Exception while handling op heartbeat_worker\n",
      "Traceback (most recent call last):\n",
      "  File \"/glade/work/kristenk/miniconda/envs/analysis4/lib/python3.7/site-packages/distributed/core.py\", line 493, in handle_comm\n",
      "    result = handler(comm, **msg)\n",
      "  File \"/glade/work/kristenk/miniconda/envs/analysis4/lib/python3.7/site-packages/distributed/scheduler.py\", line 2197, in heartbeat_worker\n",
      "    self.tasks[key]: duration for key, duration in executing.items()\n",
      "  File \"/glade/work/kristenk/miniconda/envs/analysis4/lib/python3.7/site-packages/distributed/scheduler.py\", line 2197, in <dictcomp>\n",
      "    self.tasks[key]: duration for key, duration in executing.items()\n",
      "KeyError: \"('open_dataset-32a0e81c4e0664a1bc98856cd9c4bf9fDYT-636c1d34a85b2f74cba47b1a47880248', 0, 0)\"\n",
      "distributed.core - ERROR - Exception while handling op heartbeat_worker\n",
      "Traceback (most recent call last):\n",
      "  File \"/glade/work/kristenk/miniconda/envs/analysis4/lib/python3.7/site-packages/distributed/core.py\", line 493, in handle_comm\n",
      "    result = handler(comm, **msg)\n",
      "  File \"/glade/work/kristenk/miniconda/envs/analysis4/lib/python3.7/site-packages/distributed/scheduler.py\", line 2197, in heartbeat_worker\n",
      "    self.tasks[key]: duration for key, duration in executing.items()\n",
      "  File \"/glade/work/kristenk/miniconda/envs/analysis4/lib/python3.7/site-packages/distributed/scheduler.py\", line 2197, in <dictcomp>\n",
      "    self.tasks[key]: duration for key, duration in executing.items()\n",
      "KeyError: \"('open_dataset-32a0e81c4e0664a1bc98856cd9c4bf9fDYU-1d32718ebc0b9ecf0648e8adb5955506', 0, 0)\"\n"
     ]
    },
    {
     "name": "stdout",
     "output_type": "stream",
     "text": [
      "start year= 1957 member= 5\n",
      "start year= 1957 member= 6\n",
      "start year= 1957 member= 7\n",
      "start year= 1957 member= 8\n",
      "start year= 1957 member= 9\n"
     ]
    },
    {
     "name": "stderr",
     "output_type": "stream",
     "text": [
      "distributed.core - ERROR - Exception while handling op heartbeat_worker\n",
      "Traceback (most recent call last):\n",
      "  File \"/glade/work/kristenk/miniconda/envs/analysis4/lib/python3.7/site-packages/distributed/core.py\", line 493, in handle_comm\n",
      "    result = handler(comm, **msg)\n",
      "  File \"/glade/work/kristenk/miniconda/envs/analysis4/lib/python3.7/site-packages/distributed/scheduler.py\", line 2197, in heartbeat_worker\n",
      "    self.tasks[key]: duration for key, duration in executing.items()\n",
      "  File \"/glade/work/kristenk/miniconda/envs/analysis4/lib/python3.7/site-packages/distributed/scheduler.py\", line 2197, in <dictcomp>\n",
      "    self.tasks[key]: duration for key, duration in executing.items()\n",
      "KeyError: \"('open_dataset-36ffc5fd8a2a0b171179665eb2282c44DYU-58c0bc4a5f8b2a62f34886c6a7986b17', 0, 0)\"\n",
      "distributed.core - ERROR - Exception while handling op heartbeat_worker\n",
      "Traceback (most recent call last):\n",
      "  File \"/glade/work/kristenk/miniconda/envs/analysis4/lib/python3.7/site-packages/distributed/core.py\", line 493, in handle_comm\n",
      "    result = handler(comm, **msg)\n",
      "  File \"/glade/work/kristenk/miniconda/envs/analysis4/lib/python3.7/site-packages/distributed/scheduler.py\", line 2197, in heartbeat_worker\n",
      "    self.tasks[key]: duration for key, duration in executing.items()\n",
      "  File \"/glade/work/kristenk/miniconda/envs/analysis4/lib/python3.7/site-packages/distributed/scheduler.py\", line 2197, in <dictcomp>\n",
      "    self.tasks[key]: duration for key, duration in executing.items()\n",
      "KeyError: \"('open_dataset-36ffc5fd8a2a0b171179665eb2282c44DXU-399ce248f3c015394d77d17a12d48eec', 0, 0)\"\n",
      "distributed.core - ERROR - Exception while handling op heartbeat_worker\n",
      "Traceback (most recent call last):\n",
      "  File \"/glade/work/kristenk/miniconda/envs/analysis4/lib/python3.7/site-packages/distributed/core.py\", line 493, in handle_comm\n",
      "    result = handler(comm, **msg)\n",
      "  File \"/glade/work/kristenk/miniconda/envs/analysis4/lib/python3.7/site-packages/distributed/scheduler.py\", line 2197, in heartbeat_worker\n",
      "    self.tasks[key]: duration for key, duration in executing.items()\n",
      "  File \"/glade/work/kristenk/miniconda/envs/analysis4/lib/python3.7/site-packages/distributed/scheduler.py\", line 2197, in <dictcomp>\n",
      "    self.tasks[key]: duration for key, duration in executing.items()\n",
      "KeyError: \"('open_dataset-36ffc5fd8a2a0b171179665eb2282c44DYT-b5fbaee077666401aa8d7e088c29a07c', 0, 0)\"\n",
      "distributed.core - ERROR - Exception while handling op heartbeat_worker\n",
      "Traceback (most recent call last):\n",
      "  File \"/glade/work/kristenk/miniconda/envs/analysis4/lib/python3.7/site-packages/distributed/core.py\", line 493, in handle_comm\n",
      "    result = handler(comm, **msg)\n",
      "  File \"/glade/work/kristenk/miniconda/envs/analysis4/lib/python3.7/site-packages/distributed/scheduler.py\", line 2197, in heartbeat_worker\n",
      "    self.tasks[key]: duration for key, duration in executing.items()\n",
      "  File \"/glade/work/kristenk/miniconda/envs/analysis4/lib/python3.7/site-packages/distributed/scheduler.py\", line 2197, in <dictcomp>\n",
      "    self.tasks[key]: duration for key, duration in executing.items()\n",
      "KeyError: \"('open_dataset-36ffc5fd8a2a0b171179665eb2282c44DXT-4d0c5ceeab913acfa3d23bd6b47b4549', 0, 0)\"\n"
     ]
    },
    {
     "name": "stdout",
     "output_type": "stream",
     "text": [
      "start year= 1957 member= 10\n",
      "start year= 1957 member= 11\n",
      "start year= 1957 member= 12\n"
     ]
    },
    {
     "name": "stderr",
     "output_type": "stream",
     "text": [
      "distributed.core - ERROR - Exception while handling op heartbeat_worker\n",
      "Traceback (most recent call last):\n",
      "  File \"/glade/work/kristenk/miniconda/envs/analysis4/lib/python3.7/site-packages/distributed/core.py\", line 493, in handle_comm\n",
      "    result = handler(comm, **msg)\n",
      "  File \"/glade/work/kristenk/miniconda/envs/analysis4/lib/python3.7/site-packages/distributed/scheduler.py\", line 2197, in heartbeat_worker\n",
      "    self.tasks[key]: duration for key, duration in executing.items()\n",
      "  File \"/glade/work/kristenk/miniconda/envs/analysis4/lib/python3.7/site-packages/distributed/scheduler.py\", line 2197, in <dictcomp>\n",
      "    self.tasks[key]: duration for key, duration in executing.items()\n",
      "KeyError: \"('open_dataset-81a4dc30b45143944f146eb736623270HUW-d90dfdef0bf1243e1f7046540c7bc03f', 0, 0)\"\n",
      "distributed.core - ERROR - Exception while handling op heartbeat_worker\n",
      "Traceback (most recent call last):\n",
      "  File \"/glade/work/kristenk/miniconda/envs/analysis4/lib/python3.7/site-packages/distributed/core.py\", line 493, in handle_comm\n",
      "    result = handler(comm, **msg)\n",
      "  File \"/glade/work/kristenk/miniconda/envs/analysis4/lib/python3.7/site-packages/distributed/scheduler.py\", line 2197, in heartbeat_worker\n",
      "    self.tasks[key]: duration for key, duration in executing.items()\n",
      "  File \"/glade/work/kristenk/miniconda/envs/analysis4/lib/python3.7/site-packages/distributed/scheduler.py\", line 2197, in <dictcomp>\n",
      "    self.tasks[key]: duration for key, duration in executing.items()\n",
      "KeyError: \"('open_dataset-81a4dc30b45143944f146eb736623270HUS-d13f018404c5da3a0e3ab3660b351e1a', 0, 0)\"\n",
      "distributed.core - ERROR - Exception while handling op heartbeat_worker\n",
      "Traceback (most recent call last):\n",
      "  File \"/glade/work/kristenk/miniconda/envs/analysis4/lib/python3.7/site-packages/distributed/core.py\", line 493, in handle_comm\n",
      "    result = handler(comm, **msg)\n",
      "  File \"/glade/work/kristenk/miniconda/envs/analysis4/lib/python3.7/site-packages/distributed/scheduler.py\", line 2197, in heartbeat_worker\n",
      "    self.tasks[key]: duration for key, duration in executing.items()\n",
      "  File \"/glade/work/kristenk/miniconda/envs/analysis4/lib/python3.7/site-packages/distributed/scheduler.py\", line 2197, in <dictcomp>\n",
      "    self.tasks[key]: duration for key, duration in executing.items()\n",
      "KeyError: \"('open_dataset-81a4dc30b45143944f146eb736623270HU-2ef1280d8dbf301dfa13cf42b7033160', 0, 0)\"\n"
     ]
    },
    {
     "name": "stdout",
     "output_type": "stream",
     "text": [
      "start year= 1957 member= 13\n",
      "start year= 1957 member= 14\n",
      "start year= 1957 member= 15\n",
      "start year= 1957 member= 16\n"
     ]
    }
   ],
   "source": [
    "#user set/ cycle vars\n",
    "var = 'TEMP'\n",
    "\n",
    "for styear in np.arange(1957,1961,1):\n",
    "    \n",
    "    for member in np.arange(1,41,1):\n",
    "    \n",
    "        print('start year=', styear, 'member=', member)\n",
    "        \n",
    "        #first get this particular file\n",
    "        ds = xr.open_dataset(\n",
    "        utils.file_in(var,styear,member), \n",
    "        decode_coords=False, \n",
    "        decode_times=True,\n",
    "        chunks={'time': 12}).persist()\n",
    "\n",
    "        #tidy up the dataset\n",
    "        coords = {'x':'TLONG','y':'TLAT'}\n",
    "        keepthese=['z_t','z_t_150m','time_bound','TAREA','REGION_MASK','time','UAREA'] + [var]\n",
    "        keep_vars = keepthese +list(coords.values())+['dz','KMT']\n",
    "        ds = ds.drop([v for v in ds.variables if v not in keep_vars])\n",
    "\n",
    "        #prepare output file -- it needs certain variables add to work with the DPLE code\n",
    "        USER = os.environ['USER']\n",
    "        dout = f'/glade/scratch/{USER}/DPLE-tmpfiles/'\n",
    "        os.makedirs(dout, exist_ok=True)\n",
    "        file_out = utils.file_out(dout,var,styear,member)\n",
    "        dso = ds[['TLONG', 'TLAT', 'KMT', 'TAREA','time','time_bound','dz']] #added time\n",
    "\n",
    "        #get the KMT (even though this could be )\n",
    "        template = ds[var][:, 0, :, :].drop('z_t') \n",
    "        dso[f'{var}_bottom'] = xr.map_blocks(\n",
    "        field_at_bottom, ds[var],\n",
    "        template=template).compute()\n",
    "\n",
    "        #fix attributes\n",
    "        dso.TEMP_bottom.attrs['coordinates'] = \"TLONG TLAT time\"\n",
    "\n",
    "        #write out the file\n",
    "        dso.to_netcdf(file_out, mode='w')"
   ]
  },
  {
   "cell_type": "code",
   "execution_count": null,
   "metadata": {},
   "outputs": [],
   "source": []
  },
  {
   "cell_type": "code",
   "execution_count": null,
   "metadata": {},
   "outputs": [],
   "source": []
  },
  {
   "cell_type": "code",
   "execution_count": null,
   "metadata": {},
   "outputs": [],
   "source": []
  },
  {
   "cell_type": "code",
   "execution_count": null,
   "metadata": {},
   "outputs": [],
   "source": []
  },
  {
   "cell_type": "code",
   "execution_count": null,
   "metadata": {},
   "outputs": [],
   "source": []
  },
  {
   "cell_type": "code",
   "execution_count": null,
   "metadata": {},
   "outputs": [],
   "source": []
  },
  {
   "cell_type": "code",
   "execution_count": null,
   "metadata": {},
   "outputs": [],
   "source": []
  }
 ],
 "metadata": {
  "kernelspec": {
   "display_name": "Python [conda env:miniconda-analysis4]",
   "language": "python",
   "name": "conda-env-miniconda-analysis4-py"
  },
  "language_info": {
   "codemirror_mode": {
    "name": "ipython",
    "version": 3
   },
   "file_extension": ".py",
   "mimetype": "text/x-python",
   "name": "python",
   "nbconvert_exporter": "python",
   "pygments_lexer": "ipython3",
   "version": "3.7.9"
  }
 },
 "nbformat": 4,
 "nbformat_minor": 4
}
