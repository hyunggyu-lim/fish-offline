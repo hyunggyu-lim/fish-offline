{
 "cells": [
  {
   "cell_type": "markdown",
   "metadata": {},
   "source": [
    "# Prep CESM-DPLE experiment data for use in DPLE processing notebook\n",
    "### • eliminates depth dimension"
   ]
  },
  {
   "cell_type": "code",
   "execution_count": 1,
   "metadata": {},
   "outputs": [],
   "source": [
    "import os\n",
    "from glob import glob\n",
    "\n",
    "import matplotlib.colors as colors\n",
    "\n",
    "import numpy as np\n",
    "import xarray as xr\n",
    "import pop_tools\n",
    "import utils\n",
    "\n",
    "import warnings\n",
    "warnings.filterwarnings('ignore')"
   ]
  },
  {
   "cell_type": "markdown",
   "metadata": {},
   "source": [
    "## Spin up a dask cluster"
   ]
  },
  {
   "cell_type": "code",
   "execution_count": 2,
   "metadata": {},
   "outputs": [],
   "source": [
    "def get_ClusterClient():\n",
    "    import dask\n",
    "    from dask_jobqueue import PBSCluster\n",
    "    from dask.distributed import Client\n",
    "    cluster = PBSCluster(\n",
    "        cores=1,\n",
    "        memory='50GB',\n",
    "        processes=1,\n",
    "        queue='casper',\n",
    "        resource_spec='select=1:ncpus=1:mem=50GB',\n",
    "        project='NCGD0011',\n",
    "        walltime='24:00:00',\n",
    "        interface='ib0',)\n",
    "\n",
    "    dask.config.set({\n",
    "        'distributed.dashboard.link':\n",
    "        'https://jupyterhub.hpc.ucar.edu/stable/user/{USER}/proxy/{port}/status'\n",
    "    })\n",
    "    client = Client(cluster)\n",
    "    return cluster, client"
   ]
  },
  {
   "cell_type": "code",
   "execution_count": 3,
   "metadata": {},
   "outputs": [],
   "source": [
    "cluster, client = get_ClusterClient()\n",
    "cluster.scale(12) "
   ]
  },
  {
   "cell_type": "code",
   "execution_count": 4,
   "metadata": {},
   "outputs": [
    {
     "data": {
      "text/html": [
       "<table style=\"border: 2px solid white;\">\n",
       "<tr>\n",
       "<td style=\"vertical-align: top; border: 0px solid white\">\n",
       "<h3 style=\"text-align: left;\">Client</h3>\n",
       "<ul style=\"text-align: left; list-style: none; margin: 0; padding: 0;\">\n",
       "  <li><b>Scheduler: </b>tcp://10.12.206.57:39556</li>\n",
       "  <li><b>Dashboard: </b><a href='https://jupyterhub.hpc.ucar.edu/stable/user/kristenk/proxy/39402/status' target='_blank'>https://jupyterhub.hpc.ucar.edu/stable/user/kristenk/proxy/39402/status</a></li>\n",
       "</ul>\n",
       "</td>\n",
       "<td style=\"vertical-align: top; border: 0px solid white\">\n",
       "<h3 style=\"text-align: left;\">Cluster</h3>\n",
       "<ul style=\"text-align: left; list-style:none; margin: 0; padding: 0;\">\n",
       "  <li><b>Workers: </b>0</li>\n",
       "  <li><b>Cores: </b>0</li>\n",
       "  <li><b>Memory: </b>0 B</li>\n",
       "</ul>\n",
       "</td>\n",
       "</tr>\n",
       "</table>"
      ],
      "text/plain": [
       "<Client: 'tcp://10.12.206.57:39556' processes=0 threads=0, memory=0 B>"
      ]
     },
     "execution_count": 4,
     "metadata": {},
     "output_type": "execute_result"
    }
   ],
   "source": [
    "client"
   ]
  },
  {
   "cell_type": "code",
   "execution_count": null,
   "metadata": {},
   "outputs": [],
   "source": []
  },
  {
   "cell_type": "code",
   "execution_count": 5,
   "metadata": {},
   "outputs": [],
   "source": [
    "grid = pop_tools.get_grid('POP_gx1v6')\n",
    "KMT = grid.KMT"
   ]
  },
  {
   "cell_type": "code",
   "execution_count": 6,
   "metadata": {},
   "outputs": [],
   "source": [
    "def field_at_bottom(da):\n",
    "    \"\"\"return a field indexed at the model's bottom layer\"\"\"\n",
    "\n",
    "    tmp_bot = xr.DataArray(np.ones(da[:, 0, :, :].shape) * np.nan, \n",
    "                           dims=tuple(da.dims[i] for i in [0, 2, 3]),\n",
    "                           coords={c: da.coords[c] for c in ['time']},\n",
    "                          )\n",
    "\n",
    "    assert KMT.shape == da.shape[-2:]\n",
    "    \n",
    "    for j in range(len(da.nlat)):\n",
    "        for i in range(len(da.nlon)):\n",
    "            if KMT[j, i] > 0:\n",
    "                k = int(KMT[j, i] - 1)\n",
    "                tmp_bot.values[:, j, i] = da[:, k, j, i]\n",
    "                \n",
    "    return tmp_bot"
   ]
  },
  {
   "cell_type": "markdown",
   "metadata": {},
   "source": [
    "## cycle through start years (1954 - 2017; n=64) and ensemble members (n=40) and do preprocessing"
   ]
  },
  {
   "cell_type": "code",
   "execution_count": 7,
   "metadata": {},
   "outputs": [
    {
     "name": "stdout",
     "output_type": "stream",
     "text": [
      "start year= 2008 member= 1\n",
      "start year= 2008 member= 2\n",
      "start year= 2008 member= 3\n",
      "start year= 2008 member= 4\n",
      "start year= 2008 member= 5\n"
     ]
    },
    {
     "name": "stderr",
     "output_type": "stream",
     "text": [
      "distributed.core - ERROR - Exception while handling op heartbeat_worker\n",
      "Traceback (most recent call last):\n",
      "  File \"/glade/work/kristenk/miniconda/envs/analysis4/lib/python3.7/site-packages/distributed/core.py\", line 493, in handle_comm\n",
      "    result = handler(comm, **msg)\n",
      "  File \"/glade/work/kristenk/miniconda/envs/analysis4/lib/python3.7/site-packages/distributed/scheduler.py\", line 2197, in heartbeat_worker\n",
      "    self.tasks[key]: duration for key, duration in executing.items()\n",
      "  File \"/glade/work/kristenk/miniconda/envs/analysis4/lib/python3.7/site-packages/distributed/scheduler.py\", line 2197, in <dictcomp>\n",
      "    self.tasks[key]: duration for key, duration in executing.items()\n",
      "KeyError: \"('open_dataset-a47197e1fb9cdea701dfa4be759d3c30HT-48675b4fc1d1cdf5501b8885ca934774', 0, 0)\"\n"
     ]
    },
    {
     "name": "stdout",
     "output_type": "stream",
     "text": [
      "start year= 2008 member= 6\n",
      "start year= 2008 member= 7\n",
      "start year= 2008 member= 8\n",
      "start year= 2008 member= 9\n"
     ]
    },
    {
     "name": "stderr",
     "output_type": "stream",
     "text": [
      "distributed.core - ERROR - Exception while handling op heartbeat_worker\n",
      "Traceback (most recent call last):\n",
      "  File \"/glade/work/kristenk/miniconda/envs/analysis4/lib/python3.7/site-packages/distributed/core.py\", line 493, in handle_comm\n",
      "    result = handler(comm, **msg)\n",
      "  File \"/glade/work/kristenk/miniconda/envs/analysis4/lib/python3.7/site-packages/distributed/scheduler.py\", line 2197, in heartbeat_worker\n",
      "    self.tasks[key]: duration for key, duration in executing.items()\n",
      "  File \"/glade/work/kristenk/miniconda/envs/analysis4/lib/python3.7/site-packages/distributed/scheduler.py\", line 2197, in <dictcomp>\n",
      "    self.tasks[key]: duration for key, duration in executing.items()\n",
      "KeyError: \"('open_dataset-1478fdd15c48f9c7a27c3b934b58feafDYU-305ae1079f460b04cc38ec9db73feb5e', 0, 0)\"\n"
     ]
    },
    {
     "name": "stdout",
     "output_type": "stream",
     "text": [
      "start year= 2008 member= 10\n",
      "start year= 2008 member= 11\n",
      "start year= 2008 member= 12\n",
      "start year= 2008 member= 13\n",
      "start year= 2008 member= 14\n",
      "start year= 2008 member= 15\n",
      "start year= 2008 member= 16\n",
      "start year= 2008 member= 17\n",
      "start year= 2008 member= 18\n",
      "start year= 2008 member= 19\n",
      "start year= 2008 member= 20\n",
      "start year= 2008 member= 21\n",
      "start year= 2008 member= 22\n",
      "start year= 2008 member= 23\n",
      "start year= 2008 member= 24\n",
      "start year= 2008 member= 25\n",
      "start year= 2008 member= 26\n",
      "start year= 2008 member= 27\n",
      "start year= 2008 member= 28\n",
      "start year= 2008 member= 29\n",
      "start year= 2008 member= 30\n",
      "start year= 2008 member= 31\n",
      "start year= 2008 member= 32\n",
      "start year= 2008 member= 33\n",
      "start year= 2008 member= 34\n",
      "start year= 2008 member= 35\n",
      "start year= 2008 member= 36\n",
      "start year= 2008 member= 37\n",
      "start year= 2008 member= 38\n",
      "start year= 2008 member= 39\n",
      "start year= 2008 member= 40\n",
      "start year= 2009 member= 1\n",
      "start year= 2009 member= 2\n"
     ]
    },
    {
     "name": "stderr",
     "output_type": "stream",
     "text": [
      "distributed.core - ERROR - Exception while handling op heartbeat_worker\n",
      "Traceback (most recent call last):\n",
      "  File \"/glade/work/kristenk/miniconda/envs/analysis4/lib/python3.7/site-packages/distributed/core.py\", line 493, in handle_comm\n",
      "    result = handler(comm, **msg)\n",
      "  File \"/glade/work/kristenk/miniconda/envs/analysis4/lib/python3.7/site-packages/distributed/scheduler.py\", line 2197, in heartbeat_worker\n",
      "    self.tasks[key]: duration for key, duration in executing.items()\n",
      "  File \"/glade/work/kristenk/miniconda/envs/analysis4/lib/python3.7/site-packages/distributed/scheduler.py\", line 2197, in <dictcomp>\n",
      "    self.tasks[key]: duration for key, duration in executing.items()\n",
      "KeyError: \"('open_dataset-bd2ae224c05a971be7c2450360efb4c1HTE-5090ace33cbc9f5e790a4bab7ccfe0c2', 0, 0)\"\n",
      "distributed.core - ERROR - Exception while handling op heartbeat_worker\n",
      "Traceback (most recent call last):\n",
      "  File \"/glade/work/kristenk/miniconda/envs/analysis4/lib/python3.7/site-packages/distributed/core.py\", line 493, in handle_comm\n",
      "    result = handler(comm, **msg)\n",
      "  File \"/glade/work/kristenk/miniconda/envs/analysis4/lib/python3.7/site-packages/distributed/scheduler.py\", line 2197, in heartbeat_worker\n",
      "    self.tasks[key]: duration for key, duration in executing.items()\n",
      "  File \"/glade/work/kristenk/miniconda/envs/analysis4/lib/python3.7/site-packages/distributed/scheduler.py\", line 2197, in <dictcomp>\n",
      "    self.tasks[key]: duration for key, duration in executing.items()\n",
      "KeyError: \"('open_dataset-bd2ae224c05a971be7c2450360efb4c1HU-2418e26d2fd6bec5a4585bdd86f1bf4f', 0, 0)\"\n"
     ]
    },
    {
     "name": "stdout",
     "output_type": "stream",
     "text": [
      "start year= 2009 member= 3\n",
      "start year= 2009 member= 4\n",
      "start year= 2009 member= 5\n"
     ]
    },
    {
     "name": "stderr",
     "output_type": "stream",
     "text": [
      "distributed.core - ERROR - Exception while handling op heartbeat_worker\n",
      "Traceback (most recent call last):\n",
      "  File \"/glade/work/kristenk/miniconda/envs/analysis4/lib/python3.7/site-packages/distributed/core.py\", line 493, in handle_comm\n",
      "    result = handler(comm, **msg)\n",
      "  File \"/glade/work/kristenk/miniconda/envs/analysis4/lib/python3.7/site-packages/distributed/scheduler.py\", line 2197, in heartbeat_worker\n",
      "    self.tasks[key]: duration for key, duration in executing.items()\n",
      "  File \"/glade/work/kristenk/miniconda/envs/analysis4/lib/python3.7/site-packages/distributed/scheduler.py\", line 2197, in <dictcomp>\n",
      "    self.tasks[key]: duration for key, duration in executing.items()\n",
      "KeyError: \"('open_dataset-32f06529b42d191a9ac3005271a53747HT-049d8362c32aa548830342a61e26fe9b', 0, 0)\"\n"
     ]
    },
    {
     "name": "stdout",
     "output_type": "stream",
     "text": [
      "start year= 2009 member= 6\n",
      "start year= 2009 member= 7\n"
     ]
    },
    {
     "name": "stderr",
     "output_type": "stream",
     "text": [
      "distributed.core - ERROR - Exception while handling op heartbeat_worker\n",
      "Traceback (most recent call last):\n",
      "  File \"/glade/work/kristenk/miniconda/envs/analysis4/lib/python3.7/site-packages/distributed/core.py\", line 493, in handle_comm\n",
      "    result = handler(comm, **msg)\n",
      "  File \"/glade/work/kristenk/miniconda/envs/analysis4/lib/python3.7/site-packages/distributed/scheduler.py\", line 2197, in heartbeat_worker\n",
      "    self.tasks[key]: duration for key, duration in executing.items()\n",
      "  File \"/glade/work/kristenk/miniconda/envs/analysis4/lib/python3.7/site-packages/distributed/scheduler.py\", line 2197, in <dictcomp>\n",
      "    self.tasks[key]: duration for key, duration in executing.items()\n",
      "KeyError: \"('open_dataset-a68c3ca5d87087271b794f795689dcd0HUS-1ec7581dc7eaf9ba7f3fc2cba4aad0d6', 0, 0)\"\n"
     ]
    },
    {
     "name": "stdout",
     "output_type": "stream",
     "text": [
      "start year= 2009 member= 8\n"
     ]
    },
    {
     "name": "stderr",
     "output_type": "stream",
     "text": [
      "distributed.core - ERROR - Exception while handling op heartbeat_worker\n",
      "Traceback (most recent call last):\n",
      "  File \"/glade/work/kristenk/miniconda/envs/analysis4/lib/python3.7/site-packages/distributed/core.py\", line 493, in handle_comm\n",
      "    result = handler(comm, **msg)\n",
      "  File \"/glade/work/kristenk/miniconda/envs/analysis4/lib/python3.7/site-packages/distributed/scheduler.py\", line 2197, in heartbeat_worker\n",
      "    self.tasks[key]: duration for key, duration in executing.items()\n",
      "  File \"/glade/work/kristenk/miniconda/envs/analysis4/lib/python3.7/site-packages/distributed/scheduler.py\", line 2197, in <dictcomp>\n",
      "    self.tasks[key]: duration for key, duration in executing.items()\n",
      "KeyError: \"('open_dataset-63b37973f4a3aa3300a3cd726a1c87b6DYU-dd235ab272d2e8e69541e4f42ce4e4f7', 0, 0)\"\n"
     ]
    },
    {
     "name": "stdout",
     "output_type": "stream",
     "text": [
      "start year= 2009 member= 9\n",
      "start year= 2009 member= 10\n",
      "start year= 2009 member= 11\n",
      "start year= 2009 member= 12\n",
      "start year= 2009 member= 13\n",
      "start year= 2009 member= 14\n",
      "start year= 2009 member= 15\n",
      "start year= 2009 member= 16\n",
      "start year= 2009 member= 17\n",
      "start year= 2009 member= 18\n",
      "start year= 2009 member= 19\n",
      "start year= 2009 member= 20\n",
      "start year= 2009 member= 21\n",
      "start year= 2009 member= 22\n",
      "start year= 2009 member= 23\n",
      "start year= 2009 member= 24\n",
      "start year= 2009 member= 25\n",
      "start year= 2009 member= 26\n",
      "start year= 2009 member= 27\n",
      "start year= 2009 member= 28\n",
      "start year= 2009 member= 29\n",
      "start year= 2009 member= 30\n",
      "start year= 2009 member= 31\n",
      "start year= 2009 member= 32\n",
      "start year= 2009 member= 33\n",
      "start year= 2009 member= 34\n",
      "start year= 2009 member= 35\n",
      "start year= 2009 member= 36\n"
     ]
    },
    {
     "name": "stderr",
     "output_type": "stream",
     "text": [
      "distributed.core - ERROR - Exception while handling op heartbeat_worker\n",
      "Traceback (most recent call last):\n",
      "  File \"/glade/work/kristenk/miniconda/envs/analysis4/lib/python3.7/site-packages/distributed/core.py\", line 493, in handle_comm\n",
      "    result = handler(comm, **msg)\n",
      "  File \"/glade/work/kristenk/miniconda/envs/analysis4/lib/python3.7/site-packages/distributed/scheduler.py\", line 2197, in heartbeat_worker\n",
      "    self.tasks[key]: duration for key, duration in executing.items()\n",
      "  File \"/glade/work/kristenk/miniconda/envs/analysis4/lib/python3.7/site-packages/distributed/scheduler.py\", line 2197, in <dictcomp>\n",
      "    self.tasks[key]: duration for key, duration in executing.items()\n",
      "KeyError: \"('open_dataset-6f16f8ac325cafaa90c72c10d5677682HTN-33767a74689c8bafad6d08ac5d2bcd95', 0, 0)\"\n"
     ]
    },
    {
     "name": "stdout",
     "output_type": "stream",
     "text": [
      "start year= 2009 member= 37\n",
      "start year= 2009 member= 38\n",
      "start year= 2009 member= 39\n"
     ]
    },
    {
     "name": "stderr",
     "output_type": "stream",
     "text": [
      "distributed.core - ERROR - Exception while handling op heartbeat_worker\n",
      "Traceback (most recent call last):\n",
      "  File \"/glade/work/kristenk/miniconda/envs/analysis4/lib/python3.7/site-packages/distributed/core.py\", line 493, in handle_comm\n",
      "    result = handler(comm, **msg)\n",
      "  File \"/glade/work/kristenk/miniconda/envs/analysis4/lib/python3.7/site-packages/distributed/scheduler.py\", line 2197, in heartbeat_worker\n",
      "    self.tasks[key]: duration for key, duration in executing.items()\n",
      "  File \"/glade/work/kristenk/miniconda/envs/analysis4/lib/python3.7/site-packages/distributed/scheduler.py\", line 2197, in <dictcomp>\n",
      "    self.tasks[key]: duration for key, duration in executing.items()\n",
      "KeyError: \"('open_dataset-c4a3f762fe3d8ad7743b3284f110369aHTE-2f7e96c1c794325d1edfc2ad5a4dda73', 0, 0)\"\n",
      "distributed.core - ERROR - Exception while handling op heartbeat_worker\n",
      "Traceback (most recent call last):\n",
      "  File \"/glade/work/kristenk/miniconda/envs/analysis4/lib/python3.7/site-packages/distributed/core.py\", line 493, in handle_comm\n",
      "    result = handler(comm, **msg)\n",
      "  File \"/glade/work/kristenk/miniconda/envs/analysis4/lib/python3.7/site-packages/distributed/scheduler.py\", line 2197, in heartbeat_worker\n",
      "    self.tasks[key]: duration for key, duration in executing.items()\n",
      "  File \"/glade/work/kristenk/miniconda/envs/analysis4/lib/python3.7/site-packages/distributed/scheduler.py\", line 2197, in <dictcomp>\n",
      "    self.tasks[key]: duration for key, duration in executing.items()\n",
      "KeyError: \"('open_dataset-c4a3f762fe3d8ad7743b3284f110369aHUS-074254d3ea77cd4240fe0fc9ca20c0ee', 0, 0)\"\n"
     ]
    },
    {
     "name": "stdout",
     "output_type": "stream",
     "text": [
      "start year= 2009 member= 40\n",
      "start year= 2010 member= 1\n",
      "start year= 2010 member= 2\n",
      "start year= 2010 member= 3\n",
      "start year= 2010 member= 4\n",
      "start year= 2010 member= 5\n",
      "start year= 2010 member= 6\n",
      "start year= 2010 member= 7\n",
      "start year= 2010 member= 8\n",
      "start year= 2010 member= 9\n",
      "start year= 2010 member= 10\n"
     ]
    },
    {
     "name": "stderr",
     "output_type": "stream",
     "text": [
      "distributed.core - ERROR - Exception while handling op heartbeat_worker\n",
      "Traceback (most recent call last):\n",
      "  File \"/glade/work/kristenk/miniconda/envs/analysis4/lib/python3.7/site-packages/distributed/core.py\", line 493, in handle_comm\n",
      "    result = handler(comm, **msg)\n",
      "  File \"/glade/work/kristenk/miniconda/envs/analysis4/lib/python3.7/site-packages/distributed/scheduler.py\", line 2197, in heartbeat_worker\n",
      "    self.tasks[key]: duration for key, duration in executing.items()\n",
      "  File \"/glade/work/kristenk/miniconda/envs/analysis4/lib/python3.7/site-packages/distributed/scheduler.py\", line 2197, in <dictcomp>\n",
      "    self.tasks[key]: duration for key, duration in executing.items()\n",
      "KeyError: \"('open_dataset-d360126f11dc548b889225290f42b138HT-87b08efabfc261e42e2c7e15c285e87a', 0, 0)\"\n"
     ]
    },
    {
     "name": "stdout",
     "output_type": "stream",
     "text": [
      "start year= 2010 member= 11\n",
      "start year= 2010 member= 12\n",
      "start year= 2010 member= 13\n",
      "start year= 2010 member= 14\n",
      "start year= 2010 member= 15\n",
      "start year= 2010 member= 16\n"
     ]
    },
    {
     "name": "stderr",
     "output_type": "stream",
     "text": [
      "distributed.core - ERROR - Exception while handling op heartbeat_worker\n",
      "Traceback (most recent call last):\n",
      "  File \"/glade/work/kristenk/miniconda/envs/analysis4/lib/python3.7/site-packages/distributed/core.py\", line 493, in handle_comm\n",
      "    result = handler(comm, **msg)\n",
      "  File \"/glade/work/kristenk/miniconda/envs/analysis4/lib/python3.7/site-packages/distributed/scheduler.py\", line 2197, in heartbeat_worker\n",
      "    self.tasks[key]: duration for key, duration in executing.items()\n",
      "  File \"/glade/work/kristenk/miniconda/envs/analysis4/lib/python3.7/site-packages/distributed/scheduler.py\", line 2197, in <dictcomp>\n",
      "    self.tasks[key]: duration for key, duration in executing.items()\n",
      "KeyError: \"('open_dataset-ea2b3c5b8f2ed0bed208d05ee91b6b32DYU-79f00f733760cbf9aaf4249a414373ca', 0, 0)\"\n"
     ]
    },
    {
     "name": "stdout",
     "output_type": "stream",
     "text": [
      "start year= 2010 member= 17\n",
      "start year= 2010 member= 18\n",
      "start year= 2010 member= 19\n"
     ]
    },
    {
     "name": "stderr",
     "output_type": "stream",
     "text": [
      "distributed.core - ERROR - Exception while handling op heartbeat_worker\n",
      "Traceback (most recent call last):\n",
      "  File \"/glade/work/kristenk/miniconda/envs/analysis4/lib/python3.7/site-packages/distributed/core.py\", line 493, in handle_comm\n",
      "    result = handler(comm, **msg)\n",
      "  File \"/glade/work/kristenk/miniconda/envs/analysis4/lib/python3.7/site-packages/distributed/scheduler.py\", line 2197, in heartbeat_worker\n",
      "    self.tasks[key]: duration for key, duration in executing.items()\n",
      "  File \"/glade/work/kristenk/miniconda/envs/analysis4/lib/python3.7/site-packages/distributed/scheduler.py\", line 2197, in <dictcomp>\n",
      "    self.tasks[key]: duration for key, duration in executing.items()\n",
      "KeyError: \"('open_dataset-243a31700d1cfc0952b1bfe22e3e8342DYU-c759f7c76414a4aebb690ae4e3465b8d', 0, 0)\"\n"
     ]
    },
    {
     "name": "stdout",
     "output_type": "stream",
     "text": [
      "start year= 2010 member= 20\n",
      "start year= 2010 member= 21\n",
      "start year= 2010 member= 22\n",
      "start year= 2010 member= 23\n",
      "start year= 2010 member= 24\n",
      "start year= 2010 member= 25\n",
      "start year= 2010 member= 26\n",
      "start year= 2010 member= 27\n",
      "start year= 2010 member= 28\n",
      "start year= 2010 member= 29\n",
      "start year= 2010 member= 30\n",
      "start year= 2010 member= 31\n",
      "start year= 2010 member= 32\n"
     ]
    },
    {
     "name": "stderr",
     "output_type": "stream",
     "text": [
      "distributed.core - ERROR - Exception while handling op heartbeat_worker\n",
      "Traceback (most recent call last):\n",
      "  File \"/glade/work/kristenk/miniconda/envs/analysis4/lib/python3.7/site-packages/distributed/core.py\", line 493, in handle_comm\n",
      "    result = handler(comm, **msg)\n",
      "  File \"/glade/work/kristenk/miniconda/envs/analysis4/lib/python3.7/site-packages/distributed/scheduler.py\", line 2197, in heartbeat_worker\n",
      "    self.tasks[key]: duration for key, duration in executing.items()\n",
      "  File \"/glade/work/kristenk/miniconda/envs/analysis4/lib/python3.7/site-packages/distributed/scheduler.py\", line 2197, in <dictcomp>\n",
      "    self.tasks[key]: duration for key, duration in executing.items()\n",
      "KeyError: \"('open_dataset-f7e89b90362ce1609e371e0fbdd9f728HU-969a6285186920b474e91af75be1532e', 0, 0)\"\n",
      "distributed.core - ERROR - Exception while handling op heartbeat_worker\n",
      "Traceback (most recent call last):\n",
      "  File \"/glade/work/kristenk/miniconda/envs/analysis4/lib/python3.7/site-packages/distributed/core.py\", line 493, in handle_comm\n",
      "    result = handler(comm, **msg)\n",
      "  File \"/glade/work/kristenk/miniconda/envs/analysis4/lib/python3.7/site-packages/distributed/scheduler.py\", line 2197, in heartbeat_worker\n",
      "    self.tasks[key]: duration for key, duration in executing.items()\n",
      "  File \"/glade/work/kristenk/miniconda/envs/analysis4/lib/python3.7/site-packages/distributed/scheduler.py\", line 2197, in <dictcomp>\n",
      "    self.tasks[key]: duration for key, duration in executing.items()\n",
      "KeyError: \"('open_dataset-f7e89b90362ce1609e371e0fbdd9f728HUS-cd988f239042ba4d524669bf01d0033d', 0, 0)\"\n",
      "distributed.core - ERROR - Exception while handling op heartbeat_worker\n",
      "Traceback (most recent call last):\n",
      "  File \"/glade/work/kristenk/miniconda/envs/analysis4/lib/python3.7/site-packages/distributed/core.py\", line 493, in handle_comm\n",
      "    result = handler(comm, **msg)\n",
      "  File \"/glade/work/kristenk/miniconda/envs/analysis4/lib/python3.7/site-packages/distributed/scheduler.py\", line 2197, in heartbeat_worker\n",
      "    self.tasks[key]: duration for key, duration in executing.items()\n",
      "  File \"/glade/work/kristenk/miniconda/envs/analysis4/lib/python3.7/site-packages/distributed/scheduler.py\", line 2197, in <dictcomp>\n",
      "    self.tasks[key]: duration for key, duration in executing.items()\n",
      "KeyError: \"('open_dataset-f7e89b90362ce1609e371e0fbdd9f728HTN-6ed91b724ee7829ea34f750fccd2536b', 0, 0)\"\n"
     ]
    },
    {
     "name": "stdout",
     "output_type": "stream",
     "text": [
      "start year= 2010 member= 33\n",
      "start year= 2010 member= 34\n",
      "start year= 2010 member= 35\n"
     ]
    },
    {
     "name": "stderr",
     "output_type": "stream",
     "text": [
      "distributed.core - ERROR - Exception while handling op heartbeat_worker\n",
      "Traceback (most recent call last):\n",
      "  File \"/glade/work/kristenk/miniconda/envs/analysis4/lib/python3.7/site-packages/distributed/core.py\", line 493, in handle_comm\n",
      "    result = handler(comm, **msg)\n",
      "  File \"/glade/work/kristenk/miniconda/envs/analysis4/lib/python3.7/site-packages/distributed/scheduler.py\", line 2197, in heartbeat_worker\n",
      "    self.tasks[key]: duration for key, duration in executing.items()\n",
      "  File \"/glade/work/kristenk/miniconda/envs/analysis4/lib/python3.7/site-packages/distributed/scheduler.py\", line 2197, in <dictcomp>\n",
      "    self.tasks[key]: duration for key, duration in executing.items()\n",
      "KeyError: \"('open_dataset-0252118d597dc0f4b6188f435accbc2dDYU-6d46ae737cd7634007585b4acea19e24', 0, 0)\"\n"
     ]
    },
    {
     "name": "stdout",
     "output_type": "stream",
     "text": [
      "start year= 2010 member= 36\n",
      "start year= 2010 member= 37\n",
      "start year= 2010 member= 38\n"
     ]
    },
    {
     "name": "stderr",
     "output_type": "stream",
     "text": [
      "distributed.core - ERROR - Exception while handling op heartbeat_worker\n",
      "Traceback (most recent call last):\n",
      "  File \"/glade/work/kristenk/miniconda/envs/analysis4/lib/python3.7/site-packages/distributed/core.py\", line 493, in handle_comm\n",
      "    result = handler(comm, **msg)\n",
      "  File \"/glade/work/kristenk/miniconda/envs/analysis4/lib/python3.7/site-packages/distributed/scheduler.py\", line 2197, in heartbeat_worker\n",
      "    self.tasks[key]: duration for key, duration in executing.items()\n",
      "  File \"/glade/work/kristenk/miniconda/envs/analysis4/lib/python3.7/site-packages/distributed/scheduler.py\", line 2197, in <dictcomp>\n",
      "    self.tasks[key]: duration for key, duration in executing.items()\n",
      "KeyError: \"('open_dataset-7297fd1a4dc76ecd1dbfdfd3306b4533HT-960289124661ae7b7151397c6c70ad9a', 0, 0)\"\n"
     ]
    },
    {
     "name": "stdout",
     "output_type": "stream",
     "text": [
      "start year= 2010 member= 39\n",
      "start year= 2010 member= 40\n",
      "start year= 2011 member= 1\n",
      "start year= 2011 member= 2\n",
      "start year= 2011 member= 3\n",
      "start year= 2011 member= 4\n",
      "start year= 2011 member= 5\n",
      "start year= 2011 member= 6\n",
      "start year= 2011 member= 7\n",
      "start year= 2011 member= 8\n",
      "start year= 2011 member= 9\n",
      "start year= 2011 member= 10\n",
      "start year= 2011 member= 11\n",
      "start year= 2011 member= 12\n",
      "start year= 2011 member= 13\n",
      "start year= 2011 member= 14\n",
      "start year= 2011 member= 15\n",
      "start year= 2011 member= 16\n",
      "start year= 2011 member= 17\n",
      "start year= 2011 member= 18\n",
      "start year= 2011 member= 19\n"
     ]
    },
    {
     "name": "stderr",
     "output_type": "stream",
     "text": [
      "distributed.core - ERROR - Exception while handling op heartbeat_worker\n",
      "Traceback (most recent call last):\n",
      "  File \"/glade/work/kristenk/miniconda/envs/analysis4/lib/python3.7/site-packages/distributed/core.py\", line 493, in handle_comm\n",
      "    result = handler(comm, **msg)\n",
      "  File \"/glade/work/kristenk/miniconda/envs/analysis4/lib/python3.7/site-packages/distributed/scheduler.py\", line 2197, in heartbeat_worker\n",
      "    self.tasks[key]: duration for key, duration in executing.items()\n",
      "  File \"/glade/work/kristenk/miniconda/envs/analysis4/lib/python3.7/site-packages/distributed/scheduler.py\", line 2197, in <dictcomp>\n",
      "    self.tasks[key]: duration for key, duration in executing.items()\n",
      "KeyError: \"('open_dataset-f30a15b0a2ad896ec8928a2e4a5b8a8eANGLE-5b0a0ee5f73da16c225a01d2b2f09883', 0, 0)\"\n",
      "distributed.core - ERROR - Exception while handling op heartbeat_worker\n",
      "Traceback (most recent call last):\n",
      "  File \"/glade/work/kristenk/miniconda/envs/analysis4/lib/python3.7/site-packages/distributed/core.py\", line 493, in handle_comm\n",
      "    result = handler(comm, **msg)\n",
      "  File \"/glade/work/kristenk/miniconda/envs/analysis4/lib/python3.7/site-packages/distributed/scheduler.py\", line 2197, in heartbeat_worker\n",
      "    self.tasks[key]: duration for key, duration in executing.items()\n",
      "  File \"/glade/work/kristenk/miniconda/envs/analysis4/lib/python3.7/site-packages/distributed/scheduler.py\", line 2197, in <dictcomp>\n",
      "    self.tasks[key]: duration for key, duration in executing.items()\n",
      "KeyError: \"('open_dataset-f30a15b0a2ad896ec8928a2e4a5b8a8eANGLET-e991bb1bc829a0cdc04d8d30559ea676', 0, 0)\"\n"
     ]
    },
    {
     "name": "stdout",
     "output_type": "stream",
     "text": [
      "start year= 2011 member= 20\n",
      "start year= 2011 member= 21\n",
      "start year= 2011 member= 22\n",
      "start year= 2011 member= 23\n",
      "start year= 2011 member= 24\n",
      "start year= 2011 member= 25\n"
     ]
    },
    {
     "name": "stderr",
     "output_type": "stream",
     "text": [
      "distributed.core - ERROR - Exception while handling op heartbeat_worker\n",
      "Traceback (most recent call last):\n",
      "  File \"/glade/work/kristenk/miniconda/envs/analysis4/lib/python3.7/site-packages/distributed/core.py\", line 493, in handle_comm\n",
      "    result = handler(comm, **msg)\n",
      "  File \"/glade/work/kristenk/miniconda/envs/analysis4/lib/python3.7/site-packages/distributed/scheduler.py\", line 2197, in heartbeat_worker\n",
      "    self.tasks[key]: duration for key, duration in executing.items()\n",
      "  File \"/glade/work/kristenk/miniconda/envs/analysis4/lib/python3.7/site-packages/distributed/scheduler.py\", line 2197, in <dictcomp>\n",
      "    self.tasks[key]: duration for key, duration in executing.items()\n",
      "KeyError: \"('open_dataset-0f902d41eec6c891ebd2136dac0288f4HT-23108072d480f56b8863b6b6af0aa0be', 0, 0)\"\n"
     ]
    },
    {
     "name": "stdout",
     "output_type": "stream",
     "text": [
      "start year= 2011 member= 26\n",
      "start year= 2011 member= 27\n",
      "start year= 2011 member= 28\n",
      "start year= 2011 member= 29\n",
      "start year= 2011 member= 30\n",
      "start year= 2011 member= 31\n",
      "start year= 2011 member= 32\n",
      "start year= 2011 member= 33\n",
      "start year= 2011 member= 34\n",
      "start year= 2011 member= 35\n",
      "start year= 2011 member= 36\n",
      "start year= 2011 member= 37\n",
      "start year= 2011 member= 38\n",
      "start year= 2011 member= 39\n"
     ]
    },
    {
     "name": "stderr",
     "output_type": "stream",
     "text": [
      "distributed.core - ERROR - Exception while handling op heartbeat_worker\n",
      "Traceback (most recent call last):\n",
      "  File \"/glade/work/kristenk/miniconda/envs/analysis4/lib/python3.7/site-packages/distributed/core.py\", line 493, in handle_comm\n",
      "    result = handler(comm, **msg)\n",
      "  File \"/glade/work/kristenk/miniconda/envs/analysis4/lib/python3.7/site-packages/distributed/scheduler.py\", line 2197, in heartbeat_worker\n",
      "    self.tasks[key]: duration for key, duration in executing.items()\n",
      "  File \"/glade/work/kristenk/miniconda/envs/analysis4/lib/python3.7/site-packages/distributed/scheduler.py\", line 2197, in <dictcomp>\n",
      "    self.tasks[key]: duration for key, duration in executing.items()\n",
      "KeyError: \"('open_dataset-dad98912c8091f34237cda6690e86c79DXT-4bca4096f271216171b138c070d2efeb', 0, 0)\"\n",
      "distributed.core - ERROR - Exception while handling op heartbeat_worker\n",
      "Traceback (most recent call last):\n",
      "  File \"/glade/work/kristenk/miniconda/envs/analysis4/lib/python3.7/site-packages/distributed/core.py\", line 493, in handle_comm\n",
      "    result = handler(comm, **msg)\n",
      "  File \"/glade/work/kristenk/miniconda/envs/analysis4/lib/python3.7/site-packages/distributed/scheduler.py\", line 2197, in heartbeat_worker\n",
      "    self.tasks[key]: duration for key, duration in executing.items()\n",
      "  File \"/glade/work/kristenk/miniconda/envs/analysis4/lib/python3.7/site-packages/distributed/scheduler.py\", line 2197, in <dictcomp>\n",
      "    self.tasks[key]: duration for key, duration in executing.items()\n",
      "KeyError: \"('open_dataset-dad98912c8091f34237cda6690e86c79DYT-10627e6691d25310f1ce096749959f0f', 0, 0)\"\n"
     ]
    },
    {
     "name": "stdout",
     "output_type": "stream",
     "text": [
      "start year= 2011 member= 40\n",
      "start year= 2012 member= 1\n",
      "start year= 2012 member= 2\n",
      "start year= 2012 member= 3\n",
      "start year= 2012 member= 4\n",
      "start year= 2012 member= 5\n",
      "start year= 2012 member= 6\n",
      "start year= 2012 member= 7\n",
      "start year= 2012 member= 8\n",
      "start year= 2012 member= 9\n",
      "start year= 2012 member= 10\n",
      "start year= 2012 member= 11\n",
      "start year= 2012 member= 12\n",
      "start year= 2012 member= 13\n",
      "start year= 2012 member= 14\n"
     ]
    },
    {
     "name": "stderr",
     "output_type": "stream",
     "text": [
      "distributed.core - ERROR - Exception while handling op heartbeat_worker\n",
      "Traceback (most recent call last):\n",
      "  File \"/glade/work/kristenk/miniconda/envs/analysis4/lib/python3.7/site-packages/distributed/core.py\", line 493, in handle_comm\n",
      "    result = handler(comm, **msg)\n",
      "  File \"/glade/work/kristenk/miniconda/envs/analysis4/lib/python3.7/site-packages/distributed/scheduler.py\", line 2197, in heartbeat_worker\n",
      "    self.tasks[key]: duration for key, duration in executing.items()\n",
      "  File \"/glade/work/kristenk/miniconda/envs/analysis4/lib/python3.7/site-packages/distributed/scheduler.py\", line 2197, in <dictcomp>\n",
      "    self.tasks[key]: duration for key, duration in executing.items()\n",
      "KeyError: \"('open_dataset-9eea46dfa73d5251ae3a0341f2bcf75eHUS-1ebc41c2362f783f8817c62177a02b1f', 0, 0)\"\n"
     ]
    },
    {
     "name": "stdout",
     "output_type": "stream",
     "text": [
      "start year= 2012 member= 15\n",
      "start year= 2012 member= 16\n",
      "start year= 2012 member= 17\n",
      "start year= 2012 member= 18\n",
      "start year= 2012 member= 19\n"
     ]
    },
    {
     "name": "stderr",
     "output_type": "stream",
     "text": [
      "distributed.core - ERROR - Exception while handling op heartbeat_worker\n",
      "Traceback (most recent call last):\n",
      "  File \"/glade/work/kristenk/miniconda/envs/analysis4/lib/python3.7/site-packages/distributed/core.py\", line 493, in handle_comm\n",
      "    result = handler(comm, **msg)\n",
      "  File \"/glade/work/kristenk/miniconda/envs/analysis4/lib/python3.7/site-packages/distributed/scheduler.py\", line 2197, in heartbeat_worker\n",
      "    self.tasks[key]: duration for key, duration in executing.items()\n",
      "  File \"/glade/work/kristenk/miniconda/envs/analysis4/lib/python3.7/site-packages/distributed/scheduler.py\", line 2197, in <dictcomp>\n",
      "    self.tasks[key]: duration for key, duration in executing.items()\n",
      "KeyError: \"('open_dataset-f838c7729fb1f33c27b7586f2f47c025DYT-9c855f1b67a87f7acc3c40ad3f5c8c2e', 0, 0)\"\n"
     ]
    },
    {
     "name": "stdout",
     "output_type": "stream",
     "text": [
      "start year= 2012 member= 20\n",
      "start year= 2012 member= 21\n",
      "start year= 2012 member= 22\n"
     ]
    },
    {
     "name": "stderr",
     "output_type": "stream",
     "text": [
      "distributed.core - ERROR - Exception while handling op heartbeat_worker\n",
      "Traceback (most recent call last):\n",
      "  File \"/glade/work/kristenk/miniconda/envs/analysis4/lib/python3.7/site-packages/distributed/core.py\", line 493, in handle_comm\n",
      "    result = handler(comm, **msg)\n",
      "  File \"/glade/work/kristenk/miniconda/envs/analysis4/lib/python3.7/site-packages/distributed/scheduler.py\", line 2197, in heartbeat_worker\n",
      "    self.tasks[key]: duration for key, duration in executing.items()\n",
      "  File \"/glade/work/kristenk/miniconda/envs/analysis4/lib/python3.7/site-packages/distributed/scheduler.py\", line 2197, in <dictcomp>\n",
      "    self.tasks[key]: duration for key, duration in executing.items()\n",
      "KeyError: \"('open_dataset-d4698a22e1c13059b7a12d67df9e5ecbHUS-e598950c2c02f789baaabc5b96aa81f3', 0, 0)\"\n",
      "distributed.core - ERROR - Exception while handling op heartbeat_worker\n",
      "Traceback (most recent call last):\n",
      "  File \"/glade/work/kristenk/miniconda/envs/analysis4/lib/python3.7/site-packages/distributed/core.py\", line 493, in handle_comm\n",
      "    result = handler(comm, **msg)\n",
      "  File \"/glade/work/kristenk/miniconda/envs/analysis4/lib/python3.7/site-packages/distributed/scheduler.py\", line 2197, in heartbeat_worker\n",
      "    self.tasks[key]: duration for key, duration in executing.items()\n",
      "  File \"/glade/work/kristenk/miniconda/envs/analysis4/lib/python3.7/site-packages/distributed/scheduler.py\", line 2197, in <dictcomp>\n",
      "    self.tasks[key]: duration for key, duration in executing.items()\n",
      "KeyError: \"('open_dataset-d4698a22e1c13059b7a12d67df9e5ecbHU-2a77bc901f80a49c04f22002df8d1166', 0, 0)\"\n",
      "distributed.core - ERROR - Exception while handling op heartbeat_worker\n",
      "Traceback (most recent call last):\n",
      "  File \"/glade/work/kristenk/miniconda/envs/analysis4/lib/python3.7/site-packages/distributed/core.py\", line 493, in handle_comm\n",
      "    result = handler(comm, **msg)\n",
      "  File \"/glade/work/kristenk/miniconda/envs/analysis4/lib/python3.7/site-packages/distributed/scheduler.py\", line 2197, in heartbeat_worker\n",
      "    self.tasks[key]: duration for key, duration in executing.items()\n",
      "  File \"/glade/work/kristenk/miniconda/envs/analysis4/lib/python3.7/site-packages/distributed/scheduler.py\", line 2197, in <dictcomp>\n",
      "    self.tasks[key]: duration for key, duration in executing.items()\n",
      "KeyError: \"('open_dataset-d4698a22e1c13059b7a12d67df9e5ecbHTE-fced963075c9599ec461e3026d74ba40', 0, 0)\"\n",
      "distributed.core - ERROR - Exception while handling op heartbeat_worker\n",
      "Traceback (most recent call last):\n",
      "  File \"/glade/work/kristenk/miniconda/envs/analysis4/lib/python3.7/site-packages/distributed/core.py\", line 493, in handle_comm\n",
      "    result = handler(comm, **msg)\n",
      "  File \"/glade/work/kristenk/miniconda/envs/analysis4/lib/python3.7/site-packages/distributed/scheduler.py\", line 2197, in heartbeat_worker\n",
      "    self.tasks[key]: duration for key, duration in executing.items()\n",
      "  File \"/glade/work/kristenk/miniconda/envs/analysis4/lib/python3.7/site-packages/distributed/scheduler.py\", line 2197, in <dictcomp>\n",
      "    self.tasks[key]: duration for key, duration in executing.items()\n",
      "KeyError: \"('open_dataset-d4698a22e1c13059b7a12d67df9e5ecbHTN-a1775f45a1c0cecb16123181f39948e4', 0, 0)\"\n"
     ]
    },
    {
     "name": "stdout",
     "output_type": "stream",
     "text": [
      "start year= 2012 member= 23\n",
      "start year= 2012 member= 24\n",
      "start year= 2012 member= 25\n"
     ]
    },
    {
     "name": "stderr",
     "output_type": "stream",
     "text": [
      "distributed.core - ERROR - Exception while handling op heartbeat_worker\n",
      "Traceback (most recent call last):\n",
      "  File \"/glade/work/kristenk/miniconda/envs/analysis4/lib/python3.7/site-packages/distributed/core.py\", line 493, in handle_comm\n",
      "    result = handler(comm, **msg)\n",
      "  File \"/glade/work/kristenk/miniconda/envs/analysis4/lib/python3.7/site-packages/distributed/scheduler.py\", line 2197, in heartbeat_worker\n",
      "    self.tasks[key]: duration for key, duration in executing.items()\n",
      "  File \"/glade/work/kristenk/miniconda/envs/analysis4/lib/python3.7/site-packages/distributed/scheduler.py\", line 2197, in <dictcomp>\n",
      "    self.tasks[key]: duration for key, duration in executing.items()\n",
      "KeyError: \"('open_dataset-ede36e504ed376e113870b02df9b0858ANGLE-0f5cbc78ea7e9f128231b75a3c6fb4e9', 0, 0)\"\n",
      "distributed.core - ERROR - Exception while handling op heartbeat_worker\n",
      "Traceback (most recent call last):\n",
      "  File \"/glade/work/kristenk/miniconda/envs/analysis4/lib/python3.7/site-packages/distributed/core.py\", line 493, in handle_comm\n",
      "    result = handler(comm, **msg)\n",
      "  File \"/glade/work/kristenk/miniconda/envs/analysis4/lib/python3.7/site-packages/distributed/scheduler.py\", line 2197, in heartbeat_worker\n",
      "    self.tasks[key]: duration for key, duration in executing.items()\n",
      "  File \"/glade/work/kristenk/miniconda/envs/analysis4/lib/python3.7/site-packages/distributed/scheduler.py\", line 2197, in <dictcomp>\n",
      "    self.tasks[key]: duration for key, duration in executing.items()\n",
      "KeyError: \"('open_dataset-ede36e504ed376e113870b02df9b0858ANGLET-310ed1f37591ee58e69d83866894a6ed', 0, 0)\"\n",
      "distributed.core - ERROR - Exception while handling op heartbeat_worker\n",
      "Traceback (most recent call last):\n",
      "  File \"/glade/work/kristenk/miniconda/envs/analysis4/lib/python3.7/site-packages/distributed/core.py\", line 493, in handle_comm\n",
      "    result = handler(comm, **msg)\n",
      "  File \"/glade/work/kristenk/miniconda/envs/analysis4/lib/python3.7/site-packages/distributed/scheduler.py\", line 2197, in heartbeat_worker\n",
      "    self.tasks[key]: duration for key, duration in executing.items()\n",
      "  File \"/glade/work/kristenk/miniconda/envs/analysis4/lib/python3.7/site-packages/distributed/scheduler.py\", line 2197, in <dictcomp>\n",
      "    self.tasks[key]: duration for key, duration in executing.items()\n",
      "KeyError: \"('open_dataset-ede36e504ed376e113870b02df9b0858HUW-bf9a755a69fef198fc968a5922a8d909', 0, 0)\"\n"
     ]
    },
    {
     "name": "stdout",
     "output_type": "stream",
     "text": [
      "start year= 2012 member= 26\n",
      "start year= 2012 member= 27\n",
      "start year= 2012 member= 28\n",
      "start year= 2012 member= 29\n",
      "start year= 2012 member= 30\n",
      "start year= 2012 member= 31\n",
      "start year= 2012 member= 32\n",
      "start year= 2012 member= 33\n",
      "start year= 2012 member= 34\n",
      "start year= 2012 member= 35\n",
      "start year= 2012 member= 36\n",
      "start year= 2012 member= 37\n",
      "start year= 2012 member= 38\n"
     ]
    },
    {
     "name": "stderr",
     "output_type": "stream",
     "text": [
      "distributed.core - ERROR - Exception while handling op heartbeat_worker\n",
      "Traceback (most recent call last):\n",
      "  File \"/glade/work/kristenk/miniconda/envs/analysis4/lib/python3.7/site-packages/distributed/core.py\", line 493, in handle_comm\n",
      "    result = handler(comm, **msg)\n",
      "  File \"/glade/work/kristenk/miniconda/envs/analysis4/lib/python3.7/site-packages/distributed/scheduler.py\", line 2197, in heartbeat_worker\n",
      "    self.tasks[key]: duration for key, duration in executing.items()\n",
      "  File \"/glade/work/kristenk/miniconda/envs/analysis4/lib/python3.7/site-packages/distributed/scheduler.py\", line 2197, in <dictcomp>\n",
      "    self.tasks[key]: duration for key, duration in executing.items()\n",
      "KeyError: \"('open_dataset-df046165545ab8a1bcf99135505f1289DXT-6223b5ece8b8214c6f2275a420c51765', 0, 0)\"\n"
     ]
    },
    {
     "name": "stdout",
     "output_type": "stream",
     "text": [
      "start year= 2012 member= 39\n",
      "start year= 2012 member= 40\n",
      "start year= 2013 member= 1\n",
      "start year= 2013 member= 2\n",
      "start year= 2013 member= 3\n",
      "start year= 2013 member= 4\n",
      "start year= 2013 member= 5\n",
      "start year= 2013 member= 6\n",
      "start year= 2013 member= 7\n",
      "start year= 2013 member= 8\n",
      "start year= 2013 member= 9\n",
      "start year= 2013 member= 10\n",
      "start year= 2013 member= 11\n",
      "start year= 2013 member= 12\n",
      "start year= 2013 member= 13\n",
      "start year= 2013 member= 14\n",
      "start year= 2013 member= 15\n",
      "start year= 2013 member= 16\n",
      "start year= 2013 member= 17\n",
      "start year= 2013 member= 18\n",
      "start year= 2013 member= 19\n"
     ]
    },
    {
     "name": "stderr",
     "output_type": "stream",
     "text": [
      "distributed.core - ERROR - Exception while handling op heartbeat_worker\n",
      "Traceback (most recent call last):\n",
      "  File \"/glade/work/kristenk/miniconda/envs/analysis4/lib/python3.7/site-packages/distributed/core.py\", line 493, in handle_comm\n",
      "    result = handler(comm, **msg)\n",
      "  File \"/glade/work/kristenk/miniconda/envs/analysis4/lib/python3.7/site-packages/distributed/scheduler.py\", line 2197, in heartbeat_worker\n",
      "    self.tasks[key]: duration for key, duration in executing.items()\n",
      "  File \"/glade/work/kristenk/miniconda/envs/analysis4/lib/python3.7/site-packages/distributed/scheduler.py\", line 2197, in <dictcomp>\n",
      "    self.tasks[key]: duration for key, duration in executing.items()\n",
      "KeyError: \"('open_dataset-cda9e60bef08a5e9f67e20edf457cb15HT-498ddfdd3f75879ea753269c538ead18', 0, 0)\"\n"
     ]
    },
    {
     "name": "stdout",
     "output_type": "stream",
     "text": [
      "start year= 2013 member= 20\n",
      "start year= 2013 member= 21\n",
      "start year= 2013 member= 22\n"
     ]
    },
    {
     "name": "stderr",
     "output_type": "stream",
     "text": [
      "distributed.core - ERROR - Exception while handling op heartbeat_worker\n",
      "Traceback (most recent call last):\n",
      "  File \"/glade/work/kristenk/miniconda/envs/analysis4/lib/python3.7/site-packages/distributed/core.py\", line 493, in handle_comm\n",
      "    result = handler(comm, **msg)\n",
      "  File \"/glade/work/kristenk/miniconda/envs/analysis4/lib/python3.7/site-packages/distributed/scheduler.py\", line 2197, in heartbeat_worker\n",
      "    self.tasks[key]: duration for key, duration in executing.items()\n",
      "  File \"/glade/work/kristenk/miniconda/envs/analysis4/lib/python3.7/site-packages/distributed/scheduler.py\", line 2197, in <dictcomp>\n",
      "    self.tasks[key]: duration for key, duration in executing.items()\n",
      "KeyError: \"('open_dataset-113a58a52d40fb3dd175a1f1036e7ba6HU-39f99e7dd295e8ce3026deb69e1e0cbf', 0, 0)\"\n",
      "distributed.core - ERROR - Exception while handling op heartbeat_worker\n",
      "Traceback (most recent call last):\n",
      "  File \"/glade/work/kristenk/miniconda/envs/analysis4/lib/python3.7/site-packages/distributed/core.py\", line 493, in handle_comm\n",
      "    result = handler(comm, **msg)\n",
      "  File \"/glade/work/kristenk/miniconda/envs/analysis4/lib/python3.7/site-packages/distributed/scheduler.py\", line 2197, in heartbeat_worker\n",
      "    self.tasks[key]: duration for key, duration in executing.items()\n",
      "  File \"/glade/work/kristenk/miniconda/envs/analysis4/lib/python3.7/site-packages/distributed/scheduler.py\", line 2197, in <dictcomp>\n",
      "    self.tasks[key]: duration for key, duration in executing.items()\n",
      "KeyError: \"('open_dataset-113a58a52d40fb3dd175a1f1036e7ba6HUS-29ed54381e4bd2c2b4e7ed2922dc5de0', 0, 0)\"\n",
      "distributed.core - ERROR - Exception while handling op heartbeat_worker\n",
      "Traceback (most recent call last):\n",
      "  File \"/glade/work/kristenk/miniconda/envs/analysis4/lib/python3.7/site-packages/distributed/core.py\", line 493, in handle_comm\n",
      "    result = handler(comm, **msg)\n",
      "  File \"/glade/work/kristenk/miniconda/envs/analysis4/lib/python3.7/site-packages/distributed/scheduler.py\", line 2197, in heartbeat_worker\n",
      "    self.tasks[key]: duration for key, duration in executing.items()\n",
      "  File \"/glade/work/kristenk/miniconda/envs/analysis4/lib/python3.7/site-packages/distributed/scheduler.py\", line 2197, in <dictcomp>\n",
      "    self.tasks[key]: duration for key, duration in executing.items()\n",
      "KeyError: \"('open_dataset-113a58a52d40fb3dd175a1f1036e7ba6HTE-d85062ae676cc055fe8cacc036a8dab9', 0, 0)\"\n",
      "distributed.core - ERROR - Exception while handling op heartbeat_worker\n",
      "Traceback (most recent call last):\n",
      "  File \"/glade/work/kristenk/miniconda/envs/analysis4/lib/python3.7/site-packages/distributed/core.py\", line 493, in handle_comm\n",
      "    result = handler(comm, **msg)\n",
      "  File \"/glade/work/kristenk/miniconda/envs/analysis4/lib/python3.7/site-packages/distributed/scheduler.py\", line 2197, in heartbeat_worker\n",
      "    self.tasks[key]: duration for key, duration in executing.items()\n",
      "  File \"/glade/work/kristenk/miniconda/envs/analysis4/lib/python3.7/site-packages/distributed/scheduler.py\", line 2197, in <dictcomp>\n",
      "    self.tasks[key]: duration for key, duration in executing.items()\n",
      "KeyError: \"('open_dataset-113a58a52d40fb3dd175a1f1036e7ba6HTN-557a873cc5d2df1277e76bc316db45fc', 0, 0)\"\n"
     ]
    },
    {
     "name": "stdout",
     "output_type": "stream",
     "text": [
      "start year= 2013 member= 23\n",
      "start year= 2013 member= 24\n",
      "start year= 2013 member= 25\n",
      "start year= 2013 member= 26\n"
     ]
    },
    {
     "name": "stderr",
     "output_type": "stream",
     "text": [
      "distributed.core - ERROR - Exception while handling op heartbeat_worker\n",
      "Traceback (most recent call last):\n",
      "  File \"/glade/work/kristenk/miniconda/envs/analysis4/lib/python3.7/site-packages/distributed/core.py\", line 493, in handle_comm\n",
      "    result = handler(comm, **msg)\n",
      "  File \"/glade/work/kristenk/miniconda/envs/analysis4/lib/python3.7/site-packages/distributed/scheduler.py\", line 2197, in heartbeat_worker\n",
      "    self.tasks[key]: duration for key, duration in executing.items()\n",
      "  File \"/glade/work/kristenk/miniconda/envs/analysis4/lib/python3.7/site-packages/distributed/scheduler.py\", line 2197, in <dictcomp>\n",
      "    self.tasks[key]: duration for key, duration in executing.items()\n",
      "KeyError: \"('open_dataset-b3881c28292259e2f47e626f4d24f05bDYU-8ef0aa50895d4de25a70f59b281059e2', 0, 0)\"\n"
     ]
    },
    {
     "name": "stdout",
     "output_type": "stream",
     "text": [
      "start year= 2013 member= 27\n"
     ]
    },
    {
     "name": "stderr",
     "output_type": "stream",
     "text": [
      "distributed.core - ERROR - Exception while handling op heartbeat_worker\n",
      "Traceback (most recent call last):\n",
      "  File \"/glade/work/kristenk/miniconda/envs/analysis4/lib/python3.7/site-packages/distributed/core.py\", line 493, in handle_comm\n",
      "    result = handler(comm, **msg)\n",
      "  File \"/glade/work/kristenk/miniconda/envs/analysis4/lib/python3.7/site-packages/distributed/scheduler.py\", line 2197, in heartbeat_worker\n",
      "    self.tasks[key]: duration for key, duration in executing.items()\n",
      "  File \"/glade/work/kristenk/miniconda/envs/analysis4/lib/python3.7/site-packages/distributed/scheduler.py\", line 2197, in <dictcomp>\n",
      "    self.tasks[key]: duration for key, duration in executing.items()\n",
      "KeyError: \"('open_dataset-8c140088603a1d8f410f4f695c7dc0b8ANGLET-17625d2d12f5b1a65c6fee6f38fc3a9b', 0, 0)\"\n",
      "distributed.core - ERROR - Exception while handling op heartbeat_worker\n",
      "Traceback (most recent call last):\n",
      "  File \"/glade/work/kristenk/miniconda/envs/analysis4/lib/python3.7/site-packages/distributed/core.py\", line 493, in handle_comm\n",
      "    result = handler(comm, **msg)\n",
      "  File \"/glade/work/kristenk/miniconda/envs/analysis4/lib/python3.7/site-packages/distributed/scheduler.py\", line 2197, in heartbeat_worker\n",
      "    self.tasks[key]: duration for key, duration in executing.items()\n",
      "  File \"/glade/work/kristenk/miniconda/envs/analysis4/lib/python3.7/site-packages/distributed/scheduler.py\", line 2197, in <dictcomp>\n",
      "    self.tasks[key]: duration for key, duration in executing.items()\n",
      "KeyError: \"('open_dataset-8c140088603a1d8f410f4f695c7dc0b8ANGLE-652ea65530a3120f0fbe4362621ea9f2', 0, 0)\"\n",
      "distributed.core - ERROR - Exception while handling op heartbeat_worker\n",
      "Traceback (most recent call last):\n",
      "  File \"/glade/work/kristenk/miniconda/envs/analysis4/lib/python3.7/site-packages/distributed/core.py\", line 493, in handle_comm\n",
      "    result = handler(comm, **msg)\n",
      "  File \"/glade/work/kristenk/miniconda/envs/analysis4/lib/python3.7/site-packages/distributed/scheduler.py\", line 2197, in heartbeat_worker\n",
      "    self.tasks[key]: duration for key, duration in executing.items()\n",
      "  File \"/glade/work/kristenk/miniconda/envs/analysis4/lib/python3.7/site-packages/distributed/scheduler.py\", line 2197, in <dictcomp>\n",
      "    self.tasks[key]: duration for key, duration in executing.items()\n",
      "KeyError: \"('open_dataset-8c140088603a1d8f410f4f695c7dc0b8HUW-c7c2b955527a68b2d4106fcb1e77db10', 0, 0)\"\n"
     ]
    },
    {
     "name": "stdout",
     "output_type": "stream",
     "text": [
      "start year= 2013 member= 28\n",
      "start year= 2013 member= 29\n",
      "start year= 2013 member= 30\n",
      "start year= 2013 member= 31\n",
      "start year= 2013 member= 32\n",
      "start year= 2013 member= 33\n",
      "start year= 2013 member= 34\n",
      "start year= 2013 member= 35\n",
      "start year= 2013 member= 36\n",
      "start year= 2013 member= 37\n",
      "start year= 2013 member= 38\n",
      "start year= 2013 member= 39\n",
      "start year= 2013 member= 40\n",
      "start year= 2014 member= 1\n",
      "start year= 2014 member= 2\n",
      "start year= 2014 member= 3\n",
      "start year= 2014 member= 4\n",
      "start year= 2014 member= 5\n",
      "start year= 2014 member= 6\n"
     ]
    },
    {
     "name": "stderr",
     "output_type": "stream",
     "text": [
      "distributed.core - ERROR - Exception while handling op heartbeat_worker\n",
      "Traceback (most recent call last):\n",
      "  File \"/glade/work/kristenk/miniconda/envs/analysis4/lib/python3.7/site-packages/distributed/core.py\", line 493, in handle_comm\n",
      "    result = handler(comm, **msg)\n",
      "  File \"/glade/work/kristenk/miniconda/envs/analysis4/lib/python3.7/site-packages/distributed/scheduler.py\", line 2197, in heartbeat_worker\n",
      "    self.tasks[key]: duration for key, duration in executing.items()\n",
      "  File \"/glade/work/kristenk/miniconda/envs/analysis4/lib/python3.7/site-packages/distributed/scheduler.py\", line 2197, in <dictcomp>\n",
      "    self.tasks[key]: duration for key, duration in executing.items()\n",
      "KeyError: \"('open_dataset-d270d5870bb778b1c6eb183214f67cb6DYT-48edda84519f558f1428157f1a58a1fe', 0, 0)\"\n",
      "distributed.core - ERROR - Exception while handling op heartbeat_worker\n",
      "Traceback (most recent call last):\n",
      "  File \"/glade/work/kristenk/miniconda/envs/analysis4/lib/python3.7/site-packages/distributed/core.py\", line 493, in handle_comm\n",
      "    result = handler(comm, **msg)\n",
      "  File \"/glade/work/kristenk/miniconda/envs/analysis4/lib/python3.7/site-packages/distributed/scheduler.py\", line 2197, in heartbeat_worker\n",
      "    self.tasks[key]: duration for key, duration in executing.items()\n",
      "  File \"/glade/work/kristenk/miniconda/envs/analysis4/lib/python3.7/site-packages/distributed/scheduler.py\", line 2197, in <dictcomp>\n",
      "    self.tasks[key]: duration for key, duration in executing.items()\n",
      "KeyError: \"('open_dataset-d270d5870bb778b1c6eb183214f67cb6DXU-4afa415ff7a998eacc7be8182fb69743', 0, 0)\"\n"
     ]
    },
    {
     "name": "stdout",
     "output_type": "stream",
     "text": [
      "start year= 2014 member= 7\n",
      "start year= 2014 member= 8\n",
      "start year= 2014 member= 9\n",
      "start year= 2014 member= 10\n",
      "start year= 2014 member= 11\n",
      "start year= 2014 member= 12\n",
      "start year= 2014 member= 13\n"
     ]
    },
    {
     "name": "stderr",
     "output_type": "stream",
     "text": [
      "distributed.core - ERROR - Exception while handling op heartbeat_worker\n",
      "Traceback (most recent call last):\n",
      "  File \"/glade/work/kristenk/miniconda/envs/analysis4/lib/python3.7/site-packages/distributed/core.py\", line 493, in handle_comm\n",
      "    result = handler(comm, **msg)\n",
      "  File \"/glade/work/kristenk/miniconda/envs/analysis4/lib/python3.7/site-packages/distributed/scheduler.py\", line 2197, in heartbeat_worker\n",
      "    self.tasks[key]: duration for key, duration in executing.items()\n",
      "  File \"/glade/work/kristenk/miniconda/envs/analysis4/lib/python3.7/site-packages/distributed/scheduler.py\", line 2197, in <dictcomp>\n",
      "    self.tasks[key]: duration for key, duration in executing.items()\n",
      "KeyError: \"('open_dataset-7dd79ea4b0ad429ac650ac6f6a4f8c7dHT-d81d7f469396cb6344b644663e945b58', 0, 0)\"\n",
      "distributed.core - ERROR - Exception while handling op heartbeat_worker\n",
      "Traceback (most recent call last):\n",
      "  File \"/glade/work/kristenk/miniconda/envs/analysis4/lib/python3.7/site-packages/distributed/core.py\", line 493, in handle_comm\n",
      "    result = handler(comm, **msg)\n",
      "  File \"/glade/work/kristenk/miniconda/envs/analysis4/lib/python3.7/site-packages/distributed/scheduler.py\", line 2197, in heartbeat_worker\n",
      "    self.tasks[key]: duration for key, duration in executing.items()\n",
      "  File \"/glade/work/kristenk/miniconda/envs/analysis4/lib/python3.7/site-packages/distributed/scheduler.py\", line 2197, in <dictcomp>\n",
      "    self.tasks[key]: duration for key, duration in executing.items()\n",
      "KeyError: \"('open_dataset-7dd79ea4b0ad429ac650ac6f6a4f8c7dDYT-0c14ec2447c971c843e0195b3bbec293', 0, 0)\"\n"
     ]
    },
    {
     "name": "stdout",
     "output_type": "stream",
     "text": [
      "start year= 2014 member= 14\n",
      "start year= 2014 member= 15\n",
      "start year= 2014 member= 16\n",
      "start year= 2014 member= 17\n",
      "start year= 2014 member= 18\n",
      "start year= 2014 member= 19\n",
      "start year= 2014 member= 20\n",
      "start year= 2014 member= 21\n"
     ]
    },
    {
     "name": "stderr",
     "output_type": "stream",
     "text": [
      "distributed.core - ERROR - Exception while handling op heartbeat_worker\n",
      "Traceback (most recent call last):\n",
      "  File \"/glade/work/kristenk/miniconda/envs/analysis4/lib/python3.7/site-packages/distributed/core.py\", line 493, in handle_comm\n",
      "    result = handler(comm, **msg)\n",
      "  File \"/glade/work/kristenk/miniconda/envs/analysis4/lib/python3.7/site-packages/distributed/scheduler.py\", line 2197, in heartbeat_worker\n",
      "    self.tasks[key]: duration for key, duration in executing.items()\n",
      "  File \"/glade/work/kristenk/miniconda/envs/analysis4/lib/python3.7/site-packages/distributed/scheduler.py\", line 2197, in <dictcomp>\n",
      "    self.tasks[key]: duration for key, duration in executing.items()\n",
      "KeyError: \"('open_dataset-bfcc8764c627858d0ff2749b76a9c26aDXT-c520375c86697819e4ec17691c8d2e5a', 0, 0)\"\n",
      "distributed.core - ERROR - Exception while handling op heartbeat_worker\n",
      "Traceback (most recent call last):\n",
      "  File \"/glade/work/kristenk/miniconda/envs/analysis4/lib/python3.7/site-packages/distributed/core.py\", line 493, in handle_comm\n",
      "    result = handler(comm, **msg)\n",
      "  File \"/glade/work/kristenk/miniconda/envs/analysis4/lib/python3.7/site-packages/distributed/scheduler.py\", line 2197, in heartbeat_worker\n",
      "    self.tasks[key]: duration for key, duration in executing.items()\n",
      "  File \"/glade/work/kristenk/miniconda/envs/analysis4/lib/python3.7/site-packages/distributed/scheduler.py\", line 2197, in <dictcomp>\n",
      "    self.tasks[key]: duration for key, duration in executing.items()\n",
      "KeyError: \"('open_dataset-bfcc8764c627858d0ff2749b76a9c26aDYT-c43ff6431d44a841dbb9a993c20b9726', 0, 0)\"\n"
     ]
    },
    {
     "name": "stdout",
     "output_type": "stream",
     "text": [
      "start year= 2014 member= 22\n",
      "start year= 2014 member= 23\n",
      "start year= 2014 member= 24\n",
      "start year= 2014 member= 25\n",
      "start year= 2014 member= 26\n",
      "start year= 2014 member= 27\n",
      "start year= 2014 member= 28\n",
      "start year= 2014 member= 29\n"
     ]
    },
    {
     "name": "stderr",
     "output_type": "stream",
     "text": [
      "distributed.core - ERROR - Exception while handling op heartbeat_worker\n",
      "Traceback (most recent call last):\n",
      "  File \"/glade/work/kristenk/miniconda/envs/analysis4/lib/python3.7/site-packages/distributed/core.py\", line 493, in handle_comm\n",
      "    result = handler(comm, **msg)\n",
      "  File \"/glade/work/kristenk/miniconda/envs/analysis4/lib/python3.7/site-packages/distributed/scheduler.py\", line 2197, in heartbeat_worker\n",
      "    self.tasks[key]: duration for key, duration in executing.items()\n",
      "  File \"/glade/work/kristenk/miniconda/envs/analysis4/lib/python3.7/site-packages/distributed/scheduler.py\", line 2197, in <dictcomp>\n",
      "    self.tasks[key]: duration for key, duration in executing.items()\n",
      "KeyError: \"('open_dataset-354bb2cc0754840c6b9237d939f376beDXU-bb2826378090d9d12daea3037ca11669', 0, 0)\"\n",
      "distributed.core - ERROR - Exception while handling op heartbeat_worker\n",
      "Traceback (most recent call last):\n",
      "  File \"/glade/work/kristenk/miniconda/envs/analysis4/lib/python3.7/site-packages/distributed/core.py\", line 493, in handle_comm\n",
      "    result = handler(comm, **msg)\n",
      "  File \"/glade/work/kristenk/miniconda/envs/analysis4/lib/python3.7/site-packages/distributed/scheduler.py\", line 2197, in heartbeat_worker\n",
      "    self.tasks[key]: duration for key, duration in executing.items()\n",
      "  File \"/glade/work/kristenk/miniconda/envs/analysis4/lib/python3.7/site-packages/distributed/scheduler.py\", line 2197, in <dictcomp>\n",
      "    self.tasks[key]: duration for key, duration in executing.items()\n",
      "KeyError: \"('open_dataset-354bb2cc0754840c6b9237d939f376beDXT-68e751db9b00e1a238a005b6960d493a', 0, 0)\"\n",
      "distributed.core - ERROR - Exception while handling op heartbeat_worker\n",
      "Traceback (most recent call last):\n",
      "  File \"/glade/work/kristenk/miniconda/envs/analysis4/lib/python3.7/site-packages/distributed/core.py\", line 493, in handle_comm\n",
      "    result = handler(comm, **msg)\n",
      "  File \"/glade/work/kristenk/miniconda/envs/analysis4/lib/python3.7/site-packages/distributed/scheduler.py\", line 2197, in heartbeat_worker\n",
      "    self.tasks[key]: duration for key, duration in executing.items()\n",
      "  File \"/glade/work/kristenk/miniconda/envs/analysis4/lib/python3.7/site-packages/distributed/scheduler.py\", line 2197, in <dictcomp>\n",
      "    self.tasks[key]: duration for key, duration in executing.items()\n",
      "KeyError: \"('open_dataset-354bb2cc0754840c6b9237d939f376beDYT-f6211158a618f85645367e4d6b2f682f', 0, 0)\"\n"
     ]
    },
    {
     "name": "stdout",
     "output_type": "stream",
     "text": [
      "start year= 2014 member= 30\n",
      "start year= 2014 member= 31\n",
      "start year= 2014 member= 32\n",
      "start year= 2014 member= 33\n",
      "start year= 2014 member= 34\n"
     ]
    },
    {
     "name": "stderr",
     "output_type": "stream",
     "text": [
      "distributed.core - ERROR - Exception while handling op heartbeat_worker\n",
      "Traceback (most recent call last):\n",
      "  File \"/glade/work/kristenk/miniconda/envs/analysis4/lib/python3.7/site-packages/distributed/core.py\", line 493, in handle_comm\n",
      "    result = handler(comm, **msg)\n",
      "  File \"/glade/work/kristenk/miniconda/envs/analysis4/lib/python3.7/site-packages/distributed/scheduler.py\", line 2197, in heartbeat_worker\n",
      "    self.tasks[key]: duration for key, duration in executing.items()\n",
      "  File \"/glade/work/kristenk/miniconda/envs/analysis4/lib/python3.7/site-packages/distributed/scheduler.py\", line 2197, in <dictcomp>\n",
      "    self.tasks[key]: duration for key, duration in executing.items()\n",
      "KeyError: \"('open_dataset-dc5cc4710e59b0fdaf94b6811e65fa7bDXU-7c16a11e731db732b5c53da12cd34b8d', 0, 0)\"\n"
     ]
    },
    {
     "name": "stdout",
     "output_type": "stream",
     "text": [
      "start year= 2014 member= 35\n",
      "start year= 2014 member= 36\n",
      "start year= 2014 member= 37\n",
      "start year= 2014 member= 38\n",
      "start year= 2014 member= 39\n",
      "start year= 2014 member= 40\n"
     ]
    },
    {
     "name": "stderr",
     "output_type": "stream",
     "text": [
      "distributed.core - ERROR - Exception while handling op heartbeat_worker\n",
      "Traceback (most recent call last):\n",
      "  File \"/glade/work/kristenk/miniconda/envs/analysis4/lib/python3.7/site-packages/distributed/core.py\", line 493, in handle_comm\n",
      "    result = handler(comm, **msg)\n",
      "  File \"/glade/work/kristenk/miniconda/envs/analysis4/lib/python3.7/site-packages/distributed/scheduler.py\", line 2197, in heartbeat_worker\n",
      "    self.tasks[key]: duration for key, duration in executing.items()\n",
      "  File \"/glade/work/kristenk/miniconda/envs/analysis4/lib/python3.7/site-packages/distributed/scheduler.py\", line 2197, in <dictcomp>\n",
      "    self.tasks[key]: duration for key, duration in executing.items()\n",
      "KeyError: \"('open_dataset-35faf4bef21515e91fd9054a9c90163bDYT-3d886c5d4127f9bc23ed62487fe0cc31', 0, 0)\"\n"
     ]
    },
    {
     "name": "stdout",
     "output_type": "stream",
     "text": [
      "start year= 2015 member= 1\n",
      "start year= 2015 member= 2\n",
      "start year= 2015 member= 3\n",
      "start year= 2015 member= 4\n",
      "start year= 2015 member= 5\n",
      "start year= 2015 member= 6\n",
      "start year= 2015 member= 7\n",
      "start year= 2015 member= 8\n",
      "start year= 2015 member= 9\n",
      "start year= 2015 member= 10\n",
      "start year= 2015 member= 11\n",
      "start year= 2015 member= 12\n",
      "start year= 2015 member= 13\n",
      "start year= 2015 member= 14\n",
      "start year= 2015 member= 15\n",
      "start year= 2015 member= 16\n",
      "start year= 2015 member= 17\n",
      "start year= 2015 member= 18\n",
      "start year= 2015 member= 19\n",
      "start year= 2015 member= 20\n"
     ]
    },
    {
     "name": "stderr",
     "output_type": "stream",
     "text": [
      "distributed.core - ERROR - Exception while handling op heartbeat_worker\n",
      "Traceback (most recent call last):\n",
      "  File \"/glade/work/kristenk/miniconda/envs/analysis4/lib/python3.7/site-packages/distributed/core.py\", line 493, in handle_comm\n",
      "    result = handler(comm, **msg)\n",
      "  File \"/glade/work/kristenk/miniconda/envs/analysis4/lib/python3.7/site-packages/distributed/scheduler.py\", line 2197, in heartbeat_worker\n",
      "    self.tasks[key]: duration for key, duration in executing.items()\n",
      "  File \"/glade/work/kristenk/miniconda/envs/analysis4/lib/python3.7/site-packages/distributed/scheduler.py\", line 2197, in <dictcomp>\n",
      "    self.tasks[key]: duration for key, duration in executing.items()\n",
      "KeyError: \"('open_dataset-17687f7ee243693814eea8094fe58237HU-e84b87f4be5d1415f9b0d0d89ba426ee', 0, 0)\"\n"
     ]
    },
    {
     "name": "stdout",
     "output_type": "stream",
     "text": [
      "start year= 2015 member= 21\n",
      "start year= 2015 member= 22\n"
     ]
    },
    {
     "name": "stderr",
     "output_type": "stream",
     "text": [
      "distributed.core - ERROR - Exception while handling op heartbeat_worker\n",
      "Traceback (most recent call last):\n",
      "  File \"/glade/work/kristenk/miniconda/envs/analysis4/lib/python3.7/site-packages/distributed/core.py\", line 493, in handle_comm\n",
      "    result = handler(comm, **msg)\n",
      "  File \"/glade/work/kristenk/miniconda/envs/analysis4/lib/python3.7/site-packages/distributed/scheduler.py\", line 2197, in heartbeat_worker\n",
      "    self.tasks[key]: duration for key, duration in executing.items()\n",
      "  File \"/glade/work/kristenk/miniconda/envs/analysis4/lib/python3.7/site-packages/distributed/scheduler.py\", line 2197, in <dictcomp>\n",
      "    self.tasks[key]: duration for key, duration in executing.items()\n",
      "KeyError: \"('open_dataset-4b507a63cbf39a698c377a88ab12d22fHT-e51d96b5aa77904889bcc51c9c7068ba', 0, 0)\"\n"
     ]
    },
    {
     "name": "stdout",
     "output_type": "stream",
     "text": [
      "start year= 2015 member= 23\n",
      "start year= 2015 member= 24\n",
      "start year= 2015 member= 25\n"
     ]
    },
    {
     "name": "stderr",
     "output_type": "stream",
     "text": [
      "distributed.core - ERROR - Exception while handling op heartbeat_worker\n",
      "Traceback (most recent call last):\n",
      "  File \"/glade/work/kristenk/miniconda/envs/analysis4/lib/python3.7/site-packages/distributed/core.py\", line 493, in handle_comm\n",
      "    result = handler(comm, **msg)\n",
      "  File \"/glade/work/kristenk/miniconda/envs/analysis4/lib/python3.7/site-packages/distributed/scheduler.py\", line 2197, in heartbeat_worker\n",
      "    self.tasks[key]: duration for key, duration in executing.items()\n",
      "  File \"/glade/work/kristenk/miniconda/envs/analysis4/lib/python3.7/site-packages/distributed/scheduler.py\", line 2197, in <dictcomp>\n",
      "    self.tasks[key]: duration for key, duration in executing.items()\n",
      "KeyError: \"('open_dataset-bb1e80c799d31cfbc56ab0f612f7d959HTE-1c8a6c75dee07fc7748f9c51b2866560', 0, 0)\"\n",
      "distributed.core - ERROR - Exception while handling op heartbeat_worker\n",
      "Traceback (most recent call last):\n",
      "  File \"/glade/work/kristenk/miniconda/envs/analysis4/lib/python3.7/site-packages/distributed/core.py\", line 493, in handle_comm\n",
      "    result = handler(comm, **msg)\n",
      "  File \"/glade/work/kristenk/miniconda/envs/analysis4/lib/python3.7/site-packages/distributed/scheduler.py\", line 2197, in heartbeat_worker\n",
      "    self.tasks[key]: duration for key, duration in executing.items()\n",
      "  File \"/glade/work/kristenk/miniconda/envs/analysis4/lib/python3.7/site-packages/distributed/scheduler.py\", line 2197, in <dictcomp>\n",
      "    self.tasks[key]: duration for key, duration in executing.items()\n",
      "KeyError: \"('open_dataset-bb1e80c799d31cfbc56ab0f612f7d959HTN-05e366486f7edf7e43442ec11a925c0e', 0, 0)\"\n",
      "distributed.core - ERROR - Exception while handling op heartbeat_worker\n",
      "Traceback (most recent call last):\n",
      "  File \"/glade/work/kristenk/miniconda/envs/analysis4/lib/python3.7/site-packages/distributed/core.py\", line 493, in handle_comm\n",
      "    result = handler(comm, **msg)\n",
      "  File \"/glade/work/kristenk/miniconda/envs/analysis4/lib/python3.7/site-packages/distributed/scheduler.py\", line 2197, in heartbeat_worker\n",
      "    self.tasks[key]: duration for key, duration in executing.items()\n",
      "  File \"/glade/work/kristenk/miniconda/envs/analysis4/lib/python3.7/site-packages/distributed/scheduler.py\", line 2197, in <dictcomp>\n",
      "    self.tasks[key]: duration for key, duration in executing.items()\n",
      "KeyError: \"('open_dataset-bb1e80c799d31cfbc56ab0f612f7d959HUS-33ada7f3a3ddad199ab779ae149242ca', 0, 0)\"\n",
      "distributed.core - ERROR - Exception while handling op heartbeat_worker\n",
      "Traceback (most recent call last):\n",
      "  File \"/glade/work/kristenk/miniconda/envs/analysis4/lib/python3.7/site-packages/distributed/core.py\", line 493, in handle_comm\n",
      "    result = handler(comm, **msg)\n",
      "  File \"/glade/work/kristenk/miniconda/envs/analysis4/lib/python3.7/site-packages/distributed/scheduler.py\", line 2197, in heartbeat_worker\n",
      "    self.tasks[key]: duration for key, duration in executing.items()\n",
      "  File \"/glade/work/kristenk/miniconda/envs/analysis4/lib/python3.7/site-packages/distributed/scheduler.py\", line 2197, in <dictcomp>\n",
      "    self.tasks[key]: duration for key, duration in executing.items()\n",
      "KeyError: \"('open_dataset-bb1e80c799d31cfbc56ab0f612f7d959HU-121a9d448ef04dbf767a9b9d659df270', 0, 0)\"\n"
     ]
    },
    {
     "name": "stdout",
     "output_type": "stream",
     "text": [
      "start year= 2015 member= 26\n",
      "start year= 2015 member= 27\n",
      "start year= 2015 member= 28\n",
      "start year= 2015 member= 29\n",
      "start year= 2015 member= 30\n"
     ]
    },
    {
     "name": "stderr",
     "output_type": "stream",
     "text": [
      "distributed.core - ERROR - Exception while handling op heartbeat_worker\n",
      "Traceback (most recent call last):\n",
      "  File \"/glade/work/kristenk/miniconda/envs/analysis4/lib/python3.7/site-packages/distributed/core.py\", line 493, in handle_comm\n",
      "    result = handler(comm, **msg)\n",
      "  File \"/glade/work/kristenk/miniconda/envs/analysis4/lib/python3.7/site-packages/distributed/scheduler.py\", line 2197, in heartbeat_worker\n",
      "    self.tasks[key]: duration for key, duration in executing.items()\n",
      "  File \"/glade/work/kristenk/miniconda/envs/analysis4/lib/python3.7/site-packages/distributed/scheduler.py\", line 2197, in <dictcomp>\n",
      "    self.tasks[key]: duration for key, duration in executing.items()\n",
      "KeyError: \"('open_dataset-80a10721b91d3d5866f8cba8496906b2DYT-c6a9d866f70e523906491d31a87c3725', 0, 0)\"\n",
      "distributed.core - ERROR - Exception while handling op heartbeat_worker\n",
      "Traceback (most recent call last):\n",
      "  File \"/glade/work/kristenk/miniconda/envs/analysis4/lib/python3.7/site-packages/distributed/core.py\", line 493, in handle_comm\n",
      "    result = handler(comm, **msg)\n",
      "  File \"/glade/work/kristenk/miniconda/envs/analysis4/lib/python3.7/site-packages/distributed/scheduler.py\", line 2197, in heartbeat_worker\n",
      "    self.tasks[key]: duration for key, duration in executing.items()\n",
      "  File \"/glade/work/kristenk/miniconda/envs/analysis4/lib/python3.7/site-packages/distributed/scheduler.py\", line 2197, in <dictcomp>\n",
      "    self.tasks[key]: duration for key, duration in executing.items()\n",
      "KeyError: \"('open_dataset-80a10721b91d3d5866f8cba8496906b2DXT-2f4616aac5bab4f4ae81819c6817af7b', 0, 0)\"\n",
      "distributed.core - ERROR - Exception while handling op heartbeat_worker\n",
      "Traceback (most recent call last):\n",
      "  File \"/glade/work/kristenk/miniconda/envs/analysis4/lib/python3.7/site-packages/distributed/core.py\", line 493, in handle_comm\n",
      "    result = handler(comm, **msg)\n",
      "  File \"/glade/work/kristenk/miniconda/envs/analysis4/lib/python3.7/site-packages/distributed/scheduler.py\", line 2197, in heartbeat_worker\n",
      "    self.tasks[key]: duration for key, duration in executing.items()\n",
      "  File \"/glade/work/kristenk/miniconda/envs/analysis4/lib/python3.7/site-packages/distributed/scheduler.py\", line 2197, in <dictcomp>\n",
      "    self.tasks[key]: duration for key, duration in executing.items()\n",
      "KeyError: \"('open_dataset-80a10721b91d3d5866f8cba8496906b2DXU-12f8e460487e3376351903d78825a2b7', 0, 0)\"\n"
     ]
    },
    {
     "name": "stdout",
     "output_type": "stream",
     "text": [
      "start year= 2015 member= 31\n",
      "start year= 2015 member= 32\n",
      "start year= 2015 member= 33\n"
     ]
    },
    {
     "name": "stderr",
     "output_type": "stream",
     "text": [
      "distributed.core - ERROR - Exception while handling op heartbeat_worker\n",
      "Traceback (most recent call last):\n",
      "  File \"/glade/work/kristenk/miniconda/envs/analysis4/lib/python3.7/site-packages/distributed/core.py\", line 493, in handle_comm\n",
      "    result = handler(comm, **msg)\n",
      "  File \"/glade/work/kristenk/miniconda/envs/analysis4/lib/python3.7/site-packages/distributed/scheduler.py\", line 2197, in heartbeat_worker\n",
      "    self.tasks[key]: duration for key, duration in executing.items()\n",
      "  File \"/glade/work/kristenk/miniconda/envs/analysis4/lib/python3.7/site-packages/distributed/scheduler.py\", line 2197, in <dictcomp>\n",
      "    self.tasks[key]: duration for key, duration in executing.items()\n",
      "KeyError: \"('open_dataset-6998f171cc935804ff94e208ccf950efHT-7b9c1f1ad6ee8409d650f9d6c4e2fe9f', 0, 0)\"\n",
      "distributed.core - ERROR - Exception while handling op heartbeat_worker\n",
      "Traceback (most recent call last):\n",
      "  File \"/glade/work/kristenk/miniconda/envs/analysis4/lib/python3.7/site-packages/distributed/core.py\", line 493, in handle_comm\n",
      "    result = handler(comm, **msg)\n",
      "  File \"/glade/work/kristenk/miniconda/envs/analysis4/lib/python3.7/site-packages/distributed/scheduler.py\", line 2197, in heartbeat_worker\n",
      "    self.tasks[key]: duration for key, duration in executing.items()\n",
      "  File \"/glade/work/kristenk/miniconda/envs/analysis4/lib/python3.7/site-packages/distributed/scheduler.py\", line 2197, in <dictcomp>\n",
      "    self.tasks[key]: duration for key, duration in executing.items()\n",
      "KeyError: \"('open_dataset-6998f171cc935804ff94e208ccf950efDXU-891741640c6c20d982ced476b4b79396', 0, 0)\"\n"
     ]
    },
    {
     "name": "stdout",
     "output_type": "stream",
     "text": [
      "start year= 2015 member= 34\n",
      "start year= 2015 member= 35\n",
      "start year= 2015 member= 36\n",
      "start year= 2015 member= 37\n",
      "start year= 2015 member= 38\n",
      "start year= 2015 member= 39\n",
      "start year= 2015 member= 40\n",
      "start year= 2016 member= 1\n",
      "start year= 2016 member= 2\n",
      "start year= 2016 member= 3\n",
      "start year= 2016 member= 4\n",
      "start year= 2016 member= 5\n",
      "start year= 2016 member= 6\n",
      "start year= 2016 member= 7\n"
     ]
    },
    {
     "name": "stderr",
     "output_type": "stream",
     "text": [
      "distributed.core - ERROR - Exception while handling op heartbeat_worker\n",
      "Traceback (most recent call last):\n",
      "  File \"/glade/work/kristenk/miniconda/envs/analysis4/lib/python3.7/site-packages/distributed/core.py\", line 493, in handle_comm\n",
      "    result = handler(comm, **msg)\n",
      "  File \"/glade/work/kristenk/miniconda/envs/analysis4/lib/python3.7/site-packages/distributed/scheduler.py\", line 2197, in heartbeat_worker\n",
      "    self.tasks[key]: duration for key, duration in executing.items()\n",
      "  File \"/glade/work/kristenk/miniconda/envs/analysis4/lib/python3.7/site-packages/distributed/scheduler.py\", line 2197, in <dictcomp>\n",
      "    self.tasks[key]: duration for key, duration in executing.items()\n",
      "KeyError: \"('open_dataset-89445d72a4dc589e3ecc094ba7e53408HT-81b506f7a9879cfcd937e231d3290d4e', 0, 0)\"\n"
     ]
    },
    {
     "name": "stdout",
     "output_type": "stream",
     "text": [
      "start year= 2016 member= 8\n",
      "start year= 2016 member= 9\n",
      "start year= 2016 member= 10\n",
      "start year= 2016 member= 11\n"
     ]
    },
    {
     "name": "stderr",
     "output_type": "stream",
     "text": [
      "distributed.core - ERROR - Exception while handling op heartbeat_worker\n",
      "Traceback (most recent call last):\n",
      "  File \"/glade/work/kristenk/miniconda/envs/analysis4/lib/python3.7/site-packages/distributed/core.py\", line 493, in handle_comm\n",
      "    result = handler(comm, **msg)\n",
      "  File \"/glade/work/kristenk/miniconda/envs/analysis4/lib/python3.7/site-packages/distributed/scheduler.py\", line 2197, in heartbeat_worker\n",
      "    self.tasks[key]: duration for key, duration in executing.items()\n",
      "  File \"/glade/work/kristenk/miniconda/envs/analysis4/lib/python3.7/site-packages/distributed/scheduler.py\", line 2197, in <dictcomp>\n",
      "    self.tasks[key]: duration for key, duration in executing.items()\n",
      "KeyError: \"('open_dataset-281f375beee8694246c836ba2cd5b60fHU-50fbe4710899512a0ac62c24ff84b756', 0, 0)\"\n",
      "distributed.core - ERROR - Exception while handling op heartbeat_worker\n",
      "Traceback (most recent call last):\n",
      "  File \"/glade/work/kristenk/miniconda/envs/analysis4/lib/python3.7/site-packages/distributed/core.py\", line 493, in handle_comm\n",
      "    result = handler(comm, **msg)\n",
      "  File \"/glade/work/kristenk/miniconda/envs/analysis4/lib/python3.7/site-packages/distributed/scheduler.py\", line 2197, in heartbeat_worker\n",
      "    self.tasks[key]: duration for key, duration in executing.items()\n",
      "  File \"/glade/work/kristenk/miniconda/envs/analysis4/lib/python3.7/site-packages/distributed/scheduler.py\", line 2197, in <dictcomp>\n",
      "    self.tasks[key]: duration for key, duration in executing.items()\n",
      "KeyError: \"('open_dataset-281f375beee8694246c836ba2cd5b60fHTE-fbb21a7722040f4e9abf79d42bf6067b', 0, 0)\"\n",
      "distributed.core - ERROR - Exception while handling op heartbeat_worker\n",
      "Traceback (most recent call last):\n",
      "  File \"/glade/work/kristenk/miniconda/envs/analysis4/lib/python3.7/site-packages/distributed/core.py\", line 493, in handle_comm\n",
      "    result = handler(comm, **msg)\n",
      "  File \"/glade/work/kristenk/miniconda/envs/analysis4/lib/python3.7/site-packages/distributed/scheduler.py\", line 2197, in heartbeat_worker\n",
      "    self.tasks[key]: duration for key, duration in executing.items()\n",
      "  File \"/glade/work/kristenk/miniconda/envs/analysis4/lib/python3.7/site-packages/distributed/scheduler.py\", line 2197, in <dictcomp>\n",
      "    self.tasks[key]: duration for key, duration in executing.items()\n",
      "KeyError: \"('open_dataset-281f375beee8694246c836ba2cd5b60fHUS-eb6166d82549abe4de4c9a855070b8eb', 0, 0)\"\n",
      "distributed.core - ERROR - Exception while handling op heartbeat_worker\n",
      "Traceback (most recent call last):\n",
      "  File \"/glade/work/kristenk/miniconda/envs/analysis4/lib/python3.7/site-packages/distributed/core.py\", line 493, in handle_comm\n",
      "    result = handler(comm, **msg)\n",
      "  File \"/glade/work/kristenk/miniconda/envs/analysis4/lib/python3.7/site-packages/distributed/scheduler.py\", line 2197, in heartbeat_worker\n",
      "    self.tasks[key]: duration for key, duration in executing.items()\n",
      "  File \"/glade/work/kristenk/miniconda/envs/analysis4/lib/python3.7/site-packages/distributed/scheduler.py\", line 2197, in <dictcomp>\n",
      "    self.tasks[key]: duration for key, duration in executing.items()\n",
      "KeyError: \"('open_dataset-281f375beee8694246c836ba2cd5b60fHTN-e6ed84d8c50eab70de1cb82623823911', 0, 0)\"\n"
     ]
    },
    {
     "name": "stdout",
     "output_type": "stream",
     "text": [
      "start year= 2016 member= 12\n",
      "start year= 2016 member= 13\n",
      "start year= 2016 member= 14\n",
      "start year= 2016 member= 15\n",
      "start year= 2016 member= 16\n",
      "start year= 2016 member= 17\n",
      "start year= 2016 member= 18\n",
      "start year= 2016 member= 19\n",
      "start year= 2016 member= 20\n",
      "start year= 2016 member= 21\n",
      "start year= 2016 member= 22\n",
      "start year= 2016 member= 23\n"
     ]
    },
    {
     "name": "stderr",
     "output_type": "stream",
     "text": [
      "distributed.core - ERROR - Exception while handling op heartbeat_worker\n",
      "Traceback (most recent call last):\n",
      "  File \"/glade/work/kristenk/miniconda/envs/analysis4/lib/python3.7/site-packages/distributed/core.py\", line 493, in handle_comm\n",
      "    result = handler(comm, **msg)\n",
      "  File \"/glade/work/kristenk/miniconda/envs/analysis4/lib/python3.7/site-packages/distributed/scheduler.py\", line 2197, in heartbeat_worker\n",
      "    self.tasks[key]: duration for key, duration in executing.items()\n",
      "  File \"/glade/work/kristenk/miniconda/envs/analysis4/lib/python3.7/site-packages/distributed/scheduler.py\", line 2197, in <dictcomp>\n",
      "    self.tasks[key]: duration for key, duration in executing.items()\n",
      "KeyError: \"('open_dataset-3127f3c0badff42f28a2b15d5c28e2acANGLET-147d85cc2def85097a427552c5cd9e79', 0, 0)\"\n",
      "distributed.core - ERROR - Exception while handling op heartbeat_worker\n",
      "Traceback (most recent call last):\n",
      "  File \"/glade/work/kristenk/miniconda/envs/analysis4/lib/python3.7/site-packages/distributed/core.py\", line 493, in handle_comm\n",
      "    result = handler(comm, **msg)\n",
      "  File \"/glade/work/kristenk/miniconda/envs/analysis4/lib/python3.7/site-packages/distributed/scheduler.py\", line 2197, in heartbeat_worker\n",
      "    self.tasks[key]: duration for key, duration in executing.items()\n",
      "  File \"/glade/work/kristenk/miniconda/envs/analysis4/lib/python3.7/site-packages/distributed/scheduler.py\", line 2197, in <dictcomp>\n",
      "    self.tasks[key]: duration for key, duration in executing.items()\n",
      "KeyError: \"('open_dataset-3127f3c0badff42f28a2b15d5c28e2acANGLE-412877898e9986fe705b7ed95bdf6bb5', 0, 0)\"\n",
      "distributed.core - ERROR - Exception while handling op heartbeat_worker\n",
      "Traceback (most recent call last):\n",
      "  File \"/glade/work/kristenk/miniconda/envs/analysis4/lib/python3.7/site-packages/distributed/core.py\", line 493, in handle_comm\n",
      "    result = handler(comm, **msg)\n",
      "  File \"/glade/work/kristenk/miniconda/envs/analysis4/lib/python3.7/site-packages/distributed/scheduler.py\", line 2197, in heartbeat_worker\n",
      "    self.tasks[key]: duration for key, duration in executing.items()\n",
      "  File \"/glade/work/kristenk/miniconda/envs/analysis4/lib/python3.7/site-packages/distributed/scheduler.py\", line 2197, in <dictcomp>\n",
      "    self.tasks[key]: duration for key, duration in executing.items()\n",
      "KeyError: \"('open_dataset-3127f3c0badff42f28a2b15d5c28e2acHUW-5832c6d38a3b9b82e7c57f73ade71abd', 0, 0)\"\n"
     ]
    },
    {
     "name": "stdout",
     "output_type": "stream",
     "text": [
      "start year= 2016 member= 24\n",
      "start year= 2016 member= 25\n"
     ]
    },
    {
     "name": "stderr",
     "output_type": "stream",
     "text": [
      "distributed.core - ERROR - Exception while handling op heartbeat_worker\n",
      "Traceback (most recent call last):\n",
      "  File \"/glade/work/kristenk/miniconda/envs/analysis4/lib/python3.7/site-packages/distributed/core.py\", line 493, in handle_comm\n",
      "    result = handler(comm, **msg)\n",
      "  File \"/glade/work/kristenk/miniconda/envs/analysis4/lib/python3.7/site-packages/distributed/scheduler.py\", line 2197, in heartbeat_worker\n",
      "    self.tasks[key]: duration for key, duration in executing.items()\n",
      "  File \"/glade/work/kristenk/miniconda/envs/analysis4/lib/python3.7/site-packages/distributed/scheduler.py\", line 2197, in <dictcomp>\n",
      "    self.tasks[key]: duration for key, duration in executing.items()\n",
      "KeyError: \"('open_dataset-2ce3f81eed89e6903f0d706c3699e863HUS-3a140bce6e62a65bc8762349c3931136', 0, 0)\"\n",
      "distributed.core - ERROR - Exception while handling op heartbeat_worker\n",
      "Traceback (most recent call last):\n",
      "  File \"/glade/work/kristenk/miniconda/envs/analysis4/lib/python3.7/site-packages/distributed/core.py\", line 493, in handle_comm\n",
      "    result = handler(comm, **msg)\n",
      "  File \"/glade/work/kristenk/miniconda/envs/analysis4/lib/python3.7/site-packages/distributed/scheduler.py\", line 2197, in heartbeat_worker\n",
      "    self.tasks[key]: duration for key, duration in executing.items()\n",
      "  File \"/glade/work/kristenk/miniconda/envs/analysis4/lib/python3.7/site-packages/distributed/scheduler.py\", line 2197, in <dictcomp>\n",
      "    self.tasks[key]: duration for key, duration in executing.items()\n",
      "KeyError: \"('open_dataset-2ce3f81eed89e6903f0d706c3699e863HTN-dcc7ee98a8d2720efcd317dbe6ed3410', 0, 0)\"\n"
     ]
    },
    {
     "name": "stdout",
     "output_type": "stream",
     "text": [
      "start year= 2016 member= 26\n",
      "start year= 2016 member= 27\n",
      "start year= 2016 member= 28\n",
      "start year= 2016 member= 29\n",
      "start year= 2016 member= 30\n",
      "start year= 2016 member= 31\n",
      "start year= 2016 member= 32\n",
      "start year= 2016 member= 33\n",
      "start year= 2016 member= 34\n",
      "start year= 2016 member= 35\n",
      "start year= 2016 member= 36\n",
      "start year= 2016 member= 37\n",
      "start year= 2016 member= 38\n",
      "start year= 2016 member= 39\n",
      "start year= 2016 member= 40\n",
      "start year= 2017 member= 1\n"
     ]
    },
    {
     "name": "stderr",
     "output_type": "stream",
     "text": [
      "distributed.core - ERROR - Exception while handling op heartbeat_worker\n",
      "Traceback (most recent call last):\n",
      "  File \"/glade/work/kristenk/miniconda/envs/analysis4/lib/python3.7/site-packages/distributed/core.py\", line 493, in handle_comm\n",
      "    result = handler(comm, **msg)\n",
      "  File \"/glade/work/kristenk/miniconda/envs/analysis4/lib/python3.7/site-packages/distributed/scheduler.py\", line 2197, in heartbeat_worker\n",
      "    self.tasks[key]: duration for key, duration in executing.items()\n",
      "  File \"/glade/work/kristenk/miniconda/envs/analysis4/lib/python3.7/site-packages/distributed/scheduler.py\", line 2197, in <dictcomp>\n",
      "    self.tasks[key]: duration for key, duration in executing.items()\n",
      "KeyError: \"('open_dataset-44988e9756b2e252c5d7c331af5b6befHT-79ed357e85d2a56ef9281c19e2444f58', 0, 0)\"\n"
     ]
    },
    {
     "name": "stdout",
     "output_type": "stream",
     "text": [
      "start year= 2017 member= 2\n",
      "start year= 2017 member= 3\n",
      "start year= 2017 member= 4\n",
      "start year= 2017 member= 5\n",
      "start year= 2017 member= 6\n",
      "start year= 2017 member= 7\n",
      "start year= 2017 member= 8\n",
      "start year= 2017 member= 9\n"
     ]
    },
    {
     "name": "stderr",
     "output_type": "stream",
     "text": [
      "distributed.core - ERROR - Exception while handling op heartbeat_worker\n",
      "Traceback (most recent call last):\n",
      "  File \"/glade/work/kristenk/miniconda/envs/analysis4/lib/python3.7/site-packages/distributed/core.py\", line 493, in handle_comm\n",
      "    result = handler(comm, **msg)\n",
      "  File \"/glade/work/kristenk/miniconda/envs/analysis4/lib/python3.7/site-packages/distributed/scheduler.py\", line 2197, in heartbeat_worker\n",
      "    self.tasks[key]: duration for key, duration in executing.items()\n",
      "  File \"/glade/work/kristenk/miniconda/envs/analysis4/lib/python3.7/site-packages/distributed/scheduler.py\", line 2197, in <dictcomp>\n",
      "    self.tasks[key]: duration for key, duration in executing.items()\n",
      "KeyError: \"('open_dataset-8c3c5653e92a7062efd2ebf6d39f0fcdDYU-d7f090229cf044ebe67cc46c11bac879', 0, 0)\"\n"
     ]
    },
    {
     "name": "stdout",
     "output_type": "stream",
     "text": [
      "start year= 2017 member= 10\n",
      "start year= 2017 member= 11\n"
     ]
    },
    {
     "name": "stderr",
     "output_type": "stream",
     "text": [
      "distributed.core - ERROR - Exception while handling op heartbeat_worker\n",
      "Traceback (most recent call last):\n",
      "  File \"/glade/work/kristenk/miniconda/envs/analysis4/lib/python3.7/site-packages/distributed/core.py\", line 493, in handle_comm\n",
      "    result = handler(comm, **msg)\n",
      "  File \"/glade/work/kristenk/miniconda/envs/analysis4/lib/python3.7/site-packages/distributed/scheduler.py\", line 2197, in heartbeat_worker\n",
      "    self.tasks[key]: duration for key, duration in executing.items()\n",
      "  File \"/glade/work/kristenk/miniconda/envs/analysis4/lib/python3.7/site-packages/distributed/scheduler.py\", line 2197, in <dictcomp>\n",
      "    self.tasks[key]: duration for key, duration in executing.items()\n",
      "KeyError: \"('open_dataset-ae74596ba9b2973f1c3adffbddd28d70ANGLET-75d219bc25cffa6553042ab1fad4c7dc', 0, 0)\"\n"
     ]
    },
    {
     "name": "stdout",
     "output_type": "stream",
     "text": [
      "start year= 2017 member= 12\n",
      "start year= 2017 member= 13\n",
      "start year= 2017 member= 14\n",
      "start year= 2017 member= 15\n",
      "start year= 2017 member= 16\n",
      "start year= 2017 member= 17\n",
      "start year= 2017 member= 18\n",
      "start year= 2017 member= 19\n"
     ]
    },
    {
     "name": "stderr",
     "output_type": "stream",
     "text": [
      "distributed.core - ERROR - Exception while handling op heartbeat_worker\n",
      "Traceback (most recent call last):\n",
      "  File \"/glade/work/kristenk/miniconda/envs/analysis4/lib/python3.7/site-packages/distributed/core.py\", line 493, in handle_comm\n",
      "    result = handler(comm, **msg)\n",
      "  File \"/glade/work/kristenk/miniconda/envs/analysis4/lib/python3.7/site-packages/distributed/scheduler.py\", line 2197, in heartbeat_worker\n",
      "    self.tasks[key]: duration for key, duration in executing.items()\n",
      "  File \"/glade/work/kristenk/miniconda/envs/analysis4/lib/python3.7/site-packages/distributed/scheduler.py\", line 2197, in <dictcomp>\n",
      "    self.tasks[key]: duration for key, duration in executing.items()\n",
      "KeyError: \"('open_dataset-2aecd0145bf7bf0485860f5f1850ce16DYT-1675ae411a708680f913d5cb98ac83e1', 0, 0)\"\n",
      "distributed.core - ERROR - Exception while handling op heartbeat_worker\n",
      "Traceback (most recent call last):\n",
      "  File \"/glade/work/kristenk/miniconda/envs/analysis4/lib/python3.7/site-packages/distributed/core.py\", line 493, in handle_comm\n",
      "    result = handler(comm, **msg)\n",
      "  File \"/glade/work/kristenk/miniconda/envs/analysis4/lib/python3.7/site-packages/distributed/scheduler.py\", line 2197, in heartbeat_worker\n",
      "    self.tasks[key]: duration for key, duration in executing.items()\n",
      "  File \"/glade/work/kristenk/miniconda/envs/analysis4/lib/python3.7/site-packages/distributed/scheduler.py\", line 2197, in <dictcomp>\n",
      "    self.tasks[key]: duration for key, duration in executing.items()\n",
      "KeyError: \"('open_dataset-2aecd0145bf7bf0485860f5f1850ce16DXU-469741d4fed66c3cbd079548bff674e1', 0, 0)\"\n",
      "distributed.core - ERROR - Exception while handling op heartbeat_worker\n",
      "Traceback (most recent call last):\n",
      "  File \"/glade/work/kristenk/miniconda/envs/analysis4/lib/python3.7/site-packages/distributed/core.py\", line 493, in handle_comm\n",
      "    result = handler(comm, **msg)\n",
      "  File \"/glade/work/kristenk/miniconda/envs/analysis4/lib/python3.7/site-packages/distributed/scheduler.py\", line 2197, in heartbeat_worker\n",
      "    self.tasks[key]: duration for key, duration in executing.items()\n",
      "  File \"/glade/work/kristenk/miniconda/envs/analysis4/lib/python3.7/site-packages/distributed/scheduler.py\", line 2197, in <dictcomp>\n",
      "    self.tasks[key]: duration for key, duration in executing.items()\n",
      "KeyError: \"('open_dataset-2aecd0145bf7bf0485860f5f1850ce16DXT-3478d24218ac2c53813c6e6d1037d178', 0, 0)\"\n"
     ]
    },
    {
     "name": "stdout",
     "output_type": "stream",
     "text": [
      "start year= 2017 member= 20\n",
      "start year= 2017 member= 21\n",
      "start year= 2017 member= 22\n",
      "start year= 2017 member= 23\n",
      "start year= 2017 member= 24\n",
      "start year= 2017 member= 25\n",
      "start year= 2017 member= 26\n",
      "start year= 2017 member= 27\n"
     ]
    },
    {
     "name": "stderr",
     "output_type": "stream",
     "text": [
      "distributed.core - ERROR - Exception while handling op heartbeat_worker\n",
      "Traceback (most recent call last):\n",
      "  File \"/glade/work/kristenk/miniconda/envs/analysis4/lib/python3.7/site-packages/distributed/core.py\", line 493, in handle_comm\n",
      "    result = handler(comm, **msg)\n",
      "  File \"/glade/work/kristenk/miniconda/envs/analysis4/lib/python3.7/site-packages/distributed/scheduler.py\", line 2197, in heartbeat_worker\n",
      "    self.tasks[key]: duration for key, duration in executing.items()\n",
      "  File \"/glade/work/kristenk/miniconda/envs/analysis4/lib/python3.7/site-packages/distributed/scheduler.py\", line 2197, in <dictcomp>\n",
      "    self.tasks[key]: duration for key, duration in executing.items()\n",
      "KeyError: \"('open_dataset-4d78a5a86b0ec4b52f252d26e36a503eHTN-4fb7862ed02befe4ffd4a46905bc5103', 0, 0)\"\n",
      "distributed.core - ERROR - Exception while handling op heartbeat_worker\n",
      "Traceback (most recent call last):\n",
      "  File \"/glade/work/kristenk/miniconda/envs/analysis4/lib/python3.7/site-packages/distributed/core.py\", line 493, in handle_comm\n",
      "    result = handler(comm, **msg)\n",
      "  File \"/glade/work/kristenk/miniconda/envs/analysis4/lib/python3.7/site-packages/distributed/scheduler.py\", line 2197, in heartbeat_worker\n",
      "    self.tasks[key]: duration for key, duration in executing.items()\n",
      "  File \"/glade/work/kristenk/miniconda/envs/analysis4/lib/python3.7/site-packages/distributed/scheduler.py\", line 2197, in <dictcomp>\n",
      "    self.tasks[key]: duration for key, duration in executing.items()\n",
      "KeyError: \"('open_dataset-4d78a5a86b0ec4b52f252d26e36a503eHUS-07d2c3e436725a47b91cf4d221071b63', 0, 0)\"\n"
     ]
    },
    {
     "name": "stdout",
     "output_type": "stream",
     "text": [
      "start year= 2017 member= 28\n",
      "start year= 2017 member= 29\n",
      "start year= 2017 member= 30\n",
      "start year= 2017 member= 31\n",
      "start year= 2017 member= 32\n",
      "start year= 2017 member= 33\n"
     ]
    },
    {
     "name": "stderr",
     "output_type": "stream",
     "text": [
      "distributed.core - ERROR - Exception while handling op heartbeat_worker\n",
      "Traceback (most recent call last):\n",
      "  File \"/glade/work/kristenk/miniconda/envs/analysis4/lib/python3.7/site-packages/distributed/core.py\", line 493, in handle_comm\n",
      "    result = handler(comm, **msg)\n",
      "  File \"/glade/work/kristenk/miniconda/envs/analysis4/lib/python3.7/site-packages/distributed/scheduler.py\", line 2197, in heartbeat_worker\n",
      "    self.tasks[key]: duration for key, duration in executing.items()\n",
      "  File \"/glade/work/kristenk/miniconda/envs/analysis4/lib/python3.7/site-packages/distributed/scheduler.py\", line 2197, in <dictcomp>\n",
      "    self.tasks[key]: duration for key, duration in executing.items()\n",
      "KeyError: \"('open_dataset-ffcb525d43ea4e947e2a94d28125dc5dHU-c601251aae983d2ad639ad8d1e56c6b5', 0, 0)\"\n"
     ]
    },
    {
     "name": "stdout",
     "output_type": "stream",
     "text": [
      "start year= 2017 member= 34\n",
      "start year= 2017 member= 35\n"
     ]
    },
    {
     "name": "stderr",
     "output_type": "stream",
     "text": [
      "distributed.core - ERROR - Exception while handling op heartbeat_worker\n",
      "Traceback (most recent call last):\n",
      "  File \"/glade/work/kristenk/miniconda/envs/analysis4/lib/python3.7/site-packages/distributed/core.py\", line 493, in handle_comm\n",
      "    result = handler(comm, **msg)\n",
      "  File \"/glade/work/kristenk/miniconda/envs/analysis4/lib/python3.7/site-packages/distributed/scheduler.py\", line 2197, in heartbeat_worker\n",
      "    self.tasks[key]: duration for key, duration in executing.items()\n",
      "  File \"/glade/work/kristenk/miniconda/envs/analysis4/lib/python3.7/site-packages/distributed/scheduler.py\", line 2197, in <dictcomp>\n",
      "    self.tasks[key]: duration for key, duration in executing.items()\n",
      "KeyError: \"('open_dataset-a01158073e5865e6daf075e57956fd23DYU-1e573bcf548533e07a3896d6571eca24', 0, 0)\"\n"
     ]
    },
    {
     "name": "stdout",
     "output_type": "stream",
     "text": [
      "start year= 2017 member= 36\n"
     ]
    },
    {
     "name": "stderr",
     "output_type": "stream",
     "text": [
      "distributed.core - ERROR - Exception while handling op heartbeat_worker\n",
      "Traceback (most recent call last):\n",
      "  File \"/glade/work/kristenk/miniconda/envs/analysis4/lib/python3.7/site-packages/distributed/core.py\", line 493, in handle_comm\n",
      "    result = handler(comm, **msg)\n",
      "  File \"/glade/work/kristenk/miniconda/envs/analysis4/lib/python3.7/site-packages/distributed/scheduler.py\", line 2197, in heartbeat_worker\n",
      "    self.tasks[key]: duration for key, duration in executing.items()\n",
      "  File \"/glade/work/kristenk/miniconda/envs/analysis4/lib/python3.7/site-packages/distributed/scheduler.py\", line 2197, in <dictcomp>\n",
      "    self.tasks[key]: duration for key, duration in executing.items()\n",
      "KeyError: \"('open_dataset-6cc4233b4c917d89838ffd4a74b26f76HU-c43cb7537089c1cd991a9f0498f520a2', 0, 0)\"\n",
      "distributed.core - ERROR - Exception while handling op heartbeat_worker\n",
      "Traceback (most recent call last):\n",
      "  File \"/glade/work/kristenk/miniconda/envs/analysis4/lib/python3.7/site-packages/distributed/core.py\", line 493, in handle_comm\n",
      "    result = handler(comm, **msg)\n",
      "  File \"/glade/work/kristenk/miniconda/envs/analysis4/lib/python3.7/site-packages/distributed/scheduler.py\", line 2197, in heartbeat_worker\n",
      "    self.tasks[key]: duration for key, duration in executing.items()\n",
      "  File \"/glade/work/kristenk/miniconda/envs/analysis4/lib/python3.7/site-packages/distributed/scheduler.py\", line 2197, in <dictcomp>\n",
      "    self.tasks[key]: duration for key, duration in executing.items()\n",
      "KeyError: \"('open_dataset-6cc4233b4c917d89838ffd4a74b26f76HTE-5b82d40d32dd8b0580487342b12b6cd0', 0, 0)\"\n",
      "distributed.core - ERROR - Exception while handling op heartbeat_worker\n",
      "Traceback (most recent call last):\n",
      "  File \"/glade/work/kristenk/miniconda/envs/analysis4/lib/python3.7/site-packages/distributed/core.py\", line 493, in handle_comm\n",
      "    result = handler(comm, **msg)\n",
      "  File \"/glade/work/kristenk/miniconda/envs/analysis4/lib/python3.7/site-packages/distributed/scheduler.py\", line 2197, in heartbeat_worker\n",
      "    self.tasks[key]: duration for key, duration in executing.items()\n",
      "  File \"/glade/work/kristenk/miniconda/envs/analysis4/lib/python3.7/site-packages/distributed/scheduler.py\", line 2197, in <dictcomp>\n",
      "    self.tasks[key]: duration for key, duration in executing.items()\n",
      "KeyError: \"('open_dataset-6cc4233b4c917d89838ffd4a74b26f76HUS-b0b47f6812348e206fa25dd584951949', 0, 0)\"\n"
     ]
    },
    {
     "name": "stdout",
     "output_type": "stream",
     "text": [
      "start year= 2017 member= 37\n"
     ]
    },
    {
     "name": "stderr",
     "output_type": "stream",
     "text": [
      "distributed.core - ERROR - Exception while handling op heartbeat_worker\n",
      "Traceback (most recent call last):\n",
      "  File \"/glade/work/kristenk/miniconda/envs/analysis4/lib/python3.7/site-packages/distributed/core.py\", line 493, in handle_comm\n",
      "    result = handler(comm, **msg)\n",
      "  File \"/glade/work/kristenk/miniconda/envs/analysis4/lib/python3.7/site-packages/distributed/scheduler.py\", line 2197, in heartbeat_worker\n",
      "    self.tasks[key]: duration for key, duration in executing.items()\n",
      "  File \"/glade/work/kristenk/miniconda/envs/analysis4/lib/python3.7/site-packages/distributed/scheduler.py\", line 2197, in <dictcomp>\n",
      "    self.tasks[key]: duration for key, duration in executing.items()\n",
      "KeyError: \"('open_dataset-7c7b0d81b79868dc8475b2d7981211d1DYT-3d0bb4edb5116cb4d2af9dd34fae6d88', 0, 0)\"\n",
      "distributed.core - ERROR - Exception while handling op heartbeat_worker\n",
      "Traceback (most recent call last):\n",
      "  File \"/glade/work/kristenk/miniconda/envs/analysis4/lib/python3.7/site-packages/distributed/core.py\", line 493, in handle_comm\n",
      "    result = handler(comm, **msg)\n",
      "  File \"/glade/work/kristenk/miniconda/envs/analysis4/lib/python3.7/site-packages/distributed/scheduler.py\", line 2197, in heartbeat_worker\n",
      "    self.tasks[key]: duration for key, duration in executing.items()\n",
      "  File \"/glade/work/kristenk/miniconda/envs/analysis4/lib/python3.7/site-packages/distributed/scheduler.py\", line 2197, in <dictcomp>\n",
      "    self.tasks[key]: duration for key, duration in executing.items()\n",
      "KeyError: \"('open_dataset-7c7b0d81b79868dc8475b2d7981211d1DXU-e49588ec80699b817f3dc21557f4e3e0', 0, 0)\"\n",
      "distributed.core - ERROR - Exception while handling op heartbeat_worker\n",
      "Traceback (most recent call last):\n",
      "  File \"/glade/work/kristenk/miniconda/envs/analysis4/lib/python3.7/site-packages/distributed/core.py\", line 493, in handle_comm\n",
      "    result = handler(comm, **msg)\n",
      "  File \"/glade/work/kristenk/miniconda/envs/analysis4/lib/python3.7/site-packages/distributed/scheduler.py\", line 2197, in heartbeat_worker\n",
      "    self.tasks[key]: duration for key, duration in executing.items()\n",
      "  File \"/glade/work/kristenk/miniconda/envs/analysis4/lib/python3.7/site-packages/distributed/scheduler.py\", line 2197, in <dictcomp>\n",
      "    self.tasks[key]: duration for key, duration in executing.items()\n",
      "KeyError: \"('open_dataset-7c7b0d81b79868dc8475b2d7981211d1DXT-4df5dba23386135225b72b3698ce1e37', 0, 0)\"\n"
     ]
    },
    {
     "name": "stdout",
     "output_type": "stream",
     "text": [
      "start year= 2017 member= 38\n"
     ]
    },
    {
     "name": "stderr",
     "output_type": "stream",
     "text": [
      "distributed.core - ERROR - Exception while handling op heartbeat_worker\n",
      "Traceback (most recent call last):\n",
      "  File \"/glade/work/kristenk/miniconda/envs/analysis4/lib/python3.7/site-packages/distributed/core.py\", line 493, in handle_comm\n",
      "    result = handler(comm, **msg)\n",
      "  File \"/glade/work/kristenk/miniconda/envs/analysis4/lib/python3.7/site-packages/distributed/scheduler.py\", line 2197, in heartbeat_worker\n",
      "    self.tasks[key]: duration for key, duration in executing.items()\n",
      "  File \"/glade/work/kristenk/miniconda/envs/analysis4/lib/python3.7/site-packages/distributed/scheduler.py\", line 2197, in <dictcomp>\n",
      "    self.tasks[key]: duration for key, duration in executing.items()\n",
      "KeyError: \"('open_dataset-4a65aa2fca5c9d0847c7c354fb250fecANGLET-1503a2080a6659bed28ac5795a7b177f', 0, 0)\"\n",
      "distributed.core - ERROR - Exception while handling op heartbeat_worker\n",
      "Traceback (most recent call last):\n",
      "  File \"/glade/work/kristenk/miniconda/envs/analysis4/lib/python3.7/site-packages/distributed/core.py\", line 493, in handle_comm\n",
      "    result = handler(comm, **msg)\n",
      "  File \"/glade/work/kristenk/miniconda/envs/analysis4/lib/python3.7/site-packages/distributed/scheduler.py\", line 2197, in heartbeat_worker\n",
      "    self.tasks[key]: duration for key, duration in executing.items()\n",
      "  File \"/glade/work/kristenk/miniconda/envs/analysis4/lib/python3.7/site-packages/distributed/scheduler.py\", line 2197, in <dictcomp>\n",
      "    self.tasks[key]: duration for key, duration in executing.items()\n",
      "KeyError: \"('open_dataset-4a65aa2fca5c9d0847c7c354fb250fecHUW-8a3df2859c4a39c176d859b4fdd5f651', 0, 0)\"\n",
      "distributed.core - ERROR - Exception while handling op heartbeat_worker\n",
      "Traceback (most recent call last):\n",
      "  File \"/glade/work/kristenk/miniconda/envs/analysis4/lib/python3.7/site-packages/distributed/core.py\", line 493, in handle_comm\n",
      "    result = handler(comm, **msg)\n",
      "  File \"/glade/work/kristenk/miniconda/envs/analysis4/lib/python3.7/site-packages/distributed/scheduler.py\", line 2197, in heartbeat_worker\n",
      "    self.tasks[key]: duration for key, duration in executing.items()\n",
      "  File \"/glade/work/kristenk/miniconda/envs/analysis4/lib/python3.7/site-packages/distributed/scheduler.py\", line 2197, in <dictcomp>\n",
      "    self.tasks[key]: duration for key, duration in executing.items()\n",
      "KeyError: \"('open_dataset-4a65aa2fca5c9d0847c7c354fb250fecANGLE-a19b02e0454667ea5c847b11900cf5ed', 0, 0)\"\n"
     ]
    },
    {
     "name": "stdout",
     "output_type": "stream",
     "text": [
      "start year= 2017 member= 39\n",
      "start year= 2017 member= 40\n"
     ]
    }
   ],
   "source": [
    "#user set/ cycle vars\n",
    "var = 'TEMP'\n",
    "\n",
    "for styear in np.arange(2008,2018,1):\n",
    "    \n",
    "    for member in np.arange(1,41,1):\n",
    "    #for member in np.arange(27,41,1):\n",
    "        print('start year=', styear, 'member=', member)\n",
    "        \n",
    "        #first get this particular file\n",
    "        ds = xr.open_dataset(\n",
    "        utils.file_in(var,styear,member), \n",
    "        decode_coords=False, \n",
    "        decode_times=True,\n",
    "        chunks={'time': 12}).persist()\n",
    "\n",
    "        #tidy up the dataset\n",
    "        coords = {'x':'TLONG','y':'TLAT'}\n",
    "        keepthese=['z_t','z_t_150m','time_bound','TAREA','REGION_MASK','time','UAREA'] + [var]\n",
    "        keep_vars = keepthese +list(coords.values())+['dz','KMT']\n",
    "        ds = ds.drop([v for v in ds.variables if v not in keep_vars])\n",
    "\n",
    "        #prepare output file -- it needs certain variables add to work with the DPLE code\n",
    "        USER = os.environ['USER']\n",
    "        dout = f'/glade/scratch/{USER}/DPLE-tmpfiles/'\n",
    "        os.makedirs(dout, exist_ok=True)\n",
    "        file_out = utils.file_out(dout,var,styear,member)\n",
    "        dso = ds[['TLONG', 'TLAT', 'KMT', 'TAREA','time','time_bound','dz']] \n",
    "\n",
    "        #get the KMT (even though this could be )\n",
    "        template = ds[var][:, 0, :, :].drop('z_t') \n",
    "        dso[f'{var}_bottom'] = xr.map_blocks(\n",
    "        field_at_bottom, ds[var],\n",
    "        template=template).compute()\n",
    "\n",
    "        #fix attributes\n",
    "        dso[f'{var}_bottom'].attrs['coordinates'] = \"TLONG TLAT time\"\n",
    "\n",
    "        #write out the file\n",
    "        dso.to_netcdf(file_out, mode='w')"
   ]
  },
  {
   "cell_type": "code",
   "execution_count": null,
   "metadata": {},
   "outputs": [],
   "source": []
  },
  {
   "cell_type": "code",
   "execution_count": 11,
   "metadata": {},
   "outputs": [],
   "source": [
    "#cluster.close()"
   ]
  },
  {
   "cell_type": "code",
   "execution_count": null,
   "metadata": {},
   "outputs": [],
   "source": []
  },
  {
   "cell_type": "code",
   "execution_count": null,
   "metadata": {},
   "outputs": [],
   "source": []
  },
  {
   "cell_type": "code",
   "execution_count": null,
   "metadata": {},
   "outputs": [],
   "source": []
  },
  {
   "cell_type": "code",
   "execution_count": null,
   "metadata": {},
   "outputs": [],
   "source": []
  },
  {
   "cell_type": "code",
   "execution_count": null,
   "metadata": {},
   "outputs": [],
   "source": []
  }
 ],
 "metadata": {
  "kernelspec": {
   "display_name": "Python [conda env:miniconda-analysis4]",
   "language": "python",
   "name": "conda-env-miniconda-analysis4-py"
  },
  "language_info": {
   "codemirror_mode": {
    "name": "ipython",
    "version": 3
   },
   "file_extension": ".py",
   "mimetype": "text/x-python",
   "name": "python",
   "nbconvert_exporter": "python",
   "pygments_lexer": "ipython3",
   "version": "3.7.9"
  }
 },
 "nbformat": 4,
 "nbformat_minor": 4
}
